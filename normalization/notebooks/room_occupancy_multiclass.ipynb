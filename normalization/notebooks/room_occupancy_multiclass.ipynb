{
 "cells": [
  {
   "cell_type": "code",
   "id": "afd65cd4-acae-424d-a17f-e914c79fbff5",
   "metadata": {},
   "source": [
    "import sys\n",
    "import pandas as pd\n",
    "# sys.path is a list of absolute path strings\n",
    "sys.path.append('C:\\Projects\\Private\\PropStar')"
   ],
   "outputs": [],
   "execution_count": null
  },
  {
   "cell_type": "code",
   "id": "6ed2df22-5287-43bb-ab82-642cebfebe5a",
   "metadata": {},
   "source": [
    "from normalization.normalize import Normalize"
   ],
   "outputs": [],
   "execution_count": null
  },
  {
   "cell_type": "code",
   "id": "886e5316-9a5a-4846-97af-6064f3a49f1e",
   "metadata": {},
   "source": [
    "from ucimlrepo import fetch_ucirepo\n",
    "\n",
    "# fetch dataset\n",
    "room_occupancy_estimation = fetch_ucirepo(id=864)\n",
    "\n",
    "# data (as pandas dataframes)\n",
    "X = room_occupancy_estimation.data.features\n",
    "y = room_occupancy_estimation.data.targets"
   ],
   "outputs": [],
   "execution_count": null
  },
  {
   "cell_type": "code",
   "id": "eb1ee81e-22da-4703-ab9f-eb27997dc9bc",
   "metadata": {},
   "source": [
    "X"
   ],
   "outputs": [],
   "execution_count": null
  },
  {
   "cell_type": "code",
   "id": "1f3b39f6-9819-4b55-822d-1908ebc479eb",
   "metadata": {},
   "source": [
    "y.groupby('Room_Occupancy_Count')['Room_Occupancy_Count'].count()"
   ],
   "outputs": [],
   "execution_count": null
  },
  {
   "cell_type": "code",
   "id": "f2441230-1896-4f03-923f-9e4c81155d8f",
   "metadata": {},
   "source": [
    "y"
   ],
   "outputs": [],
   "execution_count": null
  },
  {
   "cell_type": "code",
   "id": "b8d6155c-4b7b-43bc-a128-7ec6855f35db",
   "metadata": {},
   "source": [
    "denormalized_table = X.join(y)  # join on indexes\n",
    "denormalized_table['Timestamp'] = pd.to_datetime(denormalized_table['Date'] + ' ' + denormalized_table['Time'])\n",
    "denormalized_table.drop(['Date', 'Time'], axis=1, inplace=True)"
   ],
   "outputs": [],
   "execution_count": null
  },
  {
   "cell_type": "code",
   "id": "67010245-dd20-4144-938f-88093decc07c",
   "metadata": {},
   "source": [
    "denormalized_table.columns"
   ],
   "outputs": [],
   "execution_count": null
  },
  {
   "cell_type": "code",
   "id": "462f9ce6-2a3d-4d82-93d0-9369ffbddb11",
   "metadata": {},
   "source": [
    "X.columns"
   ],
   "outputs": [],
   "execution_count": null
  },
  {
   "cell_type": "code",
   "id": "96fcc12d-9a3b-493e-bbb8-6061f93e4441",
   "metadata": {},
   "source": [
    "norm = Normalize(denormalized_table=denormalized_table, denormalized_table_name=\"original_table\")"
   ],
   "outputs": [],
   "execution_count": null
  },
  {
   "cell_type": "code",
   "id": "dcb5136e-8354-4967-81d0-0b743ce64107",
   "metadata": {},
   "source": [
    "sensor1 = ['S1_Temp', 'S1_Light', 'S1_Sound']\n",
    "sensor2 = ['S2_Temp', 'S2_Light', 'S2_Sound']\n",
    "sensor3 = ['S3_Temp', 'S3_Light', 'S3_Sound']\n",
    "sensor4 = ['S4_Temp', 'S4_Light', 'S4_Sound']\n",
    "sensor5 = ['S5_CO2', 'S5_CO2_Slope']\n",
    "sensor6 = ['S6_PIR']\n",
    "sensor7 = ['S7_PIR']"
   ],
   "outputs": [],
   "execution_count": null
  },
  {
   "cell_type": "code",
   "id": "00493f4f-a6a1-4ca4-9f8a-4b03a8fd511a",
   "metadata": {},
   "source": [
    "norm.create_entity(source_entity_name=\"original_table\", target_entity_name=\"sensor1\", columns=sensor1,\n",
    "                   distinct_values=True, retain_columns=['sensor1_id'])"
   ],
   "outputs": [],
   "execution_count": null
  },
  {
   "cell_type": "code",
   "id": "1562dfa0-9427-47e0-bbf8-96153742895e",
   "metadata": {},
   "source": [
    "norm.create_entity(source_entity_name=\"original_table\", target_entity_name=\"sensor2\", columns=sensor2,\n",
    "                   distinct_values=True, retain_columns=['sensor2_id'])"
   ],
   "outputs": [],
   "execution_count": null
  },
  {
   "cell_type": "code",
   "id": "cba816a4-ec6a-462f-9afa-f29aa26d7211",
   "metadata": {},
   "source": [
    "norm.create_entity(source_entity_name=\"original_table\", target_entity_name=\"sensor3\", columns=sensor3,\n",
    "                   distinct_values=True, retain_columns=['sensor3_id'])"
   ],
   "outputs": [],
   "execution_count": null
  },
  {
   "cell_type": "code",
   "id": "d7c792dc-9fdb-4c72-ba44-052b305296f7",
   "metadata": {},
   "source": [
    "norm.create_entity(source_entity_name=\"original_table\", target_entity_name=\"sensor4\", columns=sensor4,\n",
    "                   distinct_values=True, retain_columns=['sensor4_id'])"
   ],
   "outputs": [],
   "execution_count": null
  },
  {
   "cell_type": "code",
   "id": "60500cfc-a83e-4e58-953a-659f1ab3a106",
   "metadata": {},
   "source": [
    "norm.create_entity(source_entity_name=\"original_table\", target_entity_name=\"sensor5\", columns=sensor5,\n",
    "                   distinct_values=True, retain_columns=['sensor5_id'])"
   ],
   "outputs": [],
   "execution_count": null
  },
  {
   "cell_type": "code",
   "id": "c3718b2a-bbe6-47fb-941f-9c0997cb2400",
   "metadata": {},
   "source": [
    "norm.create_entity(source_entity_name=\"original_table\", target_entity_name=\"sensor6\", columns=sensor6,\n",
    "                   distinct_values=True, retain_columns=['sensor6_id'])"
   ],
   "outputs": [],
   "execution_count": null
  },
  {
   "cell_type": "code",
   "id": "60e49a06-b5a4-4868-9df4-51067e8a0c34",
   "metadata": {},
   "source": [
    "norm.create_entity(source_entity_name=\"original_table\", target_entity_name=\"sensor7\", columns=sensor7,\n",
    "                   distinct_values=True, retain_columns=['sensor7_id'])"
   ],
   "outputs": [],
   "execution_count": null
  },
  {
   "cell_type": "code",
   "id": "88be7d92-1ac0-48e6-937e-166d2a0d9e41",
   "metadata": {},
   "source": [
    "norm.entity_set['original_table']"
   ],
   "outputs": [],
   "execution_count": null
  },
  {
   "cell_type": "code",
   "id": "d3f74d7b-7f54-4abe-bb41-9ff257ed2a22",
   "metadata": {},
   "source": [
    "norm.entity_set['sensor1'].dtypes"
   ],
   "outputs": [],
   "execution_count": null
  },
  {
   "cell_type": "code",
   "id": "d9447daa-a790-4034-9002-9df5ca15d387",
   "metadata": {},
   "source": [
    "norm.persist_entity_set(database_name=\"room_occupancy_multiclass\")"
   ],
   "outputs": [],
   "execution_count": null
  },
  {
   "cell_type": "code",
   "id": "5cd412d9-3d7d-4a13-854a-40b0adbd37b8",
   "metadata": {},
   "source": [],
   "outputs": [],
   "execution_count": null
  }
 ],
 "metadata": {
  "kernelspec": {
   "display_name": "Python 3 (ipykernel)",
   "language": "python",
   "name": "python3"
  },
  "language_info": {
   "codemirror_mode": {
    "name": "ipython",
    "version": 3
   },
   "file_extension": ".py",
   "mimetype": "text/x-python",
   "name": "python",
   "nbconvert_exporter": "python",
   "pygments_lexer": "ipython3",
   "version": "3.9.13"
  }
 },
 "nbformat": 4,
 "nbformat_minor": 5
}
