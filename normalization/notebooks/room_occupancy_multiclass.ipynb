{
 "cells": [
  {
   "cell_type": "code",
   "execution_count": 1,
   "id": "afd65cd4-acae-424d-a17f-e914c79fbff5",
   "metadata": {},
   "outputs": [],
   "source": [
    "import sys\n",
    "import pandas as pd\n",
    "# sys.path is a list of absolute path strings\n",
    "sys.path.append('C:\\Projects\\Private\\PropStar')"
   ]
  },
  {
   "cell_type": "code",
   "execution_count": 2,
   "id": "6ed2df22-5287-43bb-ab82-642cebfebe5a",
   "metadata": {},
   "outputs": [],
   "source": [
    "from normalization.normalize import Normalize"
   ]
  },
  {
   "cell_type": "code",
   "execution_count": 3,
   "id": "886e5316-9a5a-4846-97af-6064f3a49f1e",
   "metadata": {},
   "outputs": [],
   "source": [
    "from ucimlrepo import fetch_ucirepo\n",
    "\n",
    "# fetch dataset\n",
    "room_occupancy_estimation = fetch_ucirepo(id=864)\n",
    "\n",
    "# data (as pandas dataframes)\n",
    "X = room_occupancy_estimation.data.features\n",
    "y = room_occupancy_estimation.data.targets"
   ]
  },
  {
   "cell_type": "code",
   "execution_count": 4,
   "id": "eb1ee81e-22da-4703-ab9f-eb27997dc9bc",
   "metadata": {},
   "outputs": [
    {
     "data": {
      "text/html": [
       "<div>\n",
       "<style scoped>\n",
       "    .dataframe tbody tr th:only-of-type {\n",
       "        vertical-align: middle;\n",
       "    }\n",
       "\n",
       "    .dataframe tbody tr th {\n",
       "        vertical-align: top;\n",
       "    }\n",
       "\n",
       "    .dataframe thead th {\n",
       "        text-align: right;\n",
       "    }\n",
       "</style>\n",
       "<table border=\"1\" class=\"dataframe\">\n",
       "  <thead>\n",
       "    <tr style=\"text-align: right;\">\n",
       "      <th></th>\n",
       "      <th>Date</th>\n",
       "      <th>Time</th>\n",
       "      <th>S1_Temp</th>\n",
       "      <th>S2_Temp</th>\n",
       "      <th>S3_Temp</th>\n",
       "      <th>S4_Temp</th>\n",
       "      <th>S1_Light</th>\n",
       "      <th>S2_Light</th>\n",
       "      <th>S3_Light</th>\n",
       "      <th>S4_Light</th>\n",
       "      <th>S1_Sound</th>\n",
       "      <th>S2_Sound</th>\n",
       "      <th>S3_Sound</th>\n",
       "      <th>S4_Sound</th>\n",
       "      <th>S5_CO2</th>\n",
       "      <th>S5_CO2_Slope</th>\n",
       "      <th>S6_PIR</th>\n",
       "      <th>S7_PIR</th>\n",
       "    </tr>\n",
       "  </thead>\n",
       "  <tbody>\n",
       "    <tr>\n",
       "      <th>0</th>\n",
       "      <td>2017/12/22</td>\n",
       "      <td>10:49:41</td>\n",
       "      <td>24.94</td>\n",
       "      <td>24.75</td>\n",
       "      <td>24.56</td>\n",
       "      <td>25.38</td>\n",
       "      <td>121</td>\n",
       "      <td>34</td>\n",
       "      <td>53</td>\n",
       "      <td>40</td>\n",
       "      <td>0.08</td>\n",
       "      <td>0.19</td>\n",
       "      <td>0.06</td>\n",
       "      <td>0.06</td>\n",
       "      <td>390</td>\n",
       "      <td>0.769231</td>\n",
       "      <td>0</td>\n",
       "      <td>0</td>\n",
       "    </tr>\n",
       "    <tr>\n",
       "      <th>1</th>\n",
       "      <td>2017/12/22</td>\n",
       "      <td>10:50:12</td>\n",
       "      <td>24.94</td>\n",
       "      <td>24.75</td>\n",
       "      <td>24.56</td>\n",
       "      <td>25.44</td>\n",
       "      <td>121</td>\n",
       "      <td>33</td>\n",
       "      <td>53</td>\n",
       "      <td>40</td>\n",
       "      <td>0.93</td>\n",
       "      <td>0.05</td>\n",
       "      <td>0.06</td>\n",
       "      <td>0.06</td>\n",
       "      <td>390</td>\n",
       "      <td>0.646154</td>\n",
       "      <td>0</td>\n",
       "      <td>0</td>\n",
       "    </tr>\n",
       "    <tr>\n",
       "      <th>2</th>\n",
       "      <td>2017/12/22</td>\n",
       "      <td>10:50:42</td>\n",
       "      <td>25.00</td>\n",
       "      <td>24.75</td>\n",
       "      <td>24.50</td>\n",
       "      <td>25.44</td>\n",
       "      <td>121</td>\n",
       "      <td>34</td>\n",
       "      <td>53</td>\n",
       "      <td>40</td>\n",
       "      <td>0.43</td>\n",
       "      <td>0.11</td>\n",
       "      <td>0.08</td>\n",
       "      <td>0.06</td>\n",
       "      <td>390</td>\n",
       "      <td>0.519231</td>\n",
       "      <td>0</td>\n",
       "      <td>0</td>\n",
       "    </tr>\n",
       "    <tr>\n",
       "      <th>3</th>\n",
       "      <td>2017/12/22</td>\n",
       "      <td>10:51:13</td>\n",
       "      <td>25.00</td>\n",
       "      <td>24.75</td>\n",
       "      <td>24.56</td>\n",
       "      <td>25.44</td>\n",
       "      <td>121</td>\n",
       "      <td>34</td>\n",
       "      <td>53</td>\n",
       "      <td>40</td>\n",
       "      <td>0.41</td>\n",
       "      <td>0.10</td>\n",
       "      <td>0.10</td>\n",
       "      <td>0.09</td>\n",
       "      <td>390</td>\n",
       "      <td>0.388462</td>\n",
       "      <td>0</td>\n",
       "      <td>0</td>\n",
       "    </tr>\n",
       "    <tr>\n",
       "      <th>4</th>\n",
       "      <td>2017/12/22</td>\n",
       "      <td>10:51:44</td>\n",
       "      <td>25.00</td>\n",
       "      <td>24.75</td>\n",
       "      <td>24.56</td>\n",
       "      <td>25.44</td>\n",
       "      <td>121</td>\n",
       "      <td>34</td>\n",
       "      <td>54</td>\n",
       "      <td>40</td>\n",
       "      <td>0.18</td>\n",
       "      <td>0.06</td>\n",
       "      <td>0.06</td>\n",
       "      <td>0.06</td>\n",
       "      <td>390</td>\n",
       "      <td>0.253846</td>\n",
       "      <td>0</td>\n",
       "      <td>0</td>\n",
       "    </tr>\n",
       "    <tr>\n",
       "      <th>...</th>\n",
       "      <td>...</td>\n",
       "      <td>...</td>\n",
       "      <td>...</td>\n",
       "      <td>...</td>\n",
       "      <td>...</td>\n",
       "      <td>...</td>\n",
       "      <td>...</td>\n",
       "      <td>...</td>\n",
       "      <td>...</td>\n",
       "      <td>...</td>\n",
       "      <td>...</td>\n",
       "      <td>...</td>\n",
       "      <td>...</td>\n",
       "      <td>...</td>\n",
       "      <td>...</td>\n",
       "      <td>...</td>\n",
       "      <td>...</td>\n",
       "      <td>...</td>\n",
       "    </tr>\n",
       "    <tr>\n",
       "      <th>10124</th>\n",
       "      <td>2018/01/11</td>\n",
       "      <td>08:58:07</td>\n",
       "      <td>25.06</td>\n",
       "      <td>25.13</td>\n",
       "      <td>24.69</td>\n",
       "      <td>25.31</td>\n",
       "      <td>6</td>\n",
       "      <td>7</td>\n",
       "      <td>33</td>\n",
       "      <td>22</td>\n",
       "      <td>0.09</td>\n",
       "      <td>0.04</td>\n",
       "      <td>0.06</td>\n",
       "      <td>0.08</td>\n",
       "      <td>345</td>\n",
       "      <td>0.000000</td>\n",
       "      <td>0</td>\n",
       "      <td>0</td>\n",
       "    </tr>\n",
       "    <tr>\n",
       "      <th>10125</th>\n",
       "      <td>2018/01/11</td>\n",
       "      <td>08:58:37</td>\n",
       "      <td>25.06</td>\n",
       "      <td>25.06</td>\n",
       "      <td>24.69</td>\n",
       "      <td>25.25</td>\n",
       "      <td>6</td>\n",
       "      <td>7</td>\n",
       "      <td>34</td>\n",
       "      <td>22</td>\n",
       "      <td>0.07</td>\n",
       "      <td>0.05</td>\n",
       "      <td>0.05</td>\n",
       "      <td>0.08</td>\n",
       "      <td>345</td>\n",
       "      <td>0.000000</td>\n",
       "      <td>0</td>\n",
       "      <td>0</td>\n",
       "    </tr>\n",
       "    <tr>\n",
       "      <th>10126</th>\n",
       "      <td>2018/01/11</td>\n",
       "      <td>08:59:08</td>\n",
       "      <td>25.13</td>\n",
       "      <td>25.06</td>\n",
       "      <td>24.69</td>\n",
       "      <td>25.25</td>\n",
       "      <td>6</td>\n",
       "      <td>7</td>\n",
       "      <td>34</td>\n",
       "      <td>22</td>\n",
       "      <td>0.11</td>\n",
       "      <td>0.05</td>\n",
       "      <td>0.06</td>\n",
       "      <td>0.08</td>\n",
       "      <td>345</td>\n",
       "      <td>0.000000</td>\n",
       "      <td>0</td>\n",
       "      <td>0</td>\n",
       "    </tr>\n",
       "    <tr>\n",
       "      <th>10127</th>\n",
       "      <td>2018/01/11</td>\n",
       "      <td>08:59:39</td>\n",
       "      <td>25.13</td>\n",
       "      <td>25.06</td>\n",
       "      <td>24.69</td>\n",
       "      <td>25.25</td>\n",
       "      <td>6</td>\n",
       "      <td>7</td>\n",
       "      <td>34</td>\n",
       "      <td>22</td>\n",
       "      <td>0.08</td>\n",
       "      <td>0.08</td>\n",
       "      <td>0.10</td>\n",
       "      <td>0.08</td>\n",
       "      <td>345</td>\n",
       "      <td>0.000000</td>\n",
       "      <td>0</td>\n",
       "      <td>0</td>\n",
       "    </tr>\n",
       "    <tr>\n",
       "      <th>10128</th>\n",
       "      <td>2018/01/11</td>\n",
       "      <td>09:00:09</td>\n",
       "      <td>25.13</td>\n",
       "      <td>25.06</td>\n",
       "      <td>24.69</td>\n",
       "      <td>25.25</td>\n",
       "      <td>6</td>\n",
       "      <td>7</td>\n",
       "      <td>34</td>\n",
       "      <td>22</td>\n",
       "      <td>0.08</td>\n",
       "      <td>0.05</td>\n",
       "      <td>0.06</td>\n",
       "      <td>0.08</td>\n",
       "      <td>345</td>\n",
       "      <td>0.000000</td>\n",
       "      <td>0</td>\n",
       "      <td>0</td>\n",
       "    </tr>\n",
       "  </tbody>\n",
       "</table>\n",
       "<p>10129 rows × 18 columns</p>\n",
       "</div>"
      ],
      "text/plain": [
       "             Date      Time  S1_Temp  S2_Temp  S3_Temp  S4_Temp  S1_Light  \\\n",
       "0      2017/12/22  10:49:41    24.94    24.75    24.56    25.38       121   \n",
       "1      2017/12/22  10:50:12    24.94    24.75    24.56    25.44       121   \n",
       "2      2017/12/22  10:50:42    25.00    24.75    24.50    25.44       121   \n",
       "3      2017/12/22  10:51:13    25.00    24.75    24.56    25.44       121   \n",
       "4      2017/12/22  10:51:44    25.00    24.75    24.56    25.44       121   \n",
       "...           ...       ...      ...      ...      ...      ...       ...   \n",
       "10124  2018/01/11  08:58:07    25.06    25.13    24.69    25.31         6   \n",
       "10125  2018/01/11  08:58:37    25.06    25.06    24.69    25.25         6   \n",
       "10126  2018/01/11  08:59:08    25.13    25.06    24.69    25.25         6   \n",
       "10127  2018/01/11  08:59:39    25.13    25.06    24.69    25.25         6   \n",
       "10128  2018/01/11  09:00:09    25.13    25.06    24.69    25.25         6   \n",
       "\n",
       "       S2_Light  S3_Light  S4_Light  S1_Sound  S2_Sound  S3_Sound  S4_Sound  \\\n",
       "0            34        53        40      0.08      0.19      0.06      0.06   \n",
       "1            33        53        40      0.93      0.05      0.06      0.06   \n",
       "2            34        53        40      0.43      0.11      0.08      0.06   \n",
       "3            34        53        40      0.41      0.10      0.10      0.09   \n",
       "4            34        54        40      0.18      0.06      0.06      0.06   \n",
       "...         ...       ...       ...       ...       ...       ...       ...   \n",
       "10124         7        33        22      0.09      0.04      0.06      0.08   \n",
       "10125         7        34        22      0.07      0.05      0.05      0.08   \n",
       "10126         7        34        22      0.11      0.05      0.06      0.08   \n",
       "10127         7        34        22      0.08      0.08      0.10      0.08   \n",
       "10128         7        34        22      0.08      0.05      0.06      0.08   \n",
       "\n",
       "       S5_CO2  S5_CO2_Slope  S6_PIR  S7_PIR  \n",
       "0         390      0.769231       0       0  \n",
       "1         390      0.646154       0       0  \n",
       "2         390      0.519231       0       0  \n",
       "3         390      0.388462       0       0  \n",
       "4         390      0.253846       0       0  \n",
       "...       ...           ...     ...     ...  \n",
       "10124     345      0.000000       0       0  \n",
       "10125     345      0.000000       0       0  \n",
       "10126     345      0.000000       0       0  \n",
       "10127     345      0.000000       0       0  \n",
       "10128     345      0.000000       0       0  \n",
       "\n",
       "[10129 rows x 18 columns]"
      ]
     },
     "execution_count": 4,
     "metadata": {},
     "output_type": "execute_result"
    }
   ],
   "source": [
    "X"
   ]
  },
  {
   "cell_type": "code",
   "execution_count": 5,
   "id": "1f3b39f6-9819-4b55-822d-1908ebc479eb",
   "metadata": {},
   "outputs": [
    {
     "data": {
      "text/plain": [
       "Room_Occupancy_Count\n",
       "0    8228\n",
       "1     459\n",
       "2     748\n",
       "3     694\n",
       "Name: Room_Occupancy_Count, dtype: int64"
      ]
     },
     "execution_count": 5,
     "metadata": {},
     "output_type": "execute_result"
    }
   ],
   "source": [
    "y.groupby('Room_Occupancy_Count')['Room_Occupancy_Count'].count()"
   ]
  },
  {
   "cell_type": "code",
   "execution_count": 6,
   "id": "f2441230-1896-4f03-923f-9e4c81155d8f",
   "metadata": {},
   "outputs": [
    {
     "data": {
      "text/html": [
       "<div>\n",
       "<style scoped>\n",
       "    .dataframe tbody tr th:only-of-type {\n",
       "        vertical-align: middle;\n",
       "    }\n",
       "\n",
       "    .dataframe tbody tr th {\n",
       "        vertical-align: top;\n",
       "    }\n",
       "\n",
       "    .dataframe thead th {\n",
       "        text-align: right;\n",
       "    }\n",
       "</style>\n",
       "<table border=\"1\" class=\"dataframe\">\n",
       "  <thead>\n",
       "    <tr style=\"text-align: right;\">\n",
       "      <th></th>\n",
       "      <th>Room_Occupancy_Count</th>\n",
       "    </tr>\n",
       "  </thead>\n",
       "  <tbody>\n",
       "    <tr>\n",
       "      <th>0</th>\n",
       "      <td>1</td>\n",
       "    </tr>\n",
       "    <tr>\n",
       "      <th>1</th>\n",
       "      <td>1</td>\n",
       "    </tr>\n",
       "    <tr>\n",
       "      <th>2</th>\n",
       "      <td>1</td>\n",
       "    </tr>\n",
       "    <tr>\n",
       "      <th>3</th>\n",
       "      <td>1</td>\n",
       "    </tr>\n",
       "    <tr>\n",
       "      <th>4</th>\n",
       "      <td>1</td>\n",
       "    </tr>\n",
       "    <tr>\n",
       "      <th>...</th>\n",
       "      <td>...</td>\n",
       "    </tr>\n",
       "    <tr>\n",
       "      <th>10124</th>\n",
       "      <td>0</td>\n",
       "    </tr>\n",
       "    <tr>\n",
       "      <th>10125</th>\n",
       "      <td>0</td>\n",
       "    </tr>\n",
       "    <tr>\n",
       "      <th>10126</th>\n",
       "      <td>0</td>\n",
       "    </tr>\n",
       "    <tr>\n",
       "      <th>10127</th>\n",
       "      <td>0</td>\n",
       "    </tr>\n",
       "    <tr>\n",
       "      <th>10128</th>\n",
       "      <td>0</td>\n",
       "    </tr>\n",
       "  </tbody>\n",
       "</table>\n",
       "<p>10129 rows × 1 columns</p>\n",
       "</div>"
      ],
      "text/plain": [
       "       Room_Occupancy_Count\n",
       "0                         1\n",
       "1                         1\n",
       "2                         1\n",
       "3                         1\n",
       "4                         1\n",
       "...                     ...\n",
       "10124                     0\n",
       "10125                     0\n",
       "10126                     0\n",
       "10127                     0\n",
       "10128                     0\n",
       "\n",
       "[10129 rows x 1 columns]"
      ]
     },
     "execution_count": 6,
     "metadata": {},
     "output_type": "execute_result"
    }
   ],
   "source": [
    "y"
   ]
  },
  {
   "cell_type": "code",
   "execution_count": 7,
   "id": "b8d6155c-4b7b-43bc-a128-7ec6855f35db",
   "metadata": {},
   "outputs": [],
   "source": [
    "denormalized_table = X.join(y)  # join on indexes\n",
    "denormalized_table['Timestamp'] = pd.to_datetime(denormalized_table['Date'] + ' ' + denormalized_table['Time'])\n",
    "denormalized_table.drop(['Date', 'Time'], axis=1, inplace=True)"
   ]
  },
  {
   "cell_type": "code",
   "execution_count": 8,
   "id": "67010245-dd20-4144-938f-88093decc07c",
   "metadata": {},
   "outputs": [
    {
     "data": {
      "text/plain": [
       "Index(['S1_Temp', 'S2_Temp', 'S3_Temp', 'S4_Temp', 'S1_Light', 'S2_Light',\n",
       "       'S3_Light', 'S4_Light', 'S1_Sound', 'S2_Sound', 'S3_Sound', 'S4_Sound',\n",
       "       'S5_CO2', 'S5_CO2_Slope', 'S6_PIR', 'S7_PIR', 'Room_Occupancy_Count',\n",
       "       'Timestamp'],\n",
       "      dtype='object')"
      ]
     },
     "execution_count": 8,
     "metadata": {},
     "output_type": "execute_result"
    }
   ],
   "source": [
    "denormalized_table.columns"
   ]
  },
  {
   "cell_type": "code",
   "execution_count": 9,
   "id": "462f9ce6-2a3d-4d82-93d0-9369ffbddb11",
   "metadata": {},
   "outputs": [
    {
     "data": {
      "text/plain": [
       "Index(['Date', 'Time', 'S1_Temp', 'S2_Temp', 'S3_Temp', 'S4_Temp', 'S1_Light',\n",
       "       'S2_Light', 'S3_Light', 'S4_Light', 'S1_Sound', 'S2_Sound', 'S3_Sound',\n",
       "       'S4_Sound', 'S5_CO2', 'S5_CO2_Slope', 'S6_PIR', 'S7_PIR'],\n",
       "      dtype='object')"
      ]
     },
     "execution_count": 9,
     "metadata": {},
     "output_type": "execute_result"
    }
   ],
   "source": [
    "X.columns"
   ]
  },
  {
   "cell_type": "code",
   "execution_count": 10,
   "id": "96fcc12d-9a3b-493e-bbb8-6061f93e4441",
   "metadata": {},
   "outputs": [],
   "source": [
    "norm = Normalize(denormalized_table=denormalized_table, denormalized_table_name=\"original_table\")"
   ]
  },
  {
   "cell_type": "code",
   "execution_count": 11,
   "id": "dcb5136e-8354-4967-81d0-0b743ce64107",
   "metadata": {},
   "outputs": [],
   "source": [
    "sensor1 = ['S1_Temp', 'S1_Light', 'S1_Sound']\n",
    "sensor2 = ['S2_Temp', 'S2_Light', 'S2_Sound']\n",
    "sensor3 = ['S3_Temp', 'S3_Light', 'S3_Sound']\n",
    "sensor4 = ['S4_Temp', 'S4_Light', 'S4_Sound']\n",
    "sensor5 = ['S5_CO2', 'S5_CO2_Slope']\n",
    "sensor6 = ['S6_PIR']\n",
    "sensor7 = ['S7_PIR']"
   ]
  },
  {
   "cell_type": "code",
   "execution_count": 12,
   "id": "00493f4f-a6a1-4ca4-9f8a-4b03a8fd511a",
   "metadata": {},
   "outputs": [],
   "source": [
    "norm.create_entity(source_entity_name=\"original_table\", target_entity_name=\"sensor1\", columns=sensor1,\n",
    "                   distinct_values=True, retain_columns=['sensor1_id'])"
   ]
  },
  {
   "cell_type": "code",
   "execution_count": 13,
   "id": "1562dfa0-9427-47e0-bbf8-96153742895e",
   "metadata": {},
   "outputs": [],
   "source": [
    "norm.create_entity(source_entity_name=\"original_table\", target_entity_name=\"sensor2\", columns=sensor2,\n",
    "                   distinct_values=True, retain_columns=['sensor2_id'])"
   ]
  },
  {
   "cell_type": "code",
   "execution_count": 14,
   "id": "cba816a4-ec6a-462f-9afa-f29aa26d7211",
   "metadata": {},
   "outputs": [],
   "source": [
    "norm.create_entity(source_entity_name=\"original_table\", target_entity_name=\"sensor3\", columns=sensor3,\n",
    "                   distinct_values=True, retain_columns=['sensor3_id'])"
   ]
  },
  {
   "cell_type": "code",
   "execution_count": 15,
   "id": "d7c792dc-9fdb-4c72-ba44-052b305296f7",
   "metadata": {},
   "outputs": [],
   "source": [
    "norm.create_entity(source_entity_name=\"original_table\", target_entity_name=\"sensor4\", columns=sensor4,\n",
    "                   distinct_values=True, retain_columns=['sensor4_id'])"
   ]
  },
  {
   "cell_type": "code",
   "execution_count": 16,
   "id": "60500cfc-a83e-4e58-953a-659f1ab3a106",
   "metadata": {},
   "outputs": [],
   "source": [
    "norm.create_entity(source_entity_name=\"original_table\", target_entity_name=\"sensor5\", columns=sensor5,\n",
    "                   distinct_values=True, retain_columns=['sensor5_id'])"
   ]
  },
  {
   "cell_type": "code",
   "execution_count": 17,
   "id": "c3718b2a-bbe6-47fb-941f-9c0997cb2400",
   "metadata": {},
   "outputs": [],
   "source": [
    "norm.create_entity(source_entity_name=\"original_table\", target_entity_name=\"sensor6\", columns=sensor6,\n",
    "                   distinct_values=True, retain_columns=['sensor6_id'])"
   ]
  },
  {
   "cell_type": "code",
   "execution_count": 18,
   "id": "60e49a06-b5a4-4868-9df4-51067e8a0c34",
   "metadata": {},
   "outputs": [],
   "source": [
    "norm.create_entity(source_entity_name=\"original_table\", target_entity_name=\"sensor7\", columns=sensor7,\n",
    "                   distinct_values=True, retain_columns=['sensor7_id'])"
   ]
  },
  {
   "cell_type": "code",
   "execution_count": 19,
   "id": "88be7d92-1ac0-48e6-937e-166d2a0d9e41",
   "metadata": {},
   "outputs": [
    {
     "data": {
      "text/html": [
       "<div>\n",
       "<style scoped>\n",
       "    .dataframe tbody tr th:only-of-type {\n",
       "        vertical-align: middle;\n",
       "    }\n",
       "\n",
       "    .dataframe tbody tr th {\n",
       "        vertical-align: top;\n",
       "    }\n",
       "\n",
       "    .dataframe thead th {\n",
       "        text-align: right;\n",
       "    }\n",
       "</style>\n",
       "<table border=\"1\" class=\"dataframe\">\n",
       "  <thead>\n",
       "    <tr style=\"text-align: right;\">\n",
       "      <th></th>\n",
       "      <th>Room_Occupancy_Count</th>\n",
       "      <th>Timestamp</th>\n",
       "      <th>id</th>\n",
       "      <th>sensor1_id</th>\n",
       "      <th>sensor2_id</th>\n",
       "      <th>sensor3_id</th>\n",
       "      <th>sensor4_id</th>\n",
       "      <th>sensor5_id</th>\n",
       "      <th>sensor6_id</th>\n",
       "      <th>sensor7_id</th>\n",
       "    </tr>\n",
       "  </thead>\n",
       "  <tbody>\n",
       "    <tr>\n",
       "      <th>0</th>\n",
       "      <td>1</td>\n",
       "      <td>2017-12-22 10:49:41</td>\n",
       "      <td>0</td>\n",
       "      <td>0</td>\n",
       "      <td>0</td>\n",
       "      <td>0</td>\n",
       "      <td>0</td>\n",
       "      <td>0</td>\n",
       "      <td>0</td>\n",
       "      <td>0</td>\n",
       "    </tr>\n",
       "    <tr>\n",
       "      <th>1</th>\n",
       "      <td>1</td>\n",
       "      <td>2017-12-22 10:50:12</td>\n",
       "      <td>1</td>\n",
       "      <td>1</td>\n",
       "      <td>1</td>\n",
       "      <td>0</td>\n",
       "      <td>1</td>\n",
       "      <td>1</td>\n",
       "      <td>0</td>\n",
       "      <td>0</td>\n",
       "    </tr>\n",
       "    <tr>\n",
       "      <th>2</th>\n",
       "      <td>1</td>\n",
       "      <td>2017-12-22 10:50:42</td>\n",
       "      <td>2</td>\n",
       "      <td>2</td>\n",
       "      <td>2</td>\n",
       "      <td>1</td>\n",
       "      <td>1</td>\n",
       "      <td>2</td>\n",
       "      <td>0</td>\n",
       "      <td>0</td>\n",
       "    </tr>\n",
       "    <tr>\n",
       "      <th>3</th>\n",
       "      <td>1</td>\n",
       "      <td>2017-12-22 10:51:13</td>\n",
       "      <td>3</td>\n",
       "      <td>3</td>\n",
       "      <td>3</td>\n",
       "      <td>2</td>\n",
       "      <td>2</td>\n",
       "      <td>3</td>\n",
       "      <td>0</td>\n",
       "      <td>0</td>\n",
       "    </tr>\n",
       "    <tr>\n",
       "      <th>4</th>\n",
       "      <td>1</td>\n",
       "      <td>2017-12-22 10:51:44</td>\n",
       "      <td>4</td>\n",
       "      <td>4</td>\n",
       "      <td>4</td>\n",
       "      <td>3</td>\n",
       "      <td>1</td>\n",
       "      <td>4</td>\n",
       "      <td>0</td>\n",
       "      <td>0</td>\n",
       "    </tr>\n",
       "    <tr>\n",
       "      <th>...</th>\n",
       "      <td>...</td>\n",
       "      <td>...</td>\n",
       "      <td>...</td>\n",
       "      <td>...</td>\n",
       "      <td>...</td>\n",
       "      <td>...</td>\n",
       "      <td>...</td>\n",
       "      <td>...</td>\n",
       "      <td>...</td>\n",
       "      <td>...</td>\n",
       "    </tr>\n",
       "    <tr>\n",
       "      <th>10124</th>\n",
       "      <td>0</td>\n",
       "      <td>2018-01-11 08:58:07</td>\n",
       "      <td>10124</td>\n",
       "      <td>864</td>\n",
       "      <td>1661</td>\n",
       "      <td>2481</td>\n",
       "      <td>2463</td>\n",
       "      <td>3651</td>\n",
       "      <td>0</td>\n",
       "      <td>0</td>\n",
       "    </tr>\n",
       "    <tr>\n",
       "      <th>10125</th>\n",
       "      <td>0</td>\n",
       "      <td>2018-01-11 08:58:37</td>\n",
       "      <td>10125</td>\n",
       "      <td>863</td>\n",
       "      <td>876</td>\n",
       "      <td>2782</td>\n",
       "      <td>2464</td>\n",
       "      <td>3651</td>\n",
       "      <td>0</td>\n",
       "      <td>0</td>\n",
       "    </tr>\n",
       "    <tr>\n",
       "      <th>10126</th>\n",
       "      <td>0</td>\n",
       "      <td>2018-01-11 08:59:08</td>\n",
       "      <td>10126</td>\n",
       "      <td>2081</td>\n",
       "      <td>876</td>\n",
       "      <td>2483</td>\n",
       "      <td>2464</td>\n",
       "      <td>3651</td>\n",
       "      <td>0</td>\n",
       "      <td>0</td>\n",
       "    </tr>\n",
       "    <tr>\n",
       "      <th>10127</th>\n",
       "      <td>0</td>\n",
       "      <td>2018-01-11 08:59:39</td>\n",
       "      <td>10127</td>\n",
       "      <td>1631</td>\n",
       "      <td>879</td>\n",
       "      <td>2783</td>\n",
       "      <td>2464</td>\n",
       "      <td>3651</td>\n",
       "      <td>0</td>\n",
       "      <td>0</td>\n",
       "    </tr>\n",
       "    <tr>\n",
       "      <th>10128</th>\n",
       "      <td>0</td>\n",
       "      <td>2018-01-11 09:00:09</td>\n",
       "      <td>10128</td>\n",
       "      <td>1631</td>\n",
       "      <td>876</td>\n",
       "      <td>2483</td>\n",
       "      <td>2464</td>\n",
       "      <td>3651</td>\n",
       "      <td>0</td>\n",
       "      <td>0</td>\n",
       "    </tr>\n",
       "  </tbody>\n",
       "</table>\n",
       "<p>10129 rows × 10 columns</p>\n",
       "</div>"
      ],
      "text/plain": [
       "       Room_Occupancy_Count           Timestamp     id  sensor1_id  \\\n",
       "0                         1 2017-12-22 10:49:41      0           0   \n",
       "1                         1 2017-12-22 10:50:12      1           1   \n",
       "2                         1 2017-12-22 10:50:42      2           2   \n",
       "3                         1 2017-12-22 10:51:13      3           3   \n",
       "4                         1 2017-12-22 10:51:44      4           4   \n",
       "...                     ...                 ...    ...         ...   \n",
       "10124                     0 2018-01-11 08:58:07  10124         864   \n",
       "10125                     0 2018-01-11 08:58:37  10125         863   \n",
       "10126                     0 2018-01-11 08:59:08  10126        2081   \n",
       "10127                     0 2018-01-11 08:59:39  10127        1631   \n",
       "10128                     0 2018-01-11 09:00:09  10128        1631   \n",
       "\n",
       "       sensor2_id  sensor3_id  sensor4_id  sensor5_id  sensor6_id  sensor7_id  \n",
       "0               0           0           0           0           0           0  \n",
       "1               1           0           1           1           0           0  \n",
       "2               2           1           1           2           0           0  \n",
       "3               3           2           2           3           0           0  \n",
       "4               4           3           1           4           0           0  \n",
       "...           ...         ...         ...         ...         ...         ...  \n",
       "10124        1661        2481        2463        3651           0           0  \n",
       "10125         876        2782        2464        3651           0           0  \n",
       "10126         876        2483        2464        3651           0           0  \n",
       "10127         879        2783        2464        3651           0           0  \n",
       "10128         876        2483        2464        3651           0           0  \n",
       "\n",
       "[10129 rows x 10 columns]"
      ]
     },
     "execution_count": 19,
     "metadata": {},
     "output_type": "execute_result"
    }
   ],
   "source": [
    "norm.entity_set['original_table']"
   ]
  },
  {
   "cell_type": "code",
   "execution_count": 20,
   "id": "d3f74d7b-7f54-4abe-bb41-9ff257ed2a22",
   "metadata": {},
   "outputs": [
    {
     "data": {
      "text/plain": [
       "S1_Temp       float64\n",
       "S1_Light        int64\n",
       "S1_Sound      float64\n",
       "sensor1_id      int64\n",
       "dtype: object"
      ]
     },
     "execution_count": 20,
     "metadata": {},
     "output_type": "execute_result"
    }
   ],
   "source": [
    "norm.entity_set['sensor1'].dtypes"
   ]
  },
  {
   "cell_type": "code",
   "execution_count": 21,
   "id": "d9447daa-a790-4034-9002-9df5ca15d387",
   "metadata": {},
   "outputs": [
    {
     "name": "stdout",
     "output_type": "stream",
     "text": [
      "2024-07-01 22:58:19,210 INFO sqlalchemy.engine.Engine SELECT CAST(SERVERPROPERTY('ProductVersion') AS VARCHAR)\n"
     ]
    },
    {
     "name": "stderr",
     "output_type": "stream",
     "text": [
      "[07-01 22:58:19] p17208 {C:\\Projects\\Private\\PropStar\\venv\\lib\\site-packages\\sqlalchemy\\engine\\base.py:1897} INFO - SELECT CAST(SERVERPROPERTY('ProductVersion') AS VARCHAR)\n"
     ]
    },
    {
     "name": "stdout",
     "output_type": "stream",
     "text": [
      "2024-07-01 22:58:19,213 INFO sqlalchemy.engine.Engine [raw sql] ()\n"
     ]
    },
    {
     "name": "stderr",
     "output_type": "stream",
     "text": [
      "[07-01 22:58:19] p17208 {C:\\Projects\\Private\\PropStar\\venv\\lib\\site-packages\\sqlalchemy\\engine\\base.py:1902} INFO - [raw sql] ()\n"
     ]
    },
    {
     "name": "stdout",
     "output_type": "stream",
     "text": [
      "2024-07-01 22:58:19,217 INFO sqlalchemy.engine.Engine SELECT schema_name()\n"
     ]
    },
    {
     "name": "stderr",
     "output_type": "stream",
     "text": [
      "[07-01 22:58:19] p17208 {C:\\Projects\\Private\\PropStar\\venv\\lib\\site-packages\\sqlalchemy\\engine\\base.py:1897} INFO - SELECT schema_name()\n"
     ]
    },
    {
     "name": "stdout",
     "output_type": "stream",
     "text": [
      "2024-07-01 22:58:19,218 INFO sqlalchemy.engine.Engine [generated in 0.00173s] ()\n"
     ]
    },
    {
     "name": "stderr",
     "output_type": "stream",
     "text": [
      "[07-01 22:58:19] p17208 {C:\\Projects\\Private\\PropStar\\venv\\lib\\site-packages\\sqlalchemy\\engine\\base.py:1902} INFO - [generated in 0.00173s] ()\n"
     ]
    },
    {
     "name": "stdout",
     "output_type": "stream",
     "text": [
      "2024-07-01 22:58:19,222 INFO sqlalchemy.engine.Engine SELECT CAST('test max support' AS NVARCHAR(max))\n"
     ]
    },
    {
     "name": "stderr",
     "output_type": "stream",
     "text": [
      "[07-01 22:58:19] p17208 {C:\\Projects\\Private\\PropStar\\venv\\lib\\site-packages\\sqlalchemy\\engine\\base.py:1897} INFO - SELECT CAST('test max support' AS NVARCHAR(max))\n"
     ]
    },
    {
     "name": "stdout",
     "output_type": "stream",
     "text": [
      "2024-07-01 22:58:19,225 INFO sqlalchemy.engine.Engine [generated in 0.00131s] ()\n"
     ]
    },
    {
     "name": "stderr",
     "output_type": "stream",
     "text": [
      "[07-01 22:58:19] p17208 {C:\\Projects\\Private\\PropStar\\venv\\lib\\site-packages\\sqlalchemy\\engine\\base.py:1902} INFO - [generated in 0.00131s] ()\n"
     ]
    },
    {
     "name": "stdout",
     "output_type": "stream",
     "text": [
      "2024-07-01 22:58:19,228 INFO sqlalchemy.engine.Engine SELECT 1 FROM fn_listextendedproperty(default, default, default, default, default, default, default)\n"
     ]
    },
    {
     "name": "stderr",
     "output_type": "stream",
     "text": [
      "[07-01 22:58:19] p17208 {C:\\Projects\\Private\\PropStar\\venv\\lib\\site-packages\\sqlalchemy\\engine\\base.py:1897} INFO - SELECT 1 FROM fn_listextendedproperty(default, default, default, default, default, default, default)\n"
     ]
    },
    {
     "name": "stdout",
     "output_type": "stream",
     "text": [
      "2024-07-01 22:58:19,229 INFO sqlalchemy.engine.Engine [generated in 0.00167s] ()\n"
     ]
    },
    {
     "name": "stderr",
     "output_type": "stream",
     "text": [
      "[07-01 22:58:19] p17208 {C:\\Projects\\Private\\PropStar\\venv\\lib\\site-packages\\sqlalchemy\\engine\\base.py:1902} INFO - [generated in 0.00167s] ()\n"
     ]
    },
    {
     "name": "stdout",
     "output_type": "stream",
     "text": [
      "2024-07-01 22:58:19,232 INFO sqlalchemy.engine.Engine BEGIN (implicit)\n"
     ]
    },
    {
     "name": "stderr",
     "output_type": "stream",
     "text": [
      "[07-01 22:58:19] p17208 {C:\\Projects\\Private\\PropStar\\venv\\lib\\site-packages\\sqlalchemy\\engine\\base.py:1087} INFO - BEGIN (implicit)\n"
     ]
    },
    {
     "name": "stdout",
     "output_type": "stream",
     "text": [
      "2024-07-01 22:58:19,233 INFO sqlalchemy.engine.Engine IF (SCHEMA_ID('room_occupancy_multiclass') IS NOT NULL) BEGIN DROP SCHEMA [room_occupancy_multiclass]; END \n"
     ]
    },
    {
     "name": "stderr",
     "output_type": "stream",
     "text": [
      "[07-01 22:58:19] p17208 {C:\\Projects\\Private\\PropStar\\venv\\lib\\site-packages\\sqlalchemy\\engine\\base.py:1897} INFO - IF (SCHEMA_ID('room_occupancy_multiclass') IS NOT NULL) BEGIN DROP SCHEMA [room_occupancy_multiclass]; END \n"
     ]
    },
    {
     "name": "stdout",
     "output_type": "stream",
     "text": [
      "2024-07-01 22:58:19,235 INFO sqlalchemy.engine.Engine [generated in 0.00259s] ()\n"
     ]
    },
    {
     "name": "stderr",
     "output_type": "stream",
     "text": [
      "[07-01 22:58:19] p17208 {C:\\Projects\\Private\\PropStar\\venv\\lib\\site-packages\\sqlalchemy\\engine\\base.py:1902} INFO - [generated in 0.00259s] ()\n"
     ]
    },
    {
     "name": "stdout",
     "output_type": "stream",
     "text": [
      "2024-07-01 22:58:19,237 INFO sqlalchemy.engine.Engine CREATE SCHEMA [room_occupancy_multiclass] AUTHORIZATION [dbo]\n"
     ]
    },
    {
     "name": "stderr",
     "output_type": "stream",
     "text": [
      "[07-01 22:58:19] p17208 {C:\\Projects\\Private\\PropStar\\venv\\lib\\site-packages\\sqlalchemy\\engine\\base.py:1897} INFO - CREATE SCHEMA [room_occupancy_multiclass] AUTHORIZATION [dbo]\n"
     ]
    },
    {
     "name": "stdout",
     "output_type": "stream",
     "text": [
      "2024-07-01 22:58:19,241 INFO sqlalchemy.engine.Engine [generated in 0.00166s] ()\n"
     ]
    },
    {
     "name": "stderr",
     "output_type": "stream",
     "text": [
      "[07-01 22:58:19] p17208 {C:\\Projects\\Private\\PropStar\\venv\\lib\\site-packages\\sqlalchemy\\engine\\base.py:1902} INFO - [generated in 0.00166s] ()\n"
     ]
    },
    {
     "name": "stdout",
     "output_type": "stream",
     "text": [
      "2024-07-01 22:58:19,256 INFO sqlalchemy.engine.Engine SELECT [INFORMATION_SCHEMA].[TABLES].[TABLE_NAME] \n",
      "FROM [INFORMATION_SCHEMA].[TABLES] \n",
      "WHERE ([INFORMATION_SCHEMA].[TABLES].[TABLE_TYPE] = CAST(? AS NVARCHAR(max)) OR [INFORMATION_SCHEMA].[TABLES].[TABLE_TYPE] = CAST(? AS NVARCHAR(max))) AND [INFORMATION_SCHEMA].[TABLES].[TABLE_NAME] = CAST(? AS NVARCHAR(max)) AND [INFORMATION_SCHEMA].[TABLES].[TABLE_SCHEMA] = CAST(? AS NVARCHAR(max))\n"
     ]
    },
    {
     "name": "stderr",
     "output_type": "stream",
     "text": [
      "[07-01 22:58:19] p17208 {C:\\Projects\\Private\\PropStar\\venv\\lib\\site-packages\\sqlalchemy\\engine\\base.py:1897} INFO - SELECT [INFORMATION_SCHEMA].[TABLES].[TABLE_NAME] \n",
      "FROM [INFORMATION_SCHEMA].[TABLES] \n",
      "WHERE ([INFORMATION_SCHEMA].[TABLES].[TABLE_TYPE] = CAST(? AS NVARCHAR(max)) OR [INFORMATION_SCHEMA].[TABLES].[TABLE_TYPE] = CAST(? AS NVARCHAR(max))) AND [INFORMATION_SCHEMA].[TABLES].[TABLE_NAME] = CAST(? AS NVARCHAR(max)) AND [INFORMATION_SCHEMA].[TABLES].[TABLE_SCHEMA] = CAST(? AS NVARCHAR(max))\n"
     ]
    },
    {
     "name": "stdout",
     "output_type": "stream",
     "text": [
      "2024-07-01 22:58:19,258 INFO sqlalchemy.engine.Engine [generated in 0.00162s] ('BASE TABLE', 'VIEW', 'original_table', 'room_occupancy_multiclass')\n"
     ]
    },
    {
     "name": "stderr",
     "output_type": "stream",
     "text": [
      "[07-01 22:58:19] p17208 {C:\\Projects\\Private\\PropStar\\venv\\lib\\site-packages\\sqlalchemy\\engine\\base.py:1902} INFO - [generated in 0.00162s] ('BASE TABLE', 'VIEW', 'original_table', 'room_occupancy_multiclass')\n"
     ]
    },
    {
     "name": "stdout",
     "output_type": "stream",
     "text": [
      "2024-07-01 22:58:19,294 INFO sqlalchemy.engine.Engine \n",
      "CREATE TABLE room_occupancy_multiclass.original_table (\n",
      "\t[Room_Occupancy_Count] BIGINT NULL, \n",
      "\t[Timestamp] DATETIME NULL, \n",
      "\tid BIGINT NULL, \n",
      "\tsensor1_id BIGINT NULL, \n",
      "\tsensor2_id BIGINT NULL, \n",
      "\tsensor3_id BIGINT NULL, \n",
      "\tsensor4_id BIGINT NULL, \n",
      "\tsensor5_id BIGINT NULL, \n",
      "\tsensor6_id BIGINT NULL, \n",
      "\tsensor7_id BIGINT NULL\n",
      ")\n",
      "\n",
      "\n"
     ]
    },
    {
     "name": "stderr",
     "output_type": "stream",
     "text": [
      "[07-01 22:58:19] p17208 {C:\\Projects\\Private\\PropStar\\venv\\lib\\site-packages\\sqlalchemy\\engine\\base.py:1897} INFO - \n",
      "CREATE TABLE room_occupancy_multiclass.original_table (\n",
      "\t[Room_Occupancy_Count] BIGINT NULL, \n",
      "\t[Timestamp] DATETIME NULL, \n",
      "\tid BIGINT NULL, \n",
      "\tsensor1_id BIGINT NULL, \n",
      "\tsensor2_id BIGINT NULL, \n",
      "\tsensor3_id BIGINT NULL, \n",
      "\tsensor4_id BIGINT NULL, \n",
      "\tsensor5_id BIGINT NULL, \n",
      "\tsensor6_id BIGINT NULL, \n",
      "\tsensor7_id BIGINT NULL\n",
      ")\n",
      "\n",
      "\n"
     ]
    },
    {
     "name": "stdout",
     "output_type": "stream",
     "text": [
      "2024-07-01 22:58:19,295 INFO sqlalchemy.engine.Engine [no key 0.00168s] ()\n"
     ]
    },
    {
     "name": "stderr",
     "output_type": "stream",
     "text": [
      "[07-01 22:58:19] p17208 {C:\\Projects\\Private\\PropStar\\venv\\lib\\site-packages\\sqlalchemy\\engine\\base.py:1902} INFO - [no key 0.00168s] ()\n"
     ]
    },
    {
     "name": "stdout",
     "output_type": "stream",
     "text": [
      "2024-07-01 22:58:19,341 INFO sqlalchemy.engine.Engine INSERT INTO room_occupancy_multiclass.original_table ([Room_Occupancy_Count], [Timestamp], id, sensor1_id, sensor2_id, sensor3_id, sensor4_id, sensor5_id, sensor6_id, sensor7_id) VALUES (?, ?, ?, ?, ?, ?, ?, ?, ?, ?), (?, ?, ?, ?, ?, ?, ?, ?, ?, ?),  ... 6522 characters truncated ... , ?), (?, ?, ?, ?, ?, ?, ?, ?, ?, ?), (?, ?, ?, ?, ?, ?, ?, ?, ?, ?), (?, ?, ?, ?, ?, ?, ?, ?, ?, ?)\n"
     ]
    },
    {
     "name": "stderr",
     "output_type": "stream",
     "text": [
      "[07-01 22:58:19] p17208 {C:\\Projects\\Private\\PropStar\\venv\\lib\\site-packages\\sqlalchemy\\engine\\base.py:2064} INFO - INSERT INTO room_occupancy_multiclass.original_table ([Room_Occupancy_Count], [Timestamp], id, sensor1_id, sensor2_id, sensor3_id, sensor4_id, sensor5_id, sensor6_id, sensor7_id) VALUES (?, ?, ?, ?, ?, ?, ?, ?, ?, ?), (?, ?, ?, ?, ?, ?, ?, ?, ?, ?),  ... 6522 characters truncated ... , ?), (?, ?, ?, ?, ?, ?, ?, ?, ?, ?), (?, ?, ?, ?, ?, ?, ?, ?, ?, ?), (?, ?, ?, ?, ?, ?, ?, ?, ?, ?)\n"
     ]
    },
    {
     "name": "stdout",
     "output_type": "stream",
     "text": [
      "2024-07-01 22:58:19,342 INFO sqlalchemy.engine.Engine [generated in 0.02253s (insertmanyvalues) 1/49 (unordered)] (1, datetime.datetime(2017, 12, 22, 10, 49, 41), 0, 0, 0, 0, 0, 0, 0, 0, 1, datetime.datetime(2017, 12, 22, 10, 50, 12), 1, 1, 1, 0, 1, 1, 0, 0, 1, datetime.datetime(2017, 12, 22, 10, 50, 42), 2, 2, 2, 1, 1, 2, 0, 0, 1, datetime.datetime(2017, 12, 22, 10, 51, 13), 3, 3, 3, 2, 2, 3, 0, 0, 1, datetime.datetime(2017, 12, 22, 10, 51, 44), 4, 4, 4, 3, 1, 4, 0, 0 ... 1990 parameters truncated ... 3, datetime.datetime(2017, 12, 22, 12, 36, 54), 204, 191, 178, 179, 164, 200, 1, 1, 3, datetime.datetime(2017, 12, 22, 12, 37, 25), 205, 192, 179, 180, 165, 201, 1, 1, 3, datetime.datetime(2017, 12, 22, 12, 37, 56), 206, 193, 180, 181, 166, 202, 1, 1, 3, datetime.datetime(2017, 12, 22, 12, 38, 26), 207, 191, 181, 182, 167, 203, 1, 1, 3, datetime.datetime(2017, 12, 22, 12, 38, 57), 208, 194, 182, 183, 168, 204, 1, 1)\n"
     ]
    },
    {
     "name": "stderr",
     "output_type": "stream",
     "text": [
      "[07-01 22:58:19] p17208 {C:\\Projects\\Private\\PropStar\\venv\\lib\\site-packages\\sqlalchemy\\engine\\base.py:2082} INFO - [generated in 0.02253s (insertmanyvalues) 1/49 (unordered)] (1, datetime.datetime(2017, 12, 22, 10, 49, 41), 0, 0, 0, 0, 0, 0, 0, 0, 1, datetime.datetime(2017, 12, 22, 10, 50, 12), 1, 1, 1, 0, 1, 1, 0, 0, 1, datetime.datetime(2017, 12, 22, 10, 50, 42), 2, 2, 2, 1, 1, 2, 0, 0, 1, datetime.datetime(2017, 12, 22, 10, 51, 13), 3, 3, 3, 2, 2, 3, 0, 0, 1, datetime.datetime(2017, 12, 22, 10, 51, 44), 4, 4, 4, 3, 1, 4, 0, 0 ... 1990 parameters truncated ... 3, datetime.datetime(2017, 12, 22, 12, 36, 54), 204, 191, 178, 179, 164, 200, 1, 1, 3, datetime.datetime(2017, 12, 22, 12, 37, 25), 205, 192, 179, 180, 165, 201, 1, 1, 3, datetime.datetime(2017, 12, 22, 12, 37, 56), 206, 193, 180, 181, 166, 202, 1, 1, 3, datetime.datetime(2017, 12, 22, 12, 38, 26), 207, 191, 181, 182, 167, 203, 1, 1, 3, datetime.datetime(2017, 12, 22, 12, 38, 57), 208, 194, 182, 183, 168, 204, 1, 1)\n"
     ]
    },
    {
     "name": "stdout",
     "output_type": "stream",
     "text": [
      "2024-07-01 22:58:19,536 INFO sqlalchemy.engine.Engine INSERT INTO room_occupancy_multiclass.original_table ([Room_Occupancy_Count], [Timestamp], id, sensor1_id, sensor2_id, sensor3_id, sensor4_id, sensor5_id, sensor6_id, sensor7_id) VALUES (?, ?, ?, ?, ?, ?, ?, ?, ?, ?), (?, ?, ?, ?, ?, ?, ?, ?, ?, ?),  ... 6522 characters truncated ... , ?), (?, ?, ?, ?, ?, ?, ?, ?, ?, ?), (?, ?, ?, ?, ?, ?, ?, ?, ?, ?), (?, ?, ?, ?, ?, ?, ?, ?, ?, ?)\n"
     ]
    },
    {
     "name": "stderr",
     "output_type": "stream",
     "text": [
      "[07-01 22:58:19] p17208 {C:\\Projects\\Private\\PropStar\\venv\\lib\\site-packages\\sqlalchemy\\engine\\base.py:2064} INFO - INSERT INTO room_occupancy_multiclass.original_table ([Room_Occupancy_Count], [Timestamp], id, sensor1_id, sensor2_id, sensor3_id, sensor4_id, sensor5_id, sensor6_id, sensor7_id) VALUES (?, ?, ?, ?, ?, ?, ?, ?, ?, ?), (?, ?, ?, ?, ?, ?, ?, ?, ?, ?),  ... 6522 characters truncated ... , ?), (?, ?, ?, ?, ?, ?, ?, ?, ?, ?), (?, ?, ?, ?, ?, ?, ?, ?, ?, ?), (?, ?, ?, ?, ?, ?, ?, ?, ?, ?)\n"
     ]
    },
    {
     "name": "stdout",
     "output_type": "stream",
     "text": [
      "2024-07-01 22:58:19,538 INFO sqlalchemy.engine.Engine [insertmanyvalues 2/49 (unordered)] (3, datetime.datetime(2017, 12, 22, 12, 39, 28), 209, 195, 183, 184, 169, 205, 1, 1, 3, datetime.datetime(2017, 12, 22, 12, 39, 58), 210, 196, 184, 185, 170, 206, 1, 1, 3, datetime.datetime(2017, 12, 22, 12, 40, 29), 211, 197, 185, 186, 171, 207, 1, 1, 3, datetime.datetime(2017, 12, 22, 12, 40, 59), 212, 198, 186, 187, 172, 208, 1, 1, 3, datetime.datetime(2017, 12, 22, 12, 41, 30), 213, 199, 187, 188, 173, 209, 1, 0 ... 1990 parameters truncated ... 0, datetime.datetime(2017, 12, 22, 14, 50, 10), 413, 356, 357, 366, 315, 408, 0, 0, 0, datetime.datetime(2017, 12, 22, 14, 50, 41), 414, 354, 358, 365, 319, 409, 0, 0, 0, datetime.datetime(2017, 12, 22, 14, 51, 11), 415, 352, 358, 365, 319, 410, 0, 0, 0, datetime.datetime(2017, 12, 22, 14, 51, 42), 416, 356, 358, 370, 313, 411, 0, 0, 0, datetime.datetime(2017, 12, 22, 14, 52, 13), 417, 356, 358, 371, 323, 412, 0, 0)\n"
     ]
    },
    {
     "name": "stderr",
     "output_type": "stream",
     "text": [
      "[07-01 22:58:19] p17208 {C:\\Projects\\Private\\PropStar\\venv\\lib\\site-packages\\sqlalchemy\\engine\\base.py:2082} INFO - [insertmanyvalues 2/49 (unordered)] (3, datetime.datetime(2017, 12, 22, 12, 39, 28), 209, 195, 183, 184, 169, 205, 1, 1, 3, datetime.datetime(2017, 12, 22, 12, 39, 58), 210, 196, 184, 185, 170, 206, 1, 1, 3, datetime.datetime(2017, 12, 22, 12, 40, 29), 211, 197, 185, 186, 171, 207, 1, 1, 3, datetime.datetime(2017, 12, 22, 12, 40, 59), 212, 198, 186, 187, 172, 208, 1, 1, 3, datetime.datetime(2017, 12, 22, 12, 41, 30), 213, 199, 187, 188, 173, 209, 1, 0 ... 1990 parameters truncated ... 0, datetime.datetime(2017, 12, 22, 14, 50, 10), 413, 356, 357, 366, 315, 408, 0, 0, 0, datetime.datetime(2017, 12, 22, 14, 50, 41), 414, 354, 358, 365, 319, 409, 0, 0, 0, datetime.datetime(2017, 12, 22, 14, 51, 11), 415, 352, 358, 365, 319, 410, 0, 0, 0, datetime.datetime(2017, 12, 22, 14, 51, 42), 416, 356, 358, 370, 313, 411, 0, 0, 0, datetime.datetime(2017, 12, 22, 14, 52, 13), 417, 356, 358, 371, 323, 412, 0, 0)\n"
     ]
    },
    {
     "name": "stdout",
     "output_type": "stream",
     "text": [
      "2024-07-01 22:58:19,548 INFO sqlalchemy.engine.Engine INSERT INTO room_occupancy_multiclass.original_table ([Room_Occupancy_Count], [Timestamp], id, sensor1_id, sensor2_id, sensor3_id, sensor4_id, sensor5_id, sensor6_id, sensor7_id) VALUES (?, ?, ?, ?, ?, ?, ?, ?, ?, ?), (?, ?, ?, ?, ?, ?, ?, ?, ?, ?),  ... 6522 characters truncated ... , ?), (?, ?, ?, ?, ?, ?, ?, ?, ?, ?), (?, ?, ?, ?, ?, ?, ?, ?, ?, ?), (?, ?, ?, ?, ?, ?, ?, ?, ?, ?)\n"
     ]
    },
    {
     "name": "stderr",
     "output_type": "stream",
     "text": [
      "[07-01 22:58:19] p17208 {C:\\Projects\\Private\\PropStar\\venv\\lib\\site-packages\\sqlalchemy\\engine\\base.py:2064} INFO - INSERT INTO room_occupancy_multiclass.original_table ([Room_Occupancy_Count], [Timestamp], id, sensor1_id, sensor2_id, sensor3_id, sensor4_id, sensor5_id, sensor6_id, sensor7_id) VALUES (?, ?, ?, ?, ?, ?, ?, ?, ?, ?), (?, ?, ?, ?, ?, ?, ?, ?, ?, ?),  ... 6522 characters truncated ... , ?), (?, ?, ?, ?, ?, ?, ?, ?, ?, ?), (?, ?, ?, ?, ?, ?, ?, ?, ?, ?), (?, ?, ?, ?, ?, ?, ?, ?, ?, ?)\n"
     ]
    },
    {
     "name": "stdout",
     "output_type": "stream",
     "text": [
      "2024-07-01 22:58:19,550 INFO sqlalchemy.engine.Engine [insertmanyvalues 3/49 (unordered)] (0, datetime.datetime(2017, 12, 22, 14, 52, 43), 418, 357, 358, 372, 324, 413, 0, 0, 0, datetime.datetime(2017, 12, 22, 14, 53, 14), 419, 357, 359, 373, 324, 414, 0, 0, 0, datetime.datetime(2017, 12, 22, 14, 53, 45), 420, 357, 358, 373, 324, 415, 0, 0, 0, datetime.datetime(2017, 12, 22, 14, 54, 15), 421, 357, 359, 373, 325, 416, 0, 0, 0, datetime.datetime(2017, 12, 22, 14, 54, 46), 422, 357, 359, 374, 326, 417, 0, 0 ... 1990 parameters truncated ... 2, datetime.datetime(2017, 12, 22, 16, 39, 26), 622, 488, 469, 520, 449, 612, 1, 0, 2, datetime.datetime(2017, 12, 22, 16, 39, 57), 623, 489, 466, 521, 450, 613, 1, 0, 2, datetime.datetime(2017, 12, 22, 16, 40, 27), 624, 490, 470, 522, 451, 614, 1, 1, 2, datetime.datetime(2017, 12, 22, 16, 40, 58), 625, 491, 471, 523, 452, 615, 1, 1, 2, datetime.datetime(2017, 12, 22, 16, 41, 28), 626, 492, 431, 524, 453, 616, 0, 0)\n"
     ]
    },
    {
     "name": "stderr",
     "output_type": "stream",
     "text": [
      "[07-01 22:58:19] p17208 {C:\\Projects\\Private\\PropStar\\venv\\lib\\site-packages\\sqlalchemy\\engine\\base.py:2082} INFO - [insertmanyvalues 3/49 (unordered)] (0, datetime.datetime(2017, 12, 22, 14, 52, 43), 418, 357, 358, 372, 324, 413, 0, 0, 0, datetime.datetime(2017, 12, 22, 14, 53, 14), 419, 357, 359, 373, 324, 414, 0, 0, 0, datetime.datetime(2017, 12, 22, 14, 53, 45), 420, 357, 358, 373, 324, 415, 0, 0, 0, datetime.datetime(2017, 12, 22, 14, 54, 15), 421, 357, 359, 373, 325, 416, 0, 0, 0, datetime.datetime(2017, 12, 22, 14, 54, 46), 422, 357, 359, 374, 326, 417, 0, 0 ... 1990 parameters truncated ... 2, datetime.datetime(2017, 12, 22, 16, 39, 26), 622, 488, 469, 520, 449, 612, 1, 0, 2, datetime.datetime(2017, 12, 22, 16, 39, 57), 623, 489, 466, 521, 450, 613, 1, 0, 2, datetime.datetime(2017, 12, 22, 16, 40, 27), 624, 490, 470, 522, 451, 614, 1, 1, 2, datetime.datetime(2017, 12, 22, 16, 40, 58), 625, 491, 471, 523, 452, 615, 1, 1, 2, datetime.datetime(2017, 12, 22, 16, 41, 28), 626, 492, 431, 524, 453, 616, 0, 0)\n"
     ]
    },
    {
     "name": "stdout",
     "output_type": "stream",
     "text": [
      "2024-07-01 22:58:19,558 INFO sqlalchemy.engine.Engine INSERT INTO room_occupancy_multiclass.original_table ([Room_Occupancy_Count], [Timestamp], id, sensor1_id, sensor2_id, sensor3_id, sensor4_id, sensor5_id, sensor6_id, sensor7_id) VALUES (?, ?, ?, ?, ?, ?, ?, ?, ?, ?), (?, ?, ?, ?, ?, ?, ?, ?, ?, ?),  ... 6522 characters truncated ... , ?), (?, ?, ?, ?, ?, ?, ?, ?, ?, ?), (?, ?, ?, ?, ?, ?, ?, ?, ?, ?), (?, ?, ?, ?, ?, ?, ?, ?, ?, ?)\n"
     ]
    },
    {
     "name": "stderr",
     "output_type": "stream",
     "text": [
      "[07-01 22:58:19] p17208 {C:\\Projects\\Private\\PropStar\\venv\\lib\\site-packages\\sqlalchemy\\engine\\base.py:2064} INFO - INSERT INTO room_occupancy_multiclass.original_table ([Room_Occupancy_Count], [Timestamp], id, sensor1_id, sensor2_id, sensor3_id, sensor4_id, sensor5_id, sensor6_id, sensor7_id) VALUES (?, ?, ?, ?, ?, ?, ?, ?, ?, ?), (?, ?, ?, ?, ?, ?, ?, ?, ?, ?),  ... 6522 characters truncated ... , ?), (?, ?, ?, ?, ?, ?, ?, ?, ?, ?), (?, ?, ?, ?, ?, ?, ?, ?, ?, ?), (?, ?, ?, ?, ?, ?, ?, ?, ?, ?)\n"
     ]
    },
    {
     "name": "stdout",
     "output_type": "stream",
     "text": [
      "2024-07-01 22:58:19,560 INFO sqlalchemy.engine.Engine [insertmanyvalues 4/49 (unordered)] (2, datetime.datetime(2017, 12, 22, 16, 41, 59), 627, 493, 472, 525, 454, 617, 0, 0, 2, datetime.datetime(2017, 12, 22, 16, 42, 30), 628, 494, 465, 526, 455, 618, 1, 0, 2, datetime.datetime(2017, 12, 22, 16, 43), 629, 495, 473, 527, 456, 619, 0, 0, 2, datetime.datetime(2017, 12, 22, 16, 43, 31), 630, 496, 474, 528, 457, 620, 0, 1, 2, datetime.datetime(2017, 12, 22, 16, 44, 2), 631, 497, 475, 529, 458, 621, 0, 0 ... 1990 parameters truncated ... 3, datetime.datetime(2017, 12, 22, 18, 28, 11), 831, 667, 641, 718, 519, 818, 1, 1, 3, datetime.datetime(2017, 12, 22, 18, 28, 42), 832, 668, 642, 719, 608, 819, 0, 1, 3, datetime.datetime(2017, 12, 22, 18, 29, 12), 833, 669, 643, 720, 609, 820, 1, 1, 3, datetime.datetime(2017, 12, 22, 18, 29, 43), 834, 670, 644, 721, 610, 821, 0, 1, 3, datetime.datetime(2017, 12, 22, 18, 30, 14), 835, 671, 645, 722, 611, 822, 0, 1)\n"
     ]
    },
    {
     "name": "stderr",
     "output_type": "stream",
     "text": [
      "[07-01 22:58:19] p17208 {C:\\Projects\\Private\\PropStar\\venv\\lib\\site-packages\\sqlalchemy\\engine\\base.py:2082} INFO - [insertmanyvalues 4/49 (unordered)] (2, datetime.datetime(2017, 12, 22, 16, 41, 59), 627, 493, 472, 525, 454, 617, 0, 0, 2, datetime.datetime(2017, 12, 22, 16, 42, 30), 628, 494, 465, 526, 455, 618, 1, 0, 2, datetime.datetime(2017, 12, 22, 16, 43), 629, 495, 473, 527, 456, 619, 0, 0, 2, datetime.datetime(2017, 12, 22, 16, 43, 31), 630, 496, 474, 528, 457, 620, 0, 1, 2, datetime.datetime(2017, 12, 22, 16, 44, 2), 631, 497, 475, 529, 458, 621, 0, 0 ... 1990 parameters truncated ... 3, datetime.datetime(2017, 12, 22, 18, 28, 11), 831, 667, 641, 718, 519, 818, 1, 1, 3, datetime.datetime(2017, 12, 22, 18, 28, 42), 832, 668, 642, 719, 608, 819, 0, 1, 3, datetime.datetime(2017, 12, 22, 18, 29, 12), 833, 669, 643, 720, 609, 820, 1, 1, 3, datetime.datetime(2017, 12, 22, 18, 29, 43), 834, 670, 644, 721, 610, 821, 0, 1, 3, datetime.datetime(2017, 12, 22, 18, 30, 14), 835, 671, 645, 722, 611, 822, 0, 1)\n"
     ]
    },
    {
     "name": "stdout",
     "output_type": "stream",
     "text": [
      "2024-07-01 22:58:19,566 INFO sqlalchemy.engine.Engine INSERT INTO room_occupancy_multiclass.original_table ([Room_Occupancy_Count], [Timestamp], id, sensor1_id, sensor2_id, sensor3_id, sensor4_id, sensor5_id, sensor6_id, sensor7_id) VALUES (?, ?, ?, ?, ?, ?, ?, ?, ?, ?), (?, ?, ?, ?, ?, ?, ?, ?, ?, ?),  ... 6522 characters truncated ... , ?), (?, ?, ?, ?, ?, ?, ?, ?, ?, ?), (?, ?, ?, ?, ?, ?, ?, ?, ?, ?), (?, ?, ?, ?, ?, ?, ?, ?, ?, ?)\n"
     ]
    },
    {
     "name": "stderr",
     "output_type": "stream",
     "text": [
      "[07-01 22:58:19] p17208 {C:\\Projects\\Private\\PropStar\\venv\\lib\\site-packages\\sqlalchemy\\engine\\base.py:2064} INFO - INSERT INTO room_occupancy_multiclass.original_table ([Room_Occupancy_Count], [Timestamp], id, sensor1_id, sensor2_id, sensor3_id, sensor4_id, sensor5_id, sensor6_id, sensor7_id) VALUES (?, ?, ?, ?, ?, ?, ?, ?, ?, ?), (?, ?, ?, ?, ?, ?, ?, ?, ?, ?),  ... 6522 characters truncated ... , ?), (?, ?, ?, ?, ?, ?, ?, ?, ?, ?), (?, ?, ?, ?, ?, ?, ?, ?, ?, ?), (?, ?, ?, ?, ?, ?, ?, ?, ?, ?)\n"
     ]
    },
    {
     "name": "stdout",
     "output_type": "stream",
     "text": [
      "2024-07-01 22:58:19,569 INFO sqlalchemy.engine.Engine [insertmanyvalues 5/49 (unordered)] (3, datetime.datetime(2017, 12, 22, 18, 30, 44), 836, 672, 646, 723, 612, 823, 0, 1, 3, datetime.datetime(2017, 12, 22, 18, 31, 15), 837, 673, 647, 724, 519, 824, 0, 1, 3, datetime.datetime(2017, 12, 22, 18, 31, 45), 838, 674, 648, 725, 613, 825, 1, 1, 3, datetime.datetime(2017, 12, 22, 18, 32, 16), 839, 675, 649, 726, 614, 826, 1, 1, 3, datetime.datetime(2017, 12, 22, 18, 32, 47), 840, 676, 650, 727, 597, 827, 1, 1 ... 1990 parameters truncated ... 0, datetime.datetime(2017, 12, 22, 20, 22, 2), 1040, 789, 793, 856, 695, 1026, 0, 0, 0, datetime.datetime(2017, 12, 22, 20, 22, 33), 1041, 789, 794, 857, 698, 1027, 0, 0, 0, datetime.datetime(2017, 12, 22, 20, 23, 4), 1042, 791, 793, 859, 697, 1028, 0, 0, 0, datetime.datetime(2017, 12, 22, 20, 23, 34), 1043, 789, 793, 857, 697, 1029, 0, 0, 0, datetime.datetime(2017, 12, 22, 20, 24, 5), 1044, 789, 793, 860, 697, 1030, 0, 0)\n"
     ]
    },
    {
     "name": "stderr",
     "output_type": "stream",
     "text": [
      "[07-01 22:58:19] p17208 {C:\\Projects\\Private\\PropStar\\venv\\lib\\site-packages\\sqlalchemy\\engine\\base.py:2082} INFO - [insertmanyvalues 5/49 (unordered)] (3, datetime.datetime(2017, 12, 22, 18, 30, 44), 836, 672, 646, 723, 612, 823, 0, 1, 3, datetime.datetime(2017, 12, 22, 18, 31, 15), 837, 673, 647, 724, 519, 824, 0, 1, 3, datetime.datetime(2017, 12, 22, 18, 31, 45), 838, 674, 648, 725, 613, 825, 1, 1, 3, datetime.datetime(2017, 12, 22, 18, 32, 16), 839, 675, 649, 726, 614, 826, 1, 1, 3, datetime.datetime(2017, 12, 22, 18, 32, 47), 840, 676, 650, 727, 597, 827, 1, 1 ... 1990 parameters truncated ... 0, datetime.datetime(2017, 12, 22, 20, 22, 2), 1040, 789, 793, 856, 695, 1026, 0, 0, 0, datetime.datetime(2017, 12, 22, 20, 22, 33), 1041, 789, 794, 857, 698, 1027, 0, 0, 0, datetime.datetime(2017, 12, 22, 20, 23, 4), 1042, 791, 793, 859, 697, 1028, 0, 0, 0, datetime.datetime(2017, 12, 22, 20, 23, 34), 1043, 789, 793, 857, 697, 1029, 0, 0, 0, datetime.datetime(2017, 12, 22, 20, 24, 5), 1044, 789, 793, 860, 697, 1030, 0, 0)\n"
     ]
    },
    {
     "name": "stdout",
     "output_type": "stream",
     "text": [
      "2024-07-01 22:58:19,575 INFO sqlalchemy.engine.Engine INSERT INTO room_occupancy_multiclass.original_table ([Room_Occupancy_Count], [Timestamp], id, sensor1_id, sensor2_id, sensor3_id, sensor4_id, sensor5_id, sensor6_id, sensor7_id) VALUES (?, ?, ?, ?, ?, ?, ?, ?, ?, ?), (?, ?, ?, ?, ?, ?, ?, ?, ?, ?),  ... 6522 characters truncated ... , ?), (?, ?, ?, ?, ?, ?, ?, ?, ?, ?), (?, ?, ?, ?, ?, ?, ?, ?, ?, ?), (?, ?, ?, ?, ?, ?, ?, ?, ?, ?)\n"
     ]
    },
    {
     "name": "stderr",
     "output_type": "stream",
     "text": [
      "[07-01 22:58:19] p17208 {C:\\Projects\\Private\\PropStar\\venv\\lib\\site-packages\\sqlalchemy\\engine\\base.py:2064} INFO - INSERT INTO room_occupancy_multiclass.original_table ([Room_Occupancy_Count], [Timestamp], id, sensor1_id, sensor2_id, sensor3_id, sensor4_id, sensor5_id, sensor6_id, sensor7_id) VALUES (?, ?, ?, ?, ?, ?, ?, ?, ?, ?), (?, ?, ?, ?, ?, ?, ?, ?, ?, ?),  ... 6522 characters truncated ... , ?), (?, ?, ?, ?, ?, ?, ?, ?, ?, ?), (?, ?, ?, ?, ?, ?, ?, ?, ?, ?), (?, ?, ?, ?, ?, ?, ?, ?, ?, ?)\n"
     ]
    },
    {
     "name": "stdout",
     "output_type": "stream",
     "text": [
      "2024-07-01 22:58:19,577 INFO sqlalchemy.engine.Engine [insertmanyvalues 6/49 (unordered)] (0, datetime.datetime(2017, 12, 22, 20, 24, 36), 1045, 792, 795, 857, 695, 1031, 0, 0, 0, datetime.datetime(2017, 12, 22, 20, 25, 6), 1046, 793, 793, 860, 695, 1032, 0, 0, 0, datetime.datetime(2017, 12, 22, 20, 25, 37), 1047, 789, 796, 860, 694, 1033, 0, 0, 0, datetime.datetime(2017, 12, 22, 20, 26, 8), 1048, 789, 793, 860, 695, 1034, 0, 0, 0, datetime.datetime(2017, 12, 22, 20, 26, 38), 1049, 791, 797, 861, 699, 1035, 0, 0 ... 1990 parameters truncated ... 0, datetime.datetime(2017, 12, 22, 22, 10, 17), 1249, 810, 812, 879, 703, 1230, 0, 0, 0, datetime.datetime(2017, 12, 22, 22, 10, 48), 1250, 805, 812, 883, 704, 1231, 0, 0, 0, datetime.datetime(2017, 12, 22, 22, 11, 18), 1251, 810, 812, 879, 702, 1232, 0, 0, 0, datetime.datetime(2017, 12, 22, 22, 11, 49), 1252, 810, 812, 879, 702, 1233, 0, 0, 0, datetime.datetime(2017, 12, 22, 22, 12, 20), 1253, 810, 812, 879, 704, 1234, 0, 0)\n"
     ]
    },
    {
     "name": "stderr",
     "output_type": "stream",
     "text": [
      "[07-01 22:58:19] p17208 {C:\\Projects\\Private\\PropStar\\venv\\lib\\site-packages\\sqlalchemy\\engine\\base.py:2082} INFO - [insertmanyvalues 6/49 (unordered)] (0, datetime.datetime(2017, 12, 22, 20, 24, 36), 1045, 792, 795, 857, 695, 1031, 0, 0, 0, datetime.datetime(2017, 12, 22, 20, 25, 6), 1046, 793, 793, 860, 695, 1032, 0, 0, 0, datetime.datetime(2017, 12, 22, 20, 25, 37), 1047, 789, 796, 860, 694, 1033, 0, 0, 0, datetime.datetime(2017, 12, 22, 20, 26, 8), 1048, 789, 793, 860, 695, 1034, 0, 0, 0, datetime.datetime(2017, 12, 22, 20, 26, 38), 1049, 791, 797, 861, 699, 1035, 0, 0 ... 1990 parameters truncated ... 0, datetime.datetime(2017, 12, 22, 22, 10, 17), 1249, 810, 812, 879, 703, 1230, 0, 0, 0, datetime.datetime(2017, 12, 22, 22, 10, 48), 1250, 805, 812, 883, 704, 1231, 0, 0, 0, datetime.datetime(2017, 12, 22, 22, 11, 18), 1251, 810, 812, 879, 702, 1232, 0, 0, 0, datetime.datetime(2017, 12, 22, 22, 11, 49), 1252, 810, 812, 879, 702, 1233, 0, 0, 0, datetime.datetime(2017, 12, 22, 22, 12, 20), 1253, 810, 812, 879, 704, 1234, 0, 0)\n"
     ]
    },
    {
     "name": "stdout",
     "output_type": "stream",
     "text": [
      "2024-07-01 22:58:19,584 INFO sqlalchemy.engine.Engine INSERT INTO room_occupancy_multiclass.original_table ([Room_Occupancy_Count], [Timestamp], id, sensor1_id, sensor2_id, sensor3_id, sensor4_id, sensor5_id, sensor6_id, sensor7_id) VALUES (?, ?, ?, ?, ?, ?, ?, ?, ?, ?), (?, ?, ?, ?, ?, ?, ?, ?, ?, ?),  ... 6522 characters truncated ... , ?), (?, ?, ?, ?, ?, ?, ?, ?, ?, ?), (?, ?, ?, ?, ?, ?, ?, ?, ?, ?), (?, ?, ?, ?, ?, ?, ?, ?, ?, ?)\n"
     ]
    },
    {
     "name": "stderr",
     "output_type": "stream",
     "text": [
      "[07-01 22:58:19] p17208 {C:\\Projects\\Private\\PropStar\\venv\\lib\\site-packages\\sqlalchemy\\engine\\base.py:2064} INFO - INSERT INTO room_occupancy_multiclass.original_table ([Room_Occupancy_Count], [Timestamp], id, sensor1_id, sensor2_id, sensor3_id, sensor4_id, sensor5_id, sensor6_id, sensor7_id) VALUES (?, ?, ?, ?, ?, ?, ?, ?, ?, ?), (?, ?, ?, ?, ?, ?, ?, ?, ?, ?),  ... 6522 characters truncated ... , ?), (?, ?, ?, ?, ?, ?, ?, ?, ?, ?), (?, ?, ?, ?, ?, ?, ?, ?, ?, ?), (?, ?, ?, ?, ?, ?, ?, ?, ?, ?)\n"
     ]
    },
    {
     "name": "stdout",
     "output_type": "stream",
     "text": [
      "2024-07-01 22:58:19,585 INFO sqlalchemy.engine.Engine [insertmanyvalues 7/49 (unordered)] (0, datetime.datetime(2017, 12, 22, 22, 12, 50), 1254, 810, 817, 883, 706, 1235, 0, 0, 0, datetime.datetime(2017, 12, 22, 22, 13, 21), 1255, 810, 814, 879, 704, 1236, 0, 0, 0, datetime.datetime(2017, 12, 22, 22, 13, 52), 1256, 810, 817, 879, 704, 1237, 0, 0, 0, datetime.datetime(2017, 12, 22, 22, 14, 22), 1257, 806, 812, 879, 709, 1238, 0, 0, 0, datetime.datetime(2017, 12, 22, 22, 14, 53), 1258, 808, 812, 879, 709, 1239, 0, 0 ... 1990 parameters truncated ... 0, datetime.datetime(2017, 12, 22, 23, 58, 1), 1458, 817, 823, 890, 713, 1358, 0, 0, 0, datetime.datetime(2017, 12, 22, 23, 58, 32), 1459, 815, 823, 896, 713, 1358, 0, 0, 0, datetime.datetime(2017, 12, 22, 23, 59, 2), 1460, 815, 823, 890, 710, 1358, 0, 0, 0, datetime.datetime(2017, 12, 22, 23, 59, 33), 1461, 815, 823, 894, 708, 1358, 0, 0, 0, datetime.datetime(2017, 12, 23, 0, 0, 34), 1462, 815, 823, 896, 709, 1358, 0, 0)\n"
     ]
    },
    {
     "name": "stderr",
     "output_type": "stream",
     "text": [
      "[07-01 22:58:19] p17208 {C:\\Projects\\Private\\PropStar\\venv\\lib\\site-packages\\sqlalchemy\\engine\\base.py:2082} INFO - [insertmanyvalues 7/49 (unordered)] (0, datetime.datetime(2017, 12, 22, 22, 12, 50), 1254, 810, 817, 883, 706, 1235, 0, 0, 0, datetime.datetime(2017, 12, 22, 22, 13, 21), 1255, 810, 814, 879, 704, 1236, 0, 0, 0, datetime.datetime(2017, 12, 22, 22, 13, 52), 1256, 810, 817, 879, 704, 1237, 0, 0, 0, datetime.datetime(2017, 12, 22, 22, 14, 22), 1257, 806, 812, 879, 709, 1238, 0, 0, 0, datetime.datetime(2017, 12, 22, 22, 14, 53), 1258, 808, 812, 879, 709, 1239, 0, 0 ... 1990 parameters truncated ... 0, datetime.datetime(2017, 12, 22, 23, 58, 1), 1458, 817, 823, 890, 713, 1358, 0, 0, 0, datetime.datetime(2017, 12, 22, 23, 58, 32), 1459, 815, 823, 896, 713, 1358, 0, 0, 0, datetime.datetime(2017, 12, 22, 23, 59, 2), 1460, 815, 823, 890, 710, 1358, 0, 0, 0, datetime.datetime(2017, 12, 22, 23, 59, 33), 1461, 815, 823, 894, 708, 1358, 0, 0, 0, datetime.datetime(2017, 12, 23, 0, 0, 34), 1462, 815, 823, 896, 709, 1358, 0, 0)\n"
     ]
    },
    {
     "name": "stdout",
     "output_type": "stream",
     "text": [
      "2024-07-01 22:58:19,592 INFO sqlalchemy.engine.Engine INSERT INTO room_occupancy_multiclass.original_table ([Room_Occupancy_Count], [Timestamp], id, sensor1_id, sensor2_id, sensor3_id, sensor4_id, sensor5_id, sensor6_id, sensor7_id) VALUES (?, ?, ?, ?, ?, ?, ?, ?, ?, ?), (?, ?, ?, ?, ?, ?, ?, ?, ?, ?),  ... 6522 characters truncated ... , ?), (?, ?, ?, ?, ?, ?, ?, ?, ?, ?), (?, ?, ?, ?, ?, ?, ?, ?, ?, ?), (?, ?, ?, ?, ?, ?, ?, ?, ?, ?)\n"
     ]
    },
    {
     "name": "stderr",
     "output_type": "stream",
     "text": [
      "[07-01 22:58:19] p17208 {C:\\Projects\\Private\\PropStar\\venv\\lib\\site-packages\\sqlalchemy\\engine\\base.py:2064} INFO - INSERT INTO room_occupancy_multiclass.original_table ([Room_Occupancy_Count], [Timestamp], id, sensor1_id, sensor2_id, sensor3_id, sensor4_id, sensor5_id, sensor6_id, sensor7_id) VALUES (?, ?, ?, ?, ?, ?, ?, ?, ?, ?), (?, ?, ?, ?, ?, ?, ?, ?, ?, ?),  ... 6522 characters truncated ... , ?), (?, ?, ?, ?, ?, ?, ?, ?, ?, ?), (?, ?, ?, ?, ?, ?, ?, ?, ?, ?), (?, ?, ?, ?, ?, ?, ?, ?, ?, ?)\n"
     ]
    },
    {
     "name": "stdout",
     "output_type": "stream",
     "text": [
      "2024-07-01 22:58:19,593 INFO sqlalchemy.engine.Engine [insertmanyvalues 8/49 (unordered)] (0, datetime.datetime(2017, 12, 23, 0, 1, 5), 1463, 817, 823, 890, 709, 1358, 0, 0, 0, datetime.datetime(2017, 12, 23, 0, 1, 36), 1464, 817, 823, 890, 709, 1358, 0, 0, 0, datetime.datetime(2017, 12, 23, 0, 2, 6), 1465, 817, 823, 892, 709, 1358, 0, 0, 0, datetime.datetime(2017, 12, 23, 0, 2, 37), 1466, 817, 823, 890, 709, 1358, 0, 0, 0, datetime.datetime(2017, 12, 23, 0, 3, 7), 1467, 819, 827, 895, 709, 1358, 0, 0 ... 1990 parameters truncated ... 0, datetime.datetime(2017, 12, 23, 1, 46, 46), 1667, 822, 831, 898, 713, 1419, 0, 0, 0, datetime.datetime(2017, 12, 23, 1, 47, 17), 1668, 822, 831, 898, 715, 1419, 0, 0, 0, datetime.datetime(2017, 12, 23, 1, 47, 48), 1669, 822, 831, 899, 713, 1419, 0, 0, 0, datetime.datetime(2017, 12, 23, 1, 48, 18), 1670, 817, 831, 898, 719, 1419, 0, 0, 0, datetime.datetime(2017, 12, 23, 1, 48, 49), 1671, 823, 831, 898, 715, 1419, 0, 0)\n"
     ]
    },
    {
     "name": "stderr",
     "output_type": "stream",
     "text": [
      "[07-01 22:58:19] p17208 {C:\\Projects\\Private\\PropStar\\venv\\lib\\site-packages\\sqlalchemy\\engine\\base.py:2082} INFO - [insertmanyvalues 8/49 (unordered)] (0, datetime.datetime(2017, 12, 23, 0, 1, 5), 1463, 817, 823, 890, 709, 1358, 0, 0, 0, datetime.datetime(2017, 12, 23, 0, 1, 36), 1464, 817, 823, 890, 709, 1358, 0, 0, 0, datetime.datetime(2017, 12, 23, 0, 2, 6), 1465, 817, 823, 892, 709, 1358, 0, 0, 0, datetime.datetime(2017, 12, 23, 0, 2, 37), 1466, 817, 823, 890, 709, 1358, 0, 0, 0, datetime.datetime(2017, 12, 23, 0, 3, 7), 1467, 819, 827, 895, 709, 1358, 0, 0 ... 1990 parameters truncated ... 0, datetime.datetime(2017, 12, 23, 1, 46, 46), 1667, 822, 831, 898, 713, 1419, 0, 0, 0, datetime.datetime(2017, 12, 23, 1, 47, 17), 1668, 822, 831, 898, 715, 1419, 0, 0, 0, datetime.datetime(2017, 12, 23, 1, 47, 48), 1669, 822, 831, 899, 713, 1419, 0, 0, 0, datetime.datetime(2017, 12, 23, 1, 48, 18), 1670, 817, 831, 898, 719, 1419, 0, 0, 0, datetime.datetime(2017, 12, 23, 1, 48, 49), 1671, 823, 831, 898, 715, 1419, 0, 0)\n"
     ]
    },
    {
     "name": "stdout",
     "output_type": "stream",
     "text": [
      "2024-07-01 22:58:19,601 INFO sqlalchemy.engine.Engine INSERT INTO room_occupancy_multiclass.original_table ([Room_Occupancy_Count], [Timestamp], id, sensor1_id, sensor2_id, sensor3_id, sensor4_id, sensor5_id, sensor6_id, sensor7_id) VALUES (?, ?, ?, ?, ?, ?, ?, ?, ?, ?), (?, ?, ?, ?, ?, ?, ?, ?, ?, ?),  ... 6522 characters truncated ... , ?), (?, ?, ?, ?, ?, ?, ?, ?, ?, ?), (?, ?, ?, ?, ?, ?, ?, ?, ?, ?), (?, ?, ?, ?, ?, ?, ?, ?, ?, ?)\n"
     ]
    },
    {
     "name": "stderr",
     "output_type": "stream",
     "text": [
      "[07-01 22:58:19] p17208 {C:\\Projects\\Private\\PropStar\\venv\\lib\\site-packages\\sqlalchemy\\engine\\base.py:2064} INFO - INSERT INTO room_occupancy_multiclass.original_table ([Room_Occupancy_Count], [Timestamp], id, sensor1_id, sensor2_id, sensor3_id, sensor4_id, sensor5_id, sensor6_id, sensor7_id) VALUES (?, ?, ?, ?, ?, ?, ?, ?, ?, ?), (?, ?, ?, ?, ?, ?, ?, ?, ?, ?),  ... 6522 characters truncated ... , ?), (?, ?, ?, ?, ?, ?, ?, ?, ?, ?), (?, ?, ?, ?, ?, ?, ?, ?, ?, ?), (?, ?, ?, ?, ?, ?, ?, ?, ?, ?)\n"
     ]
    },
    {
     "name": "stdout",
     "output_type": "stream",
     "text": [
      "2024-07-01 22:58:19,602 INFO sqlalchemy.engine.Engine [insertmanyvalues 9/49 (unordered)] (0, datetime.datetime(2017, 12, 23, 1, 49, 20), 1672, 820, 831, 899, 713, 1419, 0, 0, 0, datetime.datetime(2017, 12, 23, 1, 49, 50), 1673, 822, 831, 898, 715, 1419, 0, 0, 0, datetime.datetime(2017, 12, 23, 1, 50, 21), 1674, 822, 833, 898, 715, 1419, 0, 0, 0, datetime.datetime(2017, 12, 23, 1, 50, 51), 1675, 822, 833, 900, 713, 1419, 0, 0, 0, datetime.datetime(2017, 12, 23, 1, 51, 22), 1676, 821, 833, 900, 713, 1419, 0, 0 ... 1990 parameters truncated ... 0, datetime.datetime(2017, 12, 23, 3, 35, 1), 1876, 829, 835, 905, 723, 1485, 0, 0, 0, datetime.datetime(2017, 12, 23, 3, 35, 32), 1877, 828, 835, 908, 722, 1486, 0, 0, 0, datetime.datetime(2017, 12, 23, 3, 36, 2), 1878, 828, 838, 908, 722, 1487, 0, 0, 0, datetime.datetime(2017, 12, 23, 3, 36, 33), 1879, 826, 838, 910, 722, 1488, 0, 0, 0, datetime.datetime(2017, 12, 23, 3, 37, 4), 1880, 829, 835, 909, 723, 1465, 0, 0)\n"
     ]
    },
    {
     "name": "stderr",
     "output_type": "stream",
     "text": [
      "[07-01 22:58:19] p17208 {C:\\Projects\\Private\\PropStar\\venv\\lib\\site-packages\\sqlalchemy\\engine\\base.py:2082} INFO - [insertmanyvalues 9/49 (unordered)] (0, datetime.datetime(2017, 12, 23, 1, 49, 20), 1672, 820, 831, 899, 713, 1419, 0, 0, 0, datetime.datetime(2017, 12, 23, 1, 49, 50), 1673, 822, 831, 898, 715, 1419, 0, 0, 0, datetime.datetime(2017, 12, 23, 1, 50, 21), 1674, 822, 833, 898, 715, 1419, 0, 0, 0, datetime.datetime(2017, 12, 23, 1, 50, 51), 1675, 822, 833, 900, 713, 1419, 0, 0, 0, datetime.datetime(2017, 12, 23, 1, 51, 22), 1676, 821, 833, 900, 713, 1419, 0, 0 ... 1990 parameters truncated ... 0, datetime.datetime(2017, 12, 23, 3, 35, 1), 1876, 829, 835, 905, 723, 1485, 0, 0, 0, datetime.datetime(2017, 12, 23, 3, 35, 32), 1877, 828, 835, 908, 722, 1486, 0, 0, 0, datetime.datetime(2017, 12, 23, 3, 36, 2), 1878, 828, 838, 908, 722, 1487, 0, 0, 0, datetime.datetime(2017, 12, 23, 3, 36, 33), 1879, 826, 838, 910, 722, 1488, 0, 0, 0, datetime.datetime(2017, 12, 23, 3, 37, 4), 1880, 829, 835, 909, 723, 1465, 0, 0)\n"
     ]
    },
    {
     "name": "stdout",
     "output_type": "stream",
     "text": [
      "2024-07-01 22:58:19,610 INFO sqlalchemy.engine.Engine INSERT INTO room_occupancy_multiclass.original_table ([Room_Occupancy_Count], [Timestamp], id, sensor1_id, sensor2_id, sensor3_id, sensor4_id, sensor5_id, sensor6_id, sensor7_id) VALUES (?, ?, ?, ?, ?, ?, ?, ?, ?, ?), (?, ?, ?, ?, ?, ?, ?, ?, ?, ?),  ... 6522 characters truncated ... , ?), (?, ?, ?, ?, ?, ?, ?, ?, ?, ?), (?, ?, ?, ?, ?, ?, ?, ?, ?, ?), (?, ?, ?, ?, ?, ?, ?, ?, ?, ?)\n"
     ]
    },
    {
     "name": "stderr",
     "output_type": "stream",
     "text": [
      "[07-01 22:58:19] p17208 {C:\\Projects\\Private\\PropStar\\venv\\lib\\site-packages\\sqlalchemy\\engine\\base.py:2064} INFO - INSERT INTO room_occupancy_multiclass.original_table ([Room_Occupancy_Count], [Timestamp], id, sensor1_id, sensor2_id, sensor3_id, sensor4_id, sensor5_id, sensor6_id, sensor7_id) VALUES (?, ?, ?, ?, ?, ?, ?, ?, ?, ?), (?, ?, ?, ?, ?, ?, ?, ?, ?, ?),  ... 6522 characters truncated ... , ?), (?, ?, ?, ?, ?, ?, ?, ?, ?, ?), (?, ?, ?, ?, ?, ?, ?, ?, ?, ?), (?, ?, ?, ?, ?, ?, ?, ?, ?, ?)\n"
     ]
    },
    {
     "name": "stdout",
     "output_type": "stream",
     "text": [
      "2024-07-01 22:58:19,611 INFO sqlalchemy.engine.Engine [insertmanyvalues 10/49 (unordered)] (0, datetime.datetime(2017, 12, 23, 3, 37, 34), 1881, 827, 839, 905, 722, 1461, 0, 0, 0, datetime.datetime(2017, 12, 23, 3, 38, 5), 1882, 826, 838, 909, 722, 1467, 0, 0, 0, datetime.datetime(2017, 12, 23, 3, 38, 35), 1883, 826, 835, 908, 725, 1489, 0, 0, 0, datetime.datetime(2017, 12, 23, 3, 39, 6), 1884, 826, 838, 908, 725, 1490, 0, 0, 0, datetime.datetime(2017, 12, 23, 3, 39, 37), 1885, 826, 838, 908, 726, 1460, 0, 0 ... 1990 parameters truncated ... 0, datetime.datetime(2017, 12, 23, 5, 22, 45), 2085, 833, 842, 916, 729, 1515, 0, 0, 0, datetime.datetime(2017, 12, 23, 5, 23, 16), 2086, 835, 838, 915, 726, 1515, 0, 0, 0, datetime.datetime(2017, 12, 23, 5, 23, 46), 2087, 833, 842, 916, 728, 1515, 0, 0, 0, datetime.datetime(2017, 12, 23, 5, 24, 17), 2088, 833, 843, 911, 725, 1515, 0, 0, 0, datetime.datetime(2017, 12, 23, 5, 24, 47), 2089, 835, 842, 915, 727, 1515, 0, 0)\n"
     ]
    },
    {
     "name": "stderr",
     "output_type": "stream",
     "text": [
      "[07-01 22:58:19] p17208 {C:\\Projects\\Private\\PropStar\\venv\\lib\\site-packages\\sqlalchemy\\engine\\base.py:2082} INFO - [insertmanyvalues 10/49 (unordered)] (0, datetime.datetime(2017, 12, 23, 3, 37, 34), 1881, 827, 839, 905, 722, 1461, 0, 0, 0, datetime.datetime(2017, 12, 23, 3, 38, 5), 1882, 826, 838, 909, 722, 1467, 0, 0, 0, datetime.datetime(2017, 12, 23, 3, 38, 35), 1883, 826, 835, 908, 725, 1489, 0, 0, 0, datetime.datetime(2017, 12, 23, 3, 39, 6), 1884, 826, 838, 908, 725, 1490, 0, 0, 0, datetime.datetime(2017, 12, 23, 3, 39, 37), 1885, 826, 838, 908, 726, 1460, 0, 0 ... 1990 parameters truncated ... 0, datetime.datetime(2017, 12, 23, 5, 22, 45), 2085, 833, 842, 916, 729, 1515, 0, 0, 0, datetime.datetime(2017, 12, 23, 5, 23, 16), 2086, 835, 838, 915, 726, 1515, 0, 0, 0, datetime.datetime(2017, 12, 23, 5, 23, 46), 2087, 833, 842, 916, 728, 1515, 0, 0, 0, datetime.datetime(2017, 12, 23, 5, 24, 17), 2088, 833, 843, 911, 725, 1515, 0, 0, 0, datetime.datetime(2017, 12, 23, 5, 24, 47), 2089, 835, 842, 915, 727, 1515, 0, 0)\n"
     ]
    },
    {
     "name": "stdout",
     "output_type": "stream",
     "text": [
      "2024-07-01 22:58:19,618 INFO sqlalchemy.engine.Engine INSERT INTO room_occupancy_multiclass.original_table ([Room_Occupancy_Count], [Timestamp], id, sensor1_id, sensor2_id, sensor3_id, sensor4_id, sensor5_id, sensor6_id, sensor7_id) VALUES (?, ?, ?, ?, ?, ?, ?, ?, ?, ?), (?, ?, ?, ?, ?, ?, ?, ?, ?, ?),  ... 6522 characters truncated ... , ?), (?, ?, ?, ?, ?, ?, ?, ?, ?, ?), (?, ?, ?, ?, ?, ?, ?, ?, ?, ?), (?, ?, ?, ?, ?, ?, ?, ?, ?, ?)\n"
     ]
    },
    {
     "name": "stderr",
     "output_type": "stream",
     "text": [
      "[07-01 22:58:19] p17208 {C:\\Projects\\Private\\PropStar\\venv\\lib\\site-packages\\sqlalchemy\\engine\\base.py:2064} INFO - INSERT INTO room_occupancy_multiclass.original_table ([Room_Occupancy_Count], [Timestamp], id, sensor1_id, sensor2_id, sensor3_id, sensor4_id, sensor5_id, sensor6_id, sensor7_id) VALUES (?, ?, ?, ?, ?, ?, ?, ?, ?, ?), (?, ?, ?, ?, ?, ?, ?, ?, ?, ?),  ... 6522 characters truncated ... , ?), (?, ?, ?, ?, ?, ?, ?, ?, ?, ?), (?, ?, ?, ?, ?, ?, ?, ?, ?, ?), (?, ?, ?, ?, ?, ?, ?, ?, ?, ?)\n"
     ]
    },
    {
     "name": "stdout",
     "output_type": "stream",
     "text": [
      "2024-07-01 22:58:19,619 INFO sqlalchemy.engine.Engine [insertmanyvalues 11/49 (unordered)] (0, datetime.datetime(2017, 12, 23, 5, 25, 18), 2090, 835, 842, 917, 727, 1515, 0, 0, 0, datetime.datetime(2017, 12, 23, 5, 25, 49), 2091, 833, 842, 915, 727, 1515, 0, 0, 0, datetime.datetime(2017, 12, 23, 5, 26, 19), 2092, 833, 842, 915, 729, 1515, 0, 0, 0, datetime.datetime(2017, 12, 23, 5, 26, 50), 2093, 833, 838, 916, 726, 1515, 0, 0, 0, datetime.datetime(2017, 12, 23, 5, 27, 21), 2094, 833, 838, 916, 727, 1515, 0, 0 ... 1990 parameters truncated ... 0, datetime.datetime(2017, 12, 23, 7, 11), 2294, 837, 847, 936, 759, 1533, 0, 0, 0, datetime.datetime(2017, 12, 23, 7, 11, 30), 2295, 837, 849, 939, 760, 1533, 0, 0, 0, datetime.datetime(2017, 12, 23, 7, 12, 1), 2296, 837, 847, 940, 759, 1533, 0, 0, 0, datetime.datetime(2017, 12, 23, 7, 12, 31), 2297, 842, 847, 940, 761, 1533, 0, 0, 0, datetime.datetime(2017, 12, 23, 7, 13, 2), 2298, 843, 847, 940, 759, 1533, 0, 0)\n"
     ]
    },
    {
     "name": "stderr",
     "output_type": "stream",
     "text": [
      "[07-01 22:58:19] p17208 {C:\\Projects\\Private\\PropStar\\venv\\lib\\site-packages\\sqlalchemy\\engine\\base.py:2082} INFO - [insertmanyvalues 11/49 (unordered)] (0, datetime.datetime(2017, 12, 23, 5, 25, 18), 2090, 835, 842, 917, 727, 1515, 0, 0, 0, datetime.datetime(2017, 12, 23, 5, 25, 49), 2091, 833, 842, 915, 727, 1515, 0, 0, 0, datetime.datetime(2017, 12, 23, 5, 26, 19), 2092, 833, 842, 915, 729, 1515, 0, 0, 0, datetime.datetime(2017, 12, 23, 5, 26, 50), 2093, 833, 838, 916, 726, 1515, 0, 0, 0, datetime.datetime(2017, 12, 23, 5, 27, 21), 2094, 833, 838, 916, 727, 1515, 0, 0 ... 1990 parameters truncated ... 0, datetime.datetime(2017, 12, 23, 7, 11), 2294, 837, 847, 936, 759, 1533, 0, 0, 0, datetime.datetime(2017, 12, 23, 7, 11, 30), 2295, 837, 849, 939, 760, 1533, 0, 0, 0, datetime.datetime(2017, 12, 23, 7, 12, 1), 2296, 837, 847, 940, 759, 1533, 0, 0, 0, datetime.datetime(2017, 12, 23, 7, 12, 31), 2297, 842, 847, 940, 761, 1533, 0, 0, 0, datetime.datetime(2017, 12, 23, 7, 13, 2), 2298, 843, 847, 940, 759, 1533, 0, 0)\n"
     ]
    },
    {
     "name": "stdout",
     "output_type": "stream",
     "text": [
      "2024-07-01 22:58:19,626 INFO sqlalchemy.engine.Engine INSERT INTO room_occupancy_multiclass.original_table ([Room_Occupancy_Count], [Timestamp], id, sensor1_id, sensor2_id, sensor3_id, sensor4_id, sensor5_id, sensor6_id, sensor7_id) VALUES (?, ?, ?, ?, ?, ?, ?, ?, ?, ?), (?, ?, ?, ?, ?, ?, ?, ?, ?, ?),  ... 6522 characters truncated ... , ?), (?, ?, ?, ?, ?, ?, ?, ?, ?, ?), (?, ?, ?, ?, ?, ?, ?, ?, ?, ?), (?, ?, ?, ?, ?, ?, ?, ?, ?, ?)\n"
     ]
    },
    {
     "name": "stderr",
     "output_type": "stream",
     "text": [
      "[07-01 22:58:19] p17208 {C:\\Projects\\Private\\PropStar\\venv\\lib\\site-packages\\sqlalchemy\\engine\\base.py:2064} INFO - INSERT INTO room_occupancy_multiclass.original_table ([Room_Occupancy_Count], [Timestamp], id, sensor1_id, sensor2_id, sensor3_id, sensor4_id, sensor5_id, sensor6_id, sensor7_id) VALUES (?, ?, ?, ?, ?, ?, ?, ?, ?, ?), (?, ?, ?, ?, ?, ?, ?, ?, ?, ?),  ... 6522 characters truncated ... , ?), (?, ?, ?, ?, ?, ?, ?, ?, ?, ?), (?, ?, ?, ?, ?, ?, ?, ?, ?, ?), (?, ?, ?, ?, ?, ?, ?, ?, ?, ?)\n"
     ]
    },
    {
     "name": "stdout",
     "output_type": "stream",
     "text": [
      "2024-07-01 22:58:19,628 INFO sqlalchemy.engine.Engine [insertmanyvalues 12/49 (unordered)] (0, datetime.datetime(2017, 12, 23, 7, 13, 33), 2299, 837, 847, 941, 759, 1533, 0, 0, 0, datetime.datetime(2017, 12, 23, 7, 14, 3), 2300, 843, 847, 940, 762, 1533, 0, 0, 0, datetime.datetime(2017, 12, 23, 7, 14, 34), 2301, 837, 847, 942, 762, 1533, 0, 0, 0, datetime.datetime(2017, 12, 23, 7, 15, 5), 2302, 843, 850, 943, 763, 1533, 0, 0, 0, datetime.datetime(2017, 12, 23, 7, 15, 35), 2303, 843, 851, 944, 762, 1533, 0, 0 ... 1990 parameters truncated ... 0, datetime.datetime(2017, 12, 23, 8, 59, 45), 2503, 861, 869, 1017, 824, 1515, 0, 0, 0, datetime.datetime(2017, 12, 23, 9, 0, 15), 2504, 863, 871, 1019, 832, 1515, 0, 0, 0, datetime.datetime(2017, 12, 23, 9, 0, 46), 2505, 861, 869, 1021, 824, 1515, 0, 0, 0, datetime.datetime(2017, 12, 23, 9, 1, 17), 2506, 860, 869, 1017, 830, 1515, 0, 0, 0, datetime.datetime(2017, 12, 23, 9, 1, 47), 2507, 861, 869, 1019, 826, 1515, 0, 0)\n"
     ]
    },
    {
     "name": "stderr",
     "output_type": "stream",
     "text": [
      "[07-01 22:58:19] p17208 {C:\\Projects\\Private\\PropStar\\venv\\lib\\site-packages\\sqlalchemy\\engine\\base.py:2082} INFO - [insertmanyvalues 12/49 (unordered)] (0, datetime.datetime(2017, 12, 23, 7, 13, 33), 2299, 837, 847, 941, 759, 1533, 0, 0, 0, datetime.datetime(2017, 12, 23, 7, 14, 3), 2300, 843, 847, 940, 762, 1533, 0, 0, 0, datetime.datetime(2017, 12, 23, 7, 14, 34), 2301, 837, 847, 942, 762, 1533, 0, 0, 0, datetime.datetime(2017, 12, 23, 7, 15, 5), 2302, 843, 850, 943, 763, 1533, 0, 0, 0, datetime.datetime(2017, 12, 23, 7, 15, 35), 2303, 843, 851, 944, 762, 1533, 0, 0 ... 1990 parameters truncated ... 0, datetime.datetime(2017, 12, 23, 8, 59, 45), 2503, 861, 869, 1017, 824, 1515, 0, 0, 0, datetime.datetime(2017, 12, 23, 9, 0, 15), 2504, 863, 871, 1019, 832, 1515, 0, 0, 0, datetime.datetime(2017, 12, 23, 9, 0, 46), 2505, 861, 869, 1021, 824, 1515, 0, 0, 0, datetime.datetime(2017, 12, 23, 9, 1, 17), 2506, 860, 869, 1017, 830, 1515, 0, 0, 0, datetime.datetime(2017, 12, 23, 9, 1, 47), 2507, 861, 869, 1019, 826, 1515, 0, 0)\n"
     ]
    },
    {
     "name": "stdout",
     "output_type": "stream",
     "text": [
      "2024-07-01 22:58:19,637 INFO sqlalchemy.engine.Engine INSERT INTO room_occupancy_multiclass.original_table ([Room_Occupancy_Count], [Timestamp], id, sensor1_id, sensor2_id, sensor3_id, sensor4_id, sensor5_id, sensor6_id, sensor7_id) VALUES (?, ?, ?, ?, ?, ?, ?, ?, ?, ?), (?, ?, ?, ?, ?, ?, ?, ?, ?, ?),  ... 6522 characters truncated ... , ?), (?, ?, ?, ?, ?, ?, ?, ?, ?, ?), (?, ?, ?, ?, ?, ?, ?, ?, ?, ?), (?, ?, ?, ?, ?, ?, ?, ?, ?, ?)\n"
     ]
    },
    {
     "name": "stderr",
     "output_type": "stream",
     "text": [
      "[07-01 22:58:19] p17208 {C:\\Projects\\Private\\PropStar\\venv\\lib\\site-packages\\sqlalchemy\\engine\\base.py:2064} INFO - INSERT INTO room_occupancy_multiclass.original_table ([Room_Occupancy_Count], [Timestamp], id, sensor1_id, sensor2_id, sensor3_id, sensor4_id, sensor5_id, sensor6_id, sensor7_id) VALUES (?, ?, ?, ?, ?, ?, ?, ?, ?, ?), (?, ?, ?, ?, ?, ?, ?, ?, ?, ?),  ... 6522 characters truncated ... , ?), (?, ?, ?, ?, ?, ?, ?, ?, ?, ?), (?, ?, ?, ?, ?, ?, ?, ?, ?, ?), (?, ?, ?, ?, ?, ?, ?, ?, ?, ?)\n"
     ]
    },
    {
     "name": "stdout",
     "output_type": "stream",
     "text": [
      "2024-07-01 22:58:19,639 INFO sqlalchemy.engine.Engine [insertmanyvalues 13/49 (unordered)] (0, datetime.datetime(2017, 12, 23, 9, 2, 18), 2508, 860, 871, 1024, 824, 1515, 0, 0, 0, datetime.datetime(2017, 12, 23, 9, 2, 49), 2509, 863, 869, 1019, 825, 1515, 0, 0, 0, datetime.datetime(2017, 12, 23, 9, 3, 19), 2510, 863, 869, 1019, 825, 1515, 0, 0, 0, datetime.datetime(2017, 12, 23, 9, 3, 50), 2511, 860, 869, 1019, 824, 1515, 0, 0, 0, datetime.datetime(2017, 12, 23, 9, 4, 21), 2512, 861, 869, 1019, 824, 1515, 0, 0 ... 1990 parameters truncated ... 0, datetime.datetime(2017, 12, 23, 10, 46, 58), 2712, 896, 897, 1104, 918, 1603, 0, 0, 0, datetime.datetime(2017, 12, 23, 10, 47, 29), 2713, 887, 897, 1092, 907, 1616, 0, 0, 0, datetime.datetime(2017, 12, 23, 10, 47, 59), 2714, 896, 898, 1105, 907, 1528, 0, 0, 0, datetime.datetime(2017, 12, 23, 10, 48, 30), 2715, 898, 906, 1109, 922, 1586, 0, 0, 0, datetime.datetime(2017, 12, 23, 10, 49, 1), 2716, 889, 901, 1106, 911, 1581, 0, 0)\n"
     ]
    },
    {
     "name": "stderr",
     "output_type": "stream",
     "text": [
      "[07-01 22:58:19] p17208 {C:\\Projects\\Private\\PropStar\\venv\\lib\\site-packages\\sqlalchemy\\engine\\base.py:2082} INFO - [insertmanyvalues 13/49 (unordered)] (0, datetime.datetime(2017, 12, 23, 9, 2, 18), 2508, 860, 871, 1024, 824, 1515, 0, 0, 0, datetime.datetime(2017, 12, 23, 9, 2, 49), 2509, 863, 869, 1019, 825, 1515, 0, 0, 0, datetime.datetime(2017, 12, 23, 9, 3, 19), 2510, 863, 869, 1019, 825, 1515, 0, 0, 0, datetime.datetime(2017, 12, 23, 9, 3, 50), 2511, 860, 869, 1019, 824, 1515, 0, 0, 0, datetime.datetime(2017, 12, 23, 9, 4, 21), 2512, 861, 869, 1019, 824, 1515, 0, 0 ... 1990 parameters truncated ... 0, datetime.datetime(2017, 12, 23, 10, 46, 58), 2712, 896, 897, 1104, 918, 1603, 0, 0, 0, datetime.datetime(2017, 12, 23, 10, 47, 29), 2713, 887, 897, 1092, 907, 1616, 0, 0, 0, datetime.datetime(2017, 12, 23, 10, 47, 59), 2714, 896, 898, 1105, 907, 1528, 0, 0, 0, datetime.datetime(2017, 12, 23, 10, 48, 30), 2715, 898, 906, 1109, 922, 1586, 0, 0, 0, datetime.datetime(2017, 12, 23, 10, 49, 1), 2716, 889, 901, 1106, 911, 1581, 0, 0)\n"
     ]
    },
    {
     "name": "stdout",
     "output_type": "stream",
     "text": [
      "2024-07-01 22:58:19,648 INFO sqlalchemy.engine.Engine INSERT INTO room_occupancy_multiclass.original_table ([Room_Occupancy_Count], [Timestamp], id, sensor1_id, sensor2_id, sensor3_id, sensor4_id, sensor5_id, sensor6_id, sensor7_id) VALUES (?, ?, ?, ?, ?, ?, ?, ?, ?, ?), (?, ?, ?, ?, ?, ?, ?, ?, ?, ?),  ... 6522 characters truncated ... , ?), (?, ?, ?, ?, ?, ?, ?, ?, ?, ?), (?, ?, ?, ?, ?, ?, ?, ?, ?, ?), (?, ?, ?, ?, ?, ?, ?, ?, ?, ?)\n"
     ]
    },
    {
     "name": "stderr",
     "output_type": "stream",
     "text": [
      "[07-01 22:58:19] p17208 {C:\\Projects\\Private\\PropStar\\venv\\lib\\site-packages\\sqlalchemy\\engine\\base.py:2064} INFO - INSERT INTO room_occupancy_multiclass.original_table ([Room_Occupancy_Count], [Timestamp], id, sensor1_id, sensor2_id, sensor3_id, sensor4_id, sensor5_id, sensor6_id, sensor7_id) VALUES (?, ?, ?, ?, ?, ?, ?, ?, ?, ?), (?, ?, ?, ?, ?, ?, ?, ?, ?, ?),  ... 6522 characters truncated ... , ?), (?, ?, ?, ?, ?, ?, ?, ?, ?, ?), (?, ?, ?, ?, ?, ?, ?, ?, ?, ?), (?, ?, ?, ?, ?, ?, ?, ?, ?, ?)\n"
     ]
    },
    {
     "name": "stdout",
     "output_type": "stream",
     "text": [
      "2024-07-01 22:58:19,650 INFO sqlalchemy.engine.Engine [insertmanyvalues 14/49 (unordered)] (0, datetime.datetime(2017, 12, 23, 10, 50, 2), 2717, 891, 901, 1098, 923, 1527, 0, 0, 0, datetime.datetime(2017, 12, 23, 10, 50, 33), 2718, 899, 907, 1098, 924, 1531, 0, 0, 0, datetime.datetime(2017, 12, 23, 10, 51, 3), 2719, 891, 901, 1098, 925, 1589, 0, 0, 0, datetime.datetime(2017, 12, 23, 10, 51, 34), 2720, 897, 901, 1103, 918, 1638, 0, 0, 0, datetime.datetime(2017, 12, 23, 10, 52, 4), 2721, 887, 902, 1108, 911, 1637, 0, 0 ... 1990 parameters truncated ... 1, datetime.datetime(2017, 12, 23, 12, 34, 42), 2921, 1004, 1004, 1246, 1045, 1685, 0, 0, 1, datetime.datetime(2017, 12, 23, 12, 35, 13), 2922, 1005, 1005, 1247, 1046, 1684, 0, 0, 1, datetime.datetime(2017, 12, 23, 12, 35, 43), 2923, 1006, 1006, 1248, 1047, 1683, 0, 0, 1, datetime.datetime(2017, 12, 23, 12, 36, 14), 2924, 1007, 1007, 1249, 1048, 1690, 0, 0, 1, datetime.datetime(2017, 12, 23, 12, 36, 45), 2925, 1008, 1008, 1250, 1049, 1691, 0, 0)\n"
     ]
    },
    {
     "name": "stderr",
     "output_type": "stream",
     "text": [
      "[07-01 22:58:19] p17208 {C:\\Projects\\Private\\PropStar\\venv\\lib\\site-packages\\sqlalchemy\\engine\\base.py:2082} INFO - [insertmanyvalues 14/49 (unordered)] (0, datetime.datetime(2017, 12, 23, 10, 50, 2), 2717, 891, 901, 1098, 923, 1527, 0, 0, 0, datetime.datetime(2017, 12, 23, 10, 50, 33), 2718, 899, 907, 1098, 924, 1531, 0, 0, 0, datetime.datetime(2017, 12, 23, 10, 51, 3), 2719, 891, 901, 1098, 925, 1589, 0, 0, 0, datetime.datetime(2017, 12, 23, 10, 51, 34), 2720, 897, 901, 1103, 918, 1638, 0, 0, 0, datetime.datetime(2017, 12, 23, 10, 52, 4), 2721, 887, 902, 1108, 911, 1637, 0, 0 ... 1990 parameters truncated ... 1, datetime.datetime(2017, 12, 23, 12, 34, 42), 2921, 1004, 1004, 1246, 1045, 1685, 0, 0, 1, datetime.datetime(2017, 12, 23, 12, 35, 13), 2922, 1005, 1005, 1247, 1046, 1684, 0, 0, 1, datetime.datetime(2017, 12, 23, 12, 35, 43), 2923, 1006, 1006, 1248, 1047, 1683, 0, 0, 1, datetime.datetime(2017, 12, 23, 12, 36, 14), 2924, 1007, 1007, 1249, 1048, 1690, 0, 0, 1, datetime.datetime(2017, 12, 23, 12, 36, 45), 2925, 1008, 1008, 1250, 1049, 1691, 0, 0)\n"
     ]
    },
    {
     "name": "stdout",
     "output_type": "stream",
     "text": [
      "2024-07-01 22:58:19,660 INFO sqlalchemy.engine.Engine INSERT INTO room_occupancy_multiclass.original_table ([Room_Occupancy_Count], [Timestamp], id, sensor1_id, sensor2_id, sensor3_id, sensor4_id, sensor5_id, sensor6_id, sensor7_id) VALUES (?, ?, ?, ?, ?, ?, ?, ?, ?, ?), (?, ?, ?, ?, ?, ?, ?, ?, ?, ?),  ... 6522 characters truncated ... , ?), (?, ?, ?, ?, ?, ?, ?, ?, ?, ?), (?, ?, ?, ?, ?, ?, ?, ?, ?, ?), (?, ?, ?, ?, ?, ?, ?, ?, ?, ?)\n"
     ]
    },
    {
     "name": "stderr",
     "output_type": "stream",
     "text": [
      "[07-01 22:58:19] p17208 {C:\\Projects\\Private\\PropStar\\venv\\lib\\site-packages\\sqlalchemy\\engine\\base.py:2064} INFO - INSERT INTO room_occupancy_multiclass.original_table ([Room_Occupancy_Count], [Timestamp], id, sensor1_id, sensor2_id, sensor3_id, sensor4_id, sensor5_id, sensor6_id, sensor7_id) VALUES (?, ?, ?, ?, ?, ?, ?, ?, ?, ?), (?, ?, ?, ?, ?, ?, ?, ?, ?, ?),  ... 6522 characters truncated ... , ?), (?, ?, ?, ?, ?, ?, ?, ?, ?, ?), (?, ?, ?, ?, ?, ?, ?, ?, ?, ?), (?, ?, ?, ?, ?, ?, ?, ?, ?, ?)\n"
     ]
    },
    {
     "name": "stdout",
     "output_type": "stream",
     "text": [
      "2024-07-01 22:58:19,662 INFO sqlalchemy.engine.Engine [insertmanyvalues 15/49 (unordered)] (1, datetime.datetime(2017, 12, 23, 12, 37, 15), 2926, 1009, 1007, 1251, 1047, 1692, 0, 0, 1, datetime.datetime(2017, 12, 23, 12, 37, 46), 2927, 1010, 1007, 1249, 1050, 1691, 1, 0, 1, datetime.datetime(2017, 12, 23, 12, 38, 17), 2928, 1011, 1007, 1252, 1048, 1690, 0, 0, 1, datetime.datetime(2017, 12, 23, 12, 38, 47), 2929, 1012, 1009, 1253, 1029, 1693, 1, 0, 1, datetime.datetime(2017, 12, 23, 12, 39, 18), 2930, 1013, 1010, 1254, 1051, 1694, 1, 0 ... 1990 parameters truncated ... 0, datetime.datetime(2017, 12, 23, 14, 23, 27), 3130, 359, 1192, 1437, 342, 1880, 0, 0, 0, datetime.datetime(2017, 12, 23, 14, 23, 58), 3131, 359, 1192, 1438, 345, 1881, 0, 0, 0, datetime.datetime(2017, 12, 23, 14, 24, 29), 3132, 361, 1193, 1439, 342, 1882, 0, 0, 0, datetime.datetime(2017, 12, 23, 14, 24, 59), 3133, 361, 1194, 1440, 336, 1883, 0, 0, 0, datetime.datetime(2017, 12, 23, 14, 25, 30), 3134, 1183, 1195, 1441, 340, 1884, 0, 0)\n"
     ]
    },
    {
     "name": "stderr",
     "output_type": "stream",
     "text": [
      "[07-01 22:58:19] p17208 {C:\\Projects\\Private\\PropStar\\venv\\lib\\site-packages\\sqlalchemy\\engine\\base.py:2082} INFO - [insertmanyvalues 15/49 (unordered)] (1, datetime.datetime(2017, 12, 23, 12, 37, 15), 2926, 1009, 1007, 1251, 1047, 1692, 0, 0, 1, datetime.datetime(2017, 12, 23, 12, 37, 46), 2927, 1010, 1007, 1249, 1050, 1691, 1, 0, 1, datetime.datetime(2017, 12, 23, 12, 38, 17), 2928, 1011, 1007, 1252, 1048, 1690, 0, 0, 1, datetime.datetime(2017, 12, 23, 12, 38, 47), 2929, 1012, 1009, 1253, 1029, 1693, 1, 0, 1, datetime.datetime(2017, 12, 23, 12, 39, 18), 2930, 1013, 1010, 1254, 1051, 1694, 1, 0 ... 1990 parameters truncated ... 0, datetime.datetime(2017, 12, 23, 14, 23, 27), 3130, 359, 1192, 1437, 342, 1880, 0, 0, 0, datetime.datetime(2017, 12, 23, 14, 23, 58), 3131, 359, 1192, 1438, 345, 1881, 0, 0, 0, datetime.datetime(2017, 12, 23, 14, 24, 29), 3132, 361, 1193, 1439, 342, 1882, 0, 0, 0, datetime.datetime(2017, 12, 23, 14, 24, 59), 3133, 361, 1194, 1440, 336, 1883, 0, 0, 0, datetime.datetime(2017, 12, 23, 14, 25, 30), 3134, 1183, 1195, 1441, 340, 1884, 0, 0)\n"
     ]
    },
    {
     "name": "stdout",
     "output_type": "stream",
     "text": [
      "2024-07-01 22:58:19,670 INFO sqlalchemy.engine.Engine INSERT INTO room_occupancy_multiclass.original_table ([Room_Occupancy_Count], [Timestamp], id, sensor1_id, sensor2_id, sensor3_id, sensor4_id, sensor5_id, sensor6_id, sensor7_id) VALUES (?, ?, ?, ?, ?, ?, ?, ?, ?, ?), (?, ?, ?, ?, ?, ?, ?, ?, ?, ?),  ... 6522 characters truncated ... , ?), (?, ?, ?, ?, ?, ?, ?, ?, ?, ?), (?, ?, ?, ?, ?, ?, ?, ?, ?, ?), (?, ?, ?, ?, ?, ?, ?, ?, ?, ?)\n"
     ]
    },
    {
     "name": "stderr",
     "output_type": "stream",
     "text": [
      "[07-01 22:58:19] p17208 {C:\\Projects\\Private\\PropStar\\venv\\lib\\site-packages\\sqlalchemy\\engine\\base.py:2064} INFO - INSERT INTO room_occupancy_multiclass.original_table ([Room_Occupancy_Count], [Timestamp], id, sensor1_id, sensor2_id, sensor3_id, sensor4_id, sensor5_id, sensor6_id, sensor7_id) VALUES (?, ?, ?, ?, ?, ?, ?, ?, ?, ?), (?, ?, ?, ?, ?, ?, ?, ?, ?, ?),  ... 6522 characters truncated ... , ?), (?, ?, ?, ?, ?, ?, ?, ?, ?, ?), (?, ?, ?, ?, ?, ?, ?, ?, ?, ?), (?, ?, ?, ?, ?, ?, ?, ?, ?, ?)\n"
     ]
    },
    {
     "name": "stdout",
     "output_type": "stream",
     "text": [
      "2024-07-01 22:58:19,672 INFO sqlalchemy.engine.Engine [insertmanyvalues 16/49 (unordered)] (0, datetime.datetime(2017, 12, 23, 14, 26, 1), 3135, 361, 1192, 1442, 349, 1885, 0, 0, 0, datetime.datetime(2017, 12, 23, 14, 26, 31), 3136, 359, 1196, 1443, 342, 1886, 0, 0, 0, datetime.datetime(2017, 12, 23, 14, 27, 2), 3137, 360, 1197, 1444, 330, 1887, 0, 0, 0, datetime.datetime(2017, 12, 23, 14, 27, 32), 3138, 359, 1198, 1440, 1217, 1888, 0, 0, 0, datetime.datetime(2017, 12, 23, 14, 28, 3), 3139, 359, 1192, 1442, 336, 1889, 0, 0 ... 1990 parameters truncated ... 1, datetime.datetime(2017, 12, 23, 16, 11, 42), 3339, 1286, 1295, 1566, 1305, 2087, 1, 0, 1, datetime.datetime(2017, 12, 23, 16, 12, 13), 3340, 1287, 1296, 1570, 426, 2088, 1, 0, 1, datetime.datetime(2017, 12, 23, 16, 12, 43), 3341, 1288, 1297, 1570, 1306, 2089, 0, 0, 1, datetime.datetime(2017, 12, 23, 16, 13, 14), 3342, 1289, 1298, 1571, 1307, 2090, 0, 0, 1, datetime.datetime(2017, 12, 23, 16, 13, 45), 3343, 427, 1291, 1572, 1308, 2091, 0, 0)\n"
     ]
    },
    {
     "name": "stderr",
     "output_type": "stream",
     "text": [
      "[07-01 22:58:19] p17208 {C:\\Projects\\Private\\PropStar\\venv\\lib\\site-packages\\sqlalchemy\\engine\\base.py:2082} INFO - [insertmanyvalues 16/49 (unordered)] (0, datetime.datetime(2017, 12, 23, 14, 26, 1), 3135, 361, 1192, 1442, 349, 1885, 0, 0, 0, datetime.datetime(2017, 12, 23, 14, 26, 31), 3136, 359, 1196, 1443, 342, 1886, 0, 0, 0, datetime.datetime(2017, 12, 23, 14, 27, 2), 3137, 360, 1197, 1444, 330, 1887, 0, 0, 0, datetime.datetime(2017, 12, 23, 14, 27, 32), 3138, 359, 1198, 1440, 1217, 1888, 0, 0, 0, datetime.datetime(2017, 12, 23, 14, 28, 3), 3139, 359, 1192, 1442, 336, 1889, 0, 0 ... 1990 parameters truncated ... 1, datetime.datetime(2017, 12, 23, 16, 11, 42), 3339, 1286, 1295, 1566, 1305, 2087, 1, 0, 1, datetime.datetime(2017, 12, 23, 16, 12, 13), 3340, 1287, 1296, 1570, 426, 2088, 1, 0, 1, datetime.datetime(2017, 12, 23, 16, 12, 43), 3341, 1288, 1297, 1570, 1306, 2089, 0, 0, 1, datetime.datetime(2017, 12, 23, 16, 13, 14), 3342, 1289, 1298, 1571, 1307, 2090, 0, 0, 1, datetime.datetime(2017, 12, 23, 16, 13, 45), 3343, 427, 1291, 1572, 1308, 2091, 0, 0)\n"
     ]
    },
    {
     "name": "stdout",
     "output_type": "stream",
     "text": [
      "2024-07-01 22:58:19,679 INFO sqlalchemy.engine.Engine INSERT INTO room_occupancy_multiclass.original_table ([Room_Occupancy_Count], [Timestamp], id, sensor1_id, sensor2_id, sensor3_id, sensor4_id, sensor5_id, sensor6_id, sensor7_id) VALUES (?, ?, ?, ?, ?, ?, ?, ?, ?, ?), (?, ?, ?, ?, ?, ?, ?, ?, ?, ?),  ... 6522 characters truncated ... , ?), (?, ?, ?, ?, ?, ?, ?, ?, ?, ?), (?, ?, ?, ?, ?, ?, ?, ?, ?, ?), (?, ?, ?, ?, ?, ?, ?, ?, ?, ?)\n"
     ]
    },
    {
     "name": "stderr",
     "output_type": "stream",
     "text": [
      "[07-01 22:58:19] p17208 {C:\\Projects\\Private\\PropStar\\venv\\lib\\site-packages\\sqlalchemy\\engine\\base.py:2064} INFO - INSERT INTO room_occupancy_multiclass.original_table ([Room_Occupancy_Count], [Timestamp], id, sensor1_id, sensor2_id, sensor3_id, sensor4_id, sensor5_id, sensor6_id, sensor7_id) VALUES (?, ?, ?, ?, ?, ?, ?, ?, ?, ?), (?, ?, ?, ?, ?, ?, ?, ?, ?, ?),  ... 6522 characters truncated ... , ?), (?, ?, ?, ?, ?, ?, ?, ?, ?, ?), (?, ?, ?, ?, ?, ?, ?, ?, ?, ?), (?, ?, ?, ?, ?, ?, ?, ?, ?, ?)\n"
     ]
    },
    {
     "name": "stdout",
     "output_type": "stream",
     "text": [
      "2024-07-01 22:58:19,681 INFO sqlalchemy.engine.Engine [insertmanyvalues 17/49 (unordered)] (1, datetime.datetime(2017, 12, 23, 16, 14, 15), 3344, 1290, 1293, 1573, 430, 2092, 0, 0, 1, datetime.datetime(2017, 12, 23, 16, 14, 46), 3345, 1291, 1293, 1574, 456, 2093, 0, 0, 1, datetime.datetime(2017, 12, 23, 16, 15, 16), 3346, 1292, 1299, 1575, 1309, 2094, 0, 0, 1, datetime.datetime(2017, 12, 23, 16, 15, 47), 3347, 1293, 1291, 1576, 1310, 2095, 0, 0, 1, datetime.datetime(2017, 12, 23, 16, 16, 18), 3348, 1294, 1300, 1577, 1311, 2096, 1, 0 ... 1990 parameters truncated ... 3, datetime.datetime(2017, 12, 23, 18, 1, 29), 3548, 671, 1467, 1761, 1446, 2292, 0, 1, 3, datetime.datetime(2017, 12, 23, 18, 1, 59), 3549, 1463, 1468, 1762, 1411, 2293, 1, 0, 3, datetime.datetime(2017, 12, 23, 18, 2, 30), 3550, 1464, 1469, 1763, 1403, 2294, 0, 0, 3, datetime.datetime(2017, 12, 23, 18, 3), 3551, 1465, 1470, 1764, 525, 2295, 0, 0, 3, datetime.datetime(2017, 12, 23, 18, 3, 31), 3552, 1466, 1471, 1765, 524, 2296, 1, 0)\n"
     ]
    },
    {
     "name": "stderr",
     "output_type": "stream",
     "text": [
      "[07-01 22:58:19] p17208 {C:\\Projects\\Private\\PropStar\\venv\\lib\\site-packages\\sqlalchemy\\engine\\base.py:2082} INFO - [insertmanyvalues 17/49 (unordered)] (1, datetime.datetime(2017, 12, 23, 16, 14, 15), 3344, 1290, 1293, 1573, 430, 2092, 0, 0, 1, datetime.datetime(2017, 12, 23, 16, 14, 46), 3345, 1291, 1293, 1574, 456, 2093, 0, 0, 1, datetime.datetime(2017, 12, 23, 16, 15, 16), 3346, 1292, 1299, 1575, 1309, 2094, 0, 0, 1, datetime.datetime(2017, 12, 23, 16, 15, 47), 3347, 1293, 1291, 1576, 1310, 2095, 0, 0, 1, datetime.datetime(2017, 12, 23, 16, 16, 18), 3348, 1294, 1300, 1577, 1311, 2096, 1, 0 ... 1990 parameters truncated ... 3, datetime.datetime(2017, 12, 23, 18, 1, 29), 3548, 671, 1467, 1761, 1446, 2292, 0, 1, 3, datetime.datetime(2017, 12, 23, 18, 1, 59), 3549, 1463, 1468, 1762, 1411, 2293, 1, 0, 3, datetime.datetime(2017, 12, 23, 18, 2, 30), 3550, 1464, 1469, 1763, 1403, 2294, 0, 0, 3, datetime.datetime(2017, 12, 23, 18, 3), 3551, 1465, 1470, 1764, 525, 2295, 0, 0, 3, datetime.datetime(2017, 12, 23, 18, 3, 31), 3552, 1466, 1471, 1765, 524, 2296, 1, 0)\n"
     ]
    },
    {
     "name": "stdout",
     "output_type": "stream",
     "text": [
      "2024-07-01 22:58:19,688 INFO sqlalchemy.engine.Engine INSERT INTO room_occupancy_multiclass.original_table ([Room_Occupancy_Count], [Timestamp], id, sensor1_id, sensor2_id, sensor3_id, sensor4_id, sensor5_id, sensor6_id, sensor7_id) VALUES (?, ?, ?, ?, ?, ?, ?, ?, ?, ?), (?, ?, ?, ?, ?, ?, ?, ?, ?, ?),  ... 6522 characters truncated ... , ?), (?, ?, ?, ?, ?, ?, ?, ?, ?, ?), (?, ?, ?, ?, ?, ?, ?, ?, ?, ?), (?, ?, ?, ?, ?, ?, ?, ?, ?, ?)\n"
     ]
    },
    {
     "name": "stderr",
     "output_type": "stream",
     "text": [
      "[07-01 22:58:19] p17208 {C:\\Projects\\Private\\PropStar\\venv\\lib\\site-packages\\sqlalchemy\\engine\\base.py:2064} INFO - INSERT INTO room_occupancy_multiclass.original_table ([Room_Occupancy_Count], [Timestamp], id, sensor1_id, sensor2_id, sensor3_id, sensor4_id, sensor5_id, sensor6_id, sensor7_id) VALUES (?, ?, ?, ?, ?, ?, ?, ?, ?, ?), (?, ?, ?, ?, ?, ?, ?, ?, ?, ?),  ... 6522 characters truncated ... , ?), (?, ?, ?, ?, ?, ?, ?, ?, ?, ?), (?, ?, ?, ?, ?, ?, ?, ?, ?, ?), (?, ?, ?, ?, ?, ?, ?, ?, ?, ?)\n"
     ]
    },
    {
     "name": "stdout",
     "output_type": "stream",
     "text": [
      "2024-07-01 22:58:19,689 INFO sqlalchemy.engine.Engine [insertmanyvalues 18/49 (unordered)] (3, datetime.datetime(2017, 12, 23, 18, 4, 2), 3553, 1467, 1468, 1766, 525, 2297, 1, 0, 3, datetime.datetime(2017, 12, 23, 18, 4, 32), 3554, 1468, 1472, 1767, 525, 2298, 0, 1, 3, datetime.datetime(2017, 12, 23, 18, 5, 3), 3555, 1469, 1464, 1768, 1403, 2299, 0, 0, 3, datetime.datetime(2017, 12, 23, 18, 5, 34), 3556, 1470, 1473, 1769, 1442, 2300, 0, 0, 3, datetime.datetime(2017, 12, 23, 18, 6, 4), 3557, 1471, 1474, 1770, 578, 2301, 0, 1 ... 1990 parameters truncated ... 2, datetime.datetime(2017, 12, 23, 19, 49, 43), 3757, 1592, 1624, 1926, 1509, 2496, 1, 1, 2, datetime.datetime(2017, 12, 23, 19, 50, 14), 3758, 1593, 1625, 1927, 1514, 2497, 1, 1, 2, datetime.datetime(2017, 12, 23, 19, 50, 44), 3759, 1594, 1625, 1928, 1514, 2498, 1, 1, 2, datetime.datetime(2017, 12, 23, 19, 51, 15), 3760, 1595, 1626, 1929, 1515, 2499, 1, 1, 2, datetime.datetime(2017, 12, 23, 19, 51, 46), 3761, 1596, 1627, 1930, 1516, 2500, 1, 1)\n"
     ]
    },
    {
     "name": "stderr",
     "output_type": "stream",
     "text": [
      "[07-01 22:58:19] p17208 {C:\\Projects\\Private\\PropStar\\venv\\lib\\site-packages\\sqlalchemy\\engine\\base.py:2082} INFO - [insertmanyvalues 18/49 (unordered)] (3, datetime.datetime(2017, 12, 23, 18, 4, 2), 3553, 1467, 1468, 1766, 525, 2297, 1, 0, 3, datetime.datetime(2017, 12, 23, 18, 4, 32), 3554, 1468, 1472, 1767, 525, 2298, 0, 1, 3, datetime.datetime(2017, 12, 23, 18, 5, 3), 3555, 1469, 1464, 1768, 1403, 2299, 0, 0, 3, datetime.datetime(2017, 12, 23, 18, 5, 34), 3556, 1470, 1473, 1769, 1442, 2300, 0, 0, 3, datetime.datetime(2017, 12, 23, 18, 6, 4), 3557, 1471, 1474, 1770, 578, 2301, 0, 1 ... 1990 parameters truncated ... 2, datetime.datetime(2017, 12, 23, 19, 49, 43), 3757, 1592, 1624, 1926, 1509, 2496, 1, 1, 2, datetime.datetime(2017, 12, 23, 19, 50, 14), 3758, 1593, 1625, 1927, 1514, 2497, 1, 1, 2, datetime.datetime(2017, 12, 23, 19, 50, 44), 3759, 1594, 1625, 1928, 1514, 2498, 1, 1, 2, datetime.datetime(2017, 12, 23, 19, 51, 15), 3760, 1595, 1626, 1929, 1515, 2499, 1, 1, 2, datetime.datetime(2017, 12, 23, 19, 51, 46), 3761, 1596, 1627, 1930, 1516, 2500, 1, 1)\n"
     ]
    },
    {
     "name": "stdout",
     "output_type": "stream",
     "text": [
      "2024-07-01 22:58:19,697 INFO sqlalchemy.engine.Engine INSERT INTO room_occupancy_multiclass.original_table ([Room_Occupancy_Count], [Timestamp], id, sensor1_id, sensor2_id, sensor3_id, sensor4_id, sensor5_id, sensor6_id, sensor7_id) VALUES (?, ?, ?, ?, ?, ?, ?, ?, ?, ?), (?, ?, ?, ?, ?, ?, ?, ?, ?, ?),  ... 6522 characters truncated ... , ?), (?, ?, ?, ?, ?, ?, ?, ?, ?, ?), (?, ?, ?, ?, ?, ?, ?, ?, ?, ?), (?, ?, ?, ?, ?, ?, ?, ?, ?, ?)\n"
     ]
    },
    {
     "name": "stderr",
     "output_type": "stream",
     "text": [
      "[07-01 22:58:19] p17208 {C:\\Projects\\Private\\PropStar\\venv\\lib\\site-packages\\sqlalchemy\\engine\\base.py:2064} INFO - INSERT INTO room_occupancy_multiclass.original_table ([Room_Occupancy_Count], [Timestamp], id, sensor1_id, sensor2_id, sensor3_id, sensor4_id, sensor5_id, sensor6_id, sensor7_id) VALUES (?, ?, ?, ?, ?, ?, ?, ?, ?, ?), (?, ?, ?, ?, ?, ?, ?, ?, ?, ?),  ... 6522 characters truncated ... , ?), (?, ?, ?, ?, ?, ?, ?, ?, ?, ?), (?, ?, ?, ?, ?, ?, ?, ?, ?, ?), (?, ?, ?, ?, ?, ?, ?, ?, ?, ?)\n"
     ]
    },
    {
     "name": "stdout",
     "output_type": "stream",
     "text": [
      "2024-07-01 22:58:19,699 INFO sqlalchemy.engine.Engine [insertmanyvalues 19/49 (unordered)] (0, datetime.datetime(2017, 12, 23, 19, 52, 16), 3762, 1597, 1627, 1931, 1516, 2501, 1, 1, 0, datetime.datetime(2017, 12, 23, 19, 52, 47), 3763, 1598, 1628, 1932, 1517, 2502, 0, 1, 0, datetime.datetime(2017, 12, 23, 19, 53, 18), 3764, 780, 790, 842, 683, 2503, 0, 0, 0, datetime.datetime(2017, 12, 23, 19, 53, 48), 3765, 780, 790, 845, 683, 2504, 0, 0, 0, datetime.datetime(2017, 12, 23, 19, 54, 19), 3766, 1599, 790, 845, 683, 2469, 0, 0 ... 1990 parameters truncated ... 0, datetime.datetime(2017, 12, 23, 21, 37, 58), 3966, 801, 812, 873, 709, 2700, 0, 0, 0, datetime.datetime(2017, 12, 23, 21, 38, 28), 3967, 801, 815, 873, 713, 2701, 0, 0, 0, datetime.datetime(2017, 12, 23, 21, 38, 59), 3968, 804, 812, 878, 706, 2702, 0, 0, 0, datetime.datetime(2017, 12, 23, 21, 39, 30), 3969, 804, 812, 878, 709, 2703, 0, 0, 0, datetime.datetime(2017, 12, 23, 21, 40), 3970, 801, 812, 878, 704, 2704, 0, 0)\n"
     ]
    },
    {
     "name": "stderr",
     "output_type": "stream",
     "text": [
      "[07-01 22:58:19] p17208 {C:\\Projects\\Private\\PropStar\\venv\\lib\\site-packages\\sqlalchemy\\engine\\base.py:2082} INFO - [insertmanyvalues 19/49 (unordered)] (0, datetime.datetime(2017, 12, 23, 19, 52, 16), 3762, 1597, 1627, 1931, 1516, 2501, 1, 1, 0, datetime.datetime(2017, 12, 23, 19, 52, 47), 3763, 1598, 1628, 1932, 1517, 2502, 0, 1, 0, datetime.datetime(2017, 12, 23, 19, 53, 18), 3764, 780, 790, 842, 683, 2503, 0, 0, 0, datetime.datetime(2017, 12, 23, 19, 53, 48), 3765, 780, 790, 845, 683, 2504, 0, 0, 0, datetime.datetime(2017, 12, 23, 19, 54, 19), 3766, 1599, 790, 845, 683, 2469, 0, 0 ... 1990 parameters truncated ... 0, datetime.datetime(2017, 12, 23, 21, 37, 58), 3966, 801, 812, 873, 709, 2700, 0, 0, 0, datetime.datetime(2017, 12, 23, 21, 38, 28), 3967, 801, 815, 873, 713, 2701, 0, 0, 0, datetime.datetime(2017, 12, 23, 21, 38, 59), 3968, 804, 812, 878, 706, 2702, 0, 0, 0, datetime.datetime(2017, 12, 23, 21, 39, 30), 3969, 804, 812, 878, 709, 2703, 0, 0, 0, datetime.datetime(2017, 12, 23, 21, 40), 3970, 801, 812, 878, 704, 2704, 0, 0)\n"
     ]
    },
    {
     "name": "stdout",
     "output_type": "stream",
     "text": [
      "2024-07-01 22:58:19,706 INFO sqlalchemy.engine.Engine INSERT INTO room_occupancy_multiclass.original_table ([Room_Occupancy_Count], [Timestamp], id, sensor1_id, sensor2_id, sensor3_id, sensor4_id, sensor5_id, sensor6_id, sensor7_id) VALUES (?, ?, ?, ?, ?, ?, ?, ?, ?, ?), (?, ?, ?, ?, ?, ?, ?, ?, ?, ?),  ... 6522 characters truncated ... , ?), (?, ?, ?, ?, ?, ?, ?, ?, ?, ?), (?, ?, ?, ?, ?, ?, ?, ?, ?, ?), (?, ?, ?, ?, ?, ?, ?, ?, ?, ?)\n"
     ]
    },
    {
     "name": "stderr",
     "output_type": "stream",
     "text": [
      "[07-01 22:58:19] p17208 {C:\\Projects\\Private\\PropStar\\venv\\lib\\site-packages\\sqlalchemy\\engine\\base.py:2064} INFO - INSERT INTO room_occupancy_multiclass.original_table ([Room_Occupancy_Count], [Timestamp], id, sensor1_id, sensor2_id, sensor3_id, sensor4_id, sensor5_id, sensor6_id, sensor7_id) VALUES (?, ?, ?, ?, ?, ?, ?, ?, ?, ?), (?, ?, ?, ?, ?, ?, ?, ?, ?, ?),  ... 6522 characters truncated ... , ?), (?, ?, ?, ?, ?, ?, ?, ?, ?, ?), (?, ?, ?, ?, ?, ?, ?, ?, ?, ?), (?, ?, ?, ?, ?, ?, ?, ?, ?, ?)\n"
     ]
    },
    {
     "name": "stdout",
     "output_type": "stream",
     "text": [
      "2024-07-01 22:58:19,708 INFO sqlalchemy.engine.Engine [insertmanyvalues 20/49 (unordered)] (0, datetime.datetime(2017, 12, 23, 21, 40, 31), 3971, 804, 812, 873, 709, 2705, 0, 0, 0, datetime.datetime(2017, 12, 23, 21, 41, 2), 3972, 806, 812, 874, 709, 2706, 0, 0, 0, datetime.datetime(2017, 12, 23, 21, 41, 32), 3973, 801, 812, 874, 709, 2707, 0, 0, 0, datetime.datetime(2017, 12, 23, 21, 42, 3), 3974, 802, 1632, 1938, 708, 2708, 0, 0, 0, datetime.datetime(2017, 12, 23, 21, 42, 34), 3975, 801, 814, 877, 709, 2709, 0, 0 ... 1990 parameters truncated ... 0, datetime.datetime(2017, 12, 23, 23, 25, 42), 4175, 815, 823, 890, 721, 1365, 0, 0, 0, datetime.datetime(2017, 12, 23, 23, 26, 12), 4176, 814, 823, 887, 722, 1366, 0, 0, 0, datetime.datetime(2017, 12, 23, 23, 26, 43), 4177, 815, 823, 890, 722, 1367, 0, 0, 0, datetime.datetime(2017, 12, 23, 23, 27, 14), 4178, 815, 825, 887, 723, 1368, 0, 0, 0, datetime.datetime(2017, 12, 23, 23, 27, 44), 4179, 815, 823, 891, 724, 1369, 0, 0)\n"
     ]
    },
    {
     "name": "stderr",
     "output_type": "stream",
     "text": [
      "[07-01 22:58:19] p17208 {C:\\Projects\\Private\\PropStar\\venv\\lib\\site-packages\\sqlalchemy\\engine\\base.py:2082} INFO - [insertmanyvalues 20/49 (unordered)] (0, datetime.datetime(2017, 12, 23, 21, 40, 31), 3971, 804, 812, 873, 709, 2705, 0, 0, 0, datetime.datetime(2017, 12, 23, 21, 41, 2), 3972, 806, 812, 874, 709, 2706, 0, 0, 0, datetime.datetime(2017, 12, 23, 21, 41, 32), 3973, 801, 812, 874, 709, 2707, 0, 0, 0, datetime.datetime(2017, 12, 23, 21, 42, 3), 3974, 802, 1632, 1938, 708, 2708, 0, 0, 0, datetime.datetime(2017, 12, 23, 21, 42, 34), 3975, 801, 814, 877, 709, 2709, 0, 0 ... 1990 parameters truncated ... 0, datetime.datetime(2017, 12, 23, 23, 25, 42), 4175, 815, 823, 890, 721, 1365, 0, 0, 0, datetime.datetime(2017, 12, 23, 23, 26, 12), 4176, 814, 823, 887, 722, 1366, 0, 0, 0, datetime.datetime(2017, 12, 23, 23, 26, 43), 4177, 815, 823, 890, 722, 1367, 0, 0, 0, datetime.datetime(2017, 12, 23, 23, 27, 14), 4178, 815, 825, 887, 723, 1368, 0, 0, 0, datetime.datetime(2017, 12, 23, 23, 27, 44), 4179, 815, 823, 891, 724, 1369, 0, 0)\n"
     ]
    },
    {
     "name": "stdout",
     "output_type": "stream",
     "text": [
      "2024-07-01 22:58:19,714 INFO sqlalchemy.engine.Engine INSERT INTO room_occupancy_multiclass.original_table ([Room_Occupancy_Count], [Timestamp], id, sensor1_id, sensor2_id, sensor3_id, sensor4_id, sensor5_id, sensor6_id, sensor7_id) VALUES (?, ?, ?, ?, ?, ?, ?, ?, ?, ?), (?, ?, ?, ?, ?, ?, ?, ?, ?, ?),  ... 6522 characters truncated ... , ?), (?, ?, ?, ?, ?, ?, ?, ?, ?, ?), (?, ?, ?, ?, ?, ?, ?, ?, ?, ?), (?, ?, ?, ?, ?, ?, ?, ?, ?, ?)\n"
     ]
    },
    {
     "name": "stderr",
     "output_type": "stream",
     "text": [
      "[07-01 22:58:19] p17208 {C:\\Projects\\Private\\PropStar\\venv\\lib\\site-packages\\sqlalchemy\\engine\\base.py:2064} INFO - INSERT INTO room_occupancy_multiclass.original_table ([Room_Occupancy_Count], [Timestamp], id, sensor1_id, sensor2_id, sensor3_id, sensor4_id, sensor5_id, sensor6_id, sensor7_id) VALUES (?, ?, ?, ?, ?, ?, ?, ?, ?, ?), (?, ?, ?, ?, ?, ?, ?, ?, ?, ?),  ... 6522 characters truncated ... , ?), (?, ?, ?, ?, ?, ?, ?, ?, ?, ?), (?, ?, ?, ?, ?, ?, ?, ?, ?, ?), (?, ?, ?, ?, ?, ?, ?, ?, ?, ?)\n"
     ]
    },
    {
     "name": "stdout",
     "output_type": "stream",
     "text": [
      "2024-07-01 22:58:19,715 INFO sqlalchemy.engine.Engine [insertmanyvalues 21/49 (unordered)] (0, datetime.datetime(2017, 12, 23, 23, 28, 15), 4180, 814, 823, 890, 722, 1370, 0, 0, 0, datetime.datetime(2017, 12, 23, 23, 28, 46), 4181, 814, 823, 890, 724, 1370, 0, 0, 0, datetime.datetime(2017, 12, 23, 23, 29, 16), 4182, 820, 823, 890, 722, 1369, 0, 0, 0, datetime.datetime(2017, 12, 23, 23, 29, 47), 4183, 814, 823, 890, 724, 1368, 0, 0, 0, datetime.datetime(2017, 12, 23, 23, 30, 18), 4184, 815, 823, 890, 724, 1367, 0, 0 ... 1990 parameters truncated ... 0, datetime.datetime(2017, 12, 24, 1, 14, 58), 4384, 820, 823, 896, 715, 1461, 0, 0, 0, datetime.datetime(2017, 12, 24, 1, 15, 28), 4385, 820, 829, 894, 715, 1420, 0, 0, 0, datetime.datetime(2017, 12, 24, 1, 15, 59), 4386, 820, 830, 896, 719, 1463, 0, 0, 0, datetime.datetime(2017, 12, 24, 1, 16, 30), 4387, 817, 823, 896, 716, 1463, 0, 0, 0, datetime.datetime(2017, 12, 24, 1, 17), 4388, 817, 829, 898, 713, 1463, 0, 0)\n"
     ]
    },
    {
     "name": "stderr",
     "output_type": "stream",
     "text": [
      "[07-01 22:58:19] p17208 {C:\\Projects\\Private\\PropStar\\venv\\lib\\site-packages\\sqlalchemy\\engine\\base.py:2082} INFO - [insertmanyvalues 21/49 (unordered)] (0, datetime.datetime(2017, 12, 23, 23, 28, 15), 4180, 814, 823, 890, 722, 1370, 0, 0, 0, datetime.datetime(2017, 12, 23, 23, 28, 46), 4181, 814, 823, 890, 724, 1370, 0, 0, 0, datetime.datetime(2017, 12, 23, 23, 29, 16), 4182, 820, 823, 890, 722, 1369, 0, 0, 0, datetime.datetime(2017, 12, 23, 23, 29, 47), 4183, 814, 823, 890, 724, 1368, 0, 0, 0, datetime.datetime(2017, 12, 23, 23, 30, 18), 4184, 815, 823, 890, 724, 1367, 0, 0 ... 1990 parameters truncated ... 0, datetime.datetime(2017, 12, 24, 1, 14, 58), 4384, 820, 823, 896, 715, 1461, 0, 0, 0, datetime.datetime(2017, 12, 24, 1, 15, 28), 4385, 820, 829, 894, 715, 1420, 0, 0, 0, datetime.datetime(2017, 12, 24, 1, 15, 59), 4386, 820, 830, 896, 719, 1463, 0, 0, 0, datetime.datetime(2017, 12, 24, 1, 16, 30), 4387, 817, 823, 896, 716, 1463, 0, 0, 0, datetime.datetime(2017, 12, 24, 1, 17), 4388, 817, 829, 898, 713, 1463, 0, 0)\n"
     ]
    },
    {
     "name": "stdout",
     "output_type": "stream",
     "text": [
      "2024-07-01 22:58:19,724 INFO sqlalchemy.engine.Engine INSERT INTO room_occupancy_multiclass.original_table ([Room_Occupancy_Count], [Timestamp], id, sensor1_id, sensor2_id, sensor3_id, sensor4_id, sensor5_id, sensor6_id, sensor7_id) VALUES (?, ?, ?, ?, ?, ?, ?, ?, ?, ?), (?, ?, ?, ?, ?, ?, ?, ?, ?, ?),  ... 6522 characters truncated ... , ?), (?, ?, ?, ?, ?, ?, ?, ?, ?, ?), (?, ?, ?, ?, ?, ?, ?, ?, ?, ?), (?, ?, ?, ?, ?, ?, ?, ?, ?, ?)\n"
     ]
    },
    {
     "name": "stderr",
     "output_type": "stream",
     "text": [
      "[07-01 22:58:19] p17208 {C:\\Projects\\Private\\PropStar\\venv\\lib\\site-packages\\sqlalchemy\\engine\\base.py:2064} INFO - INSERT INTO room_occupancy_multiclass.original_table ([Room_Occupancy_Count], [Timestamp], id, sensor1_id, sensor2_id, sensor3_id, sensor4_id, sensor5_id, sensor6_id, sensor7_id) VALUES (?, ?, ?, ?, ?, ?, ?, ?, ?, ?), (?, ?, ?, ?, ?, ?, ?, ?, ?, ?),  ... 6522 characters truncated ... , ?), (?, ?, ?, ?, ?, ?, ?, ?, ?, ?), (?, ?, ?, ?, ?, ?, ?, ?, ?, ?), (?, ?, ?, ?, ?, ?, ?, ?, ?, ?)\n"
     ]
    },
    {
     "name": "stdout",
     "output_type": "stream",
     "text": [
      "2024-07-01 22:58:19,725 INFO sqlalchemy.engine.Engine [insertmanyvalues 22/49 (unordered)] (0, datetime.datetime(2017, 12, 24, 1, 17, 31), 4389, 817, 830, 898, 713, 1463, 0, 0, 0, datetime.datetime(2017, 12, 24, 1, 18, 2), 4390, 820, 823, 899, 715, 1463, 0, 0, 0, datetime.datetime(2017, 12, 24, 1, 18, 32), 4391, 817, 830, 899, 717, 1463, 0, 0, 0, datetime.datetime(2017, 12, 24, 1, 19, 3), 4392, 817, 824, 901, 713, 1463, 0, 0, 0, datetime.datetime(2017, 12, 24, 1, 19, 33), 4393, 820, 823, 898, 715, 1463, 0, 0 ... 1990 parameters truncated ... 0, datetime.datetime(2017, 12, 24, 3, 2, 42), 4593, 822, 833, 900, 715, 1483, 0, 0, 0, datetime.datetime(2017, 12, 24, 3, 3, 12), 4594, 823, 831, 905, 721, 1476, 0, 0, 0, datetime.datetime(2017, 12, 24, 3, 3, 43), 4595, 822, 831, 904, 720, 2884, 0, 0, 0, datetime.datetime(2017, 12, 24, 3, 4, 14), 4596, 823, 833, 904, 718, 1464, 0, 0, 0, datetime.datetime(2017, 12, 24, 3, 4, 44), 4597, 823, 831, 904, 721, 1515, 0, 0)\n"
     ]
    },
    {
     "name": "stderr",
     "output_type": "stream",
     "text": [
      "[07-01 22:58:19] p17208 {C:\\Projects\\Private\\PropStar\\venv\\lib\\site-packages\\sqlalchemy\\engine\\base.py:2082} INFO - [insertmanyvalues 22/49 (unordered)] (0, datetime.datetime(2017, 12, 24, 1, 17, 31), 4389, 817, 830, 898, 713, 1463, 0, 0, 0, datetime.datetime(2017, 12, 24, 1, 18, 2), 4390, 820, 823, 899, 715, 1463, 0, 0, 0, datetime.datetime(2017, 12, 24, 1, 18, 32), 4391, 817, 830, 899, 717, 1463, 0, 0, 0, datetime.datetime(2017, 12, 24, 1, 19, 3), 4392, 817, 824, 901, 713, 1463, 0, 0, 0, datetime.datetime(2017, 12, 24, 1, 19, 33), 4393, 820, 823, 898, 715, 1463, 0, 0 ... 1990 parameters truncated ... 0, datetime.datetime(2017, 12, 24, 3, 2, 42), 4593, 822, 833, 900, 715, 1483, 0, 0, 0, datetime.datetime(2017, 12, 24, 3, 3, 12), 4594, 823, 831, 905, 721, 1476, 0, 0, 0, datetime.datetime(2017, 12, 24, 3, 3, 43), 4595, 822, 831, 904, 720, 2884, 0, 0, 0, datetime.datetime(2017, 12, 24, 3, 4, 14), 4596, 823, 833, 904, 718, 1464, 0, 0, 0, datetime.datetime(2017, 12, 24, 3, 4, 44), 4597, 823, 831, 904, 721, 1515, 0, 0)\n"
     ]
    },
    {
     "name": "stdout",
     "output_type": "stream",
     "text": [
      "2024-07-01 22:58:19,732 INFO sqlalchemy.engine.Engine INSERT INTO room_occupancy_multiclass.original_table ([Room_Occupancy_Count], [Timestamp], id, sensor1_id, sensor2_id, sensor3_id, sensor4_id, sensor5_id, sensor6_id, sensor7_id) VALUES (?, ?, ?, ?, ?, ?, ?, ?, ?, ?), (?, ?, ?, ?, ?, ?, ?, ?, ?, ?),  ... 6522 characters truncated ... , ?), (?, ?, ?, ?, ?, ?, ?, ?, ?, ?), (?, ?, ?, ?, ?, ?, ?, ?, ?, ?), (?, ?, ?, ?, ?, ?, ?, ?, ?, ?)\n"
     ]
    },
    {
     "name": "stderr",
     "output_type": "stream",
     "text": [
      "[07-01 22:58:19] p17208 {C:\\Projects\\Private\\PropStar\\venv\\lib\\site-packages\\sqlalchemy\\engine\\base.py:2064} INFO - INSERT INTO room_occupancy_multiclass.original_table ([Room_Occupancy_Count], [Timestamp], id, sensor1_id, sensor2_id, sensor3_id, sensor4_id, sensor5_id, sensor6_id, sensor7_id) VALUES (?, ?, ?, ?, ?, ?, ?, ?, ?, ?), (?, ?, ?, ?, ?, ?, ?, ?, ?, ?),  ... 6522 characters truncated ... , ?), (?, ?, ?, ?, ?, ?, ?, ?, ?, ?), (?, ?, ?, ?, ?, ?, ?, ?, ?, ?), (?, ?, ?, ?, ?, ?, ?, ?, ?, ?)\n"
     ]
    },
    {
     "name": "stdout",
     "output_type": "stream",
     "text": [
      "2024-07-01 22:58:19,734 INFO sqlalchemy.engine.Engine [insertmanyvalues 23/49 (unordered)] (0, datetime.datetime(2017, 12, 24, 3, 5, 15), 4598, 823, 831, 900, 718, 1515, 0, 0, 0, datetime.datetime(2017, 12, 24, 3, 5, 46), 4599, 823, 831, 904, 720, 1515, 0, 0, 0, datetime.datetime(2017, 12, 24, 3, 6, 16), 4600, 823, 831, 900, 715, 1515, 0, 0, 0, datetime.datetime(2017, 12, 24, 3, 6, 47), 4601, 822, 831, 900, 715, 1515, 0, 0, 0, datetime.datetime(2017, 12, 24, 3, 7, 17), 4602, 822, 831, 906, 715, 1515, 0, 0 ... 1990 parameters truncated ... 0, datetime.datetime(2017, 12, 24, 4, 51, 27), 4802, 829, 835, 908, 1520, 1515, 0, 0, 0, datetime.datetime(2017, 12, 24, 4, 51, 58), 4803, 827, 837, 909, 722, 1515, 0, 0, 0, datetime.datetime(2017, 12, 24, 4, 52, 28), 4804, 827, 835, 909, 722, 1515, 0, 0, 0, datetime.datetime(2017, 12, 24, 4, 52, 59), 4805, 827, 835, 908, 722, 1515, 0, 0, 0, datetime.datetime(2017, 12, 24, 4, 53, 30), 4806, 827, 835, 909, 723, 1515, 0, 0)\n"
     ]
    },
    {
     "name": "stderr",
     "output_type": "stream",
     "text": [
      "[07-01 22:58:19] p17208 {C:\\Projects\\Private\\PropStar\\venv\\lib\\site-packages\\sqlalchemy\\engine\\base.py:2082} INFO - [insertmanyvalues 23/49 (unordered)] (0, datetime.datetime(2017, 12, 24, 3, 5, 15), 4598, 823, 831, 900, 718, 1515, 0, 0, 0, datetime.datetime(2017, 12, 24, 3, 5, 46), 4599, 823, 831, 904, 720, 1515, 0, 0, 0, datetime.datetime(2017, 12, 24, 3, 6, 16), 4600, 823, 831, 900, 715, 1515, 0, 0, 0, datetime.datetime(2017, 12, 24, 3, 6, 47), 4601, 822, 831, 900, 715, 1515, 0, 0, 0, datetime.datetime(2017, 12, 24, 3, 7, 17), 4602, 822, 831, 906, 715, 1515, 0, 0 ... 1990 parameters truncated ... 0, datetime.datetime(2017, 12, 24, 4, 51, 27), 4802, 829, 835, 908, 1520, 1515, 0, 0, 0, datetime.datetime(2017, 12, 24, 4, 51, 58), 4803, 827, 837, 909, 722, 1515, 0, 0, 0, datetime.datetime(2017, 12, 24, 4, 52, 28), 4804, 827, 835, 909, 722, 1515, 0, 0, 0, datetime.datetime(2017, 12, 24, 4, 52, 59), 4805, 827, 835, 908, 722, 1515, 0, 0, 0, datetime.datetime(2017, 12, 24, 4, 53, 30), 4806, 827, 835, 909, 723, 1515, 0, 0)\n"
     ]
    },
    {
     "name": "stdout",
     "output_type": "stream",
     "text": [
      "2024-07-01 22:58:19,741 INFO sqlalchemy.engine.Engine INSERT INTO room_occupancy_multiclass.original_table ([Room_Occupancy_Count], [Timestamp], id, sensor1_id, sensor2_id, sensor3_id, sensor4_id, sensor5_id, sensor6_id, sensor7_id) VALUES (?, ?, ?, ?, ?, ?, ?, ?, ?, ?), (?, ?, ?, ?, ?, ?, ?, ?, ?, ?),  ... 6522 characters truncated ... , ?), (?, ?, ?, ?, ?, ?, ?, ?, ?, ?), (?, ?, ?, ?, ?, ?, ?, ?, ?, ?), (?, ?, ?, ?, ?, ?, ?, ?, ?, ?)\n"
     ]
    },
    {
     "name": "stderr",
     "output_type": "stream",
     "text": [
      "[07-01 22:58:19] p17208 {C:\\Projects\\Private\\PropStar\\venv\\lib\\site-packages\\sqlalchemy\\engine\\base.py:2064} INFO - INSERT INTO room_occupancy_multiclass.original_table ([Room_Occupancy_Count], [Timestamp], id, sensor1_id, sensor2_id, sensor3_id, sensor4_id, sensor5_id, sensor6_id, sensor7_id) VALUES (?, ?, ?, ?, ?, ?, ?, ?, ?, ?), (?, ?, ?, ?, ?, ?, ?, ?, ?, ?),  ... 6522 characters truncated ... , ?), (?, ?, ?, ?, ?, ?, ?, ?, ?, ?), (?, ?, ?, ?, ?, ?, ?, ?, ?, ?), (?, ?, ?, ?, ?, ?, ?, ?, ?, ?)\n"
     ]
    },
    {
     "name": "stdout",
     "output_type": "stream",
     "text": [
      "2024-07-01 22:58:19,742 INFO sqlalchemy.engine.Engine [insertmanyvalues 24/49 (unordered)] (0, datetime.datetime(2017, 12, 24, 4, 54), 4807, 829, 835, 908, 722, 1515, 0, 0, 0, datetime.datetime(2017, 12, 24, 4, 54, 31), 4808, 830, 838, 908, 722, 1515, 0, 0, 0, datetime.datetime(2017, 12, 24, 4, 55, 1), 4809, 827, 835, 913, 722, 1515, 0, 0, 0, datetime.datetime(2017, 12, 24, 4, 55, 32), 4810, 827, 835, 908, 718, 1515, 0, 0, 0, datetime.datetime(2017, 12, 24, 4, 56, 3), 4811, 827, 835, 908, 722, 1515, 0, 0 ... 1990 parameters truncated ... 0, datetime.datetime(2017, 12, 24, 6, 39, 42), 5011, 835, 842, 918, 727, 1529, 0, 0, 0, datetime.datetime(2017, 12, 24, 6, 40, 12), 5012, 835, 843, 918, 730, 1638, 0, 0, 0, datetime.datetime(2017, 12, 24, 6, 40, 43), 5013, 835, 842, 918, 727, 1580, 0, 0, 0, datetime.datetime(2017, 12, 24, 6, 41, 14), 5014, 835, 842, 918, 727, 1560, 0, 0, 0, datetime.datetime(2017, 12, 24, 6, 41, 44), 5015, 835, 842, 915, 729, 1608, 0, 0)\n"
     ]
    },
    {
     "name": "stderr",
     "output_type": "stream",
     "text": [
      "[07-01 22:58:19] p17208 {C:\\Projects\\Private\\PropStar\\venv\\lib\\site-packages\\sqlalchemy\\engine\\base.py:2082} INFO - [insertmanyvalues 24/49 (unordered)] (0, datetime.datetime(2017, 12, 24, 4, 54), 4807, 829, 835, 908, 722, 1515, 0, 0, 0, datetime.datetime(2017, 12, 24, 4, 54, 31), 4808, 830, 838, 908, 722, 1515, 0, 0, 0, datetime.datetime(2017, 12, 24, 4, 55, 1), 4809, 827, 835, 913, 722, 1515, 0, 0, 0, datetime.datetime(2017, 12, 24, 4, 55, 32), 4810, 827, 835, 908, 718, 1515, 0, 0, 0, datetime.datetime(2017, 12, 24, 4, 56, 3), 4811, 827, 835, 908, 722, 1515, 0, 0 ... 1990 parameters truncated ... 0, datetime.datetime(2017, 12, 24, 6, 39, 42), 5011, 835, 842, 918, 727, 1529, 0, 0, 0, datetime.datetime(2017, 12, 24, 6, 40, 12), 5012, 835, 843, 918, 730, 1638, 0, 0, 0, datetime.datetime(2017, 12, 24, 6, 40, 43), 5013, 835, 842, 918, 727, 1580, 0, 0, 0, datetime.datetime(2017, 12, 24, 6, 41, 14), 5014, 835, 842, 918, 727, 1560, 0, 0, 0, datetime.datetime(2017, 12, 24, 6, 41, 44), 5015, 835, 842, 915, 729, 1608, 0, 0)\n"
     ]
    },
    {
     "name": "stdout",
     "output_type": "stream",
     "text": [
      "2024-07-01 22:58:19,749 INFO sqlalchemy.engine.Engine INSERT INTO room_occupancy_multiclass.original_table ([Room_Occupancy_Count], [Timestamp], id, sensor1_id, sensor2_id, sensor3_id, sensor4_id, sensor5_id, sensor6_id, sensor7_id) VALUES (?, ?, ?, ?, ?, ?, ?, ?, ?, ?), (?, ?, ?, ?, ?, ?, ?, ?, ?, ?),  ... 6522 characters truncated ... , ?), (?, ?, ?, ?, ?, ?, ?, ?, ?, ?), (?, ?, ?, ?, ?, ?, ?, ?, ?, ?), (?, ?, ?, ?, ?, ?, ?, ?, ?, ?)\n"
     ]
    },
    {
     "name": "stderr",
     "output_type": "stream",
     "text": [
      "[07-01 22:58:19] p17208 {C:\\Projects\\Private\\PropStar\\venv\\lib\\site-packages\\sqlalchemy\\engine\\base.py:2064} INFO - INSERT INTO room_occupancy_multiclass.original_table ([Room_Occupancy_Count], [Timestamp], id, sensor1_id, sensor2_id, sensor3_id, sensor4_id, sensor5_id, sensor6_id, sensor7_id) VALUES (?, ?, ?, ?, ?, ?, ?, ?, ?, ?), (?, ?, ?, ?, ?, ?, ?, ?, ?, ?),  ... 6522 characters truncated ... , ?), (?, ?, ?, ?, ?, ?, ?, ?, ?, ?), (?, ?, ?, ?, ?, ?, ?, ?, ?, ?), (?, ?, ?, ?, ?, ?, ?, ?, ?, ?)\n"
     ]
    },
    {
     "name": "stdout",
     "output_type": "stream",
     "text": [
      "2024-07-01 22:58:19,751 INFO sqlalchemy.engine.Engine [insertmanyvalues 25/49 (unordered)] (0, datetime.datetime(2017, 12, 24, 6, 42, 15), 5016, 1610, 842, 915, 725, 1558, 0, 0, 0, datetime.datetime(2017, 12, 24, 6, 42, 45), 5017, 835, 842, 916, 727, 2890, 0, 0, 0, datetime.datetime(2017, 12, 24, 6, 43, 16), 5018, 835, 842, 918, 727, 1502, 0, 0, 0, datetime.datetime(2017, 12, 24, 6, 43, 47), 5019, 835, 838, 918, 727, 1482, 0, 0, 0, datetime.datetime(2017, 12, 24, 6, 44, 17), 5020, 1610, 842, 915, 727, 1488, 0, 0 ... 1990 parameters truncated ... 0, datetime.datetime(2017, 12, 24, 8, 27, 56), 5220, 1628, 1657, 1017, 1577, 1515, 0, 0, 0, datetime.datetime(2017, 12, 24, 8, 28, 27), 5221, 1629, 1657, 1017, 1577, 1515, 0, 0, 0, datetime.datetime(2017, 12, 24, 8, 28, 57), 5222, 863, 1658, 1017, 1578, 1515, 0, 0, 0, datetime.datetime(2017, 12, 24, 8, 29, 28), 5223, 1630, 1657, 1017, 1579, 1515, 0, 0, 0, datetime.datetime(2017, 12, 24, 8, 29, 59), 5224, 1630, 1658, 1017, 1580, 1515, 0, 0)\n"
     ]
    },
    {
     "name": "stderr",
     "output_type": "stream",
     "text": [
      "[07-01 22:58:19] p17208 {C:\\Projects\\Private\\PropStar\\venv\\lib\\site-packages\\sqlalchemy\\engine\\base.py:2082} INFO - [insertmanyvalues 25/49 (unordered)] (0, datetime.datetime(2017, 12, 24, 6, 42, 15), 5016, 1610, 842, 915, 725, 1558, 0, 0, 0, datetime.datetime(2017, 12, 24, 6, 42, 45), 5017, 835, 842, 916, 727, 2890, 0, 0, 0, datetime.datetime(2017, 12, 24, 6, 43, 16), 5018, 835, 842, 918, 727, 1502, 0, 0, 0, datetime.datetime(2017, 12, 24, 6, 43, 47), 5019, 835, 838, 918, 727, 1482, 0, 0, 0, datetime.datetime(2017, 12, 24, 6, 44, 17), 5020, 1610, 842, 915, 727, 1488, 0, 0 ... 1990 parameters truncated ... 0, datetime.datetime(2017, 12, 24, 8, 27, 56), 5220, 1628, 1657, 1017, 1577, 1515, 0, 0, 0, datetime.datetime(2017, 12, 24, 8, 28, 27), 5221, 1629, 1657, 1017, 1577, 1515, 0, 0, 0, datetime.datetime(2017, 12, 24, 8, 28, 57), 5222, 863, 1658, 1017, 1578, 1515, 0, 0, 0, datetime.datetime(2017, 12, 24, 8, 29, 28), 5223, 1630, 1657, 1017, 1579, 1515, 0, 0, 0, datetime.datetime(2017, 12, 24, 8, 29, 59), 5224, 1630, 1658, 1017, 1580, 1515, 0, 0)\n"
     ]
    },
    {
     "name": "stdout",
     "output_type": "stream",
     "text": [
      "2024-07-01 22:58:19,759 INFO sqlalchemy.engine.Engine INSERT INTO room_occupancy_multiclass.original_table ([Room_Occupancy_Count], [Timestamp], id, sensor1_id, sensor2_id, sensor3_id, sensor4_id, sensor5_id, sensor6_id, sensor7_id) VALUES (?, ?, ?, ?, ?, ?, ?, ?, ?, ?), (?, ?, ?, ?, ?, ?, ?, ?, ?, ?),  ... 6522 characters truncated ... , ?), (?, ?, ?, ?, ?, ?, ?, ?, ?, ?), (?, ?, ?, ?, ?, ?, ?, ?, ?, ?), (?, ?, ?, ?, ?, ?, ?, ?, ?, ?)\n"
     ]
    },
    {
     "name": "stderr",
     "output_type": "stream",
     "text": [
      "[07-01 22:58:19] p17208 {C:\\Projects\\Private\\PropStar\\venv\\lib\\site-packages\\sqlalchemy\\engine\\base.py:2064} INFO - INSERT INTO room_occupancy_multiclass.original_table ([Room_Occupancy_Count], [Timestamp], id, sensor1_id, sensor2_id, sensor3_id, sensor4_id, sensor5_id, sensor6_id, sensor7_id) VALUES (?, ?, ?, ?, ?, ?, ?, ?, ?, ?), (?, ?, ?, ?, ?, ?, ?, ?, ?, ?),  ... 6522 characters truncated ... , ?), (?, ?, ?, ?, ?, ?, ?, ?, ?, ?), (?, ?, ?, ?, ?, ?, ?, ?, ?, ?), (?, ?, ?, ?, ?, ?, ?, ?, ?, ?)\n"
     ]
    },
    {
     "name": "stdout",
     "output_type": "stream",
     "text": [
      "2024-07-01 22:58:19,760 INFO sqlalchemy.engine.Engine [insertmanyvalues 26/49 (unordered)] (0, datetime.datetime(2017, 12, 24, 8, 30, 29), 5225, 1628, 1657, 1017, 1581, 1515, 0, 0, 0, datetime.datetime(2017, 12, 24, 8, 31), 5226, 863, 1657, 1017, 1581, 1515, 0, 0, 0, datetime.datetime(2017, 12, 24, 8, 31, 31), 5227, 1629, 1657, 1019, 1577, 1515, 0, 0, 0, datetime.datetime(2017, 12, 24, 8, 32, 1), 5228, 1628, 1657, 1019, 1578, 1515, 0, 0, 0, datetime.datetime(2017, 12, 24, 8, 32, 32), 5229, 1629, 1657, 1024, 1582, 1515, 0, 0 ... 1990 parameters truncated ... 0, datetime.datetime(2017, 12, 25, 10, 16, 32), 5429, 888, 1672, 2049, 1655, 1533, 0, 0, 0, datetime.datetime(2017, 12, 25, 10, 17, 3), 5430, 888, 889, 1081, 1656, 1533, 0, 0, 0, datetime.datetime(2017, 12, 25, 10, 17, 33), 5431, 888, 890, 1077, 1657, 1533, 0, 0, 0, datetime.datetime(2017, 12, 25, 10, 18, 4), 5432, 888, 890, 1071, 1658, 1533, 0, 0, 0, datetime.datetime(2017, 12, 25, 10, 18, 35), 5433, 887, 889, 1071, 1646, 1533, 0, 0)\n"
     ]
    },
    {
     "name": "stderr",
     "output_type": "stream",
     "text": [
      "[07-01 22:58:19] p17208 {C:\\Projects\\Private\\PropStar\\venv\\lib\\site-packages\\sqlalchemy\\engine\\base.py:2082} INFO - [insertmanyvalues 26/49 (unordered)] (0, datetime.datetime(2017, 12, 24, 8, 30, 29), 5225, 1628, 1657, 1017, 1581, 1515, 0, 0, 0, datetime.datetime(2017, 12, 24, 8, 31), 5226, 863, 1657, 1017, 1581, 1515, 0, 0, 0, datetime.datetime(2017, 12, 24, 8, 31, 31), 5227, 1629, 1657, 1019, 1577, 1515, 0, 0, 0, datetime.datetime(2017, 12, 24, 8, 32, 1), 5228, 1628, 1657, 1019, 1578, 1515, 0, 0, 0, datetime.datetime(2017, 12, 24, 8, 32, 32), 5229, 1629, 1657, 1024, 1582, 1515, 0, 0 ... 1990 parameters truncated ... 0, datetime.datetime(2017, 12, 25, 10, 16, 32), 5429, 888, 1672, 2049, 1655, 1533, 0, 0, 0, datetime.datetime(2017, 12, 25, 10, 17, 3), 5430, 888, 889, 1081, 1656, 1533, 0, 0, 0, datetime.datetime(2017, 12, 25, 10, 17, 33), 5431, 888, 890, 1077, 1657, 1533, 0, 0, 0, datetime.datetime(2017, 12, 25, 10, 18, 4), 5432, 888, 890, 1071, 1658, 1533, 0, 0, 0, datetime.datetime(2017, 12, 25, 10, 18, 35), 5433, 887, 889, 1071, 1646, 1533, 0, 0)\n"
     ]
    },
    {
     "name": "stdout",
     "output_type": "stream",
     "text": [
      "2024-07-01 22:58:19,767 INFO sqlalchemy.engine.Engine INSERT INTO room_occupancy_multiclass.original_table ([Room_Occupancy_Count], [Timestamp], id, sensor1_id, sensor2_id, sensor3_id, sensor4_id, sensor5_id, sensor6_id, sensor7_id) VALUES (?, ?, ?, ?, ?, ?, ?, ?, ?, ?), (?, ?, ?, ?, ?, ?, ?, ?, ?, ?),  ... 6522 characters truncated ... , ?), (?, ?, ?, ?, ?, ?, ?, ?, ?, ?), (?, ?, ?, ?, ?, ?, ?, ?, ?, ?), (?, ?, ?, ?, ?, ?, ?, ?, ?, ?)\n"
     ]
    },
    {
     "name": "stderr",
     "output_type": "stream",
     "text": [
      "[07-01 22:58:19] p17208 {C:\\Projects\\Private\\PropStar\\venv\\lib\\site-packages\\sqlalchemy\\engine\\base.py:2064} INFO - INSERT INTO room_occupancy_multiclass.original_table ([Room_Occupancy_Count], [Timestamp], id, sensor1_id, sensor2_id, sensor3_id, sensor4_id, sensor5_id, sensor6_id, sensor7_id) VALUES (?, ?, ?, ?, ?, ?, ?, ?, ?, ?), (?, ?, ?, ?, ?, ?, ?, ?, ?, ?),  ... 6522 characters truncated ... , ?), (?, ?, ?, ?, ?, ?, ?, ?, ?, ?), (?, ?, ?, ?, ?, ?, ?, ?, ?, ?), (?, ?, ?, ?, ?, ?, ?, ?, ?, ?)\n"
     ]
    },
    {
     "name": "stdout",
     "output_type": "stream",
     "text": [
      "2024-07-01 22:58:19,768 INFO sqlalchemy.engine.Engine [insertmanyvalues 27/49 (unordered)] (0, datetime.datetime(2017, 12, 25, 10, 19, 5), 5434, 889, 890, 1076, 1659, 1533, 0, 0, 0, datetime.datetime(2017, 12, 25, 10, 19, 36), 5435, 889, 890, 1081, 1658, 1533, 0, 0, 0, datetime.datetime(2017, 12, 25, 10, 20, 7), 5436, 1645, 1673, 1085, 1653, 1533, 0, 0, 0, datetime.datetime(2017, 12, 25, 10, 20, 37), 5437, 1645, 897, 1087, 1653, 1533, 0, 0, 0, datetime.datetime(2017, 12, 25, 10, 21, 8), 5438, 1644, 897, 1087, 1660, 1533, 0, 0 ... 1990 parameters truncated ... 0, datetime.datetime(2017, 12, 25, 12, 4, 47), 5638, 1673, 1702, 107, 1743, 1533, 0, 0, 0, datetime.datetime(2017, 12, 25, 12, 5, 17), 5639, 1674, 1703, 2106, 1744, 1533, 0, 0, 0, datetime.datetime(2017, 12, 25, 12, 5, 48), 5640, 1675, 1704, 2106, 55, 1533, 0, 0, 0, datetime.datetime(2017, 12, 25, 12, 6, 19), 5641, 1676, 1705, 2103, 1745, 1533, 0, 0, 0, datetime.datetime(2017, 12, 25, 12, 6, 49), 5642, 1675, 1706, 102, 1746, 1533, 0, 0)\n"
     ]
    },
    {
     "name": "stderr",
     "output_type": "stream",
     "text": [
      "[07-01 22:58:19] p17208 {C:\\Projects\\Private\\PropStar\\venv\\lib\\site-packages\\sqlalchemy\\engine\\base.py:2082} INFO - [insertmanyvalues 27/49 (unordered)] (0, datetime.datetime(2017, 12, 25, 10, 19, 5), 5434, 889, 890, 1076, 1659, 1533, 0, 0, 0, datetime.datetime(2017, 12, 25, 10, 19, 36), 5435, 889, 890, 1081, 1658, 1533, 0, 0, 0, datetime.datetime(2017, 12, 25, 10, 20, 7), 5436, 1645, 1673, 1085, 1653, 1533, 0, 0, 0, datetime.datetime(2017, 12, 25, 10, 20, 37), 5437, 1645, 897, 1087, 1653, 1533, 0, 0, 0, datetime.datetime(2017, 12, 25, 10, 21, 8), 5438, 1644, 897, 1087, 1660, 1533, 0, 0 ... 1990 parameters truncated ... 0, datetime.datetime(2017, 12, 25, 12, 4, 47), 5638, 1673, 1702, 107, 1743, 1533, 0, 0, 0, datetime.datetime(2017, 12, 25, 12, 5, 17), 5639, 1674, 1703, 2106, 1744, 1533, 0, 0, 0, datetime.datetime(2017, 12, 25, 12, 5, 48), 5640, 1675, 1704, 2106, 55, 1533, 0, 0, 0, datetime.datetime(2017, 12, 25, 12, 6, 19), 5641, 1676, 1705, 2103, 1745, 1533, 0, 0, 0, datetime.datetime(2017, 12, 25, 12, 6, 49), 5642, 1675, 1706, 102, 1746, 1533, 0, 0)\n"
     ]
    },
    {
     "name": "stdout",
     "output_type": "stream",
     "text": [
      "2024-07-01 22:58:19,775 INFO sqlalchemy.engine.Engine INSERT INTO room_occupancy_multiclass.original_table ([Room_Occupancy_Count], [Timestamp], id, sensor1_id, sensor2_id, sensor3_id, sensor4_id, sensor5_id, sensor6_id, sensor7_id) VALUES (?, ?, ?, ?, ?, ?, ?, ?, ?, ?), (?, ?, ?, ?, ?, ?, ?, ?, ?, ?),  ... 6522 characters truncated ... , ?), (?, ?, ?, ?, ?, ?, ?, ?, ?, ?), (?, ?, ?, ?, ?, ?, ?, ?, ?, ?), (?, ?, ?, ?, ?, ?, ?, ?, ?, ?)\n"
     ]
    },
    {
     "name": "stderr",
     "output_type": "stream",
     "text": [
      "[07-01 22:58:19] p17208 {C:\\Projects\\Private\\PropStar\\venv\\lib\\site-packages\\sqlalchemy\\engine\\base.py:2064} INFO - INSERT INTO room_occupancy_multiclass.original_table ([Room_Occupancy_Count], [Timestamp], id, sensor1_id, sensor2_id, sensor3_id, sensor4_id, sensor5_id, sensor6_id, sensor7_id) VALUES (?, ?, ?, ?, ?, ?, ?, ?, ?, ?), (?, ?, ?, ?, ?, ?, ?, ?, ?, ?),  ... 6522 characters truncated ... , ?), (?, ?, ?, ?, ?, ?, ?, ?, ?, ?), (?, ?, ?, ?, ?, ?, ?, ?, ?, ?), (?, ?, ?, ?, ?, ?, ?, ?, ?, ?)\n"
     ]
    },
    {
     "name": "stdout",
     "output_type": "stream",
     "text": [
      "2024-07-01 22:58:19,777 INFO sqlalchemy.engine.Engine [insertmanyvalues 28/49 (unordered)] (0, datetime.datetime(2017, 12, 25, 12, 7, 20), 5643, 1675, 1703, 121, 1746, 1533, 0, 0, 0, datetime.datetime(2017, 12, 25, 12, 7, 51), 5644, 1675, 1706, 2106, 1747, 1533, 0, 0, 0, datetime.datetime(2017, 12, 25, 12, 8, 21), 5645, 1677, 1706, 2107, 55, 1533, 0, 0, 0, datetime.datetime(2017, 12, 25, 12, 8, 52), 5646, 1677, 1706, 2106, 1741, 1533, 0, 0, 0, datetime.datetime(2017, 12, 25, 12, 9, 23), 5647, 1677, 1706, 102, 1748, 1533, 0, 0 ... 1990 parameters truncated ... 0, datetime.datetime(2017, 12, 25, 13, 52, 31), 5847, 1705, 1733, 2181, 1794, 1533, 0, 0, 0, datetime.datetime(2017, 12, 25, 13, 53, 1), 5848, 1707, 1736, 2182, 1795, 1533, 0, 0, 0, datetime.datetime(2017, 12, 25, 13, 53, 32), 5849, 1707, 1733, 2181, 1796, 1533, 0, 0, 0, datetime.datetime(2017, 12, 25, 13, 54, 3), 5850, 1707, 1736, 2183, 1796, 1533, 0, 0, 0, datetime.datetime(2017, 12, 25, 13, 54, 33), 5851, 1708, 1737, 2184, 1797, 1533, 0, 0)\n"
     ]
    },
    {
     "name": "stderr",
     "output_type": "stream",
     "text": [
      "[07-01 22:58:19] p17208 {C:\\Projects\\Private\\PropStar\\venv\\lib\\site-packages\\sqlalchemy\\engine\\base.py:2082} INFO - [insertmanyvalues 28/49 (unordered)] (0, datetime.datetime(2017, 12, 25, 12, 7, 20), 5643, 1675, 1703, 121, 1746, 1533, 0, 0, 0, datetime.datetime(2017, 12, 25, 12, 7, 51), 5644, 1675, 1706, 2106, 1747, 1533, 0, 0, 0, datetime.datetime(2017, 12, 25, 12, 8, 21), 5645, 1677, 1706, 2107, 55, 1533, 0, 0, 0, datetime.datetime(2017, 12, 25, 12, 8, 52), 5646, 1677, 1706, 2106, 1741, 1533, 0, 0, 0, datetime.datetime(2017, 12, 25, 12, 9, 23), 5647, 1677, 1706, 102, 1748, 1533, 0, 0 ... 1990 parameters truncated ... 0, datetime.datetime(2017, 12, 25, 13, 52, 31), 5847, 1705, 1733, 2181, 1794, 1533, 0, 0, 0, datetime.datetime(2017, 12, 25, 13, 53, 1), 5848, 1707, 1736, 2182, 1795, 1533, 0, 0, 0, datetime.datetime(2017, 12, 25, 13, 53, 32), 5849, 1707, 1733, 2181, 1796, 1533, 0, 0, 0, datetime.datetime(2017, 12, 25, 13, 54, 3), 5850, 1707, 1736, 2183, 1796, 1533, 0, 0, 0, datetime.datetime(2017, 12, 25, 13, 54, 33), 5851, 1708, 1737, 2184, 1797, 1533, 0, 0)\n"
     ]
    },
    {
     "name": "stdout",
     "output_type": "stream",
     "text": [
      "2024-07-01 22:58:19,785 INFO sqlalchemy.engine.Engine INSERT INTO room_occupancy_multiclass.original_table ([Room_Occupancy_Count], [Timestamp], id, sensor1_id, sensor2_id, sensor3_id, sensor4_id, sensor5_id, sensor6_id, sensor7_id) VALUES (?, ?, ?, ?, ?, ?, ?, ?, ?, ?), (?, ?, ?, ?, ?, ?, ?, ?, ?, ?),  ... 6522 characters truncated ... , ?), (?, ?, ?, ?, ?, ?, ?, ?, ?, ?), (?, ?, ?, ?, ?, ?, ?, ?, ?, ?), (?, ?, ?, ?, ?, ?, ?, ?, ?, ?)\n"
     ]
    },
    {
     "name": "stderr",
     "output_type": "stream",
     "text": [
      "[07-01 22:58:19] p17208 {C:\\Projects\\Private\\PropStar\\venv\\lib\\site-packages\\sqlalchemy\\engine\\base.py:2064} INFO - INSERT INTO room_occupancy_multiclass.original_table ([Room_Occupancy_Count], [Timestamp], id, sensor1_id, sensor2_id, sensor3_id, sensor4_id, sensor5_id, sensor6_id, sensor7_id) VALUES (?, ?, ?, ?, ?, ?, ?, ?, ?, ?), (?, ?, ?, ?, ?, ?, ?, ?, ?, ?),  ... 6522 characters truncated ... , ?), (?, ?, ?, ?, ?, ?, ?, ?, ?, ?), (?, ?, ?, ?, ?, ?, ?, ?, ?, ?), (?, ?, ?, ?, ?, ?, ?, ?, ?, ?)\n"
     ]
    },
    {
     "name": "stdout",
     "output_type": "stream",
     "text": [
      "2024-07-01 22:58:19,786 INFO sqlalchemy.engine.Engine [insertmanyvalues 29/49 (unordered)] (0, datetime.datetime(2017, 12, 25, 13, 55, 4), 5852, 1709, 1737, 2185, 1798, 1533, 0, 0, 0, datetime.datetime(2017, 12, 25, 13, 55, 35), 5853, 1710, 1738, 2185, 1799, 1533, 0, 0, 0, datetime.datetime(2017, 12, 25, 13, 56, 5), 5854, 1708, 1737, 2185, 1800, 1533, 0, 0, 0, datetime.datetime(2017, 12, 25, 13, 56, 36), 5855, 1711, 1738, 2186, 1800, 1533, 0, 0, 0, datetime.datetime(2017, 12, 25, 13, 57, 7), 5856, 1710, 1739, 2187, 1801, 1533, 0, 0 ... 1990 parameters truncated ... 0, datetime.datetime(2017, 12, 25, 15, 41, 16), 6056, 1753, 1792, 2288, 1889, 1533, 0, 0, 0, datetime.datetime(2017, 12, 25, 15, 41, 47), 6057, 1753, 1793, 2289, 1890, 1533, 0, 0, 0, datetime.datetime(2017, 12, 25, 15, 42, 17), 6058, 1753, 1793, 2290, 1891, 1533, 0, 0, 0, datetime.datetime(2017, 12, 25, 15, 42, 48), 6059, 1752, 1794, 2291, 1892, 1533, 0, 0, 0, datetime.datetime(2017, 12, 25, 15, 43, 19), 6060, 1754, 1795, 2292, 1893, 1533, 0, 0)\n"
     ]
    },
    {
     "name": "stderr",
     "output_type": "stream",
     "text": [
      "[07-01 22:58:19] p17208 {C:\\Projects\\Private\\PropStar\\venv\\lib\\site-packages\\sqlalchemy\\engine\\base.py:2082} INFO - [insertmanyvalues 29/49 (unordered)] (0, datetime.datetime(2017, 12, 25, 13, 55, 4), 5852, 1709, 1737, 2185, 1798, 1533, 0, 0, 0, datetime.datetime(2017, 12, 25, 13, 55, 35), 5853, 1710, 1738, 2185, 1799, 1533, 0, 0, 0, datetime.datetime(2017, 12, 25, 13, 56, 5), 5854, 1708, 1737, 2185, 1800, 1533, 0, 0, 0, datetime.datetime(2017, 12, 25, 13, 56, 36), 5855, 1711, 1738, 2186, 1800, 1533, 0, 0, 0, datetime.datetime(2017, 12, 25, 13, 57, 7), 5856, 1710, 1739, 2187, 1801, 1533, 0, 0 ... 1990 parameters truncated ... 0, datetime.datetime(2017, 12, 25, 15, 41, 16), 6056, 1753, 1792, 2288, 1889, 1533, 0, 0, 0, datetime.datetime(2017, 12, 25, 15, 41, 47), 6057, 1753, 1793, 2289, 1890, 1533, 0, 0, 0, datetime.datetime(2017, 12, 25, 15, 42, 17), 6058, 1753, 1793, 2290, 1891, 1533, 0, 0, 0, datetime.datetime(2017, 12, 25, 15, 42, 48), 6059, 1752, 1794, 2291, 1892, 1533, 0, 0, 0, datetime.datetime(2017, 12, 25, 15, 43, 19), 6060, 1754, 1795, 2292, 1893, 1533, 0, 0)\n"
     ]
    },
    {
     "name": "stdout",
     "output_type": "stream",
     "text": [
      "2024-07-01 22:58:19,793 INFO sqlalchemy.engine.Engine INSERT INTO room_occupancy_multiclass.original_table ([Room_Occupancy_Count], [Timestamp], id, sensor1_id, sensor2_id, sensor3_id, sensor4_id, sensor5_id, sensor6_id, sensor7_id) VALUES (?, ?, ?, ?, ?, ?, ?, ?, ?, ?), (?, ?, ?, ?, ?, ?, ?, ?, ?, ?),  ... 6522 characters truncated ... , ?), (?, ?, ?, ?, ?, ?, ?, ?, ?, ?), (?, ?, ?, ?, ?, ?, ?, ?, ?, ?), (?, ?, ?, ?, ?, ?, ?, ?, ?, ?)\n"
     ]
    },
    {
     "name": "stderr",
     "output_type": "stream",
     "text": [
      "[07-01 22:58:19] p17208 {C:\\Projects\\Private\\PropStar\\venv\\lib\\site-packages\\sqlalchemy\\engine\\base.py:2064} INFO - INSERT INTO room_occupancy_multiclass.original_table ([Room_Occupancy_Count], [Timestamp], id, sensor1_id, sensor2_id, sensor3_id, sensor4_id, sensor5_id, sensor6_id, sensor7_id) VALUES (?, ?, ?, ?, ?, ?, ?, ?, ?, ?), (?, ?, ?, ?, ?, ?, ?, ?, ?, ?),  ... 6522 characters truncated ... , ?), (?, ?, ?, ?, ?, ?, ?, ?, ?, ?), (?, ?, ?, ?, ?, ?, ?, ?, ?, ?), (?, ?, ?, ?, ?, ?, ?, ?, ?, ?)\n"
     ]
    },
    {
     "name": "stdout",
     "output_type": "stream",
     "text": [
      "2024-07-01 22:58:19,795 INFO sqlalchemy.engine.Engine [insertmanyvalues 30/49 (unordered)] (0, datetime.datetime(2017, 12, 25, 15, 43, 49), 6061, 1752, 1795, 2290, 1894, 1533, 0, 0, 0, datetime.datetime(2017, 12, 25, 15, 44, 20), 6062, 1753, 1796, 2291, 1892, 1533, 0, 0, 0, datetime.datetime(2017, 12, 25, 15, 44, 51), 6063, 1752, 1795, 2290, 1895, 1533, 0, 0, 0, datetime.datetime(2017, 12, 25, 15, 45, 21), 6064, 1752, 1795, 2293, 1896, 1533, 0, 0, 0, datetime.datetime(2017, 12, 25, 15, 45, 52), 6065, 1752, 1794, 2290, 1897, 1533, 0, 0 ... 1990 parameters truncated ... 0, datetime.datetime(2017, 12, 25, 17, 29), 6265, 816, 823, 2395, 2004, 2982, 0, 0, 0, datetime.datetime(2017, 12, 25, 17, 29, 31), 6266, 816, 823, 2395, 2002, 2982, 0, 0, 0, datetime.datetime(2017, 12, 25, 17, 30, 1), 6267, 815, 823, 2395, 2001, 2982, 0, 0, 0, datetime.datetime(2017, 12, 25, 17, 30, 32), 6268, 815, 824, 2395, 2001, 2982, 0, 0, 0, datetime.datetime(2017, 12, 25, 17, 31, 3), 6269, 816, 823, 2397, 2004, 2982, 0, 0)\n"
     ]
    },
    {
     "name": "stderr",
     "output_type": "stream",
     "text": [
      "[07-01 22:58:19] p17208 {C:\\Projects\\Private\\PropStar\\venv\\lib\\site-packages\\sqlalchemy\\engine\\base.py:2082} INFO - [insertmanyvalues 30/49 (unordered)] (0, datetime.datetime(2017, 12, 25, 15, 43, 49), 6061, 1752, 1795, 2290, 1894, 1533, 0, 0, 0, datetime.datetime(2017, 12, 25, 15, 44, 20), 6062, 1753, 1796, 2291, 1892, 1533, 0, 0, 0, datetime.datetime(2017, 12, 25, 15, 44, 51), 6063, 1752, 1795, 2290, 1895, 1533, 0, 0, 0, datetime.datetime(2017, 12, 25, 15, 45, 21), 6064, 1752, 1795, 2293, 1896, 1533, 0, 0, 0, datetime.datetime(2017, 12, 25, 15, 45, 52), 6065, 1752, 1794, 2290, 1897, 1533, 0, 0 ... 1990 parameters truncated ... 0, datetime.datetime(2017, 12, 25, 17, 29), 6265, 816, 823, 2395, 2004, 2982, 0, 0, 0, datetime.datetime(2017, 12, 25, 17, 29, 31), 6266, 816, 823, 2395, 2002, 2982, 0, 0, 0, datetime.datetime(2017, 12, 25, 17, 30, 1), 6267, 815, 823, 2395, 2001, 2982, 0, 0, 0, datetime.datetime(2017, 12, 25, 17, 30, 32), 6268, 815, 824, 2395, 2001, 2982, 0, 0, 0, datetime.datetime(2017, 12, 25, 17, 31, 3), 6269, 816, 823, 2397, 2004, 2982, 0, 0)\n"
     ]
    },
    {
     "name": "stdout",
     "output_type": "stream",
     "text": [
      "2024-07-01 22:58:19,820 INFO sqlalchemy.engine.Engine INSERT INTO room_occupancy_multiclass.original_table ([Room_Occupancy_Count], [Timestamp], id, sensor1_id, sensor2_id, sensor3_id, sensor4_id, sensor5_id, sensor6_id, sensor7_id) VALUES (?, ?, ?, ?, ?, ?, ?, ?, ?, ?), (?, ?, ?, ?, ?, ?, ?, ?, ?, ?),  ... 6522 characters truncated ... , ?), (?, ?, ?, ?, ?, ?, ?, ?, ?, ?), (?, ?, ?, ?, ?, ?, ?, ?, ?, ?), (?, ?, ?, ?, ?, ?, ?, ?, ?, ?)\n"
     ]
    },
    {
     "name": "stderr",
     "output_type": "stream",
     "text": [
      "[07-01 22:58:19] p17208 {C:\\Projects\\Private\\PropStar\\venv\\lib\\site-packages\\sqlalchemy\\engine\\base.py:2064} INFO - INSERT INTO room_occupancy_multiclass.original_table ([Room_Occupancy_Count], [Timestamp], id, sensor1_id, sensor2_id, sensor3_id, sensor4_id, sensor5_id, sensor6_id, sensor7_id) VALUES (?, ?, ?, ?, ?, ?, ?, ?, ?, ?), (?, ?, ?, ?, ?, ?, ?, ?, ?, ?),  ... 6522 characters truncated ... , ?), (?, ?, ?, ?, ?, ?, ?, ?, ?, ?), (?, ?, ?, ?, ?, ?, ?, ?, ?, ?), (?, ?, ?, ?, ?, ?, ?, ?, ?, ?)\n"
     ]
    },
    {
     "name": "stdout",
     "output_type": "stream",
     "text": [
      "2024-07-01 22:58:19,821 INFO sqlalchemy.engine.Engine [insertmanyvalues 31/49 (unordered)] (0, datetime.datetime(2017, 12, 25, 17, 31, 33), 6270, 816, 825, 2397, 2004, 2982, 0, 0, 0, datetime.datetime(2017, 12, 25, 17, 32, 4), 6271, 816, 823, 2398, 2001, 2982, 0, 0, 0, datetime.datetime(2017, 12, 25, 17, 32, 35), 6272, 816, 825, 2399, 2005, 2982, 0, 0, 0, datetime.datetime(2017, 12, 25, 17, 33, 5), 6273, 816, 823, 2397, 2006, 2982, 0, 0, 0, datetime.datetime(2017, 12, 25, 17, 33, 36), 6274, 816, 825, 2397, 2007, 2982, 0, 0 ... 1990 parameters truncated ... 0, datetime.datetime(2017, 12, 25, 19, 17, 15), 6474, 816, 823, 879, 2022, 2932, 0, 0, 0, datetime.datetime(2017, 12, 25, 19, 17, 45), 6475, 1786, 823, 879, 2026, 3022, 0, 0, 0, datetime.datetime(2017, 12, 25, 19, 18, 16), 6476, 1786, 825, 884, 2015, 1619, 0, 0, 0, datetime.datetime(2017, 12, 25, 19, 18, 47), 6477, 816, 823, 884, 2015, 3023, 0, 0, 0, datetime.datetime(2017, 12, 25, 19, 19, 17), 6478, 816, 825, 884, 2022, 3023, 0, 0)\n"
     ]
    },
    {
     "name": "stderr",
     "output_type": "stream",
     "text": [
      "[07-01 22:58:19] p17208 {C:\\Projects\\Private\\PropStar\\venv\\lib\\site-packages\\sqlalchemy\\engine\\base.py:2082} INFO - [insertmanyvalues 31/49 (unordered)] (0, datetime.datetime(2017, 12, 25, 17, 31, 33), 6270, 816, 825, 2397, 2004, 2982, 0, 0, 0, datetime.datetime(2017, 12, 25, 17, 32, 4), 6271, 816, 823, 2398, 2001, 2982, 0, 0, 0, datetime.datetime(2017, 12, 25, 17, 32, 35), 6272, 816, 825, 2399, 2005, 2982, 0, 0, 0, datetime.datetime(2017, 12, 25, 17, 33, 5), 6273, 816, 823, 2397, 2006, 2982, 0, 0, 0, datetime.datetime(2017, 12, 25, 17, 33, 36), 6274, 816, 825, 2397, 2007, 2982, 0, 0 ... 1990 parameters truncated ... 0, datetime.datetime(2017, 12, 25, 19, 17, 15), 6474, 816, 823, 879, 2022, 2932, 0, 0, 0, datetime.datetime(2017, 12, 25, 19, 17, 45), 6475, 1786, 823, 879, 2026, 3022, 0, 0, 0, datetime.datetime(2017, 12, 25, 19, 18, 16), 6476, 1786, 825, 884, 2015, 1619, 0, 0, 0, datetime.datetime(2017, 12, 25, 19, 18, 47), 6477, 816, 823, 884, 2015, 3023, 0, 0, 0, datetime.datetime(2017, 12, 25, 19, 19, 17), 6478, 816, 825, 884, 2022, 3023, 0, 0)\n"
     ]
    },
    {
     "name": "stdout",
     "output_type": "stream",
     "text": [
      "2024-07-01 22:58:19,828 INFO sqlalchemy.engine.Engine INSERT INTO room_occupancy_multiclass.original_table ([Room_Occupancy_Count], [Timestamp], id, sensor1_id, sensor2_id, sensor3_id, sensor4_id, sensor5_id, sensor6_id, sensor7_id) VALUES (?, ?, ?, ?, ?, ?, ?, ?, ?, ?), (?, ?, ?, ?, ?, ?, ?, ?, ?, ?),  ... 6522 characters truncated ... , ?), (?, ?, ?, ?, ?, ?, ?, ?, ?, ?), (?, ?, ?, ?, ?, ?, ?, ?, ?, ?), (?, ?, ?, ?, ?, ?, ?, ?, ?, ?)\n"
     ]
    },
    {
     "name": "stderr",
     "output_type": "stream",
     "text": [
      "[07-01 22:58:19] p17208 {C:\\Projects\\Private\\PropStar\\venv\\lib\\site-packages\\sqlalchemy\\engine\\base.py:2064} INFO - INSERT INTO room_occupancy_multiclass.original_table ([Room_Occupancy_Count], [Timestamp], id, sensor1_id, sensor2_id, sensor3_id, sensor4_id, sensor5_id, sensor6_id, sensor7_id) VALUES (?, ?, ?, ?, ?, ?, ?, ?, ?, ?), (?, ?, ?, ?, ?, ?, ?, ?, ?, ?),  ... 6522 characters truncated ... , ?), (?, ?, ?, ?, ?, ?, ?, ?, ?, ?), (?, ?, ?, ?, ?, ?, ?, ?, ?, ?), (?, ?, ?, ?, ?, ?, ?, ?, ?, ?)\n"
     ]
    },
    {
     "name": "stdout",
     "output_type": "stream",
     "text": [
      "2024-07-01 22:58:19,830 INFO sqlalchemy.engine.Engine [insertmanyvalues 32/49 (unordered)] (0, datetime.datetime(2017, 12, 25, 19, 19, 48), 6479, 816, 823, 884, 2015, 2954, 0, 0, 0, datetime.datetime(2017, 12, 25, 19, 20, 19), 6480, 816, 823, 884, 2015, 1599, 0, 0, 0, datetime.datetime(2017, 12, 25, 19, 20, 49), 6481, 816, 823, 884, 2022, 2893, 0, 0, 0, datetime.datetime(2017, 12, 25, 19, 21, 20), 6482, 816, 823, 884, 2017, 1578, 0, 0, 0, datetime.datetime(2017, 12, 25, 19, 21, 50), 6483, 816, 823, 883, 2015, 3015, 0, 0 ... 1990 parameters truncated ... 0, datetime.datetime(2017, 12, 25, 21, 6), 6683, 816, 823, 887, 2032, 3038, 0, 0, 0, datetime.datetime(2017, 12, 25, 21, 6, 31), 6684, 816, 823, 884, 2027, 3023, 0, 0, 0, datetime.datetime(2017, 12, 25, 21, 7, 1), 6685, 821, 823, 884, 2030, 3039, 0, 0, 0, datetime.datetime(2017, 12, 25, 21, 7, 32), 6686, 815, 824, 884, 2015, 3039, 0, 0, 0, datetime.datetime(2017, 12, 25, 21, 8, 3), 6687, 815, 823, 884, 2015, 3040, 0, 0)\n"
     ]
    },
    {
     "name": "stderr",
     "output_type": "stream",
     "text": [
      "[07-01 22:58:19] p17208 {C:\\Projects\\Private\\PropStar\\venv\\lib\\site-packages\\sqlalchemy\\engine\\base.py:2082} INFO - [insertmanyvalues 32/49 (unordered)] (0, datetime.datetime(2017, 12, 25, 19, 19, 48), 6479, 816, 823, 884, 2015, 2954, 0, 0, 0, datetime.datetime(2017, 12, 25, 19, 20, 19), 6480, 816, 823, 884, 2015, 1599, 0, 0, 0, datetime.datetime(2017, 12, 25, 19, 20, 49), 6481, 816, 823, 884, 2022, 2893, 0, 0, 0, datetime.datetime(2017, 12, 25, 19, 21, 20), 6482, 816, 823, 884, 2017, 1578, 0, 0, 0, datetime.datetime(2017, 12, 25, 19, 21, 50), 6483, 816, 823, 883, 2015, 3015, 0, 0 ... 1990 parameters truncated ... 0, datetime.datetime(2017, 12, 25, 21, 6), 6683, 816, 823, 887, 2032, 3038, 0, 0, 0, datetime.datetime(2017, 12, 25, 21, 6, 31), 6684, 816, 823, 884, 2027, 3023, 0, 0, 0, datetime.datetime(2017, 12, 25, 21, 7, 1), 6685, 821, 823, 884, 2030, 3039, 0, 0, 0, datetime.datetime(2017, 12, 25, 21, 7, 32), 6686, 815, 824, 884, 2015, 3039, 0, 0, 0, datetime.datetime(2017, 12, 25, 21, 8, 3), 6687, 815, 823, 884, 2015, 3040, 0, 0)\n"
     ]
    },
    {
     "name": "stdout",
     "output_type": "stream",
     "text": [
      "2024-07-01 22:58:19,838 INFO sqlalchemy.engine.Engine INSERT INTO room_occupancy_multiclass.original_table ([Room_Occupancy_Count], [Timestamp], id, sensor1_id, sensor2_id, sensor3_id, sensor4_id, sensor5_id, sensor6_id, sensor7_id) VALUES (?, ?, ?, ?, ?, ?, ?, ?, ?, ?), (?, ?, ?, ?, ?, ?, ?, ?, ?, ?),  ... 6522 characters truncated ... , ?), (?, ?, ?, ?, ?, ?, ?, ?, ?, ?), (?, ?, ?, ?, ?, ?, ?, ?, ?, ?), (?, ?, ?, ?, ?, ?, ?, ?, ?, ?)\n"
     ]
    },
    {
     "name": "stderr",
     "output_type": "stream",
     "text": [
      "[07-01 22:58:19] p17208 {C:\\Projects\\Private\\PropStar\\venv\\lib\\site-packages\\sqlalchemy\\engine\\base.py:2064} INFO - INSERT INTO room_occupancy_multiclass.original_table ([Room_Occupancy_Count], [Timestamp], id, sensor1_id, sensor2_id, sensor3_id, sensor4_id, sensor5_id, sensor6_id, sensor7_id) VALUES (?, ?, ?, ?, ?, ?, ?, ?, ?, ?), (?, ?, ?, ?, ?, ?, ?, ?, ?, ?),  ... 6522 characters truncated ... , ?), (?, ?, ?, ?, ?, ?, ?, ?, ?, ?), (?, ?, ?, ?, ?, ?, ?, ?, ?, ?), (?, ?, ?, ?, ?, ?, ?, ?, ?, ?)\n"
     ]
    },
    {
     "name": "stdout",
     "output_type": "stream",
     "text": [
      "2024-07-01 22:58:19,839 INFO sqlalchemy.engine.Engine [insertmanyvalues 33/49 (unordered)] (0, datetime.datetime(2017, 12, 25, 21, 8, 33), 6688, 815, 823, 885, 2022, 3028, 0, 0, 0, datetime.datetime(2017, 12, 25, 21, 9, 4), 6689, 816, 825, 887, 2025, 1619, 0, 0, 0, datetime.datetime(2017, 12, 25, 21, 9, 35), 6690, 816, 825, 887, 2022, 3022, 0, 0, 0, datetime.datetime(2017, 12, 25, 21, 10, 5), 6691, 821, 823, 887, 2025, 2936, 0, 0, 0, datetime.datetime(2017, 12, 25, 21, 10, 36), 6692, 821, 823, 888, 2025, 1631, 0, 0 ... 1990 parameters truncated ... 0, datetime.datetime(2017, 12, 25, 22, 53, 44), 6892, 816, 829, 888, 2025, 1533, 0, 0, 0, datetime.datetime(2017, 12, 25, 22, 54, 15), 6893, 821, 823, 888, 2027, 1533, 0, 0, 0, datetime.datetime(2017, 12, 25, 22, 54, 45), 6894, 821, 829, 888, 2030, 1533, 0, 0, 0, datetime.datetime(2017, 12, 25, 22, 55, 16), 6895, 816, 829, 888, 2025, 1533, 0, 0, 0, datetime.datetime(2017, 12, 25, 22, 55, 47), 6896, 821, 829, 887, 2031, 1533, 0, 0)\n"
     ]
    },
    {
     "name": "stderr",
     "output_type": "stream",
     "text": [
      "[07-01 22:58:19] p17208 {C:\\Projects\\Private\\PropStar\\venv\\lib\\site-packages\\sqlalchemy\\engine\\base.py:2082} INFO - [insertmanyvalues 33/49 (unordered)] (0, datetime.datetime(2017, 12, 25, 21, 8, 33), 6688, 815, 823, 885, 2022, 3028, 0, 0, 0, datetime.datetime(2017, 12, 25, 21, 9, 4), 6689, 816, 825, 887, 2025, 1619, 0, 0, 0, datetime.datetime(2017, 12, 25, 21, 9, 35), 6690, 816, 825, 887, 2022, 3022, 0, 0, 0, datetime.datetime(2017, 12, 25, 21, 10, 5), 6691, 821, 823, 887, 2025, 2936, 0, 0, 0, datetime.datetime(2017, 12, 25, 21, 10, 36), 6692, 821, 823, 888, 2025, 1631, 0, 0 ... 1990 parameters truncated ... 0, datetime.datetime(2017, 12, 25, 22, 53, 44), 6892, 816, 829, 888, 2025, 1533, 0, 0, 0, datetime.datetime(2017, 12, 25, 22, 54, 15), 6893, 821, 823, 888, 2027, 1533, 0, 0, 0, datetime.datetime(2017, 12, 25, 22, 54, 45), 6894, 821, 829, 888, 2030, 1533, 0, 0, 0, datetime.datetime(2017, 12, 25, 22, 55, 16), 6895, 816, 829, 888, 2025, 1533, 0, 0, 0, datetime.datetime(2017, 12, 25, 22, 55, 47), 6896, 821, 829, 887, 2031, 1533, 0, 0)\n"
     ]
    },
    {
     "name": "stdout",
     "output_type": "stream",
     "text": [
      "2024-07-01 22:58:19,846 INFO sqlalchemy.engine.Engine INSERT INTO room_occupancy_multiclass.original_table ([Room_Occupancy_Count], [Timestamp], id, sensor1_id, sensor2_id, sensor3_id, sensor4_id, sensor5_id, sensor6_id, sensor7_id) VALUES (?, ?, ?, ?, ?, ?, ?, ?, ?, ?), (?, ?, ?, ?, ?, ?, ?, ?, ?, ?),  ... 6522 characters truncated ... , ?), (?, ?, ?, ?, ?, ?, ?, ?, ?, ?), (?, ?, ?, ?, ?, ?, ?, ?, ?, ?), (?, ?, ?, ?, ?, ?, ?, ?, ?, ?)\n"
     ]
    },
    {
     "name": "stderr",
     "output_type": "stream",
     "text": [
      "[07-01 22:58:19] p17208 {C:\\Projects\\Private\\PropStar\\venv\\lib\\site-packages\\sqlalchemy\\engine\\base.py:2064} INFO - INSERT INTO room_occupancy_multiclass.original_table ([Room_Occupancy_Count], [Timestamp], id, sensor1_id, sensor2_id, sensor3_id, sensor4_id, sensor5_id, sensor6_id, sensor7_id) VALUES (?, ?, ?, ?, ?, ?, ?, ?, ?, ?), (?, ?, ?, ?, ?, ?, ?, ?, ?, ?),  ... 6522 characters truncated ... , ?), (?, ?, ?, ?, ?, ?, ?, ?, ?, ?), (?, ?, ?, ?, ?, ?, ?, ?, ?, ?), (?, ?, ?, ?, ?, ?, ?, ?, ?, ?)\n"
     ]
    },
    {
     "name": "stdout",
     "output_type": "stream",
     "text": [
      "2024-07-01 22:58:19,847 INFO sqlalchemy.engine.Engine [insertmanyvalues 34/49 (unordered)] (0, datetime.datetime(2017, 12, 25, 22, 56, 17), 6897, 815, 829, 890, 2031, 1533, 0, 0, 0, datetime.datetime(2017, 12, 25, 22, 56, 48), 6898, 817, 829, 889, 2025, 1533, 0, 0, 0, datetime.datetime(2017, 12, 25, 22, 57, 19), 6899, 815, 823, 891, 2030, 1533, 0, 0, 0, datetime.datetime(2017, 12, 25, 22, 57, 49), 6900, 821, 829, 893, 2027, 1533, 0, 0, 0, datetime.datetime(2017, 12, 25, 22, 58, 20), 6901, 815, 829, 887, 2030, 1533, 0, 0 ... 1990 parameters truncated ... 0, datetime.datetime(2017, 12, 26, 0, 41, 59), 7101, 821, 829, 896, 2034, 1533, 0, 0, 0, datetime.datetime(2017, 12, 26, 0, 43), 7102, 817, 830, 891, 2034, 1533, 0, 0, 0, datetime.datetime(2017, 12, 26, 0, 43, 31), 7103, 817, 829, 890, 2033, 1533, 0, 0, 0, datetime.datetime(2017, 12, 26, 0, 44, 1), 7104, 821, 828, 896, 2034, 1533, 0, 0, 0, datetime.datetime(2017, 12, 26, 0, 44, 32), 7105, 817, 829, 896, 2034, 1533, 0, 0)\n"
     ]
    },
    {
     "name": "stderr",
     "output_type": "stream",
     "text": [
      "[07-01 22:58:19] p17208 {C:\\Projects\\Private\\PropStar\\venv\\lib\\site-packages\\sqlalchemy\\engine\\base.py:2082} INFO - [insertmanyvalues 34/49 (unordered)] (0, datetime.datetime(2017, 12, 25, 22, 56, 17), 6897, 815, 829, 890, 2031, 1533, 0, 0, 0, datetime.datetime(2017, 12, 25, 22, 56, 48), 6898, 817, 829, 889, 2025, 1533, 0, 0, 0, datetime.datetime(2017, 12, 25, 22, 57, 19), 6899, 815, 823, 891, 2030, 1533, 0, 0, 0, datetime.datetime(2017, 12, 25, 22, 57, 49), 6900, 821, 829, 893, 2027, 1533, 0, 0, 0, datetime.datetime(2017, 12, 25, 22, 58, 20), 6901, 815, 829, 887, 2030, 1533, 0, 0 ... 1990 parameters truncated ... 0, datetime.datetime(2017, 12, 26, 0, 41, 59), 7101, 821, 829, 896, 2034, 1533, 0, 0, 0, datetime.datetime(2017, 12, 26, 0, 43), 7102, 817, 830, 891, 2034, 1533, 0, 0, 0, datetime.datetime(2017, 12, 26, 0, 43, 31), 7103, 817, 829, 890, 2033, 1533, 0, 0, 0, datetime.datetime(2017, 12, 26, 0, 44, 1), 7104, 821, 828, 896, 2034, 1533, 0, 0, 0, datetime.datetime(2017, 12, 26, 0, 44, 32), 7105, 817, 829, 896, 2034, 1533, 0, 0)\n"
     ]
    },
    {
     "name": "stdout",
     "output_type": "stream",
     "text": [
      "2024-07-01 22:58:19,855 INFO sqlalchemy.engine.Engine INSERT INTO room_occupancy_multiclass.original_table ([Room_Occupancy_Count], [Timestamp], id, sensor1_id, sensor2_id, sensor3_id, sensor4_id, sensor5_id, sensor6_id, sensor7_id) VALUES (?, ?, ?, ?, ?, ?, ?, ?, ?, ?), (?, ?, ?, ?, ?, ?, ?, ?, ?, ?),  ... 6522 characters truncated ... , ?), (?, ?, ?, ?, ?, ?, ?, ?, ?, ?), (?, ?, ?, ?, ?, ?, ?, ?, ?, ?), (?, ?, ?, ?, ?, ?, ?, ?, ?, ?)\n"
     ]
    },
    {
     "name": "stderr",
     "output_type": "stream",
     "text": [
      "[07-01 22:58:19] p17208 {C:\\Projects\\Private\\PropStar\\venv\\lib\\site-packages\\sqlalchemy\\engine\\base.py:2064} INFO - INSERT INTO room_occupancy_multiclass.original_table ([Room_Occupancy_Count], [Timestamp], id, sensor1_id, sensor2_id, sensor3_id, sensor4_id, sensor5_id, sensor6_id, sensor7_id) VALUES (?, ?, ?, ?, ?, ?, ?, ?, ?, ?), (?, ?, ?, ?, ?, ?, ?, ?, ?, ?),  ... 6522 characters truncated ... , ?), (?, ?, ?, ?, ?, ?, ?, ?, ?, ?), (?, ?, ?, ?, ?, ?, ?, ?, ?, ?), (?, ?, ?, ?, ?, ?, ?, ?, ?, ?)\n"
     ]
    },
    {
     "name": "stdout",
     "output_type": "stream",
     "text": [
      "2024-07-01 22:58:19,857 INFO sqlalchemy.engine.Engine [insertmanyvalues 35/49 (unordered)] (0, datetime.datetime(2017, 12, 26, 0, 45, 3), 7106, 821, 828, 896, 2033, 1533, 0, 0, 0, datetime.datetime(2017, 12, 26, 0, 45, 33), 7107, 817, 829, 894, 2033, 1533, 0, 0, 0, datetime.datetime(2017, 12, 26, 0, 46, 4), 7108, 821, 829, 896, 2037, 1533, 0, 0, 0, datetime.datetime(2017, 12, 26, 0, 46, 34), 7109, 821, 829, 896, 2038, 1533, 0, 0, 0, datetime.datetime(2017, 12, 26, 0, 47, 5), 7110, 821, 830, 894, 2033, 1533, 0, 0 ... 1990 parameters truncated ... 0, datetime.datetime(2017, 12, 26, 2, 30, 13), 7310, 824, 831, 899, 2037, 1533, 0, 0, 0, datetime.datetime(2017, 12, 26, 2, 30, 44), 7311, 824, 831, 898, 2037, 1533, 0, 0, 0, datetime.datetime(2017, 12, 26, 2, 31, 15), 7312, 822, 833, 899, 2033, 1533, 0, 0, 0, datetime.datetime(2017, 12, 26, 2, 31, 45), 7313, 824, 831, 899, 2037, 1533, 0, 0, 0, datetime.datetime(2017, 12, 26, 2, 32, 16), 7314, 822, 829, 898, 2037, 1533, 0, 0)\n"
     ]
    },
    {
     "name": "stderr",
     "output_type": "stream",
     "text": [
      "[07-01 22:58:19] p17208 {C:\\Projects\\Private\\PropStar\\venv\\lib\\site-packages\\sqlalchemy\\engine\\base.py:2082} INFO - [insertmanyvalues 35/49 (unordered)] (0, datetime.datetime(2017, 12, 26, 0, 45, 3), 7106, 821, 828, 896, 2033, 1533, 0, 0, 0, datetime.datetime(2017, 12, 26, 0, 45, 33), 7107, 817, 829, 894, 2033, 1533, 0, 0, 0, datetime.datetime(2017, 12, 26, 0, 46, 4), 7108, 821, 829, 896, 2037, 1533, 0, 0, 0, datetime.datetime(2017, 12, 26, 0, 46, 34), 7109, 821, 829, 896, 2038, 1533, 0, 0, 0, datetime.datetime(2017, 12, 26, 0, 47, 5), 7110, 821, 830, 894, 2033, 1533, 0, 0 ... 1990 parameters truncated ... 0, datetime.datetime(2017, 12, 26, 2, 30, 13), 7310, 824, 831, 899, 2037, 1533, 0, 0, 0, datetime.datetime(2017, 12, 26, 2, 30, 44), 7311, 824, 831, 898, 2037, 1533, 0, 0, 0, datetime.datetime(2017, 12, 26, 2, 31, 15), 7312, 822, 833, 899, 2033, 1533, 0, 0, 0, datetime.datetime(2017, 12, 26, 2, 31, 45), 7313, 824, 831, 899, 2037, 1533, 0, 0, 0, datetime.datetime(2017, 12, 26, 2, 32, 16), 7314, 822, 829, 898, 2037, 1533, 0, 0)\n"
     ]
    },
    {
     "name": "stdout",
     "output_type": "stream",
     "text": [
      "2024-07-01 22:58:19,864 INFO sqlalchemy.engine.Engine INSERT INTO room_occupancy_multiclass.original_table ([Room_Occupancy_Count], [Timestamp], id, sensor1_id, sensor2_id, sensor3_id, sensor4_id, sensor5_id, sensor6_id, sensor7_id) VALUES (?, ?, ?, ?, ?, ?, ?, ?, ?, ?), (?, ?, ?, ?, ?, ?, ?, ?, ?, ?),  ... 6522 characters truncated ... , ?), (?, ?, ?, ?, ?, ?, ?, ?, ?, ?), (?, ?, ?, ?, ?, ?, ?, ?, ?, ?), (?, ?, ?, ?, ?, ?, ?, ?, ?, ?)\n"
     ]
    },
    {
     "name": "stderr",
     "output_type": "stream",
     "text": [
      "[07-01 22:58:19] p17208 {C:\\Projects\\Private\\PropStar\\venv\\lib\\site-packages\\sqlalchemy\\engine\\base.py:2064} INFO - INSERT INTO room_occupancy_multiclass.original_table ([Room_Occupancy_Count], [Timestamp], id, sensor1_id, sensor2_id, sensor3_id, sensor4_id, sensor5_id, sensor6_id, sensor7_id) VALUES (?, ?, ?, ?, ?, ?, ?, ?, ?, ?), (?, ?, ?, ?, ?, ?, ?, ?, ?, ?),  ... 6522 characters truncated ... , ?), (?, ?, ?, ?, ?, ?, ?, ?, ?, ?), (?, ?, ?, ?, ?, ?, ?, ?, ?, ?), (?, ?, ?, ?, ?, ?, ?, ?, ?, ?)\n"
     ]
    },
    {
     "name": "stdout",
     "output_type": "stream",
     "text": [
      "2024-07-01 22:58:19,865 INFO sqlalchemy.engine.Engine [insertmanyvalues 36/49 (unordered)] (0, datetime.datetime(2017, 12, 26, 2, 32, 47), 7315, 824, 832, 898, 2037, 1533, 0, 0, 0, datetime.datetime(2017, 12, 26, 2, 33, 17), 7316, 822, 831, 898, 2038, 1533, 0, 0, 0, datetime.datetime(2017, 12, 26, 2, 33, 48), 7317, 824, 829, 898, 2043, 1533, 0, 0, 0, datetime.datetime(2017, 12, 26, 2, 34, 49), 7318, 822, 833, 900, 2037, 1533, 0, 0, 0, datetime.datetime(2017, 12, 26, 2, 35, 20), 7319, 822, 832, 898, 2037, 1533, 0, 0 ... 1990 parameters truncated ... 0, datetime.datetime(2017, 12, 26, 4, 18, 28), 7519, 827, 836, 900, 2042, 1533, 0, 0, 0, datetime.datetime(2017, 12, 26, 4, 18, 59), 7520, 822, 831, 902, 2040, 1533, 0, 0, 0, datetime.datetime(2017, 12, 26, 4, 19, 29), 7521, 822, 833, 902, 2040, 1533, 0, 0, 0, datetime.datetime(2017, 12, 26, 4, 20), 7522, 827, 831, 900, 2040, 1533, 0, 0, 0, datetime.datetime(2017, 12, 26, 4, 20, 31), 7523, 822, 831, 900, 2038, 1533, 0, 0)\n"
     ]
    },
    {
     "name": "stderr",
     "output_type": "stream",
     "text": [
      "[07-01 22:58:19] p17208 {C:\\Projects\\Private\\PropStar\\venv\\lib\\site-packages\\sqlalchemy\\engine\\base.py:2082} INFO - [insertmanyvalues 36/49 (unordered)] (0, datetime.datetime(2017, 12, 26, 2, 32, 47), 7315, 824, 832, 898, 2037, 1533, 0, 0, 0, datetime.datetime(2017, 12, 26, 2, 33, 17), 7316, 822, 831, 898, 2038, 1533, 0, 0, 0, datetime.datetime(2017, 12, 26, 2, 33, 48), 7317, 824, 829, 898, 2043, 1533, 0, 0, 0, datetime.datetime(2017, 12, 26, 2, 34, 49), 7318, 822, 833, 900, 2037, 1533, 0, 0, 0, datetime.datetime(2017, 12, 26, 2, 35, 20), 7319, 822, 832, 898, 2037, 1533, 0, 0 ... 1990 parameters truncated ... 0, datetime.datetime(2017, 12, 26, 4, 18, 28), 7519, 827, 836, 900, 2042, 1533, 0, 0, 0, datetime.datetime(2017, 12, 26, 4, 18, 59), 7520, 822, 831, 902, 2040, 1533, 0, 0, 0, datetime.datetime(2017, 12, 26, 4, 19, 29), 7521, 822, 833, 902, 2040, 1533, 0, 0, 0, datetime.datetime(2017, 12, 26, 4, 20), 7522, 827, 831, 900, 2040, 1533, 0, 0, 0, datetime.datetime(2017, 12, 26, 4, 20, 31), 7523, 822, 831, 900, 2038, 1533, 0, 0)\n"
     ]
    },
    {
     "name": "stdout",
     "output_type": "stream",
     "text": [
      "2024-07-01 22:58:19,873 INFO sqlalchemy.engine.Engine INSERT INTO room_occupancy_multiclass.original_table ([Room_Occupancy_Count], [Timestamp], id, sensor1_id, sensor2_id, sensor3_id, sensor4_id, sensor5_id, sensor6_id, sensor7_id) VALUES (?, ?, ?, ?, ?, ?, ?, ?, ?, ?), (?, ?, ?, ?, ?, ?, ?, ?, ?, ?),  ... 6522 characters truncated ... , ?), (?, ?, ?, ?, ?, ?, ?, ?, ?, ?), (?, ?, ?, ?, ?, ?, ?, ?, ?, ?), (?, ?, ?, ?, ?, ?, ?, ?, ?, ?)\n"
     ]
    },
    {
     "name": "stderr",
     "output_type": "stream",
     "text": [
      "[07-01 22:58:19] p17208 {C:\\Projects\\Private\\PropStar\\venv\\lib\\site-packages\\sqlalchemy\\engine\\base.py:2064} INFO - INSERT INTO room_occupancy_multiclass.original_table ([Room_Occupancy_Count], [Timestamp], id, sensor1_id, sensor2_id, sensor3_id, sensor4_id, sensor5_id, sensor6_id, sensor7_id) VALUES (?, ?, ?, ?, ?, ?, ?, ?, ?, ?), (?, ?, ?, ?, ?, ?, ?, ?, ?, ?),  ... 6522 characters truncated ... , ?), (?, ?, ?, ?, ?, ?, ?, ?, ?, ?), (?, ?, ?, ?, ?, ?, ?, ?, ?, ?), (?, ?, ?, ?, ?, ?, ?, ?, ?, ?)\n"
     ]
    },
    {
     "name": "stdout",
     "output_type": "stream",
     "text": [
      "2024-07-01 22:58:19,874 INFO sqlalchemy.engine.Engine [insertmanyvalues 37/49 (unordered)] (0, datetime.datetime(2017, 12, 26, 4, 21, 1), 7524, 824, 831, 900, 2040, 1533, 0, 0, 0, datetime.datetime(2017, 12, 26, 4, 21, 32), 7525, 827, 831, 905, 2041, 1533, 0, 0, 0, datetime.datetime(2017, 12, 26, 4, 22, 2), 7526, 826, 835, 907, 2041, 1533, 0, 0, 0, datetime.datetime(2017, 12, 26, 4, 22, 33), 7527, 827, 831, 900, 2037, 1533, 0, 0, 0, datetime.datetime(2017, 12, 26, 4, 23, 4), 7528, 826, 832, 905, 2040, 1533, 0, 0 ... 1990 parameters truncated ... 0, datetime.datetime(2017, 12, 26, 6, 6, 12), 7728, 829, 835, 908, 2051, 1533, 0, 0, 0, datetime.datetime(2017, 12, 26, 6, 6, 43), 7729, 829, 836, 911, 2051, 1533, 0, 0, 0, datetime.datetime(2017, 12, 26, 6, 7, 13), 7730, 829, 838, 908, 2054, 1533, 0, 0, 0, datetime.datetime(2017, 12, 26, 6, 7, 44), 7731, 829, 838, 911, 2051, 1533, 0, 0, 0, datetime.datetime(2017, 12, 26, 6, 8, 15), 7732, 831, 838, 911, 2053, 1533, 0, 0)\n"
     ]
    },
    {
     "name": "stderr",
     "output_type": "stream",
     "text": [
      "[07-01 22:58:19] p17208 {C:\\Projects\\Private\\PropStar\\venv\\lib\\site-packages\\sqlalchemy\\engine\\base.py:2082} INFO - [insertmanyvalues 37/49 (unordered)] (0, datetime.datetime(2017, 12, 26, 4, 21, 1), 7524, 824, 831, 900, 2040, 1533, 0, 0, 0, datetime.datetime(2017, 12, 26, 4, 21, 32), 7525, 827, 831, 905, 2041, 1533, 0, 0, 0, datetime.datetime(2017, 12, 26, 4, 22, 2), 7526, 826, 835, 907, 2041, 1533, 0, 0, 0, datetime.datetime(2017, 12, 26, 4, 22, 33), 7527, 827, 831, 900, 2037, 1533, 0, 0, 0, datetime.datetime(2017, 12, 26, 4, 23, 4), 7528, 826, 832, 905, 2040, 1533, 0, 0 ... 1990 parameters truncated ... 0, datetime.datetime(2017, 12, 26, 6, 6, 12), 7728, 829, 835, 908, 2051, 1533, 0, 0, 0, datetime.datetime(2017, 12, 26, 6, 6, 43), 7729, 829, 836, 911, 2051, 1533, 0, 0, 0, datetime.datetime(2017, 12, 26, 6, 7, 13), 7730, 829, 838, 908, 2054, 1533, 0, 0, 0, datetime.datetime(2017, 12, 26, 6, 7, 44), 7731, 829, 838, 911, 2051, 1533, 0, 0, 0, datetime.datetime(2017, 12, 26, 6, 8, 15), 7732, 831, 838, 911, 2053, 1533, 0, 0)\n"
     ]
    },
    {
     "name": "stdout",
     "output_type": "stream",
     "text": [
      "2024-07-01 22:58:19,882 INFO sqlalchemy.engine.Engine INSERT INTO room_occupancy_multiclass.original_table ([Room_Occupancy_Count], [Timestamp], id, sensor1_id, sensor2_id, sensor3_id, sensor4_id, sensor5_id, sensor6_id, sensor7_id) VALUES (?, ?, ?, ?, ?, ?, ?, ?, ?, ?), (?, ?, ?, ?, ?, ?, ?, ?, ?, ?),  ... 6522 characters truncated ... , ?), (?, ?, ?, ?, ?, ?, ?, ?, ?, ?), (?, ?, ?, ?, ?, ?, ?, ?, ?, ?), (?, ?, ?, ?, ?, ?, ?, ?, ?, ?)\n"
     ]
    },
    {
     "name": "stderr",
     "output_type": "stream",
     "text": [
      "[07-01 22:58:19] p17208 {C:\\Projects\\Private\\PropStar\\venv\\lib\\site-packages\\sqlalchemy\\engine\\base.py:2064} INFO - INSERT INTO room_occupancy_multiclass.original_table ([Room_Occupancy_Count], [Timestamp], id, sensor1_id, sensor2_id, sensor3_id, sensor4_id, sensor5_id, sensor6_id, sensor7_id) VALUES (?, ?, ?, ?, ?, ?, ?, ?, ?, ?), (?, ?, ?, ?, ?, ?, ?, ?, ?, ?),  ... 6522 characters truncated ... , ?), (?, ?, ?, ?, ?, ?, ?, ?, ?, ?), (?, ?, ?, ?, ?, ?, ?, ?, ?, ?), (?, ?, ?, ?, ?, ?, ?, ?, ?, ?)\n"
     ]
    },
    {
     "name": "stdout",
     "output_type": "stream",
     "text": [
      "2024-07-01 22:58:19,883 INFO sqlalchemy.engine.Engine [insertmanyvalues 38/49 (unordered)] (0, datetime.datetime(2017, 12, 26, 6, 8, 45), 7733, 831, 837, 912, 2052, 1533, 0, 0, 0, datetime.datetime(2017, 12, 26, 6, 9, 16), 7734, 831, 836, 908, 2051, 1533, 0, 0, 0, datetime.datetime(2017, 12, 26, 6, 9, 46), 7735, 831, 838, 911, 2055, 1533, 0, 0, 0, datetime.datetime(2017, 12, 26, 6, 10, 17), 7736, 829, 835, 908, 2054, 1533, 0, 0, 0, datetime.datetime(2017, 12, 26, 6, 10, 48), 7737, 831, 835, 911, 2056, 1533, 0, 0 ... 1990 parameters truncated ... 0, datetime.datetime(2017, 12, 26, 7, 54, 27), 7937, 853, 863, 1986, 2122, 2982, 0, 0, 0, datetime.datetime(2017, 12, 26, 7, 54, 57), 7938, 853, 862, 2449, 2123, 2982, 0, 0, 0, datetime.datetime(2017, 12, 26, 7, 55, 28), 7939, 1620, 860, 1986, 2124, 2982, 0, 0, 0, datetime.datetime(2017, 12, 26, 7, 55, 59), 7940, 853, 861, 1986, 2124, 2982, 0, 0, 0, datetime.datetime(2017, 12, 26, 7, 56, 29), 7941, 1620, 863, 1985, 2123, 2982, 0, 0)\n"
     ]
    },
    {
     "name": "stderr",
     "output_type": "stream",
     "text": [
      "[07-01 22:58:19] p17208 {C:\\Projects\\Private\\PropStar\\venv\\lib\\site-packages\\sqlalchemy\\engine\\base.py:2082} INFO - [insertmanyvalues 38/49 (unordered)] (0, datetime.datetime(2017, 12, 26, 6, 8, 45), 7733, 831, 837, 912, 2052, 1533, 0, 0, 0, datetime.datetime(2017, 12, 26, 6, 9, 16), 7734, 831, 836, 908, 2051, 1533, 0, 0, 0, datetime.datetime(2017, 12, 26, 6, 9, 46), 7735, 831, 838, 911, 2055, 1533, 0, 0, 0, datetime.datetime(2017, 12, 26, 6, 10, 17), 7736, 829, 835, 908, 2054, 1533, 0, 0, 0, datetime.datetime(2017, 12, 26, 6, 10, 48), 7737, 831, 835, 911, 2056, 1533, 0, 0 ... 1990 parameters truncated ... 0, datetime.datetime(2017, 12, 26, 7, 54, 27), 7937, 853, 863, 1986, 2122, 2982, 0, 0, 0, datetime.datetime(2017, 12, 26, 7, 54, 57), 7938, 853, 862, 2449, 2123, 2982, 0, 0, 0, datetime.datetime(2017, 12, 26, 7, 55, 28), 7939, 1620, 860, 1986, 2124, 2982, 0, 0, 0, datetime.datetime(2017, 12, 26, 7, 55, 59), 7940, 853, 861, 1986, 2124, 2982, 0, 0, 0, datetime.datetime(2017, 12, 26, 7, 56, 29), 7941, 1620, 863, 1985, 2123, 2982, 0, 0)\n"
     ]
    },
    {
     "name": "stdout",
     "output_type": "stream",
     "text": [
      "2024-07-01 22:58:19,891 INFO sqlalchemy.engine.Engine INSERT INTO room_occupancy_multiclass.original_table ([Room_Occupancy_Count], [Timestamp], id, sensor1_id, sensor2_id, sensor3_id, sensor4_id, sensor5_id, sensor6_id, sensor7_id) VALUES (?, ?, ?, ?, ?, ?, ?, ?, ?, ?), (?, ?, ?, ?, ?, ?, ?, ?, ?, ?),  ... 6522 characters truncated ... , ?), (?, ?, ?, ?, ?, ?, ?, ?, ?, ?), (?, ?, ?, ?, ?, ?, ?, ?, ?, ?), (?, ?, ?, ?, ?, ?, ?, ?, ?, ?)\n"
     ]
    },
    {
     "name": "stderr",
     "output_type": "stream",
     "text": [
      "[07-01 22:58:19] p17208 {C:\\Projects\\Private\\PropStar\\venv\\lib\\site-packages\\sqlalchemy\\engine\\base.py:2064} INFO - INSERT INTO room_occupancy_multiclass.original_table ([Room_Occupancy_Count], [Timestamp], id, sensor1_id, sensor2_id, sensor3_id, sensor4_id, sensor5_id, sensor6_id, sensor7_id) VALUES (?, ?, ?, ?, ?, ?, ?, ?, ?, ?), (?, ?, ?, ?, ?, ?, ?, ?, ?, ?),  ... 6522 characters truncated ... , ?), (?, ?, ?, ?, ?, ?, ?, ?, ?, ?), (?, ?, ?, ?, ?, ?, ?, ?, ?, ?), (?, ?, ?, ?, ?, ?, ?, ?, ?, ?)\n"
     ]
    },
    {
     "name": "stdout",
     "output_type": "stream",
     "text": [
      "2024-07-01 22:58:19,892 INFO sqlalchemy.engine.Engine [insertmanyvalues 39/49 (unordered)] (0, datetime.datetime(2017, 12, 26, 7, 57), 7942, 1620, 862, 2450, 2124, 2982, 0, 0, 0, datetime.datetime(2017, 12, 26, 7, 57, 30), 7943, 1620, 862, 1985, 2122, 2982, 0, 0, 0, datetime.datetime(2017, 12, 26, 7, 58, 1), 7944, 853, 862, 2451, 2121, 2982, 0, 0, 0, datetime.datetime(2017, 12, 26, 7, 58, 32), 7945, 852, 863, 1991, 2125, 2982, 0, 0, 0, datetime.datetime(2017, 12, 26, 7, 59, 2), 7946, 852, 862, 1991, 2121, 2982, 0, 0 ... 1990 parameters truncated ... 3, datetime.datetime(2018, 1, 10, 15, 57, 27), 8146, 1858, 1917, 2538, 2218, 3083, 1, 1, 3, datetime.datetime(2018, 1, 10, 15, 57, 58), 8147, 1859, 1918, 2539, 2219, 3084, 1, 1, 3, datetime.datetime(2018, 1, 10, 15, 58, 28), 8148, 1860, 1919, 2540, 2220, 3085, 1, 1, 3, datetime.datetime(2018, 1, 10, 15, 58, 59), 8149, 1861, 1920, 2541, 2221, 3086, 1, 1, 3, datetime.datetime(2018, 1, 10, 15, 59, 30), 8150, 1862, 1921, 2541, 2222, 3087, 0, 1)\n"
     ]
    },
    {
     "name": "stderr",
     "output_type": "stream",
     "text": [
      "[07-01 22:58:19] p17208 {C:\\Projects\\Private\\PropStar\\venv\\lib\\site-packages\\sqlalchemy\\engine\\base.py:2082} INFO - [insertmanyvalues 39/49 (unordered)] (0, datetime.datetime(2017, 12, 26, 7, 57), 7942, 1620, 862, 2450, 2124, 2982, 0, 0, 0, datetime.datetime(2017, 12, 26, 7, 57, 30), 7943, 1620, 862, 1985, 2122, 2982, 0, 0, 0, datetime.datetime(2017, 12, 26, 7, 58, 1), 7944, 853, 862, 2451, 2121, 2982, 0, 0, 0, datetime.datetime(2017, 12, 26, 7, 58, 32), 7945, 852, 863, 1991, 2125, 2982, 0, 0, 0, datetime.datetime(2017, 12, 26, 7, 59, 2), 7946, 852, 862, 1991, 2121, 2982, 0, 0 ... 1990 parameters truncated ... 3, datetime.datetime(2018, 1, 10, 15, 57, 27), 8146, 1858, 1917, 2538, 2218, 3083, 1, 1, 3, datetime.datetime(2018, 1, 10, 15, 57, 58), 8147, 1859, 1918, 2539, 2219, 3084, 1, 1, 3, datetime.datetime(2018, 1, 10, 15, 58, 28), 8148, 1860, 1919, 2540, 2220, 3085, 1, 1, 3, datetime.datetime(2018, 1, 10, 15, 58, 59), 8149, 1861, 1920, 2541, 2221, 3086, 1, 1, 3, datetime.datetime(2018, 1, 10, 15, 59, 30), 8150, 1862, 1921, 2541, 2222, 3087, 0, 1)\n"
     ]
    },
    {
     "name": "stdout",
     "output_type": "stream",
     "text": [
      "2024-07-01 22:58:19,899 INFO sqlalchemy.engine.Engine INSERT INTO room_occupancy_multiclass.original_table ([Room_Occupancy_Count], [Timestamp], id, sensor1_id, sensor2_id, sensor3_id, sensor4_id, sensor5_id, sensor6_id, sensor7_id) VALUES (?, ?, ?, ?, ?, ?, ?, ?, ?, ?), (?, ?, ?, ?, ?, ?, ?, ?, ?, ?),  ... 6522 characters truncated ... , ?), (?, ?, ?, ?, ?, ?, ?, ?, ?, ?), (?, ?, ?, ?, ?, ?, ?, ?, ?, ?), (?, ?, ?, ?, ?, ?, ?, ?, ?, ?)\n"
     ]
    },
    {
     "name": "stderr",
     "output_type": "stream",
     "text": [
      "[07-01 22:58:19] p17208 {C:\\Projects\\Private\\PropStar\\venv\\lib\\site-packages\\sqlalchemy\\engine\\base.py:2064} INFO - INSERT INTO room_occupancy_multiclass.original_table ([Room_Occupancy_Count], [Timestamp], id, sensor1_id, sensor2_id, sensor3_id, sensor4_id, sensor5_id, sensor6_id, sensor7_id) VALUES (?, ?, ?, ?, ?, ?, ?, ?, ?, ?), (?, ?, ?, ?, ?, ?, ?, ?, ?, ?),  ... 6522 characters truncated ... , ?), (?, ?, ?, ?, ?, ?, ?, ?, ?, ?), (?, ?, ?, ?, ?, ?, ?, ?, ?, ?), (?, ?, ?, ?, ?, ?, ?, ?, ?, ?)\n"
     ]
    },
    {
     "name": "stdout",
     "output_type": "stream",
     "text": [
      "2024-07-01 22:58:19,901 INFO sqlalchemy.engine.Engine [insertmanyvalues 40/49 (unordered)] (3, datetime.datetime(2018, 1, 10, 16, 0), 8151, 1863, 1922, 2541, 2222, 3088, 0, 0, 3, datetime.datetime(2018, 1, 10, 16, 0, 31), 8152, 1863, 1923, 2542, 2223, 3089, 0, 0, 3, datetime.datetime(2018, 1, 10, 16, 1, 2), 8153, 1864, 1924, 2543, 2224, 3090, 1, 1, 3, datetime.datetime(2018, 1, 10, 16, 1, 32), 8154, 1865, 1925, 2544, 2225, 3091, 1, 1, 3, datetime.datetime(2018, 1, 10, 16, 2, 3), 8155, 1866, 1926, 2545, 2226, 3092, 0, 1 ... 1990 parameters truncated ... 2, datetime.datetime(2018, 1, 10, 17, 45, 42), 8355, 2036, 2106, 2719, 2360, 3287, 0, 0, 2, datetime.datetime(2018, 1, 10, 17, 46, 13), 8356, 2037, 2107, 2720, 2360, 3288, 0, 0, 2, datetime.datetime(2018, 1, 10, 17, 46, 43), 8357, 2038, 2108, 2721, 2368, 3289, 0, 0, 2, datetime.datetime(2018, 1, 10, 17, 47, 14), 8358, 2039, 2109, 2715, 2365, 3290, 1, 0, 2, datetime.datetime(2018, 1, 10, 17, 47, 45), 8359, 2026, 2110, 2722, 2369, 3291, 1, 0)\n"
     ]
    },
    {
     "name": "stderr",
     "output_type": "stream",
     "text": [
      "[07-01 22:58:19] p17208 {C:\\Projects\\Private\\PropStar\\venv\\lib\\site-packages\\sqlalchemy\\engine\\base.py:2082} INFO - [insertmanyvalues 40/49 (unordered)] (3, datetime.datetime(2018, 1, 10, 16, 0), 8151, 1863, 1922, 2541, 2222, 3088, 0, 0, 3, datetime.datetime(2018, 1, 10, 16, 0, 31), 8152, 1863, 1923, 2542, 2223, 3089, 0, 0, 3, datetime.datetime(2018, 1, 10, 16, 1, 2), 8153, 1864, 1924, 2543, 2224, 3090, 1, 1, 3, datetime.datetime(2018, 1, 10, 16, 1, 32), 8154, 1865, 1925, 2544, 2225, 3091, 1, 1, 3, datetime.datetime(2018, 1, 10, 16, 2, 3), 8155, 1866, 1926, 2545, 2226, 3092, 0, 1 ... 1990 parameters truncated ... 2, datetime.datetime(2018, 1, 10, 17, 45, 42), 8355, 2036, 2106, 2719, 2360, 3287, 0, 0, 2, datetime.datetime(2018, 1, 10, 17, 46, 13), 8356, 2037, 2107, 2720, 2360, 3288, 0, 0, 2, datetime.datetime(2018, 1, 10, 17, 46, 43), 8357, 2038, 2108, 2721, 2368, 3289, 0, 0, 2, datetime.datetime(2018, 1, 10, 17, 47, 14), 8358, 2039, 2109, 2715, 2365, 3290, 1, 0, 2, datetime.datetime(2018, 1, 10, 17, 47, 45), 8359, 2026, 2110, 2722, 2369, 3291, 1, 0)\n"
     ]
    },
    {
     "name": "stdout",
     "output_type": "stream",
     "text": [
      "2024-07-01 22:58:19,908 INFO sqlalchemy.engine.Engine INSERT INTO room_occupancy_multiclass.original_table ([Room_Occupancy_Count], [Timestamp], id, sensor1_id, sensor2_id, sensor3_id, sensor4_id, sensor5_id, sensor6_id, sensor7_id) VALUES (?, ?, ?, ?, ?, ?, ?, ?, ?, ?), (?, ?, ?, ?, ?, ?, ?, ?, ?, ?),  ... 6522 characters truncated ... , ?), (?, ?, ?, ?, ?, ?, ?, ?, ?, ?), (?, ?, ?, ?, ?, ?, ?, ?, ?, ?), (?, ?, ?, ?, ?, ?, ?, ?, ?, ?)\n"
     ]
    },
    {
     "name": "stderr",
     "output_type": "stream",
     "text": [
      "[07-01 22:58:19] p17208 {C:\\Projects\\Private\\PropStar\\venv\\lib\\site-packages\\sqlalchemy\\engine\\base.py:2064} INFO - INSERT INTO room_occupancy_multiclass.original_table ([Room_Occupancy_Count], [Timestamp], id, sensor1_id, sensor2_id, sensor3_id, sensor4_id, sensor5_id, sensor6_id, sensor7_id) VALUES (?, ?, ?, ?, ?, ?, ?, ?, ?, ?), (?, ?, ?, ?, ?, ?, ?, ?, ?, ?),  ... 6522 characters truncated ... , ?), (?, ?, ?, ?, ?, ?, ?, ?, ?, ?), (?, ?, ?, ?, ?, ?, ?, ?, ?, ?), (?, ?, ?, ?, ?, ?, ?, ?, ?, ?)\n"
     ]
    },
    {
     "name": "stdout",
     "output_type": "stream",
     "text": [
      "2024-07-01 22:58:19,909 INFO sqlalchemy.engine.Engine [insertmanyvalues 41/49 (unordered)] (2, datetime.datetime(2018, 1, 10, 17, 48, 15), 8360, 2040, 2111, 2723, 2370, 3292, 1, 1, 2, datetime.datetime(2018, 1, 10, 17, 48, 46), 8361, 2041, 2112, 2724, 2362, 3293, 0, 1, 2, datetime.datetime(2018, 1, 10, 17, 49, 17), 8362, 2039, 2113, 2725, 2371, 3294, 0, 0, 2, datetime.datetime(2018, 1, 10, 17, 49, 47), 8363, 2042, 2101, 2726, 2372, 3295, 1, 0, 2, datetime.datetime(2018, 1, 10, 17, 50, 18), 8364, 2038, 2114, 2727, 2373, 3296, 1, 1 ... 1990 parameters truncated ... 0, datetime.datetime(2018, 1, 10, 19, 33, 26), 8564, 2066, 812, 878, 2041, 3488, 0, 0, 0, datetime.datetime(2018, 1, 10, 19, 33, 57), 8565, 810, 818, 877, 2387, 3489, 0, 0, 0, datetime.datetime(2018, 1, 10, 19, 34, 27), 8566, 806, 817, 877, 2041, 3490, 0, 0, 0, datetime.datetime(2018, 1, 10, 19, 34, 58), 8567, 2067, 817, 878, 2040, 3491, 0, 0, 0, datetime.datetime(2018, 1, 10, 19, 35, 29), 8568, 810, 818, 878, 2040, 3492, 0, 0)\n"
     ]
    },
    {
     "name": "stderr",
     "output_type": "stream",
     "text": [
      "[07-01 22:58:19] p17208 {C:\\Projects\\Private\\PropStar\\venv\\lib\\site-packages\\sqlalchemy\\engine\\base.py:2082} INFO - [insertmanyvalues 41/49 (unordered)] (2, datetime.datetime(2018, 1, 10, 17, 48, 15), 8360, 2040, 2111, 2723, 2370, 3292, 1, 1, 2, datetime.datetime(2018, 1, 10, 17, 48, 46), 8361, 2041, 2112, 2724, 2362, 3293, 0, 1, 2, datetime.datetime(2018, 1, 10, 17, 49, 17), 8362, 2039, 2113, 2725, 2371, 3294, 0, 0, 2, datetime.datetime(2018, 1, 10, 17, 49, 47), 8363, 2042, 2101, 2726, 2372, 3295, 1, 0, 2, datetime.datetime(2018, 1, 10, 17, 50, 18), 8364, 2038, 2114, 2727, 2373, 3296, 1, 1 ... 1990 parameters truncated ... 0, datetime.datetime(2018, 1, 10, 19, 33, 26), 8564, 2066, 812, 878, 2041, 3488, 0, 0, 0, datetime.datetime(2018, 1, 10, 19, 33, 57), 8565, 810, 818, 877, 2387, 3489, 0, 0, 0, datetime.datetime(2018, 1, 10, 19, 34, 27), 8566, 806, 817, 877, 2041, 3490, 0, 0, 0, datetime.datetime(2018, 1, 10, 19, 34, 58), 8567, 2067, 817, 878, 2040, 3491, 0, 0, 0, datetime.datetime(2018, 1, 10, 19, 35, 29), 8568, 810, 818, 878, 2040, 3492, 0, 0)\n"
     ]
    },
    {
     "name": "stdout",
     "output_type": "stream",
     "text": [
      "2024-07-01 22:58:19,916 INFO sqlalchemy.engine.Engine INSERT INTO room_occupancy_multiclass.original_table ([Room_Occupancy_Count], [Timestamp], id, sensor1_id, sensor2_id, sensor3_id, sensor4_id, sensor5_id, sensor6_id, sensor7_id) VALUES (?, ?, ?, ?, ?, ?, ?, ?, ?, ?), (?, ?, ?, ?, ?, ?, ?, ?, ?, ?),  ... 6522 characters truncated ... , ?), (?, ?, ?, ?, ?, ?, ?, ?, ?, ?), (?, ?, ?, ?, ?, ?, ?, ?, ?, ?), (?, ?, ?, ?, ?, ?, ?, ?, ?, ?)\n"
     ]
    },
    {
     "name": "stderr",
     "output_type": "stream",
     "text": [
      "[07-01 22:58:19] p17208 {C:\\Projects\\Private\\PropStar\\venv\\lib\\site-packages\\sqlalchemy\\engine\\base.py:2064} INFO - INSERT INTO room_occupancy_multiclass.original_table ([Room_Occupancy_Count], [Timestamp], id, sensor1_id, sensor2_id, sensor3_id, sensor4_id, sensor5_id, sensor6_id, sensor7_id) VALUES (?, ?, ?, ?, ?, ?, ?, ?, ?, ?), (?, ?, ?, ?, ?, ?, ?, ?, ?, ?),  ... 6522 characters truncated ... , ?), (?, ?, ?, ?, ?, ?, ?, ?, ?, ?), (?, ?, ?, ?, ?, ?, ?, ?, ?, ?), (?, ?, ?, ?, ?, ?, ?, ?, ?, ?)\n"
     ]
    },
    {
     "name": "stdout",
     "output_type": "stream",
     "text": [
      "2024-07-01 22:58:19,917 INFO sqlalchemy.engine.Engine [insertmanyvalues 42/49 (unordered)] (0, datetime.datetime(2018, 1, 10, 19, 35, 59), 8569, 808, 818, 877, 2041, 3493, 0, 0, 0, datetime.datetime(2018, 1, 10, 19, 36, 30), 8570, 806, 817, 877, 2041, 3494, 0, 0, 0, datetime.datetime(2018, 1, 10, 19, 37, 1), 8571, 2066, 817, 878, 2041, 3494, 0, 0, 0, datetime.datetime(2018, 1, 10, 19, 37, 31), 8572, 805, 817, 878, 1521, 3495, 0, 0, 0, datetime.datetime(2018, 1, 10, 19, 38, 2), 8573, 810, 817, 881, 1521, 3496, 0, 0 ... 1990 parameters truncated ... 0, datetime.datetime(2018, 1, 10, 21, 21, 10), 8773, 817, 823, 889, 2049, 1413, 0, 0, 0, datetime.datetime(2018, 1, 10, 21, 21, 41), 8774, 817, 829, 887, 2052, 1394, 0, 0, 0, datetime.datetime(2018, 1, 10, 21, 22, 11), 8775, 821, 829, 888, 2389, 1419, 0, 0, 0, datetime.datetime(2018, 1, 10, 21, 22, 42), 8776, 821, 829, 889, 2049, 1419, 0, 0, 0, datetime.datetime(2018, 1, 10, 21, 23, 13), 8777, 817, 829, 887, 2049, 1419, 0, 0)\n"
     ]
    },
    {
     "name": "stderr",
     "output_type": "stream",
     "text": [
      "[07-01 22:58:19] p17208 {C:\\Projects\\Private\\PropStar\\venv\\lib\\site-packages\\sqlalchemy\\engine\\base.py:2082} INFO - [insertmanyvalues 42/49 (unordered)] (0, datetime.datetime(2018, 1, 10, 19, 35, 59), 8569, 808, 818, 877, 2041, 3493, 0, 0, 0, datetime.datetime(2018, 1, 10, 19, 36, 30), 8570, 806, 817, 877, 2041, 3494, 0, 0, 0, datetime.datetime(2018, 1, 10, 19, 37, 1), 8571, 2066, 817, 878, 2041, 3494, 0, 0, 0, datetime.datetime(2018, 1, 10, 19, 37, 31), 8572, 805, 817, 878, 1521, 3495, 0, 0, 0, datetime.datetime(2018, 1, 10, 19, 38, 2), 8573, 810, 817, 881, 1521, 3496, 0, 0 ... 1990 parameters truncated ... 0, datetime.datetime(2018, 1, 10, 21, 21, 10), 8773, 817, 823, 889, 2049, 1413, 0, 0, 0, datetime.datetime(2018, 1, 10, 21, 21, 41), 8774, 817, 829, 887, 2052, 1394, 0, 0, 0, datetime.datetime(2018, 1, 10, 21, 22, 11), 8775, 821, 829, 888, 2389, 1419, 0, 0, 0, datetime.datetime(2018, 1, 10, 21, 22, 42), 8776, 821, 829, 889, 2049, 1419, 0, 0, 0, datetime.datetime(2018, 1, 10, 21, 23, 13), 8777, 817, 829, 887, 2049, 1419, 0, 0)\n"
     ]
    },
    {
     "name": "stdout",
     "output_type": "stream",
     "text": [
      "2024-07-01 22:58:19,924 INFO sqlalchemy.engine.Engine INSERT INTO room_occupancy_multiclass.original_table ([Room_Occupancy_Count], [Timestamp], id, sensor1_id, sensor2_id, sensor3_id, sensor4_id, sensor5_id, sensor6_id, sensor7_id) VALUES (?, ?, ?, ?, ?, ?, ?, ?, ?, ?), (?, ?, ?, ?, ?, ?, ?, ?, ?, ?),  ... 6522 characters truncated ... , ?), (?, ?, ?, ?, ?, ?, ?, ?, ?, ?), (?, ?, ?, ?, ?, ?, ?, ?, ?, ?), (?, ?, ?, ?, ?, ?, ?, ?, ?, ?)\n"
     ]
    },
    {
     "name": "stderr",
     "output_type": "stream",
     "text": [
      "[07-01 22:58:19] p17208 {C:\\Projects\\Private\\PropStar\\venv\\lib\\site-packages\\sqlalchemy\\engine\\base.py:2064} INFO - INSERT INTO room_occupancy_multiclass.original_table ([Room_Occupancy_Count], [Timestamp], id, sensor1_id, sensor2_id, sensor3_id, sensor4_id, sensor5_id, sensor6_id, sensor7_id) VALUES (?, ?, ?, ?, ?, ?, ?, ?, ?, ?), (?, ?, ?, ?, ?, ?, ?, ?, ?, ?),  ... 6522 characters truncated ... , ?), (?, ?, ?, ?, ?, ?, ?, ?, ?, ?), (?, ?, ?, ?, ?, ?, ?, ?, ?, ?), (?, ?, ?, ?, ?, ?, ?, ?, ?, ?)\n"
     ]
    },
    {
     "name": "stdout",
     "output_type": "stream",
     "text": [
      "2024-07-01 22:58:19,926 INFO sqlalchemy.engine.Engine [insertmanyvalues 43/49 (unordered)] (0, datetime.datetime(2018, 1, 10, 21, 23, 43), 8778, 817, 829, 887, 2049, 1419, 0, 0, 0, datetime.datetime(2018, 1, 10, 21, 24, 14), 8779, 821, 829, 887, 1520, 1419, 0, 0, 0, datetime.datetime(2018, 1, 10, 21, 24, 44), 8780, 815, 824, 889, 2389, 1419, 0, 0, 0, datetime.datetime(2018, 1, 10, 21, 25, 15), 8781, 817, 823, 888, 2049, 1419, 0, 0, 0, datetime.datetime(2018, 1, 10, 21, 25, 46), 8782, 816, 824, 889, 2389, 1419, 0, 0 ... 1990 parameters truncated ... 0, datetime.datetime(2018, 1, 10, 23, 8, 54), 8982, 822, 833, 901, 2390, 3651, 0, 0, 0, datetime.datetime(2018, 1, 10, 23, 9, 25), 8983, 827, 833, 896, 2056, 3651, 0, 0, 0, datetime.datetime(2018, 1, 10, 23, 9, 55), 8984, 827, 833, 901, 2056, 3651, 0, 0, 0, datetime.datetime(2018, 1, 10, 23, 10, 26), 8985, 822, 833, 897, 2056, 3651, 0, 0, 0, datetime.datetime(2018, 1, 10, 23, 10, 57), 8986, 824, 833, 898, 2055, 3651, 0, 0)\n"
     ]
    },
    {
     "name": "stderr",
     "output_type": "stream",
     "text": [
      "[07-01 22:58:19] p17208 {C:\\Projects\\Private\\PropStar\\venv\\lib\\site-packages\\sqlalchemy\\engine\\base.py:2082} INFO - [insertmanyvalues 43/49 (unordered)] (0, datetime.datetime(2018, 1, 10, 21, 23, 43), 8778, 817, 829, 887, 2049, 1419, 0, 0, 0, datetime.datetime(2018, 1, 10, 21, 24, 14), 8779, 821, 829, 887, 1520, 1419, 0, 0, 0, datetime.datetime(2018, 1, 10, 21, 24, 44), 8780, 815, 824, 889, 2389, 1419, 0, 0, 0, datetime.datetime(2018, 1, 10, 21, 25, 15), 8781, 817, 823, 888, 2049, 1419, 0, 0, 0, datetime.datetime(2018, 1, 10, 21, 25, 46), 8782, 816, 824, 889, 2389, 1419, 0, 0 ... 1990 parameters truncated ... 0, datetime.datetime(2018, 1, 10, 23, 8, 54), 8982, 822, 833, 901, 2390, 3651, 0, 0, 0, datetime.datetime(2018, 1, 10, 23, 9, 25), 8983, 827, 833, 896, 2056, 3651, 0, 0, 0, datetime.datetime(2018, 1, 10, 23, 9, 55), 8984, 827, 833, 901, 2056, 3651, 0, 0, 0, datetime.datetime(2018, 1, 10, 23, 10, 26), 8985, 822, 833, 897, 2056, 3651, 0, 0, 0, datetime.datetime(2018, 1, 10, 23, 10, 57), 8986, 824, 833, 898, 2055, 3651, 0, 0)\n"
     ]
    },
    {
     "name": "stdout",
     "output_type": "stream",
     "text": [
      "2024-07-01 22:58:19,933 INFO sqlalchemy.engine.Engine INSERT INTO room_occupancy_multiclass.original_table ([Room_Occupancy_Count], [Timestamp], id, sensor1_id, sensor2_id, sensor3_id, sensor4_id, sensor5_id, sensor6_id, sensor7_id) VALUES (?, ?, ?, ?, ?, ?, ?, ?, ?, ?), (?, ?, ?, ?, ?, ?, ?, ?, ?, ?),  ... 6522 characters truncated ... , ?), (?, ?, ?, ?, ?, ?, ?, ?, ?, ?), (?, ?, ?, ?, ?, ?, ?, ?, ?, ?), (?, ?, ?, ?, ?, ?, ?, ?, ?, ?)\n"
     ]
    },
    {
     "name": "stderr",
     "output_type": "stream",
     "text": [
      "[07-01 22:58:19] p17208 {C:\\Projects\\Private\\PropStar\\venv\\lib\\site-packages\\sqlalchemy\\engine\\base.py:2064} INFO - INSERT INTO room_occupancy_multiclass.original_table ([Room_Occupancy_Count], [Timestamp], id, sensor1_id, sensor2_id, sensor3_id, sensor4_id, sensor5_id, sensor6_id, sensor7_id) VALUES (?, ?, ?, ?, ?, ?, ?, ?, ?, ?), (?, ?, ?, ?, ?, ?, ?, ?, ?, ?),  ... 6522 characters truncated ... , ?), (?, ?, ?, ?, ?, ?, ?, ?, ?, ?), (?, ?, ?, ?, ?, ?, ?, ?, ?, ?), (?, ?, ?, ?, ?, ?, ?, ?, ?, ?)\n"
     ]
    },
    {
     "name": "stdout",
     "output_type": "stream",
     "text": [
      "2024-07-01 22:58:19,934 INFO sqlalchemy.engine.Engine [insertmanyvalues 44/49 (unordered)] (0, datetime.datetime(2018, 1, 10, 23, 11, 27), 8987, 822, 833, 897, 2055, 3651, 0, 0, 0, datetime.datetime(2018, 1, 10, 23, 11, 58), 8988, 828, 831, 897, 2055, 3651, 0, 0, 0, datetime.datetime(2018, 1, 10, 23, 12, 59), 8989, 822, 831, 901, 2390, 3651, 0, 0, 0, datetime.datetime(2018, 1, 10, 23, 13, 30), 8990, 827, 833, 896, 2055, 3651, 0, 0, 0, datetime.datetime(2018, 1, 10, 23, 14), 8991, 822, 833, 901, 2056, 3651, 0, 0 ... 1990 parameters truncated ... 0, datetime.datetime(2018, 1, 11, 0, 57, 9), 9191, 831, 835, 900, 2394, 3651, 0, 0, 0, datetime.datetime(2018, 1, 11, 0, 57, 39), 9192, 829, 837, 900, 2060, 3651, 0, 0, 0, datetime.datetime(2018, 1, 11, 0, 58, 10), 9193, 829, 837, 900, 2392, 3651, 0, 0, 0, datetime.datetime(2018, 1, 11, 0, 58, 41), 9194, 829, 835, 905, 2392, 3651, 0, 0, 0, datetime.datetime(2018, 1, 11, 0, 59, 11), 9195, 829, 835, 900, 2394, 3651, 0, 0)\n"
     ]
    },
    {
     "name": "stderr",
     "output_type": "stream",
     "text": [
      "[07-01 22:58:19] p17208 {C:\\Projects\\Private\\PropStar\\venv\\lib\\site-packages\\sqlalchemy\\engine\\base.py:2082} INFO - [insertmanyvalues 44/49 (unordered)] (0, datetime.datetime(2018, 1, 10, 23, 11, 27), 8987, 822, 833, 897, 2055, 3651, 0, 0, 0, datetime.datetime(2018, 1, 10, 23, 11, 58), 8988, 828, 831, 897, 2055, 3651, 0, 0, 0, datetime.datetime(2018, 1, 10, 23, 12, 59), 8989, 822, 831, 901, 2390, 3651, 0, 0, 0, datetime.datetime(2018, 1, 10, 23, 13, 30), 8990, 827, 833, 896, 2055, 3651, 0, 0, 0, datetime.datetime(2018, 1, 10, 23, 14), 8991, 822, 833, 901, 2056, 3651, 0, 0 ... 1990 parameters truncated ... 0, datetime.datetime(2018, 1, 11, 0, 57, 9), 9191, 831, 835, 900, 2394, 3651, 0, 0, 0, datetime.datetime(2018, 1, 11, 0, 57, 39), 9192, 829, 837, 900, 2060, 3651, 0, 0, 0, datetime.datetime(2018, 1, 11, 0, 58, 10), 9193, 829, 837, 900, 2392, 3651, 0, 0, 0, datetime.datetime(2018, 1, 11, 0, 58, 41), 9194, 829, 835, 905, 2392, 3651, 0, 0, 0, datetime.datetime(2018, 1, 11, 0, 59, 11), 9195, 829, 835, 900, 2394, 3651, 0, 0)\n"
     ]
    },
    {
     "name": "stdout",
     "output_type": "stream",
     "text": [
      "2024-07-01 22:58:19,943 INFO sqlalchemy.engine.Engine INSERT INTO room_occupancy_multiclass.original_table ([Room_Occupancy_Count], [Timestamp], id, sensor1_id, sensor2_id, sensor3_id, sensor4_id, sensor5_id, sensor6_id, sensor7_id) VALUES (?, ?, ?, ?, ?, ?, ?, ?, ?, ?), (?, ?, ?, ?, ?, ?, ?, ?, ?, ?),  ... 6522 characters truncated ... , ?), (?, ?, ?, ?, ?, ?, ?, ?, ?, ?), (?, ?, ?, ?, ?, ?, ?, ?, ?, ?), (?, ?, ?, ?, ?, ?, ?, ?, ?, ?)\n"
     ]
    },
    {
     "name": "stderr",
     "output_type": "stream",
     "text": [
      "[07-01 22:58:19] p17208 {C:\\Projects\\Private\\PropStar\\venv\\lib\\site-packages\\sqlalchemy\\engine\\base.py:2064} INFO - INSERT INTO room_occupancy_multiclass.original_table ([Room_Occupancy_Count], [Timestamp], id, sensor1_id, sensor2_id, sensor3_id, sensor4_id, sensor5_id, sensor6_id, sensor7_id) VALUES (?, ?, ?, ?, ?, ?, ?, ?, ?, ?), (?, ?, ?, ?, ?, ?, ?, ?, ?, ?),  ... 6522 characters truncated ... , ?), (?, ?, ?, ?, ?, ?, ?, ?, ?, ?), (?, ?, ?, ?, ?, ?, ?, ?, ?, ?), (?, ?, ?, ?, ?, ?, ?, ?, ?, ?)\n"
     ]
    },
    {
     "name": "stdout",
     "output_type": "stream",
     "text": [
      "2024-07-01 22:58:19,944 INFO sqlalchemy.engine.Engine [insertmanyvalues 45/49 (unordered)] (0, datetime.datetime(2018, 1, 11, 0, 59, 42), 9196, 829, 835, 904, 2392, 3651, 0, 0, 0, datetime.datetime(2018, 1, 11, 1, 0, 12), 9197, 831, 837, 900, 2060, 3651, 0, 0, 0, datetime.datetime(2018, 1, 11, 1, 0, 43), 9198, 829, 835, 900, 2060, 3651, 0, 0, 0, datetime.datetime(2018, 1, 11, 1, 1, 14), 9199, 829, 837, 904, 2060, 3651, 0, 0, 0, datetime.datetime(2018, 1, 11, 1, 1, 44), 9200, 829, 835, 906, 2060, 3651, 0, 0 ... 1990 parameters truncated ... 0, datetime.datetime(2018, 1, 11, 2, 44, 53), 9400, 829, 840, 908, 2395, 3651, 0, 0, 0, datetime.datetime(2018, 1, 11, 2, 45, 23), 9401, 829, 838, 907, 2394, 3651, 0, 0, 0, datetime.datetime(2018, 1, 11, 2, 45, 54), 9402, 831, 840, 908, 2395, 3651, 0, 0, 0, datetime.datetime(2018, 1, 11, 2, 46, 25), 9403, 829, 838, 910, 2394, 3651, 0, 0, 0, datetime.datetime(2018, 1, 11, 2, 46, 55), 9404, 829, 840, 910, 2393, 3651, 0, 0)\n"
     ]
    },
    {
     "name": "stderr",
     "output_type": "stream",
     "text": [
      "[07-01 22:58:19] p17208 {C:\\Projects\\Private\\PropStar\\venv\\lib\\site-packages\\sqlalchemy\\engine\\base.py:2082} INFO - [insertmanyvalues 45/49 (unordered)] (0, datetime.datetime(2018, 1, 11, 0, 59, 42), 9196, 829, 835, 904, 2392, 3651, 0, 0, 0, datetime.datetime(2018, 1, 11, 1, 0, 12), 9197, 831, 837, 900, 2060, 3651, 0, 0, 0, datetime.datetime(2018, 1, 11, 1, 0, 43), 9198, 829, 835, 900, 2060, 3651, 0, 0, 0, datetime.datetime(2018, 1, 11, 1, 1, 14), 9199, 829, 837, 904, 2060, 3651, 0, 0, 0, datetime.datetime(2018, 1, 11, 1, 1, 44), 9200, 829, 835, 906, 2060, 3651, 0, 0 ... 1990 parameters truncated ... 0, datetime.datetime(2018, 1, 11, 2, 44, 53), 9400, 829, 840, 908, 2395, 3651, 0, 0, 0, datetime.datetime(2018, 1, 11, 2, 45, 23), 9401, 829, 838, 907, 2394, 3651, 0, 0, 0, datetime.datetime(2018, 1, 11, 2, 45, 54), 9402, 831, 840, 908, 2395, 3651, 0, 0, 0, datetime.datetime(2018, 1, 11, 2, 46, 25), 9403, 829, 838, 910, 2394, 3651, 0, 0, 0, datetime.datetime(2018, 1, 11, 2, 46, 55), 9404, 829, 840, 910, 2393, 3651, 0, 0)\n"
     ]
    },
    {
     "name": "stdout",
     "output_type": "stream",
     "text": [
      "2024-07-01 22:58:19,950 INFO sqlalchemy.engine.Engine INSERT INTO room_occupancy_multiclass.original_table ([Room_Occupancy_Count], [Timestamp], id, sensor1_id, sensor2_id, sensor3_id, sensor4_id, sensor5_id, sensor6_id, sensor7_id) VALUES (?, ?, ?, ?, ?, ?, ?, ?, ?, ?), (?, ?, ?, ?, ?, ?, ?, ?, ?, ?),  ... 6522 characters truncated ... , ?), (?, ?, ?, ?, ?, ?, ?, ?, ?, ?), (?, ?, ?, ?, ?, ?, ?, ?, ?, ?), (?, ?, ?, ?, ?, ?, ?, ?, ?, ?)\n"
     ]
    },
    {
     "name": "stderr",
     "output_type": "stream",
     "text": [
      "[07-01 22:58:19] p17208 {C:\\Projects\\Private\\PropStar\\venv\\lib\\site-packages\\sqlalchemy\\engine\\base.py:2064} INFO - INSERT INTO room_occupancy_multiclass.original_table ([Room_Occupancy_Count], [Timestamp], id, sensor1_id, sensor2_id, sensor3_id, sensor4_id, sensor5_id, sensor6_id, sensor7_id) VALUES (?, ?, ?, ?, ?, ?, ?, ?, ?, ?), (?, ?, ?, ?, ?, ?, ?, ?, ?, ?),  ... 6522 characters truncated ... , ?), (?, ?, ?, ?, ?, ?, ?, ?, ?, ?), (?, ?, ?, ?, ?, ?, ?, ?, ?, ?), (?, ?, ?, ?, ?, ?, ?, ?, ?, ?)\n"
     ]
    },
    {
     "name": "stdout",
     "output_type": "stream",
     "text": [
      "2024-07-01 22:58:19,952 INFO sqlalchemy.engine.Engine [insertmanyvalues 46/49 (unordered)] (0, datetime.datetime(2018, 1, 11, 2, 47, 26), 9405, 829, 838, 908, 2394, 3651, 0, 0, 0, datetime.datetime(2018, 1, 11, 2, 47, 56), 9406, 829, 838, 910, 2394, 3651, 0, 0, 0, datetime.datetime(2018, 1, 11, 2, 48, 27), 9407, 829, 840, 906, 2394, 3651, 0, 0, 0, datetime.datetime(2018, 1, 11, 2, 48, 58), 9408, 829, 838, 906, 2393, 3651, 0, 0, 0, datetime.datetime(2018, 1, 11, 2, 49, 28), 9409, 829, 840, 908, 2394, 3651, 0, 0 ... 1990 parameters truncated ... 0, datetime.datetime(2018, 1, 11, 4, 32, 37), 9609, 829, 845, 913, 2394, 3651, 0, 0, 0, datetime.datetime(2018, 1, 11, 4, 33, 7), 9610, 831, 845, 911, 2394, 3651, 0, 0, 0, datetime.datetime(2018, 1, 11, 4, 33, 38), 9611, 831, 845, 908, 2393, 3651, 0, 0, 0, datetime.datetime(2018, 1, 11, 4, 34, 9), 9612, 831, 842, 911, 2394, 3651, 0, 0, 0, datetime.datetime(2018, 1, 11, 4, 34, 39), 9613, 831, 842, 911, 2393, 3651, 0, 0)\n"
     ]
    },
    {
     "name": "stderr",
     "output_type": "stream",
     "text": [
      "[07-01 22:58:19] p17208 {C:\\Projects\\Private\\PropStar\\venv\\lib\\site-packages\\sqlalchemy\\engine\\base.py:2082} INFO - [insertmanyvalues 46/49 (unordered)] (0, datetime.datetime(2018, 1, 11, 2, 47, 26), 9405, 829, 838, 908, 2394, 3651, 0, 0, 0, datetime.datetime(2018, 1, 11, 2, 47, 56), 9406, 829, 838, 910, 2394, 3651, 0, 0, 0, datetime.datetime(2018, 1, 11, 2, 48, 27), 9407, 829, 840, 906, 2394, 3651, 0, 0, 0, datetime.datetime(2018, 1, 11, 2, 48, 58), 9408, 829, 838, 906, 2393, 3651, 0, 0, 0, datetime.datetime(2018, 1, 11, 2, 49, 28), 9409, 829, 840, 908, 2394, 3651, 0, 0 ... 1990 parameters truncated ... 0, datetime.datetime(2018, 1, 11, 4, 32, 37), 9609, 829, 845, 913, 2394, 3651, 0, 0, 0, datetime.datetime(2018, 1, 11, 4, 33, 7), 9610, 831, 845, 911, 2394, 3651, 0, 0, 0, datetime.datetime(2018, 1, 11, 4, 33, 38), 9611, 831, 845, 908, 2393, 3651, 0, 0, 0, datetime.datetime(2018, 1, 11, 4, 34, 9), 9612, 831, 842, 911, 2394, 3651, 0, 0, 0, datetime.datetime(2018, 1, 11, 4, 34, 39), 9613, 831, 842, 911, 2393, 3651, 0, 0)\n"
     ]
    },
    {
     "name": "stdout",
     "output_type": "stream",
     "text": [
      "2024-07-01 22:58:19,959 INFO sqlalchemy.engine.Engine INSERT INTO room_occupancy_multiclass.original_table ([Room_Occupancy_Count], [Timestamp], id, sensor1_id, sensor2_id, sensor3_id, sensor4_id, sensor5_id, sensor6_id, sensor7_id) VALUES (?, ?, ?, ?, ?, ?, ?, ?, ?, ?), (?, ?, ?, ?, ?, ?, ?, ?, ?, ?),  ... 6522 characters truncated ... , ?), (?, ?, ?, ?, ?, ?, ?, ?, ?, ?), (?, ?, ?, ?, ?, ?, ?, ?, ?, ?), (?, ?, ?, ?, ?, ?, ?, ?, ?, ?)\n"
     ]
    },
    {
     "name": "stderr",
     "output_type": "stream",
     "text": [
      "[07-01 22:58:19] p17208 {C:\\Projects\\Private\\PropStar\\venv\\lib\\site-packages\\sqlalchemy\\engine\\base.py:2064} INFO - INSERT INTO room_occupancy_multiclass.original_table ([Room_Occupancy_Count], [Timestamp], id, sensor1_id, sensor2_id, sensor3_id, sensor4_id, sensor5_id, sensor6_id, sensor7_id) VALUES (?, ?, ?, ?, ?, ?, ?, ?, ?, ?), (?, ?, ?, ?, ?, ?, ?, ?, ?, ?),  ... 6522 characters truncated ... , ?), (?, ?, ?, ?, ?, ?, ?, ?, ?, ?), (?, ?, ?, ?, ?, ?, ?, ?, ?, ?), (?, ?, ?, ?, ?, ?, ?, ?, ?, ?)\n"
     ]
    },
    {
     "name": "stdout",
     "output_type": "stream",
     "text": [
      "2024-07-01 22:58:19,960 INFO sqlalchemy.engine.Engine [insertmanyvalues 47/49 (unordered)] (0, datetime.datetime(2018, 1, 11, 4, 35, 10), 9614, 833, 842, 911, 2393, 3651, 0, 0, 0, datetime.datetime(2018, 1, 11, 4, 35, 40), 9615, 831, 842, 911, 2394, 3651, 0, 0, 0, datetime.datetime(2018, 1, 11, 4, 36, 11), 9616, 833, 845, 911, 2394, 3651, 0, 0, 0, datetime.datetime(2018, 1, 11, 4, 36, 42), 9617, 829, 842, 913, 2397, 3651, 0, 0, 0, datetime.datetime(2018, 1, 11, 4, 37, 12), 9618, 833, 842, 913, 2394, 3651, 0, 0 ... 1990 parameters truncated ... 0, datetime.datetime(2018, 1, 11, 6, 19, 50), 9818, 833, 847, 917, 2396, 3651, 0, 0, 0, datetime.datetime(2018, 1, 11, 6, 20, 21), 9819, 833, 846, 917, 2396, 3651, 0, 0, 0, datetime.datetime(2018, 1, 11, 6, 21, 22), 9820, 833, 844, 917, 2395, 3651, 0, 0, 0, datetime.datetime(2018, 1, 11, 6, 21, 53), 9821, 833, 846, 911, 2395, 3651, 0, 0, 0, datetime.datetime(2018, 1, 11, 6, 22, 23), 9822, 833, 847, 917, 2396, 3651, 0, 0)\n"
     ]
    },
    {
     "name": "stderr",
     "output_type": "stream",
     "text": [
      "[07-01 22:58:19] p17208 {C:\\Projects\\Private\\PropStar\\venv\\lib\\site-packages\\sqlalchemy\\engine\\base.py:2082} INFO - [insertmanyvalues 47/49 (unordered)] (0, datetime.datetime(2018, 1, 11, 4, 35, 10), 9614, 833, 842, 911, 2393, 3651, 0, 0, 0, datetime.datetime(2018, 1, 11, 4, 35, 40), 9615, 831, 842, 911, 2394, 3651, 0, 0, 0, datetime.datetime(2018, 1, 11, 4, 36, 11), 9616, 833, 845, 911, 2394, 3651, 0, 0, 0, datetime.datetime(2018, 1, 11, 4, 36, 42), 9617, 829, 842, 913, 2397, 3651, 0, 0, 0, datetime.datetime(2018, 1, 11, 4, 37, 12), 9618, 833, 842, 913, 2394, 3651, 0, 0 ... 1990 parameters truncated ... 0, datetime.datetime(2018, 1, 11, 6, 19, 50), 9818, 833, 847, 917, 2396, 3651, 0, 0, 0, datetime.datetime(2018, 1, 11, 6, 20, 21), 9819, 833, 846, 917, 2396, 3651, 0, 0, 0, datetime.datetime(2018, 1, 11, 6, 21, 22), 9820, 833, 844, 917, 2395, 3651, 0, 0, 0, datetime.datetime(2018, 1, 11, 6, 21, 53), 9821, 833, 846, 911, 2395, 3651, 0, 0, 0, datetime.datetime(2018, 1, 11, 6, 22, 23), 9822, 833, 847, 917, 2396, 3651, 0, 0)\n"
     ]
    },
    {
     "name": "stdout",
     "output_type": "stream",
     "text": [
      "2024-07-01 22:58:19,967 INFO sqlalchemy.engine.Engine INSERT INTO room_occupancy_multiclass.original_table ([Room_Occupancy_Count], [Timestamp], id, sensor1_id, sensor2_id, sensor3_id, sensor4_id, sensor5_id, sensor6_id, sensor7_id) VALUES (?, ?, ?, ?, ?, ?, ?, ?, ?, ?), (?, ?, ?, ?, ?, ?, ?, ?, ?, ?),  ... 6522 characters truncated ... , ?), (?, ?, ?, ?, ?, ?, ?, ?, ?, ?), (?, ?, ?, ?, ?, ?, ?, ?, ?, ?), (?, ?, ?, ?, ?, ?, ?, ?, ?, ?)\n"
     ]
    },
    {
     "name": "stderr",
     "output_type": "stream",
     "text": [
      "[07-01 22:58:19] p17208 {C:\\Projects\\Private\\PropStar\\venv\\lib\\site-packages\\sqlalchemy\\engine\\base.py:2064} INFO - INSERT INTO room_occupancy_multiclass.original_table ([Room_Occupancy_Count], [Timestamp], id, sensor1_id, sensor2_id, sensor3_id, sensor4_id, sensor5_id, sensor6_id, sensor7_id) VALUES (?, ?, ?, ?, ?, ?, ?, ?, ?, ?), (?, ?, ?, ?, ?, ?, ?, ?, ?, ?),  ... 6522 characters truncated ... , ?), (?, ?, ?, ?, ?, ?, ?, ?, ?, ?), (?, ?, ?, ?, ?, ?, ?, ?, ?, ?), (?, ?, ?, ?, ?, ?, ?, ?, ?, ?)\n"
     ]
    },
    {
     "name": "stdout",
     "output_type": "stream",
     "text": [
      "2024-07-01 22:58:19,968 INFO sqlalchemy.engine.Engine [insertmanyvalues 48/49 (unordered)] (0, datetime.datetime(2018, 1, 11, 6, 22, 54), 9823, 833, 847, 915, 2395, 3651, 0, 0, 0, datetime.datetime(2018, 1, 11, 6, 23, 24), 9824, 833, 845, 917, 2395, 3651, 0, 0, 0, datetime.datetime(2018, 1, 11, 6, 23, 55), 9825, 833, 847, 917, 2398, 3651, 0, 0, 0, datetime.datetime(2018, 1, 11, 6, 24, 26), 9826, 833, 842, 915, 2395, 3651, 0, 0, 0, datetime.datetime(2018, 1, 11, 6, 24, 56), 9827, 835, 845, 917, 2396, 3651, 0, 0 ... 1990 parameters truncated ... 0, datetime.datetime(2018, 1, 11, 8, 7, 34), 10027, 855, 864, 2001, 2449, 3651, 0, 0, 0, datetime.datetime(2018, 1, 11, 8, 8, 5), 10028, 855, 2142, 2457, 2449, 3651, 0, 0, 0, datetime.datetime(2018, 1, 11, 8, 8, 35), 10029, 855, 865, 2002, 2449, 3651, 0, 0, 0, datetime.datetime(2018, 1, 11, 8, 9, 6), 10030, 1626, 867, 2772, 2138, 3651, 0, 0, 0, datetime.datetime(2018, 1, 11, 8, 9, 36), 10031, 1627, 867, 2002, 2138, 3651, 0, 0)\n"
     ]
    },
    {
     "name": "stderr",
     "output_type": "stream",
     "text": [
      "[07-01 22:58:19] p17208 {C:\\Projects\\Private\\PropStar\\venv\\lib\\site-packages\\sqlalchemy\\engine\\base.py:2082} INFO - [insertmanyvalues 48/49 (unordered)] (0, datetime.datetime(2018, 1, 11, 6, 22, 54), 9823, 833, 847, 915, 2395, 3651, 0, 0, 0, datetime.datetime(2018, 1, 11, 6, 23, 24), 9824, 833, 845, 917, 2395, 3651, 0, 0, 0, datetime.datetime(2018, 1, 11, 6, 23, 55), 9825, 833, 847, 917, 2398, 3651, 0, 0, 0, datetime.datetime(2018, 1, 11, 6, 24, 26), 9826, 833, 842, 915, 2395, 3651, 0, 0, 0, datetime.datetime(2018, 1, 11, 6, 24, 56), 9827, 835, 845, 917, 2396, 3651, 0, 0 ... 1990 parameters truncated ... 0, datetime.datetime(2018, 1, 11, 8, 7, 34), 10027, 855, 864, 2001, 2449, 3651, 0, 0, 0, datetime.datetime(2018, 1, 11, 8, 8, 5), 10028, 855, 2142, 2457, 2449, 3651, 0, 0, 0, datetime.datetime(2018, 1, 11, 8, 8, 35), 10029, 855, 865, 2002, 2449, 3651, 0, 0, 0, datetime.datetime(2018, 1, 11, 8, 9, 6), 10030, 1626, 867, 2772, 2138, 3651, 0, 0, 0, datetime.datetime(2018, 1, 11, 8, 9, 36), 10031, 1627, 867, 2002, 2138, 3651, 0, 0)\n"
     ]
    },
    {
     "name": "stdout",
     "output_type": "stream",
     "text": [
      "2024-07-01 22:58:19,976 INFO sqlalchemy.engine.Engine INSERT INTO room_occupancy_multiclass.original_table ([Room_Occupancy_Count], [Timestamp], id, sensor1_id, sensor2_id, sensor3_id, sensor4_id, sensor5_id, sensor6_id, sensor7_id) VALUES (?, ?, ?, ?, ?, ?, ?, ?, ?, ?), (?, ?, ?, ?, ?, ?, ?, ?, ?, ?),  ... 2938 characters truncated ... , ?), (?, ?, ?, ?, ?, ?, ?, ?, ?, ?), (?, ?, ?, ?, ?, ?, ?, ?, ?, ?), (?, ?, ?, ?, ?, ?, ?, ?, ?, ?)\n"
     ]
    },
    {
     "name": "stderr",
     "output_type": "stream",
     "text": [
      "[07-01 22:58:19] p17208 {C:\\Projects\\Private\\PropStar\\venv\\lib\\site-packages\\sqlalchemy\\engine\\base.py:2064} INFO - INSERT INTO room_occupancy_multiclass.original_table ([Room_Occupancy_Count], [Timestamp], id, sensor1_id, sensor2_id, sensor3_id, sensor4_id, sensor5_id, sensor6_id, sensor7_id) VALUES (?, ?, ?, ?, ?, ?, ?, ?, ?, ?), (?, ?, ?, ?, ?, ?, ?, ?, ?, ?),  ... 2938 characters truncated ... , ?), (?, ?, ?, ?, ?, ?, ?, ?, ?, ?), (?, ?, ?, ?, ?, ?, ?, ?, ?, ?), (?, ?, ?, ?, ?, ?, ?, ?, ?, ?)\n"
     ]
    },
    {
     "name": "stdout",
     "output_type": "stream",
     "text": [
      "2024-07-01 22:58:19,977 INFO sqlalchemy.engine.Engine [insertmanyvalues 49/49 (unordered)] (0, datetime.datetime(2018, 1, 11, 8, 10, 7), 10032, 855, 865, 2004, 2449, 3651, 0, 0, 0, datetime.datetime(2018, 1, 11, 8, 10, 38), 10033, 1627, 865, 2003, 2450, 3651, 0, 0, 0, datetime.datetime(2018, 1, 11, 8, 11, 8), 10034, 1627, 867, 2003, 2451, 3651, 0, 0, 0, datetime.datetime(2018, 1, 11, 8, 11, 39), 10035, 1627, 865, 2004, 2451, 3651, 0, 0, 0, datetime.datetime(2018, 1, 11, 8, 12, 10), 10036, 1627, 867, 2773, 2142, 3651, 0, 0 ... 870 parameters truncated ... 0, datetime.datetime(2018, 1, 11, 8, 58, 7), 10124, 864, 1661, 2481, 2463, 3651, 0, 0, 0, datetime.datetime(2018, 1, 11, 8, 58, 37), 10125, 863, 876, 2782, 2464, 3651, 0, 0, 0, datetime.datetime(2018, 1, 11, 8, 59, 8), 10126, 2081, 876, 2483, 2464, 3651, 0, 0, 0, datetime.datetime(2018, 1, 11, 8, 59, 39), 10127, 1631, 879, 2783, 2464, 3651, 0, 0, 0, datetime.datetime(2018, 1, 11, 9, 0, 9), 10128, 1631, 876, 2483, 2464, 3651, 0, 0)\n"
     ]
    },
    {
     "name": "stderr",
     "output_type": "stream",
     "text": [
      "[07-01 22:58:19] p17208 {C:\\Projects\\Private\\PropStar\\venv\\lib\\site-packages\\sqlalchemy\\engine\\base.py:2082} INFO - [insertmanyvalues 49/49 (unordered)] (0, datetime.datetime(2018, 1, 11, 8, 10, 7), 10032, 855, 865, 2004, 2449, 3651, 0, 0, 0, datetime.datetime(2018, 1, 11, 8, 10, 38), 10033, 1627, 865, 2003, 2450, 3651, 0, 0, 0, datetime.datetime(2018, 1, 11, 8, 11, 8), 10034, 1627, 867, 2003, 2451, 3651, 0, 0, 0, datetime.datetime(2018, 1, 11, 8, 11, 39), 10035, 1627, 865, 2004, 2451, 3651, 0, 0, 0, datetime.datetime(2018, 1, 11, 8, 12, 10), 10036, 1627, 867, 2773, 2142, 3651, 0, 0 ... 870 parameters truncated ... 0, datetime.datetime(2018, 1, 11, 8, 58, 7), 10124, 864, 1661, 2481, 2463, 3651, 0, 0, 0, datetime.datetime(2018, 1, 11, 8, 58, 37), 10125, 863, 876, 2782, 2464, 3651, 0, 0, 0, datetime.datetime(2018, 1, 11, 8, 59, 8), 10126, 2081, 876, 2483, 2464, 3651, 0, 0, 0, datetime.datetime(2018, 1, 11, 8, 59, 39), 10127, 1631, 879, 2783, 2464, 3651, 0, 0, 0, datetime.datetime(2018, 1, 11, 9, 0, 9), 10128, 1631, 876, 2483, 2464, 3651, 0, 0)\n"
     ]
    },
    {
     "name": "stdout",
     "output_type": "stream",
     "text": [
      "2024-07-01 22:58:20,043 INFO sqlalchemy.engine.Engine ALTER TABLE room_occupancy_multiclass.original_table ALTER COLUMN id BIGINT NOT NULL\n"
     ]
    },
    {
     "name": "stderr",
     "output_type": "stream",
     "text": [
      "[07-01 22:58:20] p17208 {C:\\Projects\\Private\\PropStar\\venv\\lib\\site-packages\\sqlalchemy\\engine\\base.py:1897} INFO - ALTER TABLE room_occupancy_multiclass.original_table ALTER COLUMN id BIGINT NOT NULL\n"
     ]
    },
    {
     "name": "stdout",
     "output_type": "stream",
     "text": [
      "2024-07-01 22:58:20,045 INFO sqlalchemy.engine.Engine [generated in 0.00234s] ()\n"
     ]
    },
    {
     "name": "stderr",
     "output_type": "stream",
     "text": [
      "[07-01 22:58:20] p17208 {C:\\Projects\\Private\\PropStar\\venv\\lib\\site-packages\\sqlalchemy\\engine\\base.py:1902} INFO - [generated in 0.00234s] ()\n"
     ]
    },
    {
     "name": "stdout",
     "output_type": "stream",
     "text": [
      "2024-07-01 22:58:20,099 INFO sqlalchemy.engine.Engine ALTER TABLE room_occupancy_multiclass.original_table ADD CONSTRAINT PK_original_table PRIMARY KEY (id);\n"
     ]
    },
    {
     "name": "stderr",
     "output_type": "stream",
     "text": [
      "[07-01 22:58:20] p17208 {C:\\Projects\\Private\\PropStar\\venv\\lib\\site-packages\\sqlalchemy\\engine\\base.py:1897} INFO - ALTER TABLE room_occupancy_multiclass.original_table ADD CONSTRAINT PK_original_table PRIMARY KEY (id);\n"
     ]
    },
    {
     "name": "stdout",
     "output_type": "stream",
     "text": [
      "2024-07-01 22:58:20,102 INFO sqlalchemy.engine.Engine [generated in 0.00286s] ()\n"
     ]
    },
    {
     "name": "stderr",
     "output_type": "stream",
     "text": [
      "[07-01 22:58:20] p17208 {C:\\Projects\\Private\\PropStar\\venv\\lib\\site-packages\\sqlalchemy\\engine\\base.py:1902} INFO - [generated in 0.00286s] ()\n"
     ]
    },
    {
     "name": "stdout",
     "output_type": "stream",
     "text": [
      "2024-07-01 22:58:20,158 INFO sqlalchemy.engine.Engine SELECT [INFORMATION_SCHEMA].[TABLES].[TABLE_NAME] \n",
      "FROM [INFORMATION_SCHEMA].[TABLES] \n",
      "WHERE ([INFORMATION_SCHEMA].[TABLES].[TABLE_TYPE] = CAST(? AS NVARCHAR(max)) OR [INFORMATION_SCHEMA].[TABLES].[TABLE_TYPE] = CAST(? AS NVARCHAR(max))) AND [INFORMATION_SCHEMA].[TABLES].[TABLE_NAME] = CAST(? AS NVARCHAR(max)) AND [INFORMATION_SCHEMA].[TABLES].[TABLE_SCHEMA] = CAST(? AS NVARCHAR(max))\n"
     ]
    },
    {
     "name": "stderr",
     "output_type": "stream",
     "text": [
      "[07-01 22:58:20] p17208 {C:\\Projects\\Private\\PropStar\\venv\\lib\\site-packages\\sqlalchemy\\engine\\base.py:1897} INFO - SELECT [INFORMATION_SCHEMA].[TABLES].[TABLE_NAME] \n",
      "FROM [INFORMATION_SCHEMA].[TABLES] \n",
      "WHERE ([INFORMATION_SCHEMA].[TABLES].[TABLE_TYPE] = CAST(? AS NVARCHAR(max)) OR [INFORMATION_SCHEMA].[TABLES].[TABLE_TYPE] = CAST(? AS NVARCHAR(max))) AND [INFORMATION_SCHEMA].[TABLES].[TABLE_NAME] = CAST(? AS NVARCHAR(max)) AND [INFORMATION_SCHEMA].[TABLES].[TABLE_SCHEMA] = CAST(? AS NVARCHAR(max))\n"
     ]
    },
    {
     "name": "stdout",
     "output_type": "stream",
     "text": [
      "2024-07-01 22:58:20,160 INFO sqlalchemy.engine.Engine [cached since 0.9041s ago] ('BASE TABLE', 'VIEW', 'sensor1', 'room_occupancy_multiclass')\n"
     ]
    },
    {
     "name": "stderr",
     "output_type": "stream",
     "text": [
      "[07-01 22:58:20] p17208 {C:\\Projects\\Private\\PropStar\\venv\\lib\\site-packages\\sqlalchemy\\engine\\base.py:1902} INFO - [cached since 0.9041s ago] ('BASE TABLE', 'VIEW', 'sensor1', 'room_occupancy_multiclass')\n"
     ]
    },
    {
     "name": "stdout",
     "output_type": "stream",
     "text": [
      "2024-07-01 22:58:20,166 INFO sqlalchemy.engine.Engine \n",
      "CREATE TABLE room_occupancy_multiclass.sensor1 (\n",
      "\t[S1_Temp] FLOAT(53) NULL, \n",
      "\t[S1_Light] BIGINT NULL, \n",
      "\t[S1_Sound] FLOAT(53) NULL, \n",
      "\tsensor1_id BIGINT NULL\n",
      ")\n",
      "\n",
      "\n"
     ]
    },
    {
     "name": "stderr",
     "output_type": "stream",
     "text": [
      "[07-01 22:58:20] p17208 {C:\\Projects\\Private\\PropStar\\venv\\lib\\site-packages\\sqlalchemy\\engine\\base.py:1897} INFO - \n",
      "CREATE TABLE room_occupancy_multiclass.sensor1 (\n",
      "\t[S1_Temp] FLOAT(53) NULL, \n",
      "\t[S1_Light] BIGINT NULL, \n",
      "\t[S1_Sound] FLOAT(53) NULL, \n",
      "\tsensor1_id BIGINT NULL\n",
      ")\n",
      "\n",
      "\n"
     ]
    },
    {
     "name": "stdout",
     "output_type": "stream",
     "text": [
      "2024-07-01 22:58:20,168 INFO sqlalchemy.engine.Engine [no key 0.00189s] ()\n"
     ]
    },
    {
     "name": "stderr",
     "output_type": "stream",
     "text": [
      "[07-01 22:58:20] p17208 {C:\\Projects\\Private\\PropStar\\venv\\lib\\site-packages\\sqlalchemy\\engine\\base.py:1902} INFO - [no key 0.00189s] ()\n"
     ]
    },
    {
     "name": "stdout",
     "output_type": "stream",
     "text": [
      "2024-07-01 22:58:20,176 INFO sqlalchemy.engine.Engine INSERT INTO room_occupancy_multiclass.sensor1 ([S1_Temp], [S1_Light], [S1_Sound], sensor1_id) VALUES (?, ?, ?, ?), (?, ?, ?, ?), (?, ?, ?, ?), (?, ?, ?, ?), (?, ?, ?, ?), (?, ?, ?, ?), (?, ?, ?, ?), (?, ?, ?, ?), (?, ?, ?, ?), (?, ?, ?, ?), (?, ?, ?, ... 7085 characters truncated ... ?), (?, ?, ?, ?), (?, ?, ?, ?), (?, ?, ?, ?), (?, ?, ?, ?), (?, ?, ?, ?), (?, ?, ?, ?), (?, ?, ?, ?)\n"
     ]
    },
    {
     "name": "stderr",
     "output_type": "stream",
     "text": [
      "[07-01 22:58:20] p17208 {C:\\Projects\\Private\\PropStar\\venv\\lib\\site-packages\\sqlalchemy\\engine\\base.py:2064} INFO - INSERT INTO room_occupancy_multiclass.sensor1 ([S1_Temp], [S1_Light], [S1_Sound], sensor1_id) VALUES (?, ?, ?, ?), (?, ?, ?, ?), (?, ?, ?, ?), (?, ?, ?, ?), (?, ?, ?, ?), (?, ?, ?, ?), (?, ?, ?, ?), (?, ?, ?, ?), (?, ?, ?, ?), (?, ?, ?, ?), (?, ?, ?, ... 7085 characters truncated ... ?), (?, ?, ?, ?), (?, ?, ?, ?), (?, ?, ?, ?), (?, ?, ?, ?), (?, ?, ?, ?), (?, ?, ?, ?), (?, ?, ?, ?)\n"
     ]
    },
    {
     "name": "stdout",
     "output_type": "stream",
     "text": [
      "2024-07-01 22:58:20,177 INFO sqlalchemy.engine.Engine [generated in 0.00209s (insertmanyvalues) 1/4 (unordered)] (24.94, 121, 0.08, 0, 24.94, 121, 0.93, 1, 25.0, 121, 0.43, 2, 25.0, 121, 0.41, 3, 25.0, 121, 0.18, 4, 25.0, 121, 0.13, 5, 25.0, 120, 1.39, 6, 25.0, 121, 0.09, 7, 25.0, 122, 0.09, 8, 25.0, 101, 3.84, 9, 25.06, 122, 2.2, 10, 25.06, 123, 0.42, 11, 25.06, 123 ... 1996 parameters truncated ... 0.58, 511, 26.19, 116, 0.49, 512, 26.19, 116, 1.91, 513, 26.13, 116, 1.6, 514, 26.13, 116, 1.76, 515, 26.19, 116, 0.84, 516, 26.13, 116, 3.02, 517, 26.19, 116, 0.43, 518, 26.19, 116, 0.7, 519, 26.19, 116, 0.3, 520, 26.13, 116, 0.32, 521, 26.19, 116, 1.26, 522, 26.19, 116, 1.39, 523)\n"
     ]
    },
    {
     "name": "stderr",
     "output_type": "stream",
     "text": [
      "[07-01 22:58:20] p17208 {C:\\Projects\\Private\\PropStar\\venv\\lib\\site-packages\\sqlalchemy\\engine\\base.py:2082} INFO - [generated in 0.00209s (insertmanyvalues) 1/4 (unordered)] (24.94, 121, 0.08, 0, 24.94, 121, 0.93, 1, 25.0, 121, 0.43, 2, 25.0, 121, 0.41, 3, 25.0, 121, 0.18, 4, 25.0, 121, 0.13, 5, 25.0, 120, 1.39, 6, 25.0, 121, 0.09, 7, 25.0, 122, 0.09, 8, 25.0, 101, 3.84, 9, 25.06, 122, 2.2, 10, 25.06, 123, 0.42, 11, 25.06, 123 ... 1996 parameters truncated ... 0.58, 511, 26.19, 116, 0.49, 512, 26.19, 116, 1.91, 513, 26.13, 116, 1.6, 514, 26.13, 116, 1.76, 515, 26.19, 116, 0.84, 516, 26.13, 116, 3.02, 517, 26.19, 116, 0.43, 518, 26.19, 116, 0.7, 519, 26.19, 116, 0.3, 520, 26.13, 116, 0.32, 521, 26.19, 116, 1.26, 522, 26.19, 116, 1.39, 523)\n"
     ]
    },
    {
     "name": "stdout",
     "output_type": "stream",
     "text": [
      "2024-07-01 22:58:20,372 INFO sqlalchemy.engine.Engine INSERT INTO room_occupancy_multiclass.sensor1 ([S1_Temp], [S1_Light], [S1_Sound], sensor1_id) VALUES (?, ?, ?, ?), (?, ?, ?, ?), (?, ?, ?, ?), (?, ?, ?, ?), (?, ?, ?, ?), (?, ?, ?, ?), (?, ?, ?, ?), (?, ?, ?, ?), (?, ?, ?, ?), (?, ?, ?, ?), (?, ?, ?, ... 7085 characters truncated ... ?), (?, ?, ?, ?), (?, ?, ?, ?), (?, ?, ?, ?), (?, ?, ?, ?), (?, ?, ?, ?), (?, ?, ?, ?), (?, ?, ?, ?)\n"
     ]
    },
    {
     "name": "stderr",
     "output_type": "stream",
     "text": [
      "[07-01 22:58:20] p17208 {C:\\Projects\\Private\\PropStar\\venv\\lib\\site-packages\\sqlalchemy\\engine\\base.py:2064} INFO - INSERT INTO room_occupancy_multiclass.sensor1 ([S1_Temp], [S1_Light], [S1_Sound], sensor1_id) VALUES (?, ?, ?, ?), (?, ?, ?, ?), (?, ?, ?, ?), (?, ?, ?, ?), (?, ?, ?, ?), (?, ?, ?, ?), (?, ?, ?, ?), (?, ?, ?, ?), (?, ?, ?, ?), (?, ?, ?, ?), (?, ?, ?, ... 7085 characters truncated ... ?), (?, ?, ?, ?), (?, ?, ?, ?), (?, ?, ?, ?), (?, ?, ?, ?), (?, ?, ?, ?), (?, ?, ?, ?), (?, ?, ?, ?)\n"
     ]
    },
    {
     "name": "stdout",
     "output_type": "stream",
     "text": [
      "2024-07-01 22:58:20,374 INFO sqlalchemy.engine.Engine [insertmanyvalues 2/4 (unordered)] (26.19, 115, 0.76, 524, 26.19, 116, 0.11, 525, 26.19, 116, 0.86, 526, 26.19, 116, 0.08, 527, 26.19, 116, 0.42, 528, 26.19, 116, 0.79, 529, 26.19, 116, 1.46, 530, 26.19, 116, 0.07, 531, 26.19, 116, 0.09, 532, 26.19, 117, 0.09, 533, 26.13, 116, 0.12, 534, 26.19, 116, 3.21, 535, 26.13, 116 ... 1996 parameters truncated ... 0.78, 1035, 25.69, 155, 0.8, 1036, 25.75, 155, 0.69, 1037, 25.75, 155, 1.5, 1038, 25.75, 156, 0.66, 1039, 25.75, 156, 1.11, 1040, 25.75, 157, 0.63, 1041, 25.75, 157, 0.66, 1042, 25.75, 157, 0.74, 1043, 25.75, 157, 1.2, 1044, 25.75, 157, 1.82, 1045, 25.81, 157, 2.9, 1046, 25.75, 157, 0.79, 1047)\n"
     ]
    },
    {
     "name": "stderr",
     "output_type": "stream",
     "text": [
      "[07-01 22:58:20] p17208 {C:\\Projects\\Private\\PropStar\\venv\\lib\\site-packages\\sqlalchemy\\engine\\base.py:2082} INFO - [insertmanyvalues 2/4 (unordered)] (26.19, 115, 0.76, 524, 26.19, 116, 0.11, 525, 26.19, 116, 0.86, 526, 26.19, 116, 0.08, 527, 26.19, 116, 0.42, 528, 26.19, 116, 0.79, 529, 26.19, 116, 1.46, 530, 26.19, 116, 0.07, 531, 26.19, 116, 0.09, 532, 26.19, 117, 0.09, 533, 26.13, 116, 0.12, 534, 26.19, 116, 3.21, 535, 26.13, 116 ... 1996 parameters truncated ... 0.78, 1035, 25.69, 155, 0.8, 1036, 25.75, 155, 0.69, 1037, 25.75, 155, 1.5, 1038, 25.75, 156, 0.66, 1039, 25.75, 156, 1.11, 1040, 25.75, 157, 0.63, 1041, 25.75, 157, 0.66, 1042, 25.75, 157, 0.74, 1043, 25.75, 157, 1.2, 1044, 25.75, 157, 1.82, 1045, 25.81, 157, 2.9, 1046, 25.75, 157, 0.79, 1047)\n"
     ]
    },
    {
     "name": "stdout",
     "output_type": "stream",
     "text": [
      "2024-07-01 22:58:20,383 INFO sqlalchemy.engine.Engine INSERT INTO room_occupancy_multiclass.sensor1 ([S1_Temp], [S1_Light], [S1_Sound], sensor1_id) VALUES (?, ?, ?, ?), (?, ?, ?, ?), (?, ?, ?, ?), (?, ?, ?, ?), (?, ?, ?, ?), (?, ?, ?, ?), (?, ?, ?, ?), (?, ?, ?, ?), (?, ?, ?, ?), (?, ?, ?, ?), (?, ?, ?, ... 7085 characters truncated ... ?), (?, ?, ?, ?), (?, ?, ?, ?), (?, ?, ?, ?), (?, ?, ?, ?), (?, ?, ?, ?), (?, ?, ?, ?), (?, ?, ?, ?)\n"
     ]
    },
    {
     "name": "stderr",
     "output_type": "stream",
     "text": [
      "[07-01 22:58:20] p17208 {C:\\Projects\\Private\\PropStar\\venv\\lib\\site-packages\\sqlalchemy\\engine\\base.py:2064} INFO - INSERT INTO room_occupancy_multiclass.sensor1 ([S1_Temp], [S1_Light], [S1_Sound], sensor1_id) VALUES (?, ?, ?, ?), (?, ?, ?, ?), (?, ?, ?, ?), (?, ?, ?, ?), (?, ?, ?, ?), (?, ?, ?, ?), (?, ?, ?, ?), (?, ?, ?, ?), (?, ?, ?, ?), (?, ?, ?, ?), (?, ?, ?, ... 7085 characters truncated ... ?), (?, ?, ?, ?), (?, ?, ?, ?), (?, ?, ?, ?), (?, ?, ?, ?), (?, ?, ?, ?), (?, ?, ?, ?), (?, ?, ?, ?)\n"
     ]
    },
    {
     "name": "stdout",
     "output_type": "stream",
     "text": [
      "2024-07-01 22:58:20,385 INFO sqlalchemy.engine.Engine [insertmanyvalues 3/4 (unordered)] (25.81, 158, 0.75, 1048, 25.75, 159, 0.45, 1049, 25.75, 159, 0.44, 1050, 25.75, 160, 1.46, 1051, 25.81, 160, 0.64, 1052, 25.81, 159, 1.05, 1053, 25.81, 160, 0.67, 1054, 25.81, 159, 0.7, 1055, 25.81, 159, 0.88, 1056, 25.81, 160, 0.41, 1057, 25.81, 160, 1.07, 1058, 25.81, 159, 0.37, 1059, 25.81, 160 ... 1996 parameters truncated ... 0.14, 1559, 26.25, 114, 0.92, 1560, 26.19, 114, 1.09, 1561, 26.25, 114, 0.21, 1562, 26.25, 114, 0.67, 1563, 26.25, 114, 0.77, 1564, 26.25, 114, 0.13, 1565, 26.25, 114, 1.15, 1566, 26.25, 114, 0.63, 1567, 26.25, 114, 0.35, 1568, 26.25, 114, 0.41, 1569, 26.25, 114, 0.19, 1570, 26.25, 114, 0.39, 1571)\n"
     ]
    },
    {
     "name": "stderr",
     "output_type": "stream",
     "text": [
      "[07-01 22:58:20] p17208 {C:\\Projects\\Private\\PropStar\\venv\\lib\\site-packages\\sqlalchemy\\engine\\base.py:2082} INFO - [insertmanyvalues 3/4 (unordered)] (25.81, 158, 0.75, 1048, 25.75, 159, 0.45, 1049, 25.75, 159, 0.44, 1050, 25.75, 160, 1.46, 1051, 25.81, 160, 0.64, 1052, 25.81, 159, 1.05, 1053, 25.81, 160, 0.67, 1054, 25.81, 159, 0.7, 1055, 25.81, 159, 0.88, 1056, 25.81, 160, 0.41, 1057, 25.81, 160, 1.07, 1058, 25.81, 159, 0.37, 1059, 25.81, 160 ... 1996 parameters truncated ... 0.14, 1559, 26.25, 114, 0.92, 1560, 26.19, 114, 1.09, 1561, 26.25, 114, 0.21, 1562, 26.25, 114, 0.67, 1563, 26.25, 114, 0.77, 1564, 26.25, 114, 0.13, 1565, 26.25, 114, 1.15, 1566, 26.25, 114, 0.63, 1567, 26.25, 114, 0.35, 1568, 26.25, 114, 0.41, 1569, 26.25, 114, 0.19, 1570, 26.25, 114, 0.39, 1571)\n"
     ]
    },
    {
     "name": "stdout",
     "output_type": "stream",
     "text": [
      "2024-07-01 22:58:20,392 INFO sqlalchemy.engine.Engine INSERT INTO room_occupancy_multiclass.sensor1 ([S1_Temp], [S1_Light], [S1_Sound], sensor1_id) VALUES (?, ?, ?, ?), (?, ?, ?, ?), (?, ?, ?, ?), (?, ?, ?, ?), (?, ?, ?, ?), (?, ?, ?, ?), (?, ?, ?, ?), (?, ?, ?, ?), (?, ?, ?, ?), (?, ?, ?, ?), (?, ?, ?, ... 6889 characters truncated ... ?), (?, ?, ?, ?), (?, ?, ?, ?), (?, ?, ?, ?), (?, ?, ?, ?), (?, ?, ?, ?), (?, ?, ?, ?), (?, ?, ?, ?)\n"
     ]
    },
    {
     "name": "stderr",
     "output_type": "stream",
     "text": [
      "[07-01 22:58:20] p17208 {C:\\Projects\\Private\\PropStar\\venv\\lib\\site-packages\\sqlalchemy\\engine\\base.py:2064} INFO - INSERT INTO room_occupancy_multiclass.sensor1 ([S1_Temp], [S1_Light], [S1_Sound], sensor1_id) VALUES (?, ?, ?, ?), (?, ?, ?, ?), (?, ?, ?, ?), (?, ?, ?, ?), (?, ?, ?, ?), (?, ?, ?, ?), (?, ?, ?, ?), (?, ?, ?, ?), (?, ?, ?, ?), (?, ?, ?, ?), (?, ?, ?, ... 6889 characters truncated ... ?), (?, ?, ?, ?), (?, ?, ?, ?), (?, ?, ?, ?), (?, ?, ?, ?), (?, ?, ?, ?), (?, ?, ?, ?), (?, ?, ?, ?)\n"
     ]
    },
    {
     "name": "stdout",
     "output_type": "stream",
     "text": [
      "2024-07-01 22:58:20,393 INFO sqlalchemy.engine.Engine [insertmanyvalues 4/4 (unordered)] (26.19, 114, 0.32, 1572, 26.25, 114, 2.42, 1573, 26.25, 114, 0.69, 1574, 26.19, 114, 0.42, 1575, 26.19, 115, 0.25, 1576, 26.19, 115, 0.5, 1577, 26.19, 114, 2.18, 1578, 26.19, 115, 0.34, 1579, 26.19, 115, 1.2, 1580, 26.25, 115, 0.16, 1581, 26.25, 115, 1.08, 1582, 26.25, 115, 1.29, 1583, 26.25, 114 ... 1940 parameters truncated ... 0.13, 2069, 25.5, 0, 0.38, 2070, 25.44, 0, 0.49, 2071, 25.38, 0, 0.51, 2072, 25.31, 0, 0.19, 2073, 25.31, 0, 0.16, 2074, 25.25, 0, 0.11, 2075, 25.25, 0, 0.12, 2076, 25.06, 1, 0.09, 2077, 25.13, 2, 0.09, 2078, 25.13, 3, 0.07, 2079, 25.13, 6, 0.09, 2080, 25.13, 6, 0.11, 2081)\n"
     ]
    },
    {
     "name": "stderr",
     "output_type": "stream",
     "text": [
      "[07-01 22:58:20] p17208 {C:\\Projects\\Private\\PropStar\\venv\\lib\\site-packages\\sqlalchemy\\engine\\base.py:2082} INFO - [insertmanyvalues 4/4 (unordered)] (26.19, 114, 0.32, 1572, 26.25, 114, 2.42, 1573, 26.25, 114, 0.69, 1574, 26.19, 114, 0.42, 1575, 26.19, 115, 0.25, 1576, 26.19, 115, 0.5, 1577, 26.19, 114, 2.18, 1578, 26.19, 115, 0.34, 1579, 26.19, 115, 1.2, 1580, 26.25, 115, 0.16, 1581, 26.25, 115, 1.08, 1582, 26.25, 115, 1.29, 1583, 26.25, 114 ... 1940 parameters truncated ... 0.13, 2069, 25.5, 0, 0.38, 2070, 25.44, 0, 0.49, 2071, 25.38, 0, 0.51, 2072, 25.31, 0, 0.19, 2073, 25.31, 0, 0.16, 2074, 25.25, 0, 0.11, 2075, 25.25, 0, 0.12, 2076, 25.06, 1, 0.09, 2077, 25.13, 2, 0.09, 2078, 25.13, 3, 0.07, 2079, 25.13, 6, 0.09, 2080, 25.13, 6, 0.11, 2081)\n"
     ]
    },
    {
     "name": "stdout",
     "output_type": "stream",
     "text": [
      "2024-07-01 22:58:20,561 INFO sqlalchemy.engine.Engine ALTER TABLE room_occupancy_multiclass.sensor1 ALTER COLUMN sensor1_id BIGINT NOT NULL\n"
     ]
    },
    {
     "name": "stderr",
     "output_type": "stream",
     "text": [
      "[07-01 22:58:20] p17208 {C:\\Projects\\Private\\PropStar\\venv\\lib\\site-packages\\sqlalchemy\\engine\\base.py:1897} INFO - ALTER TABLE room_occupancy_multiclass.sensor1 ALTER COLUMN sensor1_id BIGINT NOT NULL\n"
     ]
    },
    {
     "name": "stdout",
     "output_type": "stream",
     "text": [
      "2024-07-01 22:58:20,562 INFO sqlalchemy.engine.Engine [generated in 0.00126s] ()\n"
     ]
    },
    {
     "name": "stderr",
     "output_type": "stream",
     "text": [
      "[07-01 22:58:20] p17208 {C:\\Projects\\Private\\PropStar\\venv\\lib\\site-packages\\sqlalchemy\\engine\\base.py:1902} INFO - [generated in 0.00126s] ()\n"
     ]
    },
    {
     "name": "stdout",
     "output_type": "stream",
     "text": [
      "2024-07-01 22:58:20,574 INFO sqlalchemy.engine.Engine ALTER TABLE room_occupancy_multiclass.sensor1 ADD CONSTRAINT PK_sensor1 PRIMARY KEY (sensor1_id);\n"
     ]
    },
    {
     "name": "stderr",
     "output_type": "stream",
     "text": [
      "[07-01 22:58:20] p17208 {C:\\Projects\\Private\\PropStar\\venv\\lib\\site-packages\\sqlalchemy\\engine\\base.py:1897} INFO - ALTER TABLE room_occupancy_multiclass.sensor1 ADD CONSTRAINT PK_sensor1 PRIMARY KEY (sensor1_id);\n"
     ]
    },
    {
     "name": "stdout",
     "output_type": "stream",
     "text": [
      "2024-07-01 22:58:20,575 INFO sqlalchemy.engine.Engine [generated in 0.00143s] ()\n"
     ]
    },
    {
     "name": "stderr",
     "output_type": "stream",
     "text": [
      "[07-01 22:58:20] p17208 {C:\\Projects\\Private\\PropStar\\venv\\lib\\site-packages\\sqlalchemy\\engine\\base.py:1902} INFO - [generated in 0.00143s] ()\n"
     ]
    },
    {
     "name": "stdout",
     "output_type": "stream",
     "text": [
      "2024-07-01 22:58:20,589 INFO sqlalchemy.engine.Engine SELECT [INFORMATION_SCHEMA].[TABLES].[TABLE_NAME] \n",
      "FROM [INFORMATION_SCHEMA].[TABLES] \n",
      "WHERE ([INFORMATION_SCHEMA].[TABLES].[TABLE_TYPE] = CAST(? AS NVARCHAR(max)) OR [INFORMATION_SCHEMA].[TABLES].[TABLE_TYPE] = CAST(? AS NVARCHAR(max))) AND [INFORMATION_SCHEMA].[TABLES].[TABLE_NAME] = CAST(? AS NVARCHAR(max)) AND [INFORMATION_SCHEMA].[TABLES].[TABLE_SCHEMA] = CAST(? AS NVARCHAR(max))\n"
     ]
    },
    {
     "name": "stderr",
     "output_type": "stream",
     "text": [
      "[07-01 22:58:20] p17208 {C:\\Projects\\Private\\PropStar\\venv\\lib\\site-packages\\sqlalchemy\\engine\\base.py:1897} INFO - SELECT [INFORMATION_SCHEMA].[TABLES].[TABLE_NAME] \n",
      "FROM [INFORMATION_SCHEMA].[TABLES] \n",
      "WHERE ([INFORMATION_SCHEMA].[TABLES].[TABLE_TYPE] = CAST(? AS NVARCHAR(max)) OR [INFORMATION_SCHEMA].[TABLES].[TABLE_TYPE] = CAST(? AS NVARCHAR(max))) AND [INFORMATION_SCHEMA].[TABLES].[TABLE_NAME] = CAST(? AS NVARCHAR(max)) AND [INFORMATION_SCHEMA].[TABLES].[TABLE_SCHEMA] = CAST(? AS NVARCHAR(max))\n"
     ]
    },
    {
     "name": "stdout",
     "output_type": "stream",
     "text": [
      "2024-07-01 22:58:20,591 INFO sqlalchemy.engine.Engine [cached since 1.335s ago] ('BASE TABLE', 'VIEW', 'sensor2', 'room_occupancy_multiclass')\n"
     ]
    },
    {
     "name": "stderr",
     "output_type": "stream",
     "text": [
      "[07-01 22:58:20] p17208 {C:\\Projects\\Private\\PropStar\\venv\\lib\\site-packages\\sqlalchemy\\engine\\base.py:1902} INFO - [cached since 1.335s ago] ('BASE TABLE', 'VIEW', 'sensor2', 'room_occupancy_multiclass')\n"
     ]
    },
    {
     "name": "stdout",
     "output_type": "stream",
     "text": [
      "2024-07-01 22:58:20,594 INFO sqlalchemy.engine.Engine \n",
      "CREATE TABLE room_occupancy_multiclass.sensor2 (\n",
      "\t[S2_Temp] FLOAT(53) NULL, \n",
      "\t[S2_Light] BIGINT NULL, \n",
      "\t[S2_Sound] FLOAT(53) NULL, \n",
      "\tsensor2_id BIGINT NULL\n",
      ")\n",
      "\n",
      "\n"
     ]
    },
    {
     "name": "stderr",
     "output_type": "stream",
     "text": [
      "[07-01 22:58:20] p17208 {C:\\Projects\\Private\\PropStar\\venv\\lib\\site-packages\\sqlalchemy\\engine\\base.py:1897} INFO - \n",
      "CREATE TABLE room_occupancy_multiclass.sensor2 (\n",
      "\t[S2_Temp] FLOAT(53) NULL, \n",
      "\t[S2_Light] BIGINT NULL, \n",
      "\t[S2_Sound] FLOAT(53) NULL, \n",
      "\tsensor2_id BIGINT NULL\n",
      ")\n",
      "\n",
      "\n"
     ]
    },
    {
     "name": "stdout",
     "output_type": "stream",
     "text": [
      "2024-07-01 22:58:20,595 INFO sqlalchemy.engine.Engine [no key 0.00121s] ()\n"
     ]
    },
    {
     "name": "stderr",
     "output_type": "stream",
     "text": [
      "[07-01 22:58:20] p17208 {C:\\Projects\\Private\\PropStar\\venv\\lib\\site-packages\\sqlalchemy\\engine\\base.py:1902} INFO - [no key 0.00121s] ()\n"
     ]
    },
    {
     "name": "stdout",
     "output_type": "stream",
     "text": [
      "2024-07-01 22:58:20,603 INFO sqlalchemy.engine.Engine INSERT INTO room_occupancy_multiclass.sensor2 ([S2_Temp], [S2_Light], [S2_Sound], sensor2_id) VALUES (?, ?, ?, ?), (?, ?, ?, ?), (?, ?, ?, ?), (?, ?, ?, ?), (?, ?, ?, ?), (?, ?, ?, ?), (?, ?, ?, ?), (?, ?, ?, ?), (?, ?, ?, ?), (?, ?, ?, ?), (?, ?, ?, ... 7085 characters truncated ... ?), (?, ?, ?, ?), (?, ?, ?, ?), (?, ?, ?, ?), (?, ?, ?, ?), (?, ?, ?, ?), (?, ?, ?, ?), (?, ?, ?, ?)\n"
     ]
    },
    {
     "name": "stderr",
     "output_type": "stream",
     "text": [
      "[07-01 22:58:20] p17208 {C:\\Projects\\Private\\PropStar\\venv\\lib\\site-packages\\sqlalchemy\\engine\\base.py:2064} INFO - INSERT INTO room_occupancy_multiclass.sensor2 ([S2_Temp], [S2_Light], [S2_Sound], sensor2_id) VALUES (?, ?, ?, ?), (?, ?, ?, ?), (?, ?, ?, ?), (?, ?, ?, ?), (?, ?, ?, ?), (?, ?, ?, ?), (?, ?, ?, ?), (?, ?, ?, ?), (?, ?, ?, ?), (?, ?, ?, ?), (?, ?, ?, ... 7085 characters truncated ... ?), (?, ?, ?, ?), (?, ?, ?, ?), (?, ?, ?, ?), (?, ?, ?, ?), (?, ?, ?, ?), (?, ?, ?, ?), (?, ?, ?, ?)\n"
     ]
    },
    {
     "name": "stdout",
     "output_type": "stream",
     "text": [
      "2024-07-01 22:58:20,605 INFO sqlalchemy.engine.Engine [generated in 0.00206s (insertmanyvalues) 1/5 (unordered)] (24.75, 34, 0.19, 0, 24.75, 33, 0.05, 1, 24.75, 34, 0.11, 2, 24.75, 34, 0.1, 3, 24.75, 34, 0.06, 4, 24.81, 34, 0.06, 5, 24.75, 34, 0.32, 6, 24.81, 35, 0.05, 7, 24.81, 34, 0.64, 8, 24.81, 35, 0.31, 9, 24.81, 35, 0.13, 10, 24.88, 35, 0.15, 11, 24.81, 35 ... 1996 parameters truncated ... 0.51, 511, 25.75, 24, 0.6, 512, 25.75, 24, 0.06, 513, 25.75, 24, 0.5, 514, 25.75, 24, 0.14, 515, 25.75, 24, 0.13, 516, 25.75, 24, 1.2, 517, 25.75, 24, 1.24, 518, 25.81, 24, 0.05, 519, 25.75, 24, 2.14, 520, 25.75, 24, 0.4, 521, 25.75, 24, 0.54, 522, 25.75, 24, 0.8, 523)\n"
     ]
    },
    {
     "name": "stderr",
     "output_type": "stream",
     "text": [
      "[07-01 22:58:20] p17208 {C:\\Projects\\Private\\PropStar\\venv\\lib\\site-packages\\sqlalchemy\\engine\\base.py:2082} INFO - [generated in 0.00206s (insertmanyvalues) 1/5 (unordered)] (24.75, 34, 0.19, 0, 24.75, 33, 0.05, 1, 24.75, 34, 0.11, 2, 24.75, 34, 0.1, 3, 24.75, 34, 0.06, 4, 24.81, 34, 0.06, 5, 24.75, 34, 0.32, 6, 24.81, 35, 0.05, 7, 24.81, 34, 0.64, 8, 24.81, 35, 0.31, 9, 24.81, 35, 0.13, 10, 24.88, 35, 0.15, 11, 24.81, 35 ... 1996 parameters truncated ... 0.51, 511, 25.75, 24, 0.6, 512, 25.75, 24, 0.06, 513, 25.75, 24, 0.5, 514, 25.75, 24, 0.14, 515, 25.75, 24, 0.13, 516, 25.75, 24, 1.2, 517, 25.75, 24, 1.24, 518, 25.81, 24, 0.05, 519, 25.75, 24, 2.14, 520, 25.75, 24, 0.4, 521, 25.75, 24, 0.54, 522, 25.75, 24, 0.8, 523)\n"
     ]
    },
    {
     "name": "stdout",
     "output_type": "stream",
     "text": [
      "2024-07-01 22:58:20,788 INFO sqlalchemy.engine.Engine INSERT INTO room_occupancy_multiclass.sensor2 ([S2_Temp], [S2_Light], [S2_Sound], sensor2_id) VALUES (?, ?, ?, ?), (?, ?, ?, ?), (?, ?, ?, ?), (?, ?, ?, ?), (?, ?, ?, ?), (?, ?, ?, ?), (?, ?, ?, ?), (?, ?, ?, ?), (?, ?, ?, ?), (?, ?, ?, ?), (?, ?, ?, ... 7085 characters truncated ... ?), (?, ?, ?, ?), (?, ?, ?, ?), (?, ?, ?, ?), (?, ?, ?, ?), (?, ?, ?, ?), (?, ?, ?, ?), (?, ?, ?, ?)\n"
     ]
    },
    {
     "name": "stderr",
     "output_type": "stream",
     "text": [
      "[07-01 22:58:20] p17208 {C:\\Projects\\Private\\PropStar\\venv\\lib\\site-packages\\sqlalchemy\\engine\\base.py:2064} INFO - INSERT INTO room_occupancy_multiclass.sensor2 ([S2_Temp], [S2_Light], [S2_Sound], sensor2_id) VALUES (?, ?, ?, ?), (?, ?, ?, ?), (?, ?, ?, ?), (?, ?, ?, ?), (?, ?, ?, ?), (?, ?, ?, ?), (?, ?, ?, ?), (?, ?, ?, ?), (?, ?, ?, ?), (?, ?, ?, ?), (?, ?, ?, ... 7085 characters truncated ... ?), (?, ?, ?, ?), (?, ?, ?, ?), (?, ?, ?, ?), (?, ?, ?, ?), (?, ?, ?, ?), (?, ?, ?, ?), (?, ?, ?, ?)\n"
     ]
    },
    {
     "name": "stdout",
     "output_type": "stream",
     "text": [
      "2024-07-01 22:58:20,790 INFO sqlalchemy.engine.Engine [insertmanyvalues 2/5 (unordered)] (25.75, 24, 1.11, 524, 25.75, 24, 0.26, 525, 25.81, 24, 0.08, 526, 25.81, 24, 0.06, 527, 25.81, 24, 1.8, 528, 25.75, 24, 0.64, 529, 25.75, 24, 0.59, 530, 25.81, 24, 0.37, 531, 25.75, 24, 0.56, 532, 25.75, 24, 0.37, 533, 25.81, 24, 0.38, 534, 25.81, 24, 0.23, 535, 25.75, 24 ... 1996 parameters truncated ... 0.79, 1035, 25.56, 248, 0.5, 1036, 25.56, 248, 0.79, 1037, 25.63, 248, 1.28, 1038, 25.63, 249, 1.78, 1039, 25.63, 249, 1.07, 1040, 25.63, 249, 1.04, 1041, 25.63, 248, 0.52, 1042, 25.63, 249, 0.73, 1043, 25.63, 251, 1.59, 1044, 25.63, 250, 3.44, 1045, 25.63, 249, 3.44, 1046, 25.63, 249, 1.24, 1047)\n"
     ]
    },
    {
     "name": "stderr",
     "output_type": "stream",
     "text": [
      "[07-01 22:58:20] p17208 {C:\\Projects\\Private\\PropStar\\venv\\lib\\site-packages\\sqlalchemy\\engine\\base.py:2082} INFO - [insertmanyvalues 2/5 (unordered)] (25.75, 24, 1.11, 524, 25.75, 24, 0.26, 525, 25.81, 24, 0.08, 526, 25.81, 24, 0.06, 527, 25.81, 24, 1.8, 528, 25.75, 24, 0.64, 529, 25.75, 24, 0.59, 530, 25.81, 24, 0.37, 531, 25.75, 24, 0.56, 532, 25.75, 24, 0.37, 533, 25.81, 24, 0.38, 534, 25.81, 24, 0.23, 535, 25.75, 24 ... 1996 parameters truncated ... 0.79, 1035, 25.56, 248, 0.5, 1036, 25.56, 248, 0.79, 1037, 25.63, 248, 1.28, 1038, 25.63, 249, 1.78, 1039, 25.63, 249, 1.07, 1040, 25.63, 249, 1.04, 1041, 25.63, 248, 0.52, 1042, 25.63, 249, 0.73, 1043, 25.63, 251, 1.59, 1044, 25.63, 250, 3.44, 1045, 25.63, 249, 3.44, 1046, 25.63, 249, 1.24, 1047)\n"
     ]
    },
    {
     "name": "stdout",
     "output_type": "stream",
     "text": [
      "2024-07-01 22:58:20,798 INFO sqlalchemy.engine.Engine INSERT INTO room_occupancy_multiclass.sensor2 ([S2_Temp], [S2_Light], [S2_Sound], sensor2_id) VALUES (?, ?, ?, ?), (?, ?, ?, ?), (?, ?, ?, ?), (?, ?, ?, ?), (?, ?, ?, ?), (?, ?, ?, ?), (?, ?, ?, ?), (?, ?, ?, ?), (?, ?, ?, ?), (?, ?, ?, ?), (?, ?, ?, ... 7085 characters truncated ... ?), (?, ?, ?, ?), (?, ?, ?, ?), (?, ?, ?, ?), (?, ?, ?, ?), (?, ?, ?, ?), (?, ?, ?, ?), (?, ?, ?, ?)\n"
     ]
    },
    {
     "name": "stderr",
     "output_type": "stream",
     "text": [
      "[07-01 22:58:20] p17208 {C:\\Projects\\Private\\PropStar\\venv\\lib\\site-packages\\sqlalchemy\\engine\\base.py:2064} INFO - INSERT INTO room_occupancy_multiclass.sensor2 ([S2_Temp], [S2_Light], [S2_Sound], sensor2_id) VALUES (?, ?, ?, ?), (?, ?, ?, ?), (?, ?, ?, ?), (?, ?, ?, ?), (?, ?, ?, ?), (?, ?, ?, ?), (?, ?, ?, ?), (?, ?, ?, ?), (?, ?, ?, ?), (?, ?, ?, ?), (?, ?, ?, ... 7085 characters truncated ... ?), (?, ?, ?, ?), (?, ?, ?, ?), (?, ?, ?, ?), (?, ?, ?, ?), (?, ?, ?, ?), (?, ?, ?, ?), (?, ?, ?, ?)\n"
     ]
    },
    {
     "name": "stdout",
     "output_type": "stream",
     "text": [
      "2024-07-01 22:58:20,799 INFO sqlalchemy.engine.Engine [insertmanyvalues 3/5 (unordered)] (25.63, 249, 1.54, 1048, 25.69, 249, 0.78, 1049, 25.69, 249, 1.13, 1050, 25.69, 249, 3.13, 1051, 25.69, 249, 0.64, 1052, 25.69, 249, 0.1, 1053, 25.69, 249, 0.06, 1054, 25.75, 249, 0.06, 1055, 25.69, 249, 0.96, 1056, 25.69, 249, 2.25, 1057, 25.75, 249, 0.08, 1058, 25.75, 248, 0.11, 1059, 25.75, 249 ... 1996 parameters truncated ... 0.17, 1559, 26.25, 18, 0.11, 1560, 26.31, 19, 0.06, 1561, 26.25, 18, 0.06, 1562, 26.25, 18, 0.05, 1563, 26.25, 19, 0.33, 1564, 26.25, 19, 0.06, 1565, 26.25, 19, 0.19, 1566, 26.25, 19, 0.05, 1567, 26.25, 19, 0.58, 1568, 26.25, 19, 0.21, 1569, 26.25, 19, 0.1, 1570, 26.25, 19, 0.24, 1571)\n"
     ]
    },
    {
     "name": "stderr",
     "output_type": "stream",
     "text": [
      "[07-01 22:58:20] p17208 {C:\\Projects\\Private\\PropStar\\venv\\lib\\site-packages\\sqlalchemy\\engine\\base.py:2082} INFO - [insertmanyvalues 3/5 (unordered)] (25.63, 249, 1.54, 1048, 25.69, 249, 0.78, 1049, 25.69, 249, 1.13, 1050, 25.69, 249, 3.13, 1051, 25.69, 249, 0.64, 1052, 25.69, 249, 0.1, 1053, 25.69, 249, 0.06, 1054, 25.75, 249, 0.06, 1055, 25.69, 249, 0.96, 1056, 25.69, 249, 2.25, 1057, 25.75, 249, 0.08, 1058, 25.75, 248, 0.11, 1059, 25.75, 249 ... 1996 parameters truncated ... 0.17, 1559, 26.25, 18, 0.11, 1560, 26.31, 19, 0.06, 1561, 26.25, 18, 0.06, 1562, 26.25, 18, 0.05, 1563, 26.25, 19, 0.33, 1564, 26.25, 19, 0.06, 1565, 26.25, 19, 0.19, 1566, 26.25, 19, 0.05, 1567, 26.25, 19, 0.58, 1568, 26.25, 19, 0.21, 1569, 26.25, 19, 0.1, 1570, 26.25, 19, 0.24, 1571)\n"
     ]
    },
    {
     "name": "stdout",
     "output_type": "stream",
     "text": [
      "2024-07-01 22:58:20,808 INFO sqlalchemy.engine.Engine INSERT INTO room_occupancy_multiclass.sensor2 ([S2_Temp], [S2_Light], [S2_Sound], sensor2_id) VALUES (?, ?, ?, ?), (?, ?, ?, ?), (?, ?, ?, ?), (?, ?, ?, ?), (?, ?, ?, ?), (?, ?, ?, ?), (?, ?, ?, ?), (?, ?, ?, ?), (?, ?, ?, ?), (?, ?, ?, ?), (?, ?, ?, ... 7085 characters truncated ... ?), (?, ?, ?, ?), (?, ?, ?, ?), (?, ?, ?, ?), (?, ?, ?, ?), (?, ?, ?, ?), (?, ?, ?, ?), (?, ?, ?, ?)\n"
     ]
    },
    {
     "name": "stderr",
     "output_type": "stream",
     "text": [
      "[07-01 22:58:20] p17208 {C:\\Projects\\Private\\PropStar\\venv\\lib\\site-packages\\sqlalchemy\\engine\\base.py:2064} INFO - INSERT INTO room_occupancy_multiclass.sensor2 ([S2_Temp], [S2_Light], [S2_Sound], sensor2_id) VALUES (?, ?, ?, ?), (?, ?, ?, ?), (?, ?, ?, ?), (?, ?, ?, ?), (?, ?, ?, ?), (?, ?, ?, ?), (?, ?, ?, ?), (?, ?, ?, ?), (?, ?, ?, ?), (?, ?, ?, ?), (?, ?, ?, ... 7085 characters truncated ... ?), (?, ?, ?, ?), (?, ?, ?, ?), (?, ?, ?, ?), (?, ?, ?, ?), (?, ?, ?, ?), (?, ?, ?, ?), (?, ?, ?, ?)\n"
     ]
    },
    {
     "name": "stdout",
     "output_type": "stream",
     "text": [
      "2024-07-01 22:58:20,809 INFO sqlalchemy.engine.Engine [insertmanyvalues 4/5 (unordered)] (26.25, 19, 0.18, 1572, 26.25, 19, 0.13, 1573, 26.25, 19, 0.09, 1574, 26.25, 19, 0.07, 1575, 26.25, 19, 0.2, 1576, 26.19, 19, 0.05, 1577, 26.19, 19, 0.06, 1578, 26.25, 19, 0.54, 1579, 26.19, 19, 0.1, 1580, 26.19, 19, 0.12, 1581, 26.19, 19, 0.11, 1582, 26.19, 19, 0.13, 1583, 26.19, 19 ... 1996 parameters truncated ... 0.32, 2083, 26.19, 230, 0.38, 2084, 26.19, 230, 0.16, 2085, 26.25, 230, 0.26, 2086, 26.19, 231, 0.6, 2087, 26.19, 230, 0.43, 2088, 26.19, 230, 0.61, 2089, 26.19, 229, 0.53, 2090, 26.25, 227, 0.53, 2091, 26.25, 227, 0.8, 2092, 26.19, 228, 0.49, 2093, 26.19, 228, 0.43, 2094, 26.19, 227, 0.66, 2095)\n"
     ]
    },
    {
     "name": "stderr",
     "output_type": "stream",
     "text": [
      "[07-01 22:58:20] p17208 {C:\\Projects\\Private\\PropStar\\venv\\lib\\site-packages\\sqlalchemy\\engine\\base.py:2082} INFO - [insertmanyvalues 4/5 (unordered)] (26.25, 19, 0.18, 1572, 26.25, 19, 0.13, 1573, 26.25, 19, 0.09, 1574, 26.25, 19, 0.07, 1575, 26.25, 19, 0.2, 1576, 26.19, 19, 0.05, 1577, 26.19, 19, 0.06, 1578, 26.25, 19, 0.54, 1579, 26.19, 19, 0.1, 1580, 26.19, 19, 0.12, 1581, 26.19, 19, 0.11, 1582, 26.19, 19, 0.13, 1583, 26.19, 19 ... 1996 parameters truncated ... 0.32, 2083, 26.19, 230, 0.38, 2084, 26.19, 230, 0.16, 2085, 26.25, 230, 0.26, 2086, 26.19, 231, 0.6, 2087, 26.19, 230, 0.43, 2088, 26.19, 230, 0.61, 2089, 26.19, 229, 0.53, 2090, 26.25, 227, 0.53, 2091, 26.25, 227, 0.8, 2092, 26.19, 228, 0.49, 2093, 26.19, 228, 0.43, 2094, 26.19, 227, 0.66, 2095)\n"
     ]
    },
    {
     "name": "stdout",
     "output_type": "stream",
     "text": [
      "2024-07-01 22:58:20,817 INFO sqlalchemy.engine.Engine INSERT INTO room_occupancy_multiclass.sensor2 ([S2_Temp], [S2_Light], [S2_Sound], sensor2_id) VALUES (?, ?, ?, ?), (?, ?, ?, ?), (?, ?, ?, ?), (?, ?, ?, ?), (?, ?, ?, ?), (?, ?, ?, ?), (?, ?, ?, ?), (?, ?, ?, ?), (?, ?, ?, ?), (?, ?, ?, ?), (?, ?, ?, ... 407 characters truncated ... ?), (?, ?, ?, ?), (?, ?, ?, ?), (?, ?, ?, ?), (?, ?, ?, ?), (?, ?, ?, ?), (?, ?, ?, ?), (?, ?, ?, ?)\n"
     ]
    },
    {
     "name": "stderr",
     "output_type": "stream",
     "text": [
      "[07-01 22:58:20] p17208 {C:\\Projects\\Private\\PropStar\\venv\\lib\\site-packages\\sqlalchemy\\engine\\base.py:2064} INFO - INSERT INTO room_occupancy_multiclass.sensor2 ([S2_Temp], [S2_Light], [S2_Sound], sensor2_id) VALUES (?, ?, ?, ?), (?, ?, ?, ?), (?, ?, ?, ?), (?, ?, ?, ?), (?, ?, ?, ?), (?, ?, ?, ?), (?, ?, ?, ?), (?, ?, ?, ?), (?, ?, ?, ?), (?, ?, ?, ?), (?, ?, ?, ... 407 characters truncated ... ?), (?, ?, ?, ?), (?, ?, ?, ?), (?, ?, ?, ?), (?, ?, ?, ?), (?, ?, ?, ?), (?, ?, ?, ?), (?, ?, ?, ?)\n"
     ]
    },
    {
     "name": "stdout",
     "output_type": "stream",
     "text": [
      "2024-07-01 22:58:20,818 INFO sqlalchemy.engine.Engine [insertmanyvalues 5/5 (unordered)] (26.19, 226, 0.31, 2096, 26.19, 226, 0.6, 2097, 26.19, 226, 0.57, 2098, 26.25, 227, 1.92, 2099, 26.25, 227, 1.21, 2100, 26.25, 227, 0.65, 2101, 26.31, 228, 0.44, 2102, 26.31, 228, 0.52, 2103, 26.31, 227, 1.2, 2104, 26.25, 227, 0.21, 2105, 26.25, 227, 0.22, 2106, 26.25, 228, 0.33, 2107, 26.19, 227 ... 88 parameters truncated ... 0.12, 2130, 26.0, 0, 0.06, 2131, 26.0, 0, 0.13, 2132, 25.94, 0, 0.06, 2133, 26.0, 0, 0.14, 2134, 25.75, 0, 0.21, 2135, 25.75, 0, 0.07, 2136, 25.69, 0, 0.12, 2137, 25.69, 0, 0.14, 2138, 25.56, 0, 0.14, 2139, 25.5, 0, 0.34, 2140, 25.31, 0, 0.1, 2141, 25.0, 5, 0.04, 2142)\n"
     ]
    },
    {
     "name": "stderr",
     "output_type": "stream",
     "text": [
      "[07-01 22:58:20] p17208 {C:\\Projects\\Private\\PropStar\\venv\\lib\\site-packages\\sqlalchemy\\engine\\base.py:2082} INFO - [insertmanyvalues 5/5 (unordered)] (26.19, 226, 0.31, 2096, 26.19, 226, 0.6, 2097, 26.19, 226, 0.57, 2098, 26.25, 227, 1.92, 2099, 26.25, 227, 1.21, 2100, 26.25, 227, 0.65, 2101, 26.31, 228, 0.44, 2102, 26.31, 228, 0.52, 2103, 26.31, 227, 1.2, 2104, 26.25, 227, 0.21, 2105, 26.25, 227, 0.22, 2106, 26.25, 228, 0.33, 2107, 26.19, 227 ... 88 parameters truncated ... 0.12, 2130, 26.0, 0, 0.06, 2131, 26.0, 0, 0.13, 2132, 25.94, 0, 0.06, 2133, 26.0, 0, 0.14, 2134, 25.75, 0, 0.21, 2135, 25.75, 0, 0.07, 2136, 25.69, 0, 0.12, 2137, 25.69, 0, 0.14, 2138, 25.56, 0, 0.14, 2139, 25.5, 0, 0.34, 2140, 25.31, 0, 0.1, 2141, 25.0, 5, 0.04, 2142)\n"
     ]
    },
    {
     "name": "stdout",
     "output_type": "stream",
     "text": [
      "2024-07-01 22:58:20,831 INFO sqlalchemy.engine.Engine ALTER TABLE room_occupancy_multiclass.sensor2 ALTER COLUMN sensor2_id BIGINT NOT NULL\n"
     ]
    },
    {
     "name": "stderr",
     "output_type": "stream",
     "text": [
      "[07-01 22:58:20] p17208 {C:\\Projects\\Private\\PropStar\\venv\\lib\\site-packages\\sqlalchemy\\engine\\base.py:1897} INFO - ALTER TABLE room_occupancy_multiclass.sensor2 ALTER COLUMN sensor2_id BIGINT NOT NULL\n"
     ]
    },
    {
     "name": "stdout",
     "output_type": "stream",
     "text": [
      "2024-07-01 22:58:20,831 INFO sqlalchemy.engine.Engine [generated in 0.00135s] ()\n"
     ]
    },
    {
     "name": "stderr",
     "output_type": "stream",
     "text": [
      "[07-01 22:58:20] p17208 {C:\\Projects\\Private\\PropStar\\venv\\lib\\site-packages\\sqlalchemy\\engine\\base.py:1902} INFO - [generated in 0.00135s] ()\n"
     ]
    },
    {
     "name": "stdout",
     "output_type": "stream",
     "text": [
      "2024-07-01 22:58:20,844 INFO sqlalchemy.engine.Engine ALTER TABLE room_occupancy_multiclass.sensor2 ADD CONSTRAINT PK_sensor2 PRIMARY KEY (sensor2_id);\n"
     ]
    },
    {
     "name": "stderr",
     "output_type": "stream",
     "text": [
      "[07-01 22:58:20] p17208 {C:\\Projects\\Private\\PropStar\\venv\\lib\\site-packages\\sqlalchemy\\engine\\base.py:1897} INFO - ALTER TABLE room_occupancy_multiclass.sensor2 ADD CONSTRAINT PK_sensor2 PRIMARY KEY (sensor2_id);\n"
     ]
    },
    {
     "name": "stdout",
     "output_type": "stream",
     "text": [
      "2024-07-01 22:58:20,845 INFO sqlalchemy.engine.Engine [generated in 0.00194s] ()\n"
     ]
    },
    {
     "name": "stderr",
     "output_type": "stream",
     "text": [
      "[07-01 22:58:20] p17208 {C:\\Projects\\Private\\PropStar\\venv\\lib\\site-packages\\sqlalchemy\\engine\\base.py:1902} INFO - [generated in 0.00194s] ()\n"
     ]
    },
    {
     "name": "stdout",
     "output_type": "stream",
     "text": [
      "2024-07-01 22:58:20,862 INFO sqlalchemy.engine.Engine SELECT [INFORMATION_SCHEMA].[TABLES].[TABLE_NAME] \n",
      "FROM [INFORMATION_SCHEMA].[TABLES] \n",
      "WHERE ([INFORMATION_SCHEMA].[TABLES].[TABLE_TYPE] = CAST(? AS NVARCHAR(max)) OR [INFORMATION_SCHEMA].[TABLES].[TABLE_TYPE] = CAST(? AS NVARCHAR(max))) AND [INFORMATION_SCHEMA].[TABLES].[TABLE_NAME] = CAST(? AS NVARCHAR(max)) AND [INFORMATION_SCHEMA].[TABLES].[TABLE_SCHEMA] = CAST(? AS NVARCHAR(max))\n"
     ]
    },
    {
     "name": "stderr",
     "output_type": "stream",
     "text": [
      "[07-01 22:58:20] p17208 {C:\\Projects\\Private\\PropStar\\venv\\lib\\site-packages\\sqlalchemy\\engine\\base.py:1897} INFO - SELECT [INFORMATION_SCHEMA].[TABLES].[TABLE_NAME] \n",
      "FROM [INFORMATION_SCHEMA].[TABLES] \n",
      "WHERE ([INFORMATION_SCHEMA].[TABLES].[TABLE_TYPE] = CAST(? AS NVARCHAR(max)) OR [INFORMATION_SCHEMA].[TABLES].[TABLE_TYPE] = CAST(? AS NVARCHAR(max))) AND [INFORMATION_SCHEMA].[TABLES].[TABLE_NAME] = CAST(? AS NVARCHAR(max)) AND [INFORMATION_SCHEMA].[TABLES].[TABLE_SCHEMA] = CAST(? AS NVARCHAR(max))\n"
     ]
    },
    {
     "name": "stdout",
     "output_type": "stream",
     "text": [
      "2024-07-01 22:58:20,863 INFO sqlalchemy.engine.Engine [cached since 1.607s ago] ('BASE TABLE', 'VIEW', 'sensor3', 'room_occupancy_multiclass')\n"
     ]
    },
    {
     "name": "stderr",
     "output_type": "stream",
     "text": [
      "[07-01 22:58:20] p17208 {C:\\Projects\\Private\\PropStar\\venv\\lib\\site-packages\\sqlalchemy\\engine\\base.py:1902} INFO - [cached since 1.607s ago] ('BASE TABLE', 'VIEW', 'sensor3', 'room_occupancy_multiclass')\n"
     ]
    },
    {
     "name": "stdout",
     "output_type": "stream",
     "text": [
      "2024-07-01 22:58:20,866 INFO sqlalchemy.engine.Engine \n",
      "CREATE TABLE room_occupancy_multiclass.sensor3 (\n",
      "\t[S3_Temp] FLOAT(53) NULL, \n",
      "\t[S3_Light] BIGINT NULL, \n",
      "\t[S3_Sound] FLOAT(53) NULL, \n",
      "\tsensor3_id BIGINT NULL\n",
      ")\n",
      "\n",
      "\n"
     ]
    },
    {
     "name": "stderr",
     "output_type": "stream",
     "text": [
      "[07-01 22:58:20] p17208 {C:\\Projects\\Private\\PropStar\\venv\\lib\\site-packages\\sqlalchemy\\engine\\base.py:1897} INFO - \n",
      "CREATE TABLE room_occupancy_multiclass.sensor3 (\n",
      "\t[S3_Temp] FLOAT(53) NULL, \n",
      "\t[S3_Light] BIGINT NULL, \n",
      "\t[S3_Sound] FLOAT(53) NULL, \n",
      "\tsensor3_id BIGINT NULL\n",
      ")\n",
      "\n",
      "\n"
     ]
    },
    {
     "name": "stdout",
     "output_type": "stream",
     "text": [
      "2024-07-01 22:58:20,867 INFO sqlalchemy.engine.Engine [no key 0.00102s] ()\n"
     ]
    },
    {
     "name": "stderr",
     "output_type": "stream",
     "text": [
      "[07-01 22:58:20] p17208 {C:\\Projects\\Private\\PropStar\\venv\\lib\\site-packages\\sqlalchemy\\engine\\base.py:1902} INFO - [no key 0.00102s] ()\n"
     ]
    },
    {
     "name": "stdout",
     "output_type": "stream",
     "text": [
      "2024-07-01 22:58:20,906 INFO sqlalchemy.engine.Engine INSERT INTO room_occupancy_multiclass.sensor3 ([S3_Temp], [S3_Light], [S3_Sound], sensor3_id) VALUES (?, ?, ?, ?), (?, ?, ?, ?), (?, ?, ?, ?), (?, ?, ?, ?), (?, ?, ?, ?), (?, ?, ?, ?), (?, ?, ?, ?), (?, ?, ?, ?), (?, ?, ?, ?), (?, ?, ?, ?), (?, ?, ?, ... 7085 characters truncated ... ?), (?, ?, ?, ?), (?, ?, ?, ?), (?, ?, ?, ?), (?, ?, ?, ?), (?, ?, ?, ?), (?, ?, ?, ?), (?, ?, ?, ?)\n"
     ]
    },
    {
     "name": "stderr",
     "output_type": "stream",
     "text": [
      "[07-01 22:58:20] p17208 {C:\\Projects\\Private\\PropStar\\venv\\lib\\site-packages\\sqlalchemy\\engine\\base.py:2064} INFO - INSERT INTO room_occupancy_multiclass.sensor3 ([S3_Temp], [S3_Light], [S3_Sound], sensor3_id) VALUES (?, ?, ?, ?), (?, ?, ?, ?), (?, ?, ?, ?), (?, ?, ?, ?), (?, ?, ?, ?), (?, ?, ?, ?), (?, ?, ?, ?), (?, ?, ?, ?), (?, ?, ?, ?), (?, ?, ?, ?), (?, ?, ?, ... 7085 characters truncated ... ?), (?, ?, ?, ?), (?, ?, ?, ?), (?, ?, ?, ?), (?, ?, ?, ?), (?, ?, ?, ?), (?, ?, ?, ?), (?, ?, ?, ?)\n"
     ]
    },
    {
     "name": "stdout",
     "output_type": "stream",
     "text": [
      "2024-07-01 22:58:20,907 INFO sqlalchemy.engine.Engine [generated in 0.00272s (insertmanyvalues) 1/6 (unordered)] (24.56, 53, 0.06, 0, 24.5, 53, 0.08, 1, 24.56, 53, 0.1, 2, 24.56, 54, 0.06, 3, 24.56, 54, 0.43, 4, 24.56, 54, 0.09, 5, 24.56, 56, 0.06, 6, 24.56, 57, 0.48, 7, 24.56, 57, 0.33, 8, 24.56, 57, 0.14, 9, 24.63, 57, 0.07, 10, 24.63, 57, 0.12, 11, 24.63, 58 ... 1996 parameters truncated ... 2.13, 511, 25.63, 200, 2.7, 512, 25.63, 200, 3.22, 513, 25.63, 197, 1.41, 514, 25.63, 199, 0.26, 515, 25.63, 198, 0.81, 516, 25.63, 196, 0.69, 517, 25.63, 197, 0.75, 518, 25.69, 197, 0.45, 519, 25.69, 195, 0.82, 520, 25.69, 194, 0.82, 521, 25.69, 193, 1.26, 522, 25.69, 192, 0.36, 523)\n"
     ]
    },
    {
     "name": "stderr",
     "output_type": "stream",
     "text": [
      "[07-01 22:58:20] p17208 {C:\\Projects\\Private\\PropStar\\venv\\lib\\site-packages\\sqlalchemy\\engine\\base.py:2082} INFO - [generated in 0.00272s (insertmanyvalues) 1/6 (unordered)] (24.56, 53, 0.06, 0, 24.5, 53, 0.08, 1, 24.56, 53, 0.1, 2, 24.56, 54, 0.06, 3, 24.56, 54, 0.43, 4, 24.56, 54, 0.09, 5, 24.56, 56, 0.06, 6, 24.56, 57, 0.48, 7, 24.56, 57, 0.33, 8, 24.56, 57, 0.14, 9, 24.63, 57, 0.07, 10, 24.63, 57, 0.12, 11, 24.63, 58 ... 1996 parameters truncated ... 2.13, 511, 25.63, 200, 2.7, 512, 25.63, 200, 3.22, 513, 25.63, 197, 1.41, 514, 25.63, 199, 0.26, 515, 25.63, 198, 0.81, 516, 25.63, 196, 0.69, 517, 25.63, 197, 0.75, 518, 25.69, 197, 0.45, 519, 25.69, 195, 0.82, 520, 25.69, 194, 0.82, 521, 25.69, 193, 1.26, 522, 25.69, 192, 0.36, 523)\n"
     ]
    },
    {
     "name": "stdout",
     "output_type": "stream",
     "text": [
      "2024-07-01 22:58:21,090 INFO sqlalchemy.engine.Engine INSERT INTO room_occupancy_multiclass.sensor3 ([S3_Temp], [S3_Light], [S3_Sound], sensor3_id) VALUES (?, ?, ?, ?), (?, ?, ?, ?), (?, ?, ?, ?), (?, ?, ?, ?), (?, ?, ?, ?), (?, ?, ?, ?), (?, ?, ?, ?), (?, ?, ?, ?), (?, ?, ?, ?), (?, ?, ?, ?), (?, ?, ?, ... 7085 characters truncated ... ?), (?, ?, ?, ?), (?, ?, ?, ?), (?, ?, ?, ?), (?, ?, ?, ?), (?, ?, ?, ?), (?, ?, ?, ?), (?, ?, ?, ?)\n"
     ]
    },
    {
     "name": "stderr",
     "output_type": "stream",
     "text": [
      "[07-01 22:58:21] p17208 {C:\\Projects\\Private\\PropStar\\venv\\lib\\site-packages\\sqlalchemy\\engine\\base.py:2064} INFO - INSERT INTO room_occupancy_multiclass.sensor3 ([S3_Temp], [S3_Light], [S3_Sound], sensor3_id) VALUES (?, ?, ?, ?), (?, ?, ?, ?), (?, ?, ?, ?), (?, ?, ?, ?), (?, ?, ?, ?), (?, ?, ?, ?), (?, ?, ?, ?), (?, ?, ?, ?), (?, ?, ?, ?), (?, ?, ?, ?), (?, ?, ?, ... 7085 characters truncated ... ?), (?, ?, ?, ?), (?, ?, ?, ?), (?, ?, ?, ?), (?, ?, ?, ?), (?, ?, ?, ?), (?, ?, ?, ?), (?, ?, ?, ?)\n"
     ]
    },
    {
     "name": "stdout",
     "output_type": "stream",
     "text": [
      "2024-07-01 22:58:21,093 INFO sqlalchemy.engine.Engine [insertmanyvalues 2/6 (unordered)] (25.75, 191, 0.06, 524, 25.69, 192, 0.5, 525, 25.75, 191, 0.07, 526, 25.69, 194, 0.13, 527, 25.75, 190, 2.13, 528, 25.75, 190, 0.06, 529, 25.75, 190, 0.07, 530, 25.75, 190, 0.13, 531, 25.75, 189, 0.12, 532, 25.75, 188, 0.49, 533, 25.75, 189, 0.45, 534, 25.75, 188, 0.57, 535, 25.75, 188 ... 1996 parameters truncated ... 0.08, 1035, 24.63, 37, 0.07, 1036, 24.63, 37, 0.06, 1037, 24.63, 36, 0.17, 1038, 24.63, 36, 0.16, 1039, 24.63, 36, 0.05, 1040, 24.63, 37, 0.08, 1041, 24.63, 37, 0.09, 1042, 24.63, 38, 0.08, 1043, 24.63, 38, 0.06, 1044, 24.63, 38, 0.07, 1045, 24.63, 39, 0.06, 1046, 24.63, 40, 0.06, 1047)\n"
     ]
    },
    {
     "name": "stderr",
     "output_type": "stream",
     "text": [
      "[07-01 22:58:21] p17208 {C:\\Projects\\Private\\PropStar\\venv\\lib\\site-packages\\sqlalchemy\\engine\\base.py:2082} INFO - [insertmanyvalues 2/6 (unordered)] (25.75, 191, 0.06, 524, 25.69, 192, 0.5, 525, 25.75, 191, 0.07, 526, 25.69, 194, 0.13, 527, 25.75, 190, 2.13, 528, 25.75, 190, 0.06, 529, 25.75, 190, 0.07, 530, 25.75, 190, 0.13, 531, 25.75, 189, 0.12, 532, 25.75, 188, 0.49, 533, 25.75, 189, 0.45, 534, 25.75, 188, 0.57, 535, 25.75, 188 ... 1996 parameters truncated ... 0.08, 1035, 24.63, 37, 0.07, 1036, 24.63, 37, 0.06, 1037, 24.63, 36, 0.17, 1038, 24.63, 36, 0.16, 1039, 24.63, 36, 0.05, 1040, 24.63, 37, 0.08, 1041, 24.63, 37, 0.09, 1042, 24.63, 38, 0.08, 1043, 24.63, 38, 0.06, 1044, 24.63, 38, 0.07, 1045, 24.63, 39, 0.06, 1046, 24.63, 40, 0.06, 1047)\n"
     ]
    },
    {
     "name": "stdout",
     "output_type": "stream",
     "text": [
      "2024-07-01 22:58:21,102 INFO sqlalchemy.engine.Engine INSERT INTO room_occupancy_multiclass.sensor3 ([S3_Temp], [S3_Light], [S3_Sound], sensor3_id) VALUES (?, ?, ?, ?), (?, ?, ?, ?), (?, ?, ?, ?), (?, ?, ?, ?), (?, ?, ?, ?), (?, ?, ?, ?), (?, ?, ?, ?), (?, ?, ?, ?), (?, ?, ?, ?), (?, ?, ?, ?), (?, ?, ?, ... 7085 characters truncated ... ?), (?, ?, ?, ?), (?, ?, ?, ?), (?, ?, ?, ?), (?, ?, ?, ?), (?, ?, ?, ?), (?, ?, ?, ?), (?, ?, ?, ?)\n"
     ]
    },
    {
     "name": "stderr",
     "output_type": "stream",
     "text": [
      "[07-01 22:58:21] p17208 {C:\\Projects\\Private\\PropStar\\venv\\lib\\site-packages\\sqlalchemy\\engine\\base.py:2064} INFO - INSERT INTO room_occupancy_multiclass.sensor3 ([S3_Temp], [S3_Light], [S3_Sound], sensor3_id) VALUES (?, ?, ?, ?), (?, ?, ?, ?), (?, ?, ?, ?), (?, ?, ?, ?), (?, ?, ?, ?), (?, ?, ?, ?), (?, ?, ?, ?), (?, ?, ?, ?), (?, ?, ?, ?), (?, ?, ?, ?), (?, ?, ?, ... 7085 characters truncated ... ?), (?, ?, ?, ?), (?, ?, ?, ?), (?, ?, ?, ?), (?, ?, ?, ?), (?, ?, ?, ?), (?, ?, ?, ?), (?, ?, ?, ?)\n"
     ]
    },
    {
     "name": "stdout",
     "output_type": "stream",
     "text": [
      "2024-07-01 22:58:21,104 INFO sqlalchemy.engine.Engine [insertmanyvalues 3/6 (unordered)] (24.69, 39, 0.07, 1048, 24.63, 39, 0.07, 1049, 24.63, 40, 0.07, 1050, 24.63, 40, 0.05, 1051, 24.63, 40, 0.1, 1052, 24.63, 40, 0.08, 1053, 24.63, 41, 0.08, 1054, 24.63, 41, 0.07, 1055, 24.63, 41, 0.06, 1056, 24.69, 41, 0.06, 1057, 24.69, 41, 0.07, 1058, 24.69, 41, 0.08, 1059, 24.69, 42 ... 1996 parameters truncated ... 0.14, 1559, 25.56, 35, 0.07, 1560, 25.56, 35, 0.08, 1561, 25.5, 34, 0.09, 1562, 25.5, 34, 0.06, 1563, 25.5, 33, 0.11, 1564, 25.5, 33, 0.07, 1565, 25.5, 33, 0.06, 1566, 25.56, 33, 0.07, 1567, 25.56, 33, 0.06, 1568, 25.56, 33, 0.11, 1569, 25.5, 32, 0.14, 1570, 25.5, 31, 0.16, 1571)\n"
     ]
    },
    {
     "name": "stderr",
     "output_type": "stream",
     "text": [
      "[07-01 22:58:21] p17208 {C:\\Projects\\Private\\PropStar\\venv\\lib\\site-packages\\sqlalchemy\\engine\\base.py:2082} INFO - [insertmanyvalues 3/6 (unordered)] (24.69, 39, 0.07, 1048, 24.63, 39, 0.07, 1049, 24.63, 40, 0.07, 1050, 24.63, 40, 0.05, 1051, 24.63, 40, 0.1, 1052, 24.63, 40, 0.08, 1053, 24.63, 41, 0.08, 1054, 24.63, 41, 0.07, 1055, 24.63, 41, 0.06, 1056, 24.69, 41, 0.06, 1057, 24.69, 41, 0.07, 1058, 24.69, 41, 0.08, 1059, 24.69, 42 ... 1996 parameters truncated ... 0.14, 1559, 25.56, 35, 0.07, 1560, 25.56, 35, 0.08, 1561, 25.5, 34, 0.09, 1562, 25.5, 34, 0.06, 1563, 25.5, 33, 0.11, 1564, 25.5, 33, 0.07, 1565, 25.5, 33, 0.06, 1566, 25.56, 33, 0.07, 1567, 25.56, 33, 0.06, 1568, 25.56, 33, 0.11, 1569, 25.5, 32, 0.14, 1570, 25.5, 31, 0.16, 1571)\n"
     ]
    },
    {
     "name": "stdout",
     "output_type": "stream",
     "text": [
      "2024-07-01 22:58:21,112 INFO sqlalchemy.engine.Engine INSERT INTO room_occupancy_multiclass.sensor3 ([S3_Temp], [S3_Light], [S3_Sound], sensor3_id) VALUES (?, ?, ?, ?), (?, ?, ?, ?), (?, ?, ?, ?), (?, ?, ?, ?), (?, ?, ?, ?), (?, ?, ?, ?), (?, ?, ?, ?), (?, ?, ?, ?), (?, ?, ?, ?), (?, ?, ?, ?), (?, ?, ?, ... 7085 characters truncated ... ?), (?, ?, ?, ?), (?, ?, ?, ?), (?, ?, ?, ?), (?, ?, ?, ?), (?, ?, ?, ?), (?, ?, ?, ?), (?, ?, ?, ?)\n"
     ]
    },
    {
     "name": "stderr",
     "output_type": "stream",
     "text": [
      "[07-01 22:58:21] p17208 {C:\\Projects\\Private\\PropStar\\venv\\lib\\site-packages\\sqlalchemy\\engine\\base.py:2064} INFO - INSERT INTO room_occupancy_multiclass.sensor3 ([S3_Temp], [S3_Light], [S3_Sound], sensor3_id) VALUES (?, ?, ?, ?), (?, ?, ?, ?), (?, ?, ?, ?), (?, ?, ?, ?), (?, ?, ?, ?), (?, ?, ?, ?), (?, ?, ?, ?), (?, ?, ?, ?), (?, ?, ?, ?), (?, ?, ?, ?), (?, ?, ?, ... 7085 characters truncated ... ?), (?, ?, ?, ?), (?, ?, ?, ?), (?, ?, ?, ?), (?, ?, ?, ?), (?, ?, ?, ?), (?, ?, ?, ?), (?, ?, ?, ?)\n"
     ]
    },
    {
     "name": "stdout",
     "output_type": "stream",
     "text": [
      "2024-07-01 22:58:21,113 INFO sqlalchemy.engine.Engine [insertmanyvalues 4/6 (unordered)] (25.56, 30, 0.07, 1572, 25.56, 29, 0.07, 1573, 25.5, 29, 0.07, 1574, 25.5, 29, 0.05, 1575, 25.56, 29, 0.24, 1576, 25.56, 29, 0.06, 1577, 25.5, 28, 0.11, 1578, 25.56, 28, 0.1, 1579, 25.5, 28, 0.06, 1580, 25.5, 27, 0.07, 1581, 25.56, 27, 0.06, 1582, 25.5, 27, 0.06, 1583, 25.5, 27 ... 1996 parameters truncated ... 0.07, 2083, 24.94, 57, 0.05, 2084, 25.0, 60, 0.06, 2085, 24.94, 66, 0.06, 2086, 25.0, 68, 0.05, 2087, 24.94, 61, 0.06, 2088, 25.0, 64, 0.14, 2089, 25.0, 62, 0.06, 2090, 25.0, 70, 0.06, 2091, 24.94, 69, 0.1, 2092, 25.0, 69, 0.13, 2093, 25.0, 67, 0.12, 2094, 24.94, 67, 0.06, 2095)\n"
     ]
    },
    {
     "name": "stderr",
     "output_type": "stream",
     "text": [
      "[07-01 22:58:21] p17208 {C:\\Projects\\Private\\PropStar\\venv\\lib\\site-packages\\sqlalchemy\\engine\\base.py:2082} INFO - [insertmanyvalues 4/6 (unordered)] (25.56, 30, 0.07, 1572, 25.56, 29, 0.07, 1573, 25.5, 29, 0.07, 1574, 25.5, 29, 0.05, 1575, 25.56, 29, 0.24, 1576, 25.56, 29, 0.06, 1577, 25.5, 28, 0.11, 1578, 25.56, 28, 0.1, 1579, 25.5, 28, 0.06, 1580, 25.5, 27, 0.07, 1581, 25.56, 27, 0.06, 1582, 25.5, 27, 0.06, 1583, 25.5, 27 ... 1996 parameters truncated ... 0.07, 2083, 24.94, 57, 0.05, 2084, 25.0, 60, 0.06, 2085, 24.94, 66, 0.06, 2086, 25.0, 68, 0.05, 2087, 24.94, 61, 0.06, 2088, 25.0, 64, 0.14, 2089, 25.0, 62, 0.06, 2090, 25.0, 70, 0.06, 2091, 24.94, 69, 0.1, 2092, 25.0, 69, 0.13, 2093, 25.0, 67, 0.12, 2094, 24.94, 67, 0.06, 2095)\n"
     ]
    },
    {
     "name": "stdout",
     "output_type": "stream",
     "text": [
      "2024-07-01 22:58:21,121 INFO sqlalchemy.engine.Engine INSERT INTO room_occupancy_multiclass.sensor3 ([S3_Temp], [S3_Light], [S3_Sound], sensor3_id) VALUES (?, ?, ?, ?), (?, ?, ?, ?), (?, ?, ?, ?), (?, ?, ?, ?), (?, ?, ?, ?), (?, ?, ?, ?), (?, ?, ?, ?), (?, ?, ?, ?), (?, ?, ?, ?), (?, ?, ?, ?), (?, ?, ?, ... 7085 characters truncated ... ?), (?, ?, ?, ?), (?, ?, ?, ?), (?, ?, ?, ?), (?, ?, ?, ?), (?, ?, ?, ?), (?, ?, ?, ?), (?, ?, ?, ?)\n"
     ]
    },
    {
     "name": "stderr",
     "output_type": "stream",
     "text": [
      "[07-01 22:58:21] p17208 {C:\\Projects\\Private\\PropStar\\venv\\lib\\site-packages\\sqlalchemy\\engine\\base.py:2064} INFO - INSERT INTO room_occupancy_multiclass.sensor3 ([S3_Temp], [S3_Light], [S3_Sound], sensor3_id) VALUES (?, ?, ?, ?), (?, ?, ?, ?), (?, ?, ?, ?), (?, ?, ?, ?), (?, ?, ?, ?), (?, ?, ?, ?), (?, ?, ?, ?), (?, ?, ?, ?), (?, ?, ?, ?), (?, ?, ?, ?), (?, ?, ?, ... 7085 characters truncated ... ?), (?, ?, ?, ?), (?, ?, ?, ?), (?, ?, ?, ?), (?, ?, ?, ?), (?, ?, ?, ?), (?, ?, ?, ?), (?, ?, ?, ?)\n"
     ]
    },
    {
     "name": "stdout",
     "output_type": "stream",
     "text": [
      "2024-07-01 22:58:21,122 INFO sqlalchemy.engine.Engine [insertmanyvalues 5/6 (unordered)] (25.0, 67, 0.07, 2096, 25.0, 61, 0.06, 2097, 25.0, 61, 0.07, 2098, 25.0, 67, 0.08, 2099, 25.0, 69, 0.07, 2100, 25.0, 68, 0.16, 2101, 24.94, 65, 0.13, 2102, 25.0, 71, 0.06, 2103, 25.0, 73, 0.19, 2104, 25.0, 75, 0.19, 2105, 25.0, 75, 0.06, 2106, 25.0, 75, 0.08, 2107, 25.0, 75 ... 1996 parameters truncated ... 0.25, 2607, 25.75, 34, 0.37, 2608, 25.75, 35, 0.11, 2609, 25.75, 35, 0.55, 2610, 25.75, 33, 0.74, 2611, 25.81, 33, 0.15, 2612, 25.81, 32, 0.09, 2613, 25.75, 31, 0.11, 2614, 25.81, 31, 0.21, 2615, 25.75, 29, 0.06, 2616, 25.75, 29, 0.09, 2617, 25.75, 27, 0.07, 2618, 25.75, 26, 0.2, 2619)\n"
     ]
    },
    {
     "name": "stderr",
     "output_type": "stream",
     "text": [
      "[07-01 22:58:21] p17208 {C:\\Projects\\Private\\PropStar\\venv\\lib\\site-packages\\sqlalchemy\\engine\\base.py:2082} INFO - [insertmanyvalues 5/6 (unordered)] (25.0, 67, 0.07, 2096, 25.0, 61, 0.06, 2097, 25.0, 61, 0.07, 2098, 25.0, 67, 0.08, 2099, 25.0, 69, 0.07, 2100, 25.0, 68, 0.16, 2101, 24.94, 65, 0.13, 2102, 25.0, 71, 0.06, 2103, 25.0, 73, 0.19, 2104, 25.0, 75, 0.19, 2105, 25.0, 75, 0.06, 2106, 25.0, 75, 0.08, 2107, 25.0, 75 ... 1996 parameters truncated ... 0.25, 2607, 25.75, 34, 0.37, 2608, 25.75, 35, 0.11, 2609, 25.75, 35, 0.55, 2610, 25.75, 33, 0.74, 2611, 25.81, 33, 0.15, 2612, 25.81, 32, 0.09, 2613, 25.75, 31, 0.11, 2614, 25.81, 31, 0.21, 2615, 25.75, 29, 0.06, 2616, 25.75, 29, 0.09, 2617, 25.75, 27, 0.07, 2618, 25.75, 26, 0.2, 2619)\n"
     ]
    },
    {
     "name": "stdout",
     "output_type": "stream",
     "text": [
      "2024-07-01 22:58:21,131 INFO sqlalchemy.engine.Engine INSERT INTO room_occupancy_multiclass.sensor3 ([S3_Temp], [S3_Light], [S3_Sound], sensor3_id) VALUES (?, ?, ?, ?), (?, ?, ?, ?), (?, ?, ?, ?), (?, ?, ?, ?), (?, ?, ?, ?), (?, ?, ?, ?), (?, ?, ?, ?), (?, ?, ?, ?), (?, ?, ?, ?), (?, ?, ?, ?), (?, ?, ?, ... 2045 characters truncated ... ?), (?, ?, ?, ?), (?, ?, ?, ?), (?, ?, ?, ?), (?, ?, ?, ?), (?, ?, ?, ?), (?, ?, ?, ?), (?, ?, ?, ?)\n"
     ]
    },
    {
     "name": "stderr",
     "output_type": "stream",
     "text": [
      "[07-01 22:58:21] p17208 {C:\\Projects\\Private\\PropStar\\venv\\lib\\site-packages\\sqlalchemy\\engine\\base.py:2064} INFO - INSERT INTO room_occupancy_multiclass.sensor3 ([S3_Temp], [S3_Light], [S3_Sound], sensor3_id) VALUES (?, ?, ?, ?), (?, ?, ?, ?), (?, ?, ?, ?), (?, ?, ?, ?), (?, ?, ?, ?), (?, ?, ?, ?), (?, ?, ?, ?), (?, ?, ?, ?), (?, ?, ?, ?), (?, ?, ?, ?), (?, ?, ?, ... 2045 characters truncated ... ?), (?, ?, ?, ?), (?, ?, ?, ?), (?, ?, ?, ?), (?, ?, ?, ?), (?, ?, ?, ?), (?, ?, ?, ?), (?, ?, ?, ?)\n"
     ]
    },
    {
     "name": "stdout",
     "output_type": "stream",
     "text": [
      "2024-07-01 22:58:21,133 INFO sqlalchemy.engine.Engine [insertmanyvalues 6/6 (unordered)] (25.75, 24, 0.09, 2620, 25.75, 24, 0.12, 2621, 25.75, 23, 0.17, 2622, 25.75, 22, 0.13, 2623, 25.75, 21, 0.1, 2624, 25.75, 21, 0.12, 2625, 25.75, 20, 0.56, 2626, 25.75, 20, 0.13, 2627, 25.75, 20, 0.18, 2628, 25.75, 20, 0.17, 2629, 25.75, 20, 0.14, 2630, 25.75, 20, 0.2, 2631, 25.75, 20 ... 556 parameters truncated ... 0.05, 2771, 24.56, 26, 0.05, 2772, 24.56, 28, 0.05, 2773, 24.63, 28, 0.05, 2774, 24.63, 28, 0.06, 2775, 24.63, 29, 0.05, 2776, 24.63, 30, 0.05, 2777, 24.69, 32, 0.05, 2778, 24.69, 31, 0.05, 2779, 24.63, 33, 0.05, 2780, 24.69, 33, 0.05, 2781, 24.69, 34, 0.05, 2782, 24.69, 34, 0.1, 2783)\n"
     ]
    },
    {
     "name": "stderr",
     "output_type": "stream",
     "text": [
      "[07-01 22:58:21] p17208 {C:\\Projects\\Private\\PropStar\\venv\\lib\\site-packages\\sqlalchemy\\engine\\base.py:2082} INFO - [insertmanyvalues 6/6 (unordered)] (25.75, 24, 0.09, 2620, 25.75, 24, 0.12, 2621, 25.75, 23, 0.17, 2622, 25.75, 22, 0.13, 2623, 25.75, 21, 0.1, 2624, 25.75, 21, 0.12, 2625, 25.75, 20, 0.56, 2626, 25.75, 20, 0.13, 2627, 25.75, 20, 0.18, 2628, 25.75, 20, 0.17, 2629, 25.75, 20, 0.14, 2630, 25.75, 20, 0.2, 2631, 25.75, 20 ... 556 parameters truncated ... 0.05, 2771, 24.56, 26, 0.05, 2772, 24.56, 28, 0.05, 2773, 24.63, 28, 0.05, 2774, 24.63, 28, 0.06, 2775, 24.63, 29, 0.05, 2776, 24.63, 30, 0.05, 2777, 24.69, 32, 0.05, 2778, 24.69, 31, 0.05, 2779, 24.63, 33, 0.05, 2780, 24.69, 33, 0.05, 2781, 24.69, 34, 0.05, 2782, 24.69, 34, 0.1, 2783)\n"
     ]
    },
    {
     "name": "stdout",
     "output_type": "stream",
     "text": [
      "2024-07-01 22:58:21,169 INFO sqlalchemy.engine.Engine ALTER TABLE room_occupancy_multiclass.sensor3 ALTER COLUMN sensor3_id BIGINT NOT NULL\n"
     ]
    },
    {
     "name": "stderr",
     "output_type": "stream",
     "text": [
      "[07-01 22:58:21] p17208 {C:\\Projects\\Private\\PropStar\\venv\\lib\\site-packages\\sqlalchemy\\engine\\base.py:1897} INFO - ALTER TABLE room_occupancy_multiclass.sensor3 ALTER COLUMN sensor3_id BIGINT NOT NULL\n"
     ]
    },
    {
     "name": "stdout",
     "output_type": "stream",
     "text": [
      "2024-07-01 22:58:21,171 INFO sqlalchemy.engine.Engine [generated in 0.00231s] ()\n"
     ]
    },
    {
     "name": "stderr",
     "output_type": "stream",
     "text": [
      "[07-01 22:58:21] p17208 {C:\\Projects\\Private\\PropStar\\venv\\lib\\site-packages\\sqlalchemy\\engine\\base.py:1902} INFO - [generated in 0.00231s] ()\n"
     ]
    },
    {
     "name": "stdout",
     "output_type": "stream",
     "text": [
      "2024-07-01 22:58:21,187 INFO sqlalchemy.engine.Engine ALTER TABLE room_occupancy_multiclass.sensor3 ADD CONSTRAINT PK_sensor3 PRIMARY KEY (sensor3_id);\n"
     ]
    },
    {
     "name": "stderr",
     "output_type": "stream",
     "text": [
      "[07-01 22:58:21] p17208 {C:\\Projects\\Private\\PropStar\\venv\\lib\\site-packages\\sqlalchemy\\engine\\base.py:1897} INFO - ALTER TABLE room_occupancy_multiclass.sensor3 ADD CONSTRAINT PK_sensor3 PRIMARY KEY (sensor3_id);\n"
     ]
    },
    {
     "name": "stdout",
     "output_type": "stream",
     "text": [
      "2024-07-01 22:58:21,188 INFO sqlalchemy.engine.Engine [generated in 0.00153s] ()\n"
     ]
    },
    {
     "name": "stderr",
     "output_type": "stream",
     "text": [
      "[07-01 22:58:21] p17208 {C:\\Projects\\Private\\PropStar\\venv\\lib\\site-packages\\sqlalchemy\\engine\\base.py:1902} INFO - [generated in 0.00153s] ()\n"
     ]
    },
    {
     "name": "stdout",
     "output_type": "stream",
     "text": [
      "2024-07-01 22:58:21,202 INFO sqlalchemy.engine.Engine SELECT [INFORMATION_SCHEMA].[TABLES].[TABLE_NAME] \n",
      "FROM [INFORMATION_SCHEMA].[TABLES] \n",
      "WHERE ([INFORMATION_SCHEMA].[TABLES].[TABLE_TYPE] = CAST(? AS NVARCHAR(max)) OR [INFORMATION_SCHEMA].[TABLES].[TABLE_TYPE] = CAST(? AS NVARCHAR(max))) AND [INFORMATION_SCHEMA].[TABLES].[TABLE_NAME] = CAST(? AS NVARCHAR(max)) AND [INFORMATION_SCHEMA].[TABLES].[TABLE_SCHEMA] = CAST(? AS NVARCHAR(max))\n"
     ]
    },
    {
     "name": "stderr",
     "output_type": "stream",
     "text": [
      "[07-01 22:58:21] p17208 {C:\\Projects\\Private\\PropStar\\venv\\lib\\site-packages\\sqlalchemy\\engine\\base.py:1897} INFO - SELECT [INFORMATION_SCHEMA].[TABLES].[TABLE_NAME] \n",
      "FROM [INFORMATION_SCHEMA].[TABLES] \n",
      "WHERE ([INFORMATION_SCHEMA].[TABLES].[TABLE_TYPE] = CAST(? AS NVARCHAR(max)) OR [INFORMATION_SCHEMA].[TABLES].[TABLE_TYPE] = CAST(? AS NVARCHAR(max))) AND [INFORMATION_SCHEMA].[TABLES].[TABLE_NAME] = CAST(? AS NVARCHAR(max)) AND [INFORMATION_SCHEMA].[TABLES].[TABLE_SCHEMA] = CAST(? AS NVARCHAR(max))\n"
     ]
    },
    {
     "name": "stdout",
     "output_type": "stream",
     "text": [
      "2024-07-01 22:58:21,204 INFO sqlalchemy.engine.Engine [cached since 1.947s ago] ('BASE TABLE', 'VIEW', 'sensor4', 'room_occupancy_multiclass')\n"
     ]
    },
    {
     "name": "stderr",
     "output_type": "stream",
     "text": [
      "[07-01 22:58:21] p17208 {C:\\Projects\\Private\\PropStar\\venv\\lib\\site-packages\\sqlalchemy\\engine\\base.py:1902} INFO - [cached since 1.947s ago] ('BASE TABLE', 'VIEW', 'sensor4', 'room_occupancy_multiclass')\n"
     ]
    },
    {
     "name": "stdout",
     "output_type": "stream",
     "text": [
      "2024-07-01 22:58:21,207 INFO sqlalchemy.engine.Engine \n",
      "CREATE TABLE room_occupancy_multiclass.sensor4 (\n",
      "\t[S4_Temp] FLOAT(53) NULL, \n",
      "\t[S4_Light] BIGINT NULL, \n",
      "\t[S4_Sound] FLOAT(53) NULL, \n",
      "\tsensor4_id BIGINT NULL\n",
      ")\n",
      "\n",
      "\n"
     ]
    },
    {
     "name": "stderr",
     "output_type": "stream",
     "text": [
      "[07-01 22:58:21] p17208 {C:\\Projects\\Private\\PropStar\\venv\\lib\\site-packages\\sqlalchemy\\engine\\base.py:1897} INFO - \n",
      "CREATE TABLE room_occupancy_multiclass.sensor4 (\n",
      "\t[S4_Temp] FLOAT(53) NULL, \n",
      "\t[S4_Light] BIGINT NULL, \n",
      "\t[S4_Sound] FLOAT(53) NULL, \n",
      "\tsensor4_id BIGINT NULL\n",
      ")\n",
      "\n",
      "\n"
     ]
    },
    {
     "name": "stdout",
     "output_type": "stream",
     "text": [
      "2024-07-01 22:58:21,208 INFO sqlalchemy.engine.Engine [no key 0.00104s] ()\n"
     ]
    },
    {
     "name": "stderr",
     "output_type": "stream",
     "text": [
      "[07-01 22:58:21] p17208 {C:\\Projects\\Private\\PropStar\\venv\\lib\\site-packages\\sqlalchemy\\engine\\base.py:1902} INFO - [no key 0.00104s] ()\n"
     ]
    },
    {
     "name": "stdout",
     "output_type": "stream",
     "text": [
      "2024-07-01 22:58:21,216 INFO sqlalchemy.engine.Engine INSERT INTO room_occupancy_multiclass.sensor4 ([S4_Temp], [S4_Light], [S4_Sound], sensor4_id) VALUES (?, ?, ?, ?), (?, ?, ?, ?), (?, ?, ?, ?), (?, ?, ?, ?), (?, ?, ?, ?), (?, ?, ?, ?), (?, ?, ?, ?), (?, ?, ?, ?), (?, ?, ?, ?), (?, ?, ?, ?), (?, ?, ?, ... 7085 characters truncated ... ?), (?, ?, ?, ?), (?, ?, ?, ?), (?, ?, ?, ?), (?, ?, ?, ?), (?, ?, ?, ?), (?, ?, ?, ?), (?, ?, ?, ?)\n"
     ]
    },
    {
     "name": "stderr",
     "output_type": "stream",
     "text": [
      "[07-01 22:58:21] p17208 {C:\\Projects\\Private\\PropStar\\venv\\lib\\site-packages\\sqlalchemy\\engine\\base.py:2064} INFO - INSERT INTO room_occupancy_multiclass.sensor4 ([S4_Temp], [S4_Light], [S4_Sound], sensor4_id) VALUES (?, ?, ?, ?), (?, ?, ?, ?), (?, ?, ?, ?), (?, ?, ?, ?), (?, ?, ?, ?), (?, ?, ?, ?), (?, ?, ?, ?), (?, ?, ?, ?), (?, ?, ?, ?), (?, ?, ?, ?), (?, ?, ?, ... 7085 characters truncated ... ?), (?, ?, ?, ?), (?, ?, ?, ?), (?, ?, ?, ?), (?, ?, ?, ?), (?, ?, ?, ?), (?, ?, ?, ?), (?, ?, ?, ?)\n"
     ]
    },
    {
     "name": "stdout",
     "output_type": "stream",
     "text": [
      "2024-07-01 22:58:21,218 INFO sqlalchemy.engine.Engine [generated in 0.00305s (insertmanyvalues) 1/5 (unordered)] (25.38, 40, 0.06, 0, 25.44, 40, 0.06, 1, 25.44, 40, 0.09, 2, 25.44, 40, 0.07, 3, 25.44, 41, 0.05, 4, 25.5, 43, 0.13, 5, 25.5, 43, 0.39, 6, 25.44, 43, 0.21, 7, 25.5, 44, 0.09, 8, 25.5, 43, 0.06, 9, 25.56, 44, 0.09, 10, 25.56, 44, 0.13, 11, 25.56, 44 ... 1996 parameters truncated ... 0.06, 511, 26.44, 11, 0.07, 512, 26.38, 11, 0.81, 513, 26.31, 11, 0.06, 514, 26.31, 11, 0.08, 515, 26.31, 10, 0.06, 516, 26.31, 10, 1.7, 517, 26.38, 10, 0.07, 518, 26.38, 10, 0.32, 519, 26.31, 10, 0.52, 520, 26.31, 10, 0.71, 521, 26.31, 10, 0.7, 522, 26.31, 10, 0.15, 523)\n"
     ]
    },
    {
     "name": "stderr",
     "output_type": "stream",
     "text": [
      "[07-01 22:58:21] p17208 {C:\\Projects\\Private\\PropStar\\venv\\lib\\site-packages\\sqlalchemy\\engine\\base.py:2082} INFO - [generated in 0.00305s (insertmanyvalues) 1/5 (unordered)] (25.38, 40, 0.06, 0, 25.44, 40, 0.06, 1, 25.44, 40, 0.09, 2, 25.44, 40, 0.07, 3, 25.44, 41, 0.05, 4, 25.5, 43, 0.13, 5, 25.5, 43, 0.39, 6, 25.44, 43, 0.21, 7, 25.5, 44, 0.09, 8, 25.5, 43, 0.06, 9, 25.56, 44, 0.09, 10, 25.56, 44, 0.13, 11, 25.56, 44 ... 1996 parameters truncated ... 0.06, 511, 26.44, 11, 0.07, 512, 26.38, 11, 0.81, 513, 26.31, 11, 0.06, 514, 26.31, 11, 0.08, 515, 26.31, 10, 0.06, 516, 26.31, 10, 1.7, 517, 26.38, 10, 0.07, 518, 26.38, 10, 0.32, 519, 26.31, 10, 0.52, 520, 26.31, 10, 0.71, 521, 26.31, 10, 0.7, 522, 26.31, 10, 0.15, 523)\n"
     ]
    },
    {
     "name": "stdout",
     "output_type": "stream",
     "text": [
      "2024-07-01 22:58:21,405 INFO sqlalchemy.engine.Engine INSERT INTO room_occupancy_multiclass.sensor4 ([S4_Temp], [S4_Light], [S4_Sound], sensor4_id) VALUES (?, ?, ?, ?), (?, ?, ?, ?), (?, ?, ?, ?), (?, ?, ?, ?), (?, ?, ?, ?), (?, ?, ?, ?), (?, ?, ?, ?), (?, ?, ?, ?), (?, ?, ?, ?), (?, ?, ?, ?), (?, ?, ?, ... 7085 characters truncated ... ?), (?, ?, ?, ?), (?, ?, ?, ?), (?, ?, ?, ?), (?, ?, ?, ?), (?, ?, ?, ?), (?, ?, ?, ?), (?, ?, ?, ?)\n"
     ]
    },
    {
     "name": "stderr",
     "output_type": "stream",
     "text": [
      "[07-01 22:58:21] p17208 {C:\\Projects\\Private\\PropStar\\venv\\lib\\site-packages\\sqlalchemy\\engine\\base.py:2064} INFO - INSERT INTO room_occupancy_multiclass.sensor4 ([S4_Temp], [S4_Light], [S4_Sound], sensor4_id) VALUES (?, ?, ?, ?), (?, ?, ?, ?), (?, ?, ?, ?), (?, ?, ?, ?), (?, ?, ?, ?), (?, ?, ?, ?), (?, ?, ?, ?), (?, ?, ?, ?), (?, ?, ?, ?), (?, ?, ?, ?), (?, ?, ?, ... 7085 characters truncated ... ?), (?, ?, ?, ?), (?, ?, ?, ?), (?, ?, ?, ?), (?, ?, ?, ?), (?, ?, ?, ?), (?, ?, ?, ?), (?, ?, ?, ?)\n"
     ]
    },
    {
     "name": "stdout",
     "output_type": "stream",
     "text": [
      "2024-07-01 22:58:21,407 INFO sqlalchemy.engine.Engine [insertmanyvalues 2/5 (unordered)] (26.31, 10, 0.11, 524, 26.31, 10, 0.08, 525, 26.31, 10, 0.45, 526, 26.31, 10, 1.54, 527, 26.31, 10, 0.57, 528, 26.31, 10, 0.46, 529, 26.31, 10, 0.37, 530, 26.31, 10, 0.75, 531, 26.31, 10, 0.56, 532, 26.31, 9, 0.06, 533, 26.31, 9, 0.24, 534, 26.31, 9, 0.18, 535, 26.31, 9 ... 1996 parameters truncated ... 0.16, 1035, 26.0, 49, 0.15, 1036, 26.0, 49, 0.13, 1037, 25.94, 49, 0.18, 1038, 25.88, 49, 0.14, 1039, 25.94, 49, 0.13, 1040, 25.94, 50, 0.14, 1041, 26.0, 49, 0.11, 1042, 26.0, 48, 0.07, 1043, 26.06, 49, 0.07, 1044, 26.0, 50, 0.06, 1045, 26.0, 52, 0.06, 1046, 26.0, 54, 0.07, 1047)\n"
     ]
    },
    {
     "name": "stderr",
     "output_type": "stream",
     "text": [
      "[07-01 22:58:21] p17208 {C:\\Projects\\Private\\PropStar\\venv\\lib\\site-packages\\sqlalchemy\\engine\\base.py:2082} INFO - [insertmanyvalues 2/5 (unordered)] (26.31, 10, 0.11, 524, 26.31, 10, 0.08, 525, 26.31, 10, 0.45, 526, 26.31, 10, 1.54, 527, 26.31, 10, 0.57, 528, 26.31, 10, 0.46, 529, 26.31, 10, 0.37, 530, 26.31, 10, 0.75, 531, 26.31, 10, 0.56, 532, 26.31, 9, 0.06, 533, 26.31, 9, 0.24, 534, 26.31, 9, 0.18, 535, 26.31, 9 ... 1996 parameters truncated ... 0.16, 1035, 26.0, 49, 0.15, 1036, 26.0, 49, 0.13, 1037, 25.94, 49, 0.18, 1038, 25.88, 49, 0.14, 1039, 25.94, 49, 0.13, 1040, 25.94, 50, 0.14, 1041, 26.0, 49, 0.11, 1042, 26.0, 48, 0.07, 1043, 26.06, 49, 0.07, 1044, 26.0, 50, 0.06, 1045, 26.0, 52, 0.06, 1046, 26.0, 54, 0.07, 1047)\n"
     ]
    },
    {
     "name": "stdout",
     "output_type": "stream",
     "text": [
      "2024-07-01 22:58:21,417 INFO sqlalchemy.engine.Engine INSERT INTO room_occupancy_multiclass.sensor4 ([S4_Temp], [S4_Light], [S4_Sound], sensor4_id) VALUES (?, ?, ?, ?), (?, ?, ?, ?), (?, ?, ?, ?), (?, ?, ?, ?), (?, ?, ?, ?), (?, ?, ?, ?), (?, ?, ?, ?), (?, ?, ?, ?), (?, ?, ?, ?), (?, ?, ?, ?), (?, ?, ?, ... 7085 characters truncated ... ?), (?, ?, ?, ?), (?, ?, ?, ?), (?, ?, ?, ?), (?, ?, ?, ?), (?, ?, ?, ?), (?, ?, ?, ?), (?, ?, ?, ?)\n"
     ]
    },
    {
     "name": "stderr",
     "output_type": "stream",
     "text": [
      "[07-01 22:58:21] p17208 {C:\\Projects\\Private\\PropStar\\venv\\lib\\site-packages\\sqlalchemy\\engine\\base.py:2064} INFO - INSERT INTO room_occupancy_multiclass.sensor4 ([S4_Temp], [S4_Light], [S4_Sound], sensor4_id) VALUES (?, ?, ?, ?), (?, ?, ?, ?), (?, ?, ?, ?), (?, ?, ?, ?), (?, ?, ?, ?), (?, ?, ?, ?), (?, ?, ?, ?), (?, ?, ?, ?), (?, ?, ?, ?), (?, ?, ?, ?), (?, ?, ?, ... 7085 characters truncated ... ?), (?, ?, ?, ?), (?, ?, ?, ?), (?, ?, ?, ?), (?, ?, ?, ?), (?, ?, ?, ?), (?, ?, ?, ?), (?, ?, ?, ?)\n"
     ]
    },
    {
     "name": "stdout",
     "output_type": "stream",
     "text": [
      "2024-07-01 22:58:21,419 INFO sqlalchemy.engine.Engine [insertmanyvalues 3/5 (unordered)] (26.0, 54, 0.06, 1048, 26.0, 54, 0.13, 1049, 26.0, 55, 0.06, 1050, 25.94, 51, 0.06, 1051, 26.0, 51, 0.06, 1052, 26.0, 51, 0.07, 1053, 25.94, 50, 0.09, 1054, 26.0, 49, 0.12, 1055, 26.0, 50, 0.2, 1056, 26.0, 52, 0.17, 1057, 26.0, 54, 0.12, 1058, 26.0, 53, 0.19, 1059, 26.0, 53 ... 1996 parameters truncated ... 0.07, 1559, 25.5, 14, 0.06, 1560, 25.5, 14, 0.07, 1561, 25.44, 15, 0.07, 1562, 25.5, 15, 0.06, 1563, 25.5, 16, 0.07, 1564, 25.5, 16, 0.06, 1565, 25.44, 16, 0.06, 1566, 25.44, 17, 0.06, 1567, 25.44, 17, 0.07, 1568, 25.44, 18, 0.07, 1569, 25.44, 18, 0.06, 1570, 25.5, 18, 0.06, 1571)\n"
     ]
    },
    {
     "name": "stderr",
     "output_type": "stream",
     "text": [
      "[07-01 22:58:21] p17208 {C:\\Projects\\Private\\PropStar\\venv\\lib\\site-packages\\sqlalchemy\\engine\\base.py:2082} INFO - [insertmanyvalues 3/5 (unordered)] (26.0, 54, 0.06, 1048, 26.0, 54, 0.13, 1049, 26.0, 55, 0.06, 1050, 25.94, 51, 0.06, 1051, 26.0, 51, 0.06, 1052, 26.0, 51, 0.07, 1053, 25.94, 50, 0.09, 1054, 26.0, 49, 0.12, 1055, 26.0, 50, 0.2, 1056, 26.0, 52, 0.17, 1057, 26.0, 54, 0.12, 1058, 26.0, 53, 0.19, 1059, 26.0, 53 ... 1996 parameters truncated ... 0.07, 1559, 25.5, 14, 0.06, 1560, 25.5, 14, 0.07, 1561, 25.44, 15, 0.07, 1562, 25.5, 15, 0.06, 1563, 25.5, 16, 0.07, 1564, 25.5, 16, 0.06, 1565, 25.44, 16, 0.06, 1566, 25.44, 17, 0.06, 1567, 25.44, 17, 0.07, 1568, 25.44, 18, 0.07, 1569, 25.44, 18, 0.06, 1570, 25.5, 18, 0.06, 1571)\n"
     ]
    },
    {
     "name": "stdout",
     "output_type": "stream",
     "text": [
      "2024-07-01 22:58:21,427 INFO sqlalchemy.engine.Engine INSERT INTO room_occupancy_multiclass.sensor4 ([S4_Temp], [S4_Light], [S4_Sound], sensor4_id) VALUES (?, ?, ?, ?), (?, ?, ?, ?), (?, ?, ?, ?), (?, ?, ?, ?), (?, ?, ?, ?), (?, ?, ?, ?), (?, ?, ?, ?), (?, ?, ?, ?), (?, ?, ?, ?), (?, ?, ?, ?), (?, ?, ?, ... 7085 characters truncated ... ?), (?, ?, ?, ?), (?, ?, ?, ?), (?, ?, ?, ?), (?, ?, ?, ?), (?, ?, ?, ?), (?, ?, ?, ?), (?, ?, ?, ?)\n"
     ]
    },
    {
     "name": "stderr",
     "output_type": "stream",
     "text": [
      "[07-01 22:58:21] p17208 {C:\\Projects\\Private\\PropStar\\venv\\lib\\site-packages\\sqlalchemy\\engine\\base.py:2064} INFO - INSERT INTO room_occupancy_multiclass.sensor4 ([S4_Temp], [S4_Light], [S4_Sound], sensor4_id) VALUES (?, ?, ?, ?), (?, ?, ?, ?), (?, ?, ?, ?), (?, ?, ?, ?), (?, ?, ?, ?), (?, ?, ?, ?), (?, ?, ?, ?), (?, ?, ?, ?), (?, ?, ?, ?), (?, ?, ?, ?), (?, ?, ?, ... 7085 characters truncated ... ?), (?, ?, ?, ?), (?, ?, ?, ?), (?, ?, ?, ?), (?, ?, ?, ?), (?, ?, ?, ?), (?, ?, ?, ?), (?, ?, ?, ?)\n"
     ]
    },
    {
     "name": "stdout",
     "output_type": "stream",
     "text": [
      "2024-07-01 22:58:21,428 INFO sqlalchemy.engine.Engine [insertmanyvalues 4/5 (unordered)] (25.44, 19, 0.06, 1572, 25.44, 19, 0.07, 1573, 25.5, 19, 0.07, 1574, 25.5, 20, 0.06, 1575, 25.5, 20, 0.07, 1576, 25.44, 21, 0.06, 1577, 25.5, 21, 0.06, 1578, 25.56, 21, 0.07, 1579, 25.5, 21, 0.07, 1580, 25.44, 21, 0.07, 1581, 25.44, 22, 0.06, 1582, 25.38, 22, 0.07, 1583, 25.31, 22 ... 1996 parameters truncated ... 0.1, 2083, 25.19, 5, 0.1, 2084, 25.25, 5, 0.11, 2085, 25.19, 5, 0.09, 2086, 25.25, 5, 0.1, 2087, 25.19, 6, 0.1, 2088, 25.19, 6, 0.11, 2089, 25.13, 6, 0.1, 2090, 25.25, 6, 0.09, 2091, 25.19, 6, 0.09, 2092, 25.19, 7, 0.1, 2093, 25.13, 7, 0.11, 2094, 25.25, 7, 0.09, 2095)\n"
     ]
    },
    {
     "name": "stderr",
     "output_type": "stream",
     "text": [
      "[07-01 22:58:21] p17208 {C:\\Projects\\Private\\PropStar\\venv\\lib\\site-packages\\sqlalchemy\\engine\\base.py:2082} INFO - [insertmanyvalues 4/5 (unordered)] (25.44, 19, 0.06, 1572, 25.44, 19, 0.07, 1573, 25.5, 19, 0.07, 1574, 25.5, 20, 0.06, 1575, 25.5, 20, 0.07, 1576, 25.44, 21, 0.06, 1577, 25.5, 21, 0.06, 1578, 25.56, 21, 0.07, 1579, 25.5, 21, 0.07, 1580, 25.44, 21, 0.07, 1581, 25.44, 22, 0.06, 1582, 25.38, 22, 0.07, 1583, 25.31, 22 ... 1996 parameters truncated ... 0.1, 2083, 25.19, 5, 0.1, 2084, 25.25, 5, 0.11, 2085, 25.19, 5, 0.09, 2086, 25.25, 5, 0.1, 2087, 25.19, 6, 0.1, 2088, 25.19, 6, 0.11, 2089, 25.13, 6, 0.1, 2090, 25.25, 6, 0.09, 2091, 25.19, 6, 0.09, 2092, 25.19, 7, 0.1, 2093, 25.13, 7, 0.11, 2094, 25.25, 7, 0.09, 2095)\n"
     ]
    },
    {
     "name": "stdout",
     "output_type": "stream",
     "text": [
      "2024-07-01 22:58:21,436 INFO sqlalchemy.engine.Engine INSERT INTO room_occupancy_multiclass.sensor4 ([S4_Temp], [S4_Light], [S4_Sound], sensor4_id) VALUES (?, ?, ?, ?), (?, ?, ?, ?), (?, ?, ?, ?), (?, ?, ?, ?), (?, ?, ?, ?), (?, ?, ?, ?), (?, ?, ?, ?), (?, ?, ?, ?), (?, ?, ?, ?), (?, ?, ?, ?), (?, ?, ?, ... 4915 characters truncated ... ?), (?, ?, ?, ?), (?, ?, ?, ?), (?, ?, ?, ?), (?, ?, ?, ?), (?, ?, ?, ?), (?, ?, ?, ?), (?, ?, ?, ?)\n"
     ]
    },
    {
     "name": "stderr",
     "output_type": "stream",
     "text": [
      "[07-01 22:58:21] p17208 {C:\\Projects\\Private\\PropStar\\venv\\lib\\site-packages\\sqlalchemy\\engine\\base.py:2064} INFO - INSERT INTO room_occupancy_multiclass.sensor4 ([S4_Temp], [S4_Light], [S4_Sound], sensor4_id) VALUES (?, ?, ?, ?), (?, ?, ?, ?), (?, ?, ?, ?), (?, ?, ?, ?), (?, ?, ?, ?), (?, ?, ?, ?), (?, ?, ?, ?), (?, ?, ?, ?), (?, ?, ?, ?), (?, ?, ?, ?), (?, ?, ?, ... 4915 characters truncated ... ?), (?, ?, ?, ?), (?, ?, ?, ?), (?, ?, ?, ?), (?, ?, ?, ?), (?, ?, ?, ?), (?, ?, ?, ?), (?, ?, ?, ?)\n"
     ]
    },
    {
     "name": "stdout",
     "output_type": "stream",
     "text": [
      "2024-07-01 22:58:21,438 INFO sqlalchemy.engine.Engine [insertmanyvalues 5/5 (unordered)] (25.31, 7, 0.1, 2096, 25.13, 7, 0.1, 2097, 25.19, 8, 0.1, 2098, 25.19, 8, 0.09, 2099, 25.19, 9, 0.1, 2100, 25.19, 9, 0.09, 2101, 25.13, 9, 0.1, 2102, 25.13, 9, 0.11, 2103, 25.06, 9, 0.1, 2104, 25.13, 9, 0.09, 2105, 25.13, 10, 0.11, 2106, 25.19, 10, 0.1, 2107, 25.13, 10 ... 1376 parameters truncated ... 0.09, 2452, 25.13, 20, 0.08, 2453, 25.19, 20, 0.08, 2454, 25.19, 21, 0.08, 2455, 25.13, 21, 0.08, 2456, 25.13, 21, 0.09, 2457, 25.25, 20, 0.08, 2458, 25.19, 22, 0.09, 2459, 25.13, 22, 0.1, 2460, 25.25, 21, 0.08, 2461, 25.19, 22, 0.08, 2462, 25.31, 22, 0.08, 2463, 25.25, 22, 0.08, 2464)\n"
     ]
    },
    {
     "name": "stderr",
     "output_type": "stream",
     "text": [
      "[07-01 22:58:21] p17208 {C:\\Projects\\Private\\PropStar\\venv\\lib\\site-packages\\sqlalchemy\\engine\\base.py:2082} INFO - [insertmanyvalues 5/5 (unordered)] (25.31, 7, 0.1, 2096, 25.13, 7, 0.1, 2097, 25.19, 8, 0.1, 2098, 25.19, 8, 0.09, 2099, 25.19, 9, 0.1, 2100, 25.19, 9, 0.09, 2101, 25.13, 9, 0.1, 2102, 25.13, 9, 0.11, 2103, 25.06, 9, 0.1, 2104, 25.13, 9, 0.09, 2105, 25.13, 10, 0.11, 2106, 25.19, 10, 0.1, 2107, 25.13, 10 ... 1376 parameters truncated ... 0.09, 2452, 25.13, 20, 0.08, 2453, 25.19, 20, 0.08, 2454, 25.19, 21, 0.08, 2455, 25.13, 21, 0.08, 2456, 25.13, 21, 0.09, 2457, 25.25, 20, 0.08, 2458, 25.19, 22, 0.09, 2459, 25.13, 22, 0.1, 2460, 25.25, 21, 0.08, 2461, 25.19, 22, 0.08, 2462, 25.31, 22, 0.08, 2463, 25.25, 22, 0.08, 2464)\n"
     ]
    },
    {
     "name": "stdout",
     "output_type": "stream",
     "text": [
      "2024-07-01 22:58:21,550 INFO sqlalchemy.engine.Engine ALTER TABLE room_occupancy_multiclass.sensor4 ALTER COLUMN sensor4_id BIGINT NOT NULL\n"
     ]
    },
    {
     "name": "stderr",
     "output_type": "stream",
     "text": [
      "[07-01 22:58:21] p17208 {C:\\Projects\\Private\\PropStar\\venv\\lib\\site-packages\\sqlalchemy\\engine\\base.py:1897} INFO - ALTER TABLE room_occupancy_multiclass.sensor4 ALTER COLUMN sensor4_id BIGINT NOT NULL\n"
     ]
    },
    {
     "name": "stdout",
     "output_type": "stream",
     "text": [
      "2024-07-01 22:58:21,552 INFO sqlalchemy.engine.Engine [generated in 0.00245s] ()\n"
     ]
    },
    {
     "name": "stderr",
     "output_type": "stream",
     "text": [
      "[07-01 22:58:21] p17208 {C:\\Projects\\Private\\PropStar\\venv\\lib\\site-packages\\sqlalchemy\\engine\\base.py:1902} INFO - [generated in 0.00245s] ()\n"
     ]
    },
    {
     "name": "stdout",
     "output_type": "stream",
     "text": [
      "2024-07-01 22:58:21,566 INFO sqlalchemy.engine.Engine ALTER TABLE room_occupancy_multiclass.sensor4 ADD CONSTRAINT PK_sensor4 PRIMARY KEY (sensor4_id);\n"
     ]
    },
    {
     "name": "stderr",
     "output_type": "stream",
     "text": [
      "[07-01 22:58:21] p17208 {C:\\Projects\\Private\\PropStar\\venv\\lib\\site-packages\\sqlalchemy\\engine\\base.py:1897} INFO - ALTER TABLE room_occupancy_multiclass.sensor4 ADD CONSTRAINT PK_sensor4 PRIMARY KEY (sensor4_id);\n"
     ]
    },
    {
     "name": "stdout",
     "output_type": "stream",
     "text": [
      "2024-07-01 22:58:21,568 INFO sqlalchemy.engine.Engine [generated in 0.00225s] ()\n"
     ]
    },
    {
     "name": "stderr",
     "output_type": "stream",
     "text": [
      "[07-01 22:58:21] p17208 {C:\\Projects\\Private\\PropStar\\venv\\lib\\site-packages\\sqlalchemy\\engine\\base.py:1902} INFO - [generated in 0.00225s] ()\n"
     ]
    },
    {
     "name": "stdout",
     "output_type": "stream",
     "text": [
      "2024-07-01 22:58:21,581 INFO sqlalchemy.engine.Engine SELECT [INFORMATION_SCHEMA].[TABLES].[TABLE_NAME] \n",
      "FROM [INFORMATION_SCHEMA].[TABLES] \n",
      "WHERE ([INFORMATION_SCHEMA].[TABLES].[TABLE_TYPE] = CAST(? AS NVARCHAR(max)) OR [INFORMATION_SCHEMA].[TABLES].[TABLE_TYPE] = CAST(? AS NVARCHAR(max))) AND [INFORMATION_SCHEMA].[TABLES].[TABLE_NAME] = CAST(? AS NVARCHAR(max)) AND [INFORMATION_SCHEMA].[TABLES].[TABLE_SCHEMA] = CAST(? AS NVARCHAR(max))\n"
     ]
    },
    {
     "name": "stderr",
     "output_type": "stream",
     "text": [
      "[07-01 22:58:21] p17208 {C:\\Projects\\Private\\PropStar\\venv\\lib\\site-packages\\sqlalchemy\\engine\\base.py:1897} INFO - SELECT [INFORMATION_SCHEMA].[TABLES].[TABLE_NAME] \n",
      "FROM [INFORMATION_SCHEMA].[TABLES] \n",
      "WHERE ([INFORMATION_SCHEMA].[TABLES].[TABLE_TYPE] = CAST(? AS NVARCHAR(max)) OR [INFORMATION_SCHEMA].[TABLES].[TABLE_TYPE] = CAST(? AS NVARCHAR(max))) AND [INFORMATION_SCHEMA].[TABLES].[TABLE_NAME] = CAST(? AS NVARCHAR(max)) AND [INFORMATION_SCHEMA].[TABLES].[TABLE_SCHEMA] = CAST(? AS NVARCHAR(max))\n"
     ]
    },
    {
     "name": "stdout",
     "output_type": "stream",
     "text": [
      "2024-07-01 22:58:21,584 INFO sqlalchemy.engine.Engine [cached since 2.328s ago] ('BASE TABLE', 'VIEW', 'sensor5', 'room_occupancy_multiclass')\n"
     ]
    },
    {
     "name": "stderr",
     "output_type": "stream",
     "text": [
      "[07-01 22:58:21] p17208 {C:\\Projects\\Private\\PropStar\\venv\\lib\\site-packages\\sqlalchemy\\engine\\base.py:1902} INFO - [cached since 2.328s ago] ('BASE TABLE', 'VIEW', 'sensor5', 'room_occupancy_multiclass')\n"
     ]
    },
    {
     "name": "stdout",
     "output_type": "stream",
     "text": [
      "2024-07-01 22:58:21,587 INFO sqlalchemy.engine.Engine \n",
      "CREATE TABLE room_occupancy_multiclass.sensor5 (\n",
      "\t[S5_CO2] BIGINT NULL, \n",
      "\t[S5_CO2_Slope] FLOAT(53) NULL, \n",
      "\tsensor5_id BIGINT NULL\n",
      ")\n",
      "\n",
      "\n"
     ]
    },
    {
     "name": "stderr",
     "output_type": "stream",
     "text": [
      "[07-01 22:58:21] p17208 {C:\\Projects\\Private\\PropStar\\venv\\lib\\site-packages\\sqlalchemy\\engine\\base.py:1897} INFO - \n",
      "CREATE TABLE room_occupancy_multiclass.sensor5 (\n",
      "\t[S5_CO2] BIGINT NULL, \n",
      "\t[S5_CO2_Slope] FLOAT(53) NULL, \n",
      "\tsensor5_id BIGINT NULL\n",
      ")\n",
      "\n",
      "\n"
     ]
    },
    {
     "name": "stdout",
     "output_type": "stream",
     "text": [
      "2024-07-01 22:58:21,588 INFO sqlalchemy.engine.Engine [no key 0.00103s] ()\n"
     ]
    },
    {
     "name": "stderr",
     "output_type": "stream",
     "text": [
      "[07-01 22:58:21] p17208 {C:\\Projects\\Private\\PropStar\\venv\\lib\\site-packages\\sqlalchemy\\engine\\base.py:1902} INFO - [no key 0.00103s] ()\n"
     ]
    },
    {
     "name": "stdout",
     "output_type": "stream",
     "text": [
      "2024-07-01 22:58:21,610 INFO sqlalchemy.engine.Engine INSERT INTO room_occupancy_multiclass.sensor5 ([S5_CO2], [S5_CO2_Slope], sensor5_id) VALUES (?, ?, ?), (?, ?, ?), (?, ?, ?), (?, ?, ?), (?, ?, ?), (?, ?, ?), (?, ?, ?), (?, ?, ?), (?, ?, ?), (?, ?, ?), (?, ?, ?), (?, ?, ?), (?, ?, ?), (?, ?, ?), (?,  ... 7429 characters truncated ... ), (?, ?, ?), (?, ?, ?), (?, ?, ?), (?, ?, ?), (?, ?, ?), (?, ?, ?), (?, ?, ?), (?, ?, ?), (?, ?, ?)\n"
     ]
    },
    {
     "name": "stderr",
     "output_type": "stream",
     "text": [
      "[07-01 22:58:21] p17208 {C:\\Projects\\Private\\PropStar\\venv\\lib\\site-packages\\sqlalchemy\\engine\\base.py:2064} INFO - INSERT INTO room_occupancy_multiclass.sensor5 ([S5_CO2], [S5_CO2_Slope], sensor5_id) VALUES (?, ?, ?), (?, ?, ?), (?, ?, ?), (?, ?, ?), (?, ?, ?), (?, ?, ?), (?, ?, ?), (?, ?, ?), (?, ?, ?), (?, ?, ?), (?, ?, ?), (?, ?, ?), (?, ?, ?), (?, ?, ?), (?,  ... 7429 characters truncated ... ), (?, ?, ?), (?, ?, ?), (?, ?, ?), (?, ?, ?), (?, ?, ?), (?, ?, ?), (?, ?, ?), (?, ?, ?), (?, ?, ?)\n"
     ]
    },
    {
     "name": "stdout",
     "output_type": "stream",
     "text": [
      "2024-07-01 22:58:21,612 INFO sqlalchemy.engine.Engine [generated in 0.01010s (insertmanyvalues) 1/6 (unordered)] (390, 0.769230769231, 0, 390, 0.646153846154, 1, 390, 0.519230769231, 2, 390, 0.388461538462, 3, 390, 0.253846153846, 4, 390, 0.165384615385, 5, 390, 0.0769230769231, 6, 390, -0.0115384615385, 7, 390, -0.1, 8, 390, -0.188461538462, 9, 390, -0.276923076923, 10, 390, -0.365384615385, 11, 390, -0.453846153846, 12, 390, -0.542307692308, 13, 390, -0.630769230769, 14, 390, -0.719230769231, 15, 395, -0.711538461538 ... 1997 parameters truncated ... 1.17692307692, 682, 750, 1.17307692308, 683, 750, 1.15, 684, 755, 1.15384615385, 685, 760, 1.23076923077, 686, 755, 1.18846153846, 687, 760, 1.16923076923, 688, 760, 1.17307692308, 689, 765, 1.2, 690, 770, 1.26923076923, 691, 770, 1.31153846154, 692, 770, 1.32692307692, 693, 775, 1.36153846154, 694, 775, 1.41538461538, 695, 775, 1.44230769231, 696, 785, 1.53461538462, 697, 790, 1.68846153846, 698)\n"
     ]
    },
    {
     "name": "stderr",
     "output_type": "stream",
     "text": [
      "[07-01 22:58:21] p17208 {C:\\Projects\\Private\\PropStar\\venv\\lib\\site-packages\\sqlalchemy\\engine\\base.py:2082} INFO - [generated in 0.01010s (insertmanyvalues) 1/6 (unordered)] (390, 0.769230769231, 0, 390, 0.646153846154, 1, 390, 0.519230769231, 2, 390, 0.388461538462, 3, 390, 0.253846153846, 4, 390, 0.165384615385, 5, 390, 0.0769230769231, 6, 390, -0.0115384615385, 7, 390, -0.1, 8, 390, -0.188461538462, 9, 390, -0.276923076923, 10, 390, -0.365384615385, 11, 390, -0.453846153846, 12, 390, -0.542307692308, 13, 390, -0.630769230769, 14, 390, -0.719230769231, 15, 395, -0.711538461538 ... 1997 parameters truncated ... 1.17692307692, 682, 750, 1.17307692308, 683, 750, 1.15, 684, 755, 1.15384615385, 685, 760, 1.23076923077, 686, 755, 1.18846153846, 687, 760, 1.16923076923, 688, 760, 1.17307692308, 689, 765, 1.2, 690, 770, 1.26923076923, 691, 770, 1.31153846154, 692, 770, 1.32692307692, 693, 775, 1.36153846154, 694, 775, 1.41538461538, 695, 775, 1.44230769231, 696, 785, 1.53461538462, 697, 790, 1.68846153846, 698)\n"
     ]
    },
    {
     "name": "stdout",
     "output_type": "stream",
     "text": [
      "2024-07-01 22:58:21,803 INFO sqlalchemy.engine.Engine INSERT INTO room_occupancy_multiclass.sensor5 ([S5_CO2], [S5_CO2_Slope], sensor5_id) VALUES (?, ?, ?), (?, ?, ?), (?, ?, ?), (?, ?, ?), (?, ?, ?), (?, ?, ?), (?, ?, ?), (?, ?, ?), (?, ?, ?), (?, ?, ?), (?, ?, ?), (?, ?, ?), (?, ?, ?), (?, ?, ?), (?,  ... 7429 characters truncated ... ), (?, ?, ?), (?, ?, ?), (?, ?, ?), (?, ?, ?), (?, ?, ?), (?, ?, ?), (?, ?, ?), (?, ?, ?), (?, ?, ?)\n"
     ]
    },
    {
     "name": "stderr",
     "output_type": "stream",
     "text": [
      "[07-01 22:58:21] p17208 {C:\\Projects\\Private\\PropStar\\venv\\lib\\site-packages\\sqlalchemy\\engine\\base.py:2064} INFO - INSERT INTO room_occupancy_multiclass.sensor5 ([S5_CO2], [S5_CO2_Slope], sensor5_id) VALUES (?, ?, ?), (?, ?, ?), (?, ?, ?), (?, ?, ?), (?, ?, ?), (?, ?, ?), (?, ?, ?), (?, ?, ?), (?, ?, ?), (?, ?, ?), (?, ?, ?), (?, ?, ?), (?, ?, ?), (?, ?, ?), (?,  ... 7429 characters truncated ... ), (?, ?, ?), (?, ?, ?), (?, ?, ?), (?, ?, ?), (?, ?, ?), (?, ?, ?), (?, ?, ?), (?, ?, ?), (?, ?, ?)\n"
     ]
    },
    {
     "name": "stdout",
     "output_type": "stream",
     "text": [
      "2024-07-01 22:58:21,805 INFO sqlalchemy.engine.Engine [insertmanyvalues 2/6 (unordered)] (795, 1.85384615385, 699, 800, 2.07692307692, 700, 800, 2.26153846154, 701, 795, 2.31153846154, 702, 795, 2.32307692308, 703, 795, 2.29615384615, 704, 795, 2.28076923077, 705, 790, 2.18461538462, 706, 800, 2.15, 707, 805, 2.12307692308, 708, 805, 2.10384615385, 709, 805, 2.09615384615, 710, 800, 1.95769230769, 711, 805, 1.88076923077, 712, 810, 1.81538461538, 713, 810, 1.76153846154, 714, 810, 1.67307692308 ... 1997 parameters truncated ... 0.00384615384615, 1381, 375, -7.69801162017e-19, 1382, 375, -0.00384615384615, 1383, 375, -0.00769230769231, 1384, 375, -0.0115384615385, 1385, 375, -0.0153846153846, 1386, 375, -0.0192307692308, 1387, 375, -0.0230769230769, 1388, 375, -0.0269230769231, 1389, 375, -0.0307692307692, 1390, 375, -0.0384615384615, 1391, 375, -0.0423076923077, 1392, 375, 0.0, 1393, 370, -0.0461538461538, 1394, 370, -0.0884615384615, 1395, 370, -0.126923076923, 1396, 370, -0.161538461538, 1397)\n"
     ]
    },
    {
     "name": "stderr",
     "output_type": "stream",
     "text": [
      "[07-01 22:58:21] p17208 {C:\\Projects\\Private\\PropStar\\venv\\lib\\site-packages\\sqlalchemy\\engine\\base.py:2082} INFO - [insertmanyvalues 2/6 (unordered)] (795, 1.85384615385, 699, 800, 2.07692307692, 700, 800, 2.26153846154, 701, 795, 2.31153846154, 702, 795, 2.32307692308, 703, 795, 2.29615384615, 704, 795, 2.28076923077, 705, 790, 2.18461538462, 706, 800, 2.15, 707, 805, 2.12307692308, 708, 805, 2.10384615385, 709, 805, 2.09615384615, 710, 800, 1.95769230769, 711, 805, 1.88076923077, 712, 810, 1.81538461538, 713, 810, 1.76153846154, 714, 810, 1.67307692308 ... 1997 parameters truncated ... 0.00384615384615, 1381, 375, -7.69801162017e-19, 1382, 375, -0.00384615384615, 1383, 375, -0.00769230769231, 1384, 375, -0.0115384615385, 1385, 375, -0.0153846153846, 1386, 375, -0.0192307692308, 1387, 375, -0.0230769230769, 1388, 375, -0.0269230769231, 1389, 375, -0.0307692307692, 1390, 375, -0.0384615384615, 1391, 375, -0.0423076923077, 1392, 375, 0.0, 1393, 370, -0.0461538461538, 1394, 370, -0.0884615384615, 1395, 370, -0.126923076923, 1396, 370, -0.161538461538, 1397)\n"
     ]
    },
    {
     "name": "stdout",
     "output_type": "stream",
     "text": [
      "2024-07-01 22:58:21,816 INFO sqlalchemy.engine.Engine INSERT INTO room_occupancy_multiclass.sensor5 ([S5_CO2], [S5_CO2_Slope], sensor5_id) VALUES (?, ?, ?), (?, ?, ?), (?, ?, ?), (?, ?, ?), (?, ?, ?), (?, ?, ?), (?, ?, ?), (?, ?, ?), (?, ?, ?), (?, ?, ?), (?, ?, ?), (?, ?, ?), (?, ?, ?), (?, ?, ?), (?,  ... 7429 characters truncated ... ), (?, ?, ?), (?, ?, ?), (?, ?, ?), (?, ?, ?), (?, ?, ?), (?, ?, ?), (?, ?, ?), (?, ?, ?), (?, ?, ?)\n"
     ]
    },
    {
     "name": "stderr",
     "output_type": "stream",
     "text": [
      "[07-01 22:58:21] p17208 {C:\\Projects\\Private\\PropStar\\venv\\lib\\site-packages\\sqlalchemy\\engine\\base.py:2064} INFO - INSERT INTO room_occupancy_multiclass.sensor5 ([S5_CO2], [S5_CO2_Slope], sensor5_id) VALUES (?, ?, ?), (?, ?, ?), (?, ?, ?), (?, ?, ?), (?, ?, ?), (?, ?, ?), (?, ?, ?), (?, ?, ?), (?, ?, ?), (?, ?, ?), (?, ?, ?), (?, ?, ?), (?, ?, ?), (?, ?, ?), (?,  ... 7429 characters truncated ... ), (?, ?, ?), (?, ?, ?), (?, ?, ?), (?, ?, ?), (?, ?, ?), (?, ?, ?), (?, ?, ?), (?, ?, ?), (?, ?, ?)\n"
     ]
    },
    {
     "name": "stdout",
     "output_type": "stream",
     "text": [
      "2024-07-01 22:58:21,818 INFO sqlalchemy.engine.Engine [insertmanyvalues 3/6 (unordered)] (370, -0.192307692308, 1398, 370, -0.219230769231, 1399, 375, -0.196153846154, 1400, 370, -0.238461538462, 1401, 370, -0.223076923077, 1402, 370, -0.234615384615, 1403, 370, -0.242307692308, 1404, 370, -0.246153846154, 1405, 370, -0.207692307692, 1406, 370, -0.188461538462, 1407, 370, -0.165384615385, 1408, 370, -0.138461538462, 1409, 370, -0.107692307692, 1410, 370, -0.0730769230769, 1411, 370, -0.0346153846154, 1412, 370, -0.0423076923077, 1413, 370, -0.05 ... 1997 parameters truncated ... 1.09615384615, 2080, 475, 0.988461538462, 2081, 475, 0.911538461538, 2082, 475, 0.769230769231, 2083, 485, 0.75, 2084, 485, 0.707692307692, 2085, 490, 0.738461538462, 2086, 490, 0.796153846154, 2087, 490, 0.784615384615, 2088, 490, 0.8, 2089, 490, 0.846153846154, 2090, 490, 0.876923076923, 2091, 495, 0.938461538462, 2092, 505, 1.12307692308, 2093, 500, 1.18846153846, 2094, 500, 1.23076923077, 2095, 500, 1.3, 2096)\n"
     ]
    },
    {
     "name": "stderr",
     "output_type": "stream",
     "text": [
      "[07-01 22:58:21] p17208 {C:\\Projects\\Private\\PropStar\\venv\\lib\\site-packages\\sqlalchemy\\engine\\base.py:2082} INFO - [insertmanyvalues 3/6 (unordered)] (370, -0.192307692308, 1398, 370, -0.219230769231, 1399, 375, -0.196153846154, 1400, 370, -0.238461538462, 1401, 370, -0.223076923077, 1402, 370, -0.234615384615, 1403, 370, -0.242307692308, 1404, 370, -0.246153846154, 1405, 370, -0.207692307692, 1406, 370, -0.188461538462, 1407, 370, -0.165384615385, 1408, 370, -0.138461538462, 1409, 370, -0.107692307692, 1410, 370, -0.0730769230769, 1411, 370, -0.0346153846154, 1412, 370, -0.0423076923077, 1413, 370, -0.05 ... 1997 parameters truncated ... 1.09615384615, 2080, 475, 0.988461538462, 2081, 475, 0.911538461538, 2082, 475, 0.769230769231, 2083, 485, 0.75, 2084, 485, 0.707692307692, 2085, 490, 0.738461538462, 2086, 490, 0.796153846154, 2087, 490, 0.784615384615, 2088, 490, 0.8, 2089, 490, 0.846153846154, 2090, 490, 0.876923076923, 2091, 495, 0.938461538462, 2092, 505, 1.12307692308, 2093, 500, 1.18846153846, 2094, 500, 1.23076923077, 2095, 500, 1.3, 2096)\n"
     ]
    },
    {
     "name": "stdout",
     "output_type": "stream",
     "text": [
      "2024-07-01 22:58:21,828 INFO sqlalchemy.engine.Engine INSERT INTO room_occupancy_multiclass.sensor5 ([S5_CO2], [S5_CO2_Slope], sensor5_id) VALUES (?, ?, ?), (?, ?, ?), (?, ?, ?), (?, ?, ?), (?, ?, ?), (?, ?, ?), (?, ?, ?), (?, ?, ?), (?, ?, ?), (?, ?, ?), (?, ?, ?), (?, ?, ?), (?, ?, ?), (?, ?, ?), (?,  ... 7429 characters truncated ... ), (?, ?, ?), (?, ?, ?), (?, ?, ?), (?, ?, ?), (?, ?, ?), (?, ?, ?), (?, ?, ?), (?, ?, ?), (?, ?, ?)\n"
     ]
    },
    {
     "name": "stderr",
     "output_type": "stream",
     "text": [
      "[07-01 22:58:21] p17208 {C:\\Projects\\Private\\PropStar\\venv\\lib\\site-packages\\sqlalchemy\\engine\\base.py:2064} INFO - INSERT INTO room_occupancy_multiclass.sensor5 ([S5_CO2], [S5_CO2_Slope], sensor5_id) VALUES (?, ?, ?), (?, ?, ?), (?, ?, ?), (?, ?, ?), (?, ?, ?), (?, ?, ?), (?, ?, ?), (?, ?, ?), (?, ?, ?), (?, ?, ?), (?, ?, ?), (?, ?, ?), (?, ?, ?), (?, ?, ?), (?,  ... 7429 characters truncated ... ), (?, ?, ?), (?, ?, ?), (?, ?, ?), (?, ?, ?), (?, ?, ?), (?, ?, ?), (?, ?, ?), (?, ?, ?), (?, ?, ?)\n"
     ]
    },
    {
     "name": "stdout",
     "output_type": "stream",
     "text": [
      "2024-07-01 22:58:21,829 INFO sqlalchemy.engine.Engine [insertmanyvalues 4/6 (unordered)] (505, 1.39615384615, 2097, 510, 1.51538461538, 2098, 510, 1.60769230769, 2099, 510, 1.62307692308, 2100, 505, 1.61153846154, 2101, 520, 1.7, 2102, 515, 1.74615384615, 2103, 520, 1.76153846154, 2104, 515, 1.69615384615, 2105, 515, 1.6, 2106, 510, 1.42692307692, 2107, 520, 1.41923076923, 2108, 525, 1.43076923077, 2109, 520, 1.41538461538, 2110, 520, 1.37692307692, 2111, 525, 1.36153846154, 2112, 520, 1.27307692308 ... 1997 parameters truncated ... -1.36538461538, 2779, 430, -1.36153846154, 2780, 425, -1.40384615385, 2781, 430, -1.41538461538, 2782, 430, -1.4, 2783, 425, -1.42692307692, 2784, 420, -1.51923076923, 2785, 425, -1.53846153846, 2786, 425, -1.53461538462, 2787, 420, -1.50384615385, 2788, 415, -1.48846153846, 2789, 420, -1.44230769231, 2790, 420, -1.41923076923, 2791, 420, -1.42307692308, 2792, 420, -1.40769230769, 2793, 410, -1.46538461538, 2794, 410, -1.44615384615, 2795)\n"
     ]
    },
    {
     "name": "stderr",
     "output_type": "stream",
     "text": [
      "[07-01 22:58:21] p17208 {C:\\Projects\\Private\\PropStar\\venv\\lib\\site-packages\\sqlalchemy\\engine\\base.py:2082} INFO - [insertmanyvalues 4/6 (unordered)] (505, 1.39615384615, 2097, 510, 1.51538461538, 2098, 510, 1.60769230769, 2099, 510, 1.62307692308, 2100, 505, 1.61153846154, 2101, 520, 1.7, 2102, 515, 1.74615384615, 2103, 520, 1.76153846154, 2104, 515, 1.69615384615, 2105, 515, 1.6, 2106, 510, 1.42692307692, 2107, 520, 1.41923076923, 2108, 525, 1.43076923077, 2109, 520, 1.41538461538, 2110, 520, 1.37692307692, 2111, 525, 1.36153846154, 2112, 520, 1.27307692308 ... 1997 parameters truncated ... -1.36538461538, 2779, 430, -1.36153846154, 2780, 425, -1.40384615385, 2781, 430, -1.41538461538, 2782, 430, -1.4, 2783, 425, -1.42692307692, 2784, 420, -1.51923076923, 2785, 425, -1.53846153846, 2786, 425, -1.53461538462, 2787, 420, -1.50384615385, 2788, 415, -1.48846153846, 2789, 420, -1.44230769231, 2790, 420, -1.41923076923, 2791, 420, -1.42307692308, 2792, 420, -1.40769230769, 2793, 410, -1.46538461538, 2794, 410, -1.44615384615, 2795)\n"
     ]
    },
    {
     "name": "stdout",
     "output_type": "stream",
     "text": [
      "2024-07-01 22:58:21,840 INFO sqlalchemy.engine.Engine INSERT INTO room_occupancy_multiclass.sensor5 ([S5_CO2], [S5_CO2_Slope], sensor5_id) VALUES (?, ?, ?), (?, ?, ?), (?, ?, ?), (?, ?, ?), (?, ?, ?), (?, ?, ?), (?, ?, ?), (?, ?, ?), (?, ?, ?), (?, ?, ?), (?, ?, ?), (?, ?, ?), (?, ?, ?), (?, ?, ?), (?,  ... 7429 characters truncated ... ), (?, ?, ?), (?, ?, ?), (?, ?, ?), (?, ?, ?), (?, ?, ?), (?, ?, ?), (?, ?, ?), (?, ?, ?), (?, ?, ?)\n"
     ]
    },
    {
     "name": "stderr",
     "output_type": "stream",
     "text": [
      "[07-01 22:58:21] p17208 {C:\\Projects\\Private\\PropStar\\venv\\lib\\site-packages\\sqlalchemy\\engine\\base.py:2064} INFO - INSERT INTO room_occupancy_multiclass.sensor5 ([S5_CO2], [S5_CO2_Slope], sensor5_id) VALUES (?, ?, ?), (?, ?, ?), (?, ?, ?), (?, ?, ?), (?, ?, ?), (?, ?, ?), (?, ?, ?), (?, ?, ?), (?, ?, ?), (?, ?, ?), (?, ?, ?), (?, ?, ?), (?, ?, ?), (?, ?, ?), (?,  ... 7429 characters truncated ... ), (?, ?, ?), (?, ?, ?), (?, ?, ?), (?, ?, ?), (?, ?, ?), (?, ?, ?), (?, ?, ?), (?, ?, ?), (?, ?, ?)\n"
     ]
    },
    {
     "name": "stdout",
     "output_type": "stream",
     "text": [
      "2024-07-01 22:58:21,842 INFO sqlalchemy.engine.Engine [insertmanyvalues 5/6 (unordered)] (405, -1.44230769231, 2796, 405, -1.45384615385, 2797, 400, -1.48076923077, 2798, 405, -1.47692307692, 2799, 400, -1.44230769231, 2800, 400, -1.42307692308, 2801, 400, -1.37307692308, 2802, 395, -1.43846153846, 2803, 390, -1.52307692308, 2804, 390, -1.62692307692, 2805, 390, -1.65384615385, 2806, 390, -1.65, 2807, 390, -1.66538461538, 2808, 390, -1.60384615385, 2809, 390, -1.51538461538, 2810, 390, -1.45, 2811, 390, -1.41153846154 ... 1997 parameters truncated ... -2.58076923077, 3478, 525, -2.50769230769, 3479, 525, -2.38846153846, 3480, 525, -2.32307692308, 3481, 520, -2.26538461538, 3482, 520, -2.16538461538, 3483, 520, -2.07307692308, 3484, 520, -1.99230769231, 3485, 510, -1.96923076923, 3486, 510, -1.95384615385, 3487, 515, -1.80384615385, 3488, 505, -1.80769230769, 3489, 500, -1.76923076923, 3490, 495, -1.78076923077, 3491, 495, -1.79615384615, 3492, 495, -1.81923076923, 3493, 495, -1.85384615385, 3494)\n"
     ]
    },
    {
     "name": "stderr",
     "output_type": "stream",
     "text": [
      "[07-01 22:58:21] p17208 {C:\\Projects\\Private\\PropStar\\venv\\lib\\site-packages\\sqlalchemy\\engine\\base.py:2082} INFO - [insertmanyvalues 5/6 (unordered)] (405, -1.44230769231, 2796, 405, -1.45384615385, 2797, 400, -1.48076923077, 2798, 405, -1.47692307692, 2799, 400, -1.44230769231, 2800, 400, -1.42307692308, 2801, 400, -1.37307692308, 2802, 395, -1.43846153846, 2803, 390, -1.52307692308, 2804, 390, -1.62692307692, 2805, 390, -1.65384615385, 2806, 390, -1.65, 2807, 390, -1.66538461538, 2808, 390, -1.60384615385, 2809, 390, -1.51538461538, 2810, 390, -1.45, 2811, 390, -1.41153846154 ... 1997 parameters truncated ... -2.58076923077, 3478, 525, -2.50769230769, 3479, 525, -2.38846153846, 3480, 525, -2.32307692308, 3481, 520, -2.26538461538, 3482, 520, -2.16538461538, 3483, 520, -2.07307692308, 3484, 520, -1.99230769231, 3485, 510, -1.96923076923, 3486, 510, -1.95384615385, 3487, 515, -1.80384615385, 3488, 505, -1.80769230769, 3489, 500, -1.76923076923, 3490, 495, -1.78076923077, 3491, 495, -1.79615384615, 3492, 495, -1.81923076923, 3493, 495, -1.85384615385, 3494)\n"
     ]
    },
    {
     "name": "stdout",
     "output_type": "stream",
     "text": [
      "2024-07-01 22:58:21,852 INFO sqlalchemy.engine.Engine INSERT INTO room_occupancy_multiclass.sensor5 ([S5_CO2], [S5_CO2_Slope], sensor5_id) VALUES (?, ?, ?), (?, ?, ?), (?, ?, ?), (?, ?, ?), (?, ?, ?), (?, ?, ?), (?, ?, ?), (?, ?, ?), (?, ?, ?), (?, ?, ?), (?, ?, ?), (?, ?, ?), (?, ?, ?), (?, ?, ?), (?,  ... 1467 characters truncated ... ), (?, ?, ?), (?, ?, ?), (?, ?, ?), (?, ?, ?), (?, ?, ?), (?, ?, ?), (?, ?, ?), (?, ?, ?), (?, ?, ?)\n"
     ]
    },
    {
     "name": "stderr",
     "output_type": "stream",
     "text": [
      "[07-01 22:58:21] p17208 {C:\\Projects\\Private\\PropStar\\venv\\lib\\site-packages\\sqlalchemy\\engine\\base.py:2064} INFO - INSERT INTO room_occupancy_multiclass.sensor5 ([S5_CO2], [S5_CO2_Slope], sensor5_id) VALUES (?, ?, ?), (?, ?, ?), (?, ?, ?), (?, ?, ?), (?, ?, ?), (?, ?, ?), (?, ?, ?), (?, ?, ?), (?, ?, ?), (?, ?, ?), (?, ?, ?), (?, ?, ?), (?, ?, ?), (?, ?, ?), (?,  ... 1467 characters truncated ... ), (?, ?, ?), (?, ?, ?), (?, ?, ?), (?, ?, ?), (?, ?, ?), (?, ?, ?), (?, ?, ?), (?, ?, ?), (?, ?, ?)\n"
     ]
    },
    {
     "name": "stdout",
     "output_type": "stream",
     "text": [
      "2024-07-01 22:58:21,853 INFO sqlalchemy.engine.Engine [insertmanyvalues 6/6 (unordered)] (495, -1.86923076923, 3495, 500, -1.80769230769, 3496, 490, -1.81153846154, 3497, 490, -1.83076923077, 3498, 490, -1.81923076923, 3499, 495, -1.73076923077, 3500, 490, -1.71153846154, 3501, 485, -1.71153846154, 3502, 490, -1.63461538462, 3503, 485, -1.57692307692, 3504, 485, -1.48846153846, 3505, 485, -1.41923076923, 3506, 475, -1.41538461538, 3507, 480, -1.33076923077, 3508, 475, -1.26153846154, 3509, 475, -1.25769230769, 3510, 485, -1.13461538462 ... 371 parameters truncated ... -0.253846153846, 3635, 350, -0.265384615385, 3636, 345, -0.0461538461538, 3637, 345, -0.0884615384615, 3638, 345, -0.126923076923, 3639, 345, -0.157692307692, 3640, 345, -0.184615384615, 3641, 345, -0.207692307692, 3642, 345, -0.226923076923, 3643, 345, -0.242307692308, 3644, 345, -0.253846153846, 3645, 345, -0.261538461538, 3646, 345, -0.265384615385, 3647, 345, -0.0923076923077, 3648, 345, -0.103846153846, 3649, 345, -0.115384615385, 3650, 345, 0.0, 3651)\n"
     ]
    },
    {
     "name": "stderr",
     "output_type": "stream",
     "text": [
      "[07-01 22:58:21] p17208 {C:\\Projects\\Private\\PropStar\\venv\\lib\\site-packages\\sqlalchemy\\engine\\base.py:2082} INFO - [insertmanyvalues 6/6 (unordered)] (495, -1.86923076923, 3495, 500, -1.80769230769, 3496, 490, -1.81153846154, 3497, 490, -1.83076923077, 3498, 490, -1.81923076923, 3499, 495, -1.73076923077, 3500, 490, -1.71153846154, 3501, 485, -1.71153846154, 3502, 490, -1.63461538462, 3503, 485, -1.57692307692, 3504, 485, -1.48846153846, 3505, 485, -1.41923076923, 3506, 475, -1.41538461538, 3507, 480, -1.33076923077, 3508, 475, -1.26153846154, 3509, 475, -1.25769230769, 3510, 485, -1.13461538462 ... 371 parameters truncated ... -0.253846153846, 3635, 350, -0.265384615385, 3636, 345, -0.0461538461538, 3637, 345, -0.0884615384615, 3638, 345, -0.126923076923, 3639, 345, -0.157692307692, 3640, 345, -0.184615384615, 3641, 345, -0.207692307692, 3642, 345, -0.226923076923, 3643, 345, -0.242307692308, 3644, 345, -0.253846153846, 3645, 345, -0.261538461538, 3646, 345, -0.265384615385, 3647, 345, -0.0923076923077, 3648, 345, -0.103846153846, 3649, 345, -0.115384615385, 3650, 345, 0.0, 3651)\n"
     ]
    },
    {
     "name": "stdout",
     "output_type": "stream",
     "text": [
      "2024-07-01 22:58:21,880 INFO sqlalchemy.engine.Engine ALTER TABLE room_occupancy_multiclass.sensor5 ALTER COLUMN sensor5_id BIGINT NOT NULL\n"
     ]
    },
    {
     "name": "stderr",
     "output_type": "stream",
     "text": [
      "[07-01 22:58:21] p17208 {C:\\Projects\\Private\\PropStar\\venv\\lib\\site-packages\\sqlalchemy\\engine\\base.py:1897} INFO - ALTER TABLE room_occupancy_multiclass.sensor5 ALTER COLUMN sensor5_id BIGINT NOT NULL\n"
     ]
    },
    {
     "name": "stdout",
     "output_type": "stream",
     "text": [
      "2024-07-01 22:58:21,883 INFO sqlalchemy.engine.Engine [generated in 0.00302s] ()\n"
     ]
    },
    {
     "name": "stderr",
     "output_type": "stream",
     "text": [
      "[07-01 22:58:21] p17208 {C:\\Projects\\Private\\PropStar\\venv\\lib\\site-packages\\sqlalchemy\\engine\\base.py:1902} INFO - [generated in 0.00302s] ()\n"
     ]
    },
    {
     "name": "stdout",
     "output_type": "stream",
     "text": [
      "2024-07-01 22:58:21,899 INFO sqlalchemy.engine.Engine ALTER TABLE room_occupancy_multiclass.sensor5 ADD CONSTRAINT PK_sensor5 PRIMARY KEY (sensor5_id);\n"
     ]
    },
    {
     "name": "stderr",
     "output_type": "stream",
     "text": [
      "[07-01 22:58:21] p17208 {C:\\Projects\\Private\\PropStar\\venv\\lib\\site-packages\\sqlalchemy\\engine\\base.py:1897} INFO - ALTER TABLE room_occupancy_multiclass.sensor5 ADD CONSTRAINT PK_sensor5 PRIMARY KEY (sensor5_id);\n"
     ]
    },
    {
     "name": "stdout",
     "output_type": "stream",
     "text": [
      "2024-07-01 22:58:21,901 INFO sqlalchemy.engine.Engine [generated in 0.00209s] ()\n"
     ]
    },
    {
     "name": "stderr",
     "output_type": "stream",
     "text": [
      "[07-01 22:58:21] p17208 {C:\\Projects\\Private\\PropStar\\venv\\lib\\site-packages\\sqlalchemy\\engine\\base.py:1902} INFO - [generated in 0.00209s] ()\n"
     ]
    },
    {
     "name": "stdout",
     "output_type": "stream",
     "text": [
      "2024-07-01 22:58:21,916 INFO sqlalchemy.engine.Engine SELECT [INFORMATION_SCHEMA].[TABLES].[TABLE_NAME] \n",
      "FROM [INFORMATION_SCHEMA].[TABLES] \n",
      "WHERE ([INFORMATION_SCHEMA].[TABLES].[TABLE_TYPE] = CAST(? AS NVARCHAR(max)) OR [INFORMATION_SCHEMA].[TABLES].[TABLE_TYPE] = CAST(? AS NVARCHAR(max))) AND [INFORMATION_SCHEMA].[TABLES].[TABLE_NAME] = CAST(? AS NVARCHAR(max)) AND [INFORMATION_SCHEMA].[TABLES].[TABLE_SCHEMA] = CAST(? AS NVARCHAR(max))\n"
     ]
    },
    {
     "name": "stderr",
     "output_type": "stream",
     "text": [
      "[07-01 22:58:21] p17208 {C:\\Projects\\Private\\PropStar\\venv\\lib\\site-packages\\sqlalchemy\\engine\\base.py:1897} INFO - SELECT [INFORMATION_SCHEMA].[TABLES].[TABLE_NAME] \n",
      "FROM [INFORMATION_SCHEMA].[TABLES] \n",
      "WHERE ([INFORMATION_SCHEMA].[TABLES].[TABLE_TYPE] = CAST(? AS NVARCHAR(max)) OR [INFORMATION_SCHEMA].[TABLES].[TABLE_TYPE] = CAST(? AS NVARCHAR(max))) AND [INFORMATION_SCHEMA].[TABLES].[TABLE_NAME] = CAST(? AS NVARCHAR(max)) AND [INFORMATION_SCHEMA].[TABLES].[TABLE_SCHEMA] = CAST(? AS NVARCHAR(max))\n"
     ]
    },
    {
     "name": "stdout",
     "output_type": "stream",
     "text": [
      "2024-07-01 22:58:21,917 INFO sqlalchemy.engine.Engine [cached since 2.661s ago] ('BASE TABLE', 'VIEW', 'sensor6', 'room_occupancy_multiclass')\n"
     ]
    },
    {
     "name": "stderr",
     "output_type": "stream",
     "text": [
      "[07-01 22:58:21] p17208 {C:\\Projects\\Private\\PropStar\\venv\\lib\\site-packages\\sqlalchemy\\engine\\base.py:1902} INFO - [cached since 2.661s ago] ('BASE TABLE', 'VIEW', 'sensor6', 'room_occupancy_multiclass')\n"
     ]
    },
    {
     "name": "stdout",
     "output_type": "stream",
     "text": [
      "2024-07-01 22:58:21,920 INFO sqlalchemy.engine.Engine \n",
      "CREATE TABLE room_occupancy_multiclass.sensor6 (\n",
      "\t[S6_PIR] BIGINT NULL, \n",
      "\tsensor6_id BIGINT NULL\n",
      ")\n",
      "\n",
      "\n"
     ]
    },
    {
     "name": "stderr",
     "output_type": "stream",
     "text": [
      "[07-01 22:58:21] p17208 {C:\\Projects\\Private\\PropStar\\venv\\lib\\site-packages\\sqlalchemy\\engine\\base.py:1897} INFO - \n",
      "CREATE TABLE room_occupancy_multiclass.sensor6 (\n",
      "\t[S6_PIR] BIGINT NULL, \n",
      "\tsensor6_id BIGINT NULL\n",
      ")\n",
      "\n",
      "\n"
     ]
    },
    {
     "name": "stdout",
     "output_type": "stream",
     "text": [
      "2024-07-01 22:58:21,921 INFO sqlalchemy.engine.Engine [no key 0.00095s] ()\n"
     ]
    },
    {
     "name": "stderr",
     "output_type": "stream",
     "text": [
      "[07-01 22:58:21] p17208 {C:\\Projects\\Private\\PropStar\\venv\\lib\\site-packages\\sqlalchemy\\engine\\base.py:1902} INFO - [no key 0.00095s] ()\n"
     ]
    },
    {
     "name": "stdout",
     "output_type": "stream",
     "text": [
      "2024-07-01 22:58:21,925 INFO sqlalchemy.engine.Engine INSERT INTO room_occupancy_multiclass.sensor6 ([S6_PIR], sensor6_id) VALUES (?, ?), (?, ?)\n"
     ]
    },
    {
     "name": "stderr",
     "output_type": "stream",
     "text": [
      "[07-01 22:58:21] p17208 {C:\\Projects\\Private\\PropStar\\venv\\lib\\site-packages\\sqlalchemy\\engine\\base.py:2064} INFO - INSERT INTO room_occupancy_multiclass.sensor6 ([S6_PIR], sensor6_id) VALUES (?, ?), (?, ?)\n"
     ]
    },
    {
     "name": "stdout",
     "output_type": "stream",
     "text": [
      "2024-07-01 22:58:21,926 INFO sqlalchemy.engine.Engine [generated in 0.00011s (insertmanyvalues) 1/1 (unordered)] (0, 0, 1, 1)\n"
     ]
    },
    {
     "name": "stderr",
     "output_type": "stream",
     "text": [
      "[07-01 22:58:21] p17208 {C:\\Projects\\Private\\PropStar\\venv\\lib\\site-packages\\sqlalchemy\\engine\\base.py:2082} INFO - [generated in 0.00011s (insertmanyvalues) 1/1 (unordered)] (0, 0, 1, 1)\n"
     ]
    },
    {
     "name": "stdout",
     "output_type": "stream",
     "text": [
      "2024-07-01 22:58:21,932 INFO sqlalchemy.engine.Engine ALTER TABLE room_occupancy_multiclass.sensor6 ALTER COLUMN sensor6_id BIGINT NOT NULL\n"
     ]
    },
    {
     "name": "stderr",
     "output_type": "stream",
     "text": [
      "[07-01 22:58:21] p17208 {C:\\Projects\\Private\\PropStar\\venv\\lib\\site-packages\\sqlalchemy\\engine\\base.py:1897} INFO - ALTER TABLE room_occupancy_multiclass.sensor6 ALTER COLUMN sensor6_id BIGINT NOT NULL\n"
     ]
    },
    {
     "name": "stdout",
     "output_type": "stream",
     "text": [
      "2024-07-01 22:58:21,933 INFO sqlalchemy.engine.Engine [generated in 0.00113s] ()\n"
     ]
    },
    {
     "name": "stderr",
     "output_type": "stream",
     "text": [
      "[07-01 22:58:21] p17208 {C:\\Projects\\Private\\PropStar\\venv\\lib\\site-packages\\sqlalchemy\\engine\\base.py:1902} INFO - [generated in 0.00113s] ()\n"
     ]
    },
    {
     "name": "stdout",
     "output_type": "stream",
     "text": [
      "2024-07-01 22:58:21,938 INFO sqlalchemy.engine.Engine ALTER TABLE room_occupancy_multiclass.sensor6 ADD CONSTRAINT PK_sensor6 PRIMARY KEY (sensor6_id);\n"
     ]
    },
    {
     "name": "stderr",
     "output_type": "stream",
     "text": [
      "[07-01 22:58:21] p17208 {C:\\Projects\\Private\\PropStar\\venv\\lib\\site-packages\\sqlalchemy\\engine\\base.py:1897} INFO - ALTER TABLE room_occupancy_multiclass.sensor6 ADD CONSTRAINT PK_sensor6 PRIMARY KEY (sensor6_id);\n"
     ]
    },
    {
     "name": "stdout",
     "output_type": "stream",
     "text": [
      "2024-07-01 22:58:21,939 INFO sqlalchemy.engine.Engine [generated in 0.00103s] ()\n"
     ]
    },
    {
     "name": "stderr",
     "output_type": "stream",
     "text": [
      "[07-01 22:58:21] p17208 {C:\\Projects\\Private\\PropStar\\venv\\lib\\site-packages\\sqlalchemy\\engine\\base.py:1902} INFO - [generated in 0.00103s] ()\n"
     ]
    },
    {
     "name": "stdout",
     "output_type": "stream",
     "text": [
      "2024-07-01 22:58:21,949 INFO sqlalchemy.engine.Engine SELECT [INFORMATION_SCHEMA].[TABLES].[TABLE_NAME] \n",
      "FROM [INFORMATION_SCHEMA].[TABLES] \n",
      "WHERE ([INFORMATION_SCHEMA].[TABLES].[TABLE_TYPE] = CAST(? AS NVARCHAR(max)) OR [INFORMATION_SCHEMA].[TABLES].[TABLE_TYPE] = CAST(? AS NVARCHAR(max))) AND [INFORMATION_SCHEMA].[TABLES].[TABLE_NAME] = CAST(? AS NVARCHAR(max)) AND [INFORMATION_SCHEMA].[TABLES].[TABLE_SCHEMA] = CAST(? AS NVARCHAR(max))\n"
     ]
    },
    {
     "name": "stderr",
     "output_type": "stream",
     "text": [
      "[07-01 22:58:21] p17208 {C:\\Projects\\Private\\PropStar\\venv\\lib\\site-packages\\sqlalchemy\\engine\\base.py:1897} INFO - SELECT [INFORMATION_SCHEMA].[TABLES].[TABLE_NAME] \n",
      "FROM [INFORMATION_SCHEMA].[TABLES] \n",
      "WHERE ([INFORMATION_SCHEMA].[TABLES].[TABLE_TYPE] = CAST(? AS NVARCHAR(max)) OR [INFORMATION_SCHEMA].[TABLES].[TABLE_TYPE] = CAST(? AS NVARCHAR(max))) AND [INFORMATION_SCHEMA].[TABLES].[TABLE_NAME] = CAST(? AS NVARCHAR(max)) AND [INFORMATION_SCHEMA].[TABLES].[TABLE_SCHEMA] = CAST(? AS NVARCHAR(max))\n"
     ]
    },
    {
     "name": "stdout",
     "output_type": "stream",
     "text": [
      "2024-07-01 22:58:21,950 INFO sqlalchemy.engine.Engine [cached since 2.694s ago] ('BASE TABLE', 'VIEW', 'sensor7', 'room_occupancy_multiclass')\n"
     ]
    },
    {
     "name": "stderr",
     "output_type": "stream",
     "text": [
      "[07-01 22:58:21] p17208 {C:\\Projects\\Private\\PropStar\\venv\\lib\\site-packages\\sqlalchemy\\engine\\base.py:1902} INFO - [cached since 2.694s ago] ('BASE TABLE', 'VIEW', 'sensor7', 'room_occupancy_multiclass')\n"
     ]
    },
    {
     "name": "stdout",
     "output_type": "stream",
     "text": [
      "2024-07-01 22:58:21,952 INFO sqlalchemy.engine.Engine \n",
      "CREATE TABLE room_occupancy_multiclass.sensor7 (\n",
      "\t[S7_PIR] BIGINT NULL, \n",
      "\tsensor7_id BIGINT NULL\n",
      ")\n",
      "\n",
      "\n"
     ]
    },
    {
     "name": "stderr",
     "output_type": "stream",
     "text": [
      "[07-01 22:58:21] p17208 {C:\\Projects\\Private\\PropStar\\venv\\lib\\site-packages\\sqlalchemy\\engine\\base.py:1897} INFO - \n",
      "CREATE TABLE room_occupancy_multiclass.sensor7 (\n",
      "\t[S7_PIR] BIGINT NULL, \n",
      "\tsensor7_id BIGINT NULL\n",
      ")\n",
      "\n",
      "\n"
     ]
    },
    {
     "name": "stdout",
     "output_type": "stream",
     "text": [
      "2024-07-01 22:58:21,954 INFO sqlalchemy.engine.Engine [no key 0.00113s] ()\n"
     ]
    },
    {
     "name": "stderr",
     "output_type": "stream",
     "text": [
      "[07-01 22:58:21] p17208 {C:\\Projects\\Private\\PropStar\\venv\\lib\\site-packages\\sqlalchemy\\engine\\base.py:1902} INFO - [no key 0.00113s] ()\n"
     ]
    },
    {
     "name": "stdout",
     "output_type": "stream",
     "text": [
      "2024-07-01 22:58:21,958 INFO sqlalchemy.engine.Engine INSERT INTO room_occupancy_multiclass.sensor7 ([S7_PIR], sensor7_id) VALUES (?, ?), (?, ?)\n"
     ]
    },
    {
     "name": "stderr",
     "output_type": "stream",
     "text": [
      "[07-01 22:58:21] p17208 {C:\\Projects\\Private\\PropStar\\venv\\lib\\site-packages\\sqlalchemy\\engine\\base.py:2064} INFO - INSERT INTO room_occupancy_multiclass.sensor7 ([S7_PIR], sensor7_id) VALUES (?, ?), (?, ?)\n"
     ]
    },
    {
     "name": "stdout",
     "output_type": "stream",
     "text": [
      "2024-07-01 22:58:21,959 INFO sqlalchemy.engine.Engine [generated in 0.00009s (insertmanyvalues) 1/1 (unordered)] (0, 0, 1, 1)\n"
     ]
    },
    {
     "name": "stderr",
     "output_type": "stream",
     "text": [
      "[07-01 22:58:21] p17208 {C:\\Projects\\Private\\PropStar\\venv\\lib\\site-packages\\sqlalchemy\\engine\\base.py:2082} INFO - [generated in 0.00009s (insertmanyvalues) 1/1 (unordered)] (0, 0, 1, 1)\n"
     ]
    },
    {
     "name": "stdout",
     "output_type": "stream",
     "text": [
      "2024-07-01 22:58:21,964 INFO sqlalchemy.engine.Engine ALTER TABLE room_occupancy_multiclass.sensor7 ALTER COLUMN sensor7_id BIGINT NOT NULL\n"
     ]
    },
    {
     "name": "stderr",
     "output_type": "stream",
     "text": [
      "[07-01 22:58:21] p17208 {C:\\Projects\\Private\\PropStar\\venv\\lib\\site-packages\\sqlalchemy\\engine\\base.py:1897} INFO - ALTER TABLE room_occupancy_multiclass.sensor7 ALTER COLUMN sensor7_id BIGINT NOT NULL\n"
     ]
    },
    {
     "name": "stdout",
     "output_type": "stream",
     "text": [
      "2024-07-01 22:58:21,966 INFO sqlalchemy.engine.Engine [generated in 0.00118s] ()\n"
     ]
    },
    {
     "name": "stderr",
     "output_type": "stream",
     "text": [
      "[07-01 22:58:21] p17208 {C:\\Projects\\Private\\PropStar\\venv\\lib\\site-packages\\sqlalchemy\\engine\\base.py:1902} INFO - [generated in 0.00118s] ()\n"
     ]
    },
    {
     "name": "stdout",
     "output_type": "stream",
     "text": [
      "2024-07-01 22:58:21,971 INFO sqlalchemy.engine.Engine ALTER TABLE room_occupancy_multiclass.sensor7 ADD CONSTRAINT PK_sensor7 PRIMARY KEY (sensor7_id);\n"
     ]
    },
    {
     "name": "stderr",
     "output_type": "stream",
     "text": [
      "[07-01 22:58:21] p17208 {C:\\Projects\\Private\\PropStar\\venv\\lib\\site-packages\\sqlalchemy\\engine\\base.py:1897} INFO - ALTER TABLE room_occupancy_multiclass.sensor7 ADD CONSTRAINT PK_sensor7 PRIMARY KEY (sensor7_id);\n"
     ]
    },
    {
     "name": "stdout",
     "output_type": "stream",
     "text": [
      "2024-07-01 22:58:21,972 INFO sqlalchemy.engine.Engine [generated in 0.00110s] ()\n"
     ]
    },
    {
     "name": "stderr",
     "output_type": "stream",
     "text": [
      "[07-01 22:58:21] p17208 {C:\\Projects\\Private\\PropStar\\venv\\lib\\site-packages\\sqlalchemy\\engine\\base.py:1902} INFO - [generated in 0.00110s] ()\n"
     ]
    },
    {
     "name": "stdout",
     "output_type": "stream",
     "text": [
      "2024-07-01 22:58:21,981 INFO sqlalchemy.engine.Engine ALTER TABLE room_occupancy_multiclass.original_table ADD CONSTRAINT FK_original_table_sensor1 FOREIGN KEY (sensor1_id) REFERENCES room_occupancy_multiclass.sensor1(sensor1_id);\n"
     ]
    },
    {
     "name": "stderr",
     "output_type": "stream",
     "text": [
      "[07-01 22:58:21] p17208 {C:\\Projects\\Private\\PropStar\\venv\\lib\\site-packages\\sqlalchemy\\engine\\base.py:1897} INFO - ALTER TABLE room_occupancy_multiclass.original_table ADD CONSTRAINT FK_original_table_sensor1 FOREIGN KEY (sensor1_id) REFERENCES room_occupancy_multiclass.sensor1(sensor1_id);\n"
     ]
    },
    {
     "name": "stdout",
     "output_type": "stream",
     "text": [
      "2024-07-01 22:58:21,982 INFO sqlalchemy.engine.Engine [generated in 0.00112s] ()\n"
     ]
    },
    {
     "name": "stderr",
     "output_type": "stream",
     "text": [
      "[07-01 22:58:21] p17208 {C:\\Projects\\Private\\PropStar\\venv\\lib\\site-packages\\sqlalchemy\\engine\\base.py:1902} INFO - [generated in 0.00112s] ()\n"
     ]
    },
    {
     "name": "stdout",
     "output_type": "stream",
     "text": [
      "2024-07-01 22:58:22,020 INFO sqlalchemy.engine.Engine ALTER TABLE room_occupancy_multiclass.original_table ADD CONSTRAINT FK_original_table_sensor2 FOREIGN KEY (sensor2_id) REFERENCES room_occupancy_multiclass.sensor2(sensor2_id);\n"
     ]
    },
    {
     "name": "stderr",
     "output_type": "stream",
     "text": [
      "[07-01 22:58:22] p17208 {C:\\Projects\\Private\\PropStar\\venv\\lib\\site-packages\\sqlalchemy\\engine\\base.py:1897} INFO - ALTER TABLE room_occupancy_multiclass.original_table ADD CONSTRAINT FK_original_table_sensor2 FOREIGN KEY (sensor2_id) REFERENCES room_occupancy_multiclass.sensor2(sensor2_id);\n"
     ]
    },
    {
     "name": "stdout",
     "output_type": "stream",
     "text": [
      "2024-07-01 22:58:22,023 INFO sqlalchemy.engine.Engine [generated in 0.00327s] ()\n"
     ]
    },
    {
     "name": "stderr",
     "output_type": "stream",
     "text": [
      "[07-01 22:58:22] p17208 {C:\\Projects\\Private\\PropStar\\venv\\lib\\site-packages\\sqlalchemy\\engine\\base.py:1902} INFO - [generated in 0.00327s] ()\n"
     ]
    },
    {
     "name": "stdout",
     "output_type": "stream",
     "text": [
      "2024-07-01 22:58:22,054 INFO sqlalchemy.engine.Engine ALTER TABLE room_occupancy_multiclass.original_table ADD CONSTRAINT FK_original_table_sensor3 FOREIGN KEY (sensor3_id) REFERENCES room_occupancy_multiclass.sensor3(sensor3_id);\n"
     ]
    },
    {
     "name": "stderr",
     "output_type": "stream",
     "text": [
      "[07-01 22:58:22] p17208 {C:\\Projects\\Private\\PropStar\\venv\\lib\\site-packages\\sqlalchemy\\engine\\base.py:1897} INFO - ALTER TABLE room_occupancy_multiclass.original_table ADD CONSTRAINT FK_original_table_sensor3 FOREIGN KEY (sensor3_id) REFERENCES room_occupancy_multiclass.sensor3(sensor3_id);\n"
     ]
    },
    {
     "name": "stdout",
     "output_type": "stream",
     "text": [
      "2024-07-01 22:58:22,056 INFO sqlalchemy.engine.Engine [generated in 0.00270s] ()\n"
     ]
    },
    {
     "name": "stderr",
     "output_type": "stream",
     "text": [
      "[07-01 22:58:22] p17208 {C:\\Projects\\Private\\PropStar\\venv\\lib\\site-packages\\sqlalchemy\\engine\\base.py:1902} INFO - [generated in 0.00270s] ()\n"
     ]
    },
    {
     "name": "stdout",
     "output_type": "stream",
     "text": [
      "2024-07-01 22:58:22,090 INFO sqlalchemy.engine.Engine ALTER TABLE room_occupancy_multiclass.original_table ADD CONSTRAINT FK_original_table_sensor4 FOREIGN KEY (sensor4_id) REFERENCES room_occupancy_multiclass.sensor4(sensor4_id);\n"
     ]
    },
    {
     "name": "stderr",
     "output_type": "stream",
     "text": [
      "[07-01 22:58:22] p17208 {C:\\Projects\\Private\\PropStar\\venv\\lib\\site-packages\\sqlalchemy\\engine\\base.py:1897} INFO - ALTER TABLE room_occupancy_multiclass.original_table ADD CONSTRAINT FK_original_table_sensor4 FOREIGN KEY (sensor4_id) REFERENCES room_occupancy_multiclass.sensor4(sensor4_id);\n"
     ]
    },
    {
     "name": "stdout",
     "output_type": "stream",
     "text": [
      "2024-07-01 22:58:22,093 INFO sqlalchemy.engine.Engine [generated in 0.00304s] ()\n"
     ]
    },
    {
     "name": "stderr",
     "output_type": "stream",
     "text": [
      "[07-01 22:58:22] p17208 {C:\\Projects\\Private\\PropStar\\venv\\lib\\site-packages\\sqlalchemy\\engine\\base.py:1902} INFO - [generated in 0.00304s] ()\n"
     ]
    },
    {
     "name": "stdout",
     "output_type": "stream",
     "text": [
      "2024-07-01 22:58:22,125 INFO sqlalchemy.engine.Engine ALTER TABLE room_occupancy_multiclass.original_table ADD CONSTRAINT FK_original_table_sensor5 FOREIGN KEY (sensor5_id) REFERENCES room_occupancy_multiclass.sensor5(sensor5_id);\n"
     ]
    },
    {
     "name": "stderr",
     "output_type": "stream",
     "text": [
      "[07-01 22:58:22] p17208 {C:\\Projects\\Private\\PropStar\\venv\\lib\\site-packages\\sqlalchemy\\engine\\base.py:1897} INFO - ALTER TABLE room_occupancy_multiclass.original_table ADD CONSTRAINT FK_original_table_sensor5 FOREIGN KEY (sensor5_id) REFERENCES room_occupancy_multiclass.sensor5(sensor5_id);\n"
     ]
    },
    {
     "name": "stdout",
     "output_type": "stream",
     "text": [
      "2024-07-01 22:58:22,128 INFO sqlalchemy.engine.Engine [generated in 0.00305s] ()\n"
     ]
    },
    {
     "name": "stderr",
     "output_type": "stream",
     "text": [
      "[07-01 22:58:22] p17208 {C:\\Projects\\Private\\PropStar\\venv\\lib\\site-packages\\sqlalchemy\\engine\\base.py:1902} INFO - [generated in 0.00305s] ()\n"
     ]
    },
    {
     "name": "stdout",
     "output_type": "stream",
     "text": [
      "2024-07-01 22:58:22,157 INFO sqlalchemy.engine.Engine ALTER TABLE room_occupancy_multiclass.original_table ADD CONSTRAINT FK_original_table_sensor6 FOREIGN KEY (sensor6_id) REFERENCES room_occupancy_multiclass.sensor6(sensor6_id);\n"
     ]
    },
    {
     "name": "stderr",
     "output_type": "stream",
     "text": [
      "[07-01 22:58:22] p17208 {C:\\Projects\\Private\\PropStar\\venv\\lib\\site-packages\\sqlalchemy\\engine\\base.py:1897} INFO - ALTER TABLE room_occupancy_multiclass.original_table ADD CONSTRAINT FK_original_table_sensor6 FOREIGN KEY (sensor6_id) REFERENCES room_occupancy_multiclass.sensor6(sensor6_id);\n"
     ]
    },
    {
     "name": "stdout",
     "output_type": "stream",
     "text": [
      "2024-07-01 22:58:22,159 INFO sqlalchemy.engine.Engine [generated in 0.00296s] ()\n"
     ]
    },
    {
     "name": "stderr",
     "output_type": "stream",
     "text": [
      "[07-01 22:58:22] p17208 {C:\\Projects\\Private\\PropStar\\venv\\lib\\site-packages\\sqlalchemy\\engine\\base.py:1902} INFO - [generated in 0.00296s] ()\n"
     ]
    },
    {
     "name": "stdout",
     "output_type": "stream",
     "text": [
      "2024-07-01 22:58:22,187 INFO sqlalchemy.engine.Engine ALTER TABLE room_occupancy_multiclass.original_table ADD CONSTRAINT FK_original_table_sensor7 FOREIGN KEY (sensor7_id) REFERENCES room_occupancy_multiclass.sensor7(sensor7_id);\n"
     ]
    },
    {
     "name": "stderr",
     "output_type": "stream",
     "text": [
      "[07-01 22:58:22] p17208 {C:\\Projects\\Private\\PropStar\\venv\\lib\\site-packages\\sqlalchemy\\engine\\base.py:1897} INFO - ALTER TABLE room_occupancy_multiclass.original_table ADD CONSTRAINT FK_original_table_sensor7 FOREIGN KEY (sensor7_id) REFERENCES room_occupancy_multiclass.sensor7(sensor7_id);\n"
     ]
    },
    {
     "name": "stdout",
     "output_type": "stream",
     "text": [
      "2024-07-01 22:58:22,190 INFO sqlalchemy.engine.Engine [generated in 0.00351s] ()\n"
     ]
    },
    {
     "name": "stderr",
     "output_type": "stream",
     "text": [
      "[07-01 22:58:22] p17208 {C:\\Projects\\Private\\PropStar\\venv\\lib\\site-packages\\sqlalchemy\\engine\\base.py:1902} INFO - [generated in 0.00351s] ()\n"
     ]
    },
    {
     "name": "stdout",
     "output_type": "stream",
     "text": [
      "2024-07-01 22:58:22,215 INFO sqlalchemy.engine.Engine ROLLBACK\n"
     ]
    },
    {
     "name": "stderr",
     "output_type": "stream",
     "text": [
      "[07-01 22:58:22] p17208 {C:\\Projects\\Private\\PropStar\\venv\\lib\\site-packages\\sqlalchemy\\engine\\base.py:1113} INFO - ROLLBACK\n"
     ]
    }
   ],
   "source": [
    "norm.persist_entity_set(database_name=\"room_occupancy_multiclass\")"
   ]
  },
  {
   "cell_type": "code",
   "execution_count": null,
   "id": "5cd412d9-3d7d-4a13-854a-40b0adbd37b8",
   "metadata": {},
   "outputs": [],
   "source": []
  }
 ],
 "metadata": {
  "kernelspec": {
   "display_name": "Python 3 (ipykernel)",
   "language": "python",
   "name": "python3"
  },
  "language_info": {
   "codemirror_mode": {
    "name": "ipython",
    "version": 3
   },
   "file_extension": ".py",
   "mimetype": "text/x-python",
   "name": "python",
   "nbconvert_exporter": "python",
   "pygments_lexer": "ipython3",
   "version": "3.9.13"
  }
 },
 "nbformat": 4,
 "nbformat_minor": 5
}
