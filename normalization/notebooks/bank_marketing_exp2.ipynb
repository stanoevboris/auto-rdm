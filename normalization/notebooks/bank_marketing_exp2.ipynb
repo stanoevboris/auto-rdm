{
 "cells": [
  {
   "cell_type": "code",
   "id": "240e1602-6cd0-49f6-94c2-3719ee863589",
   "metadata": {},
   "source": [
    "import sys\n",
    "# sys.path is a list of absolute path strings\n",
    "sys.path.append('/mnt/sda/boris_stanoev/PropStar/')"
   ],
   "outputs": [],
   "execution_count": null
  },
  {
   "cell_type": "code",
   "id": "baf7e2c3-4dc9-49ec-bb2f-6149f149002f",
   "metadata": {},
   "source": [
    "from normalization.normalize import Normalize\n",
    "from sklearn.datasets import fetch_openml"
   ],
   "outputs": [],
   "execution_count": null
  },
  {
   "cell_type": "code",
   "id": "0074d458-e414-4f25-b3e1-e20de7de8c3a",
   "metadata": {},
   "source": [
    "data = fetch_openml(data_id=1558)\n",
    "denormalized_table = data.data.join(data.target)"
   ],
   "outputs": [],
   "execution_count": null
  },
  {
   "cell_type": "code",
   "id": "6fb8112b-8d8c-4c15-834c-27c10557d176",
   "metadata": {},
   "source": [
    "denormalized_table.columns.values"
   ],
   "outputs": [],
   "execution_count": null
  },
  {
   "cell_type": "code",
   "id": "3e2a0caa-caed-405d-9689-3c8659d219b2",
   "metadata": {},
   "source": [
    "denormalized_table.rename(columns={\"V1\": \"age\",\n",
    "                                   \"V2\": \"job\",\n",
    "                                   \"V3\": \"marital\",\n",
    "                                   \"V4\": \"education\",\n",
    "                                   \"V5\": \"default\",\n",
    "                                   \"V6\": \"balance\",\n",
    "                                   \"V7\": \"housing\",\n",
    "                                   \"V8\": \"loan\",\n",
    "                                   \"V9\": \"contact\",\n",
    "                                   \"V10\": \"day\",\n",
    "                                   \"V11\": \"month\",\n",
    "                                   \"V12\": \"duration\",\n",
    "                                   \"V13\": \"campaign\",\n",
    "                                   \"V14\": \"pdays\",\n",
    "                                   \"V15\": \"previous\",\n",
    "                                   \"V16\": \"poutcome\",\n",
    "                                  }, inplace=True)"
   ],
   "outputs": [],
   "execution_count": null
  },
  {
   "cell_type": "code",
   "id": "e6222d17-c870-4d0d-8581-36014dcf87b7",
   "metadata": {},
   "source": [
    "\"\"\"\n",
    "bank client data:\n",
    "    1 - age (numeric)\n",
    "    \n",
    "    2 - job : type of job (categorical: \"admin.\",\"unknown\",\"unemployed\",\"management\",\"housemaid\",\"entrepreneur\", \"student\",\"blue-collar\",\"self-employed\",\"retired\",\"technician\",\"services\")\n",
    "    \n",
    "    3 - marital : marital status (categorical: \"married\",\"divorced\",\"single\"; note: \"divorced\" means divorced or widowed)\n",
    "    \n",
    "    4 - education (categorical: \"unknown\",\"secondary\",\"primary\",\"tertiary\")\n",
    "    \n",
    "    5 - default: has credit in default? (binary: \"yes\",\"no\")\n",
    "    \n",
    "    6 - balance: average yearly balance, in euros (numeric)\n",
    "    \n",
    "    7 - housing: has housing loan? (binary: \"yes\",\"no\")\n",
    "    \n",
    "    8 - loan: has personal loan? (binary: \"yes\",\"no\")\n",
    "\n",
    "related with the last contact of the current campaign:\n",
    "    9 - contact: contact communication type (categorical: \"unknown\",\"telephone\",\"cellular\")\n",
    "    \n",
    "    10 - day: last contact day of the month (numeric)\n",
    "    \n",
    "    11 - month: last contact month of year (categorical: \"jan\", \"feb\", \"mar\", ..., \"nov\", \"dec\")\n",
    "    \n",
    "    12 - duration: last contact duration, in seconds (numeric)\n",
    "\n",
    "other attributes:\n",
    "    13 - campaign: number of contacts performed during this campaign and for this client (numeric, includes last contact)\n",
    "    \n",
    "    14 - pdays: number of days that passed by after the client was last contacted from a previous campaign (numeric, -1 means client was not previously contacted)\n",
    "    \n",
    "    15 - previous: number of contacts performed before this campaign and for this client (numeric)\n",
    "    \n",
    "    16 - poutcome: outcome of the previous marketing campaign (categorical: \"unknown\",\"other\",\"failure\",\"success\")\n",
    "\n",
    "output variable (desired target):\n",
    "17 - y - has the client subscribed a term deposit? (binary: \"yes\",\"no\")\n",
    "\n",
    "\"\"\""
   ],
   "outputs": [],
   "execution_count": null
  },
  {
   "cell_type": "code",
   "id": "c6faa358-04e5-45f4-b390-8f21eb1efe58",
   "metadata": {},
   "source": [
    "denormalized_table"
   ],
   "outputs": [],
   "execution_count": null
  },
  {
   "cell_type": "code",
   "id": "5aa52178-fe28-4edf-8f4a-de0a03f5d649",
   "metadata": {},
   "source": [
    "norm = Normalize(denormalized_table=denormalized_table, denormalized_table_name=\"target\")"
   ],
   "outputs": [],
   "execution_count": null
  },
  {
   "cell_type": "code",
   "id": "4fb75a2f-12c8-45db-a3df-847afa9e8bb1",
   "metadata": {},
   "source": [
    "client_cols = ['age', 'job', 'marital', 'education', 'default', 'balance', 'housing', 'loan']\n",
    "norm.create_entity(source_entity_name=\"target\", target_entity_name=\"client\", columns=client_cols,\n",
    "                   distinct_values=True)\n",
    "\n",
    "\n",
    "norm.create_entity(source_entity_name=\"client\", target_entity_name=\"default_type\", columns=['default'],\n",
    "                   distinct_values=True)\n",
    "norm.create_entity(source_entity_name=\"client\", target_entity_name=\"housing_type\", columns=['housing'],\n",
    "                   distinct_values=True)\n",
    "norm.create_entity(source_entity_name=\"client\", target_entity_name=\"loan_type\", columns=['loan'],\n",
    "                   distinct_values=True)"
   ],
   "outputs": [],
   "execution_count": null
  },
  {
   "cell_type": "code",
   "id": "396a1f8f-bfb4-43cb-a6fd-eebe6d13b24e",
   "metadata": {},
   "source": [
    "contact_cols = ['contact', 'day', 'month', 'duration']\n",
    "norm.create_entity(source_entity_name=\"target\", target_entity_name=\"contact\", columns=contact_cols,\n",
    "                   distinct_values=True)\n",
    "norm.create_entity(source_entity_name=\"contact\", target_entity_name=\"contact_type\", columns=['contact'],\n",
    "                   distinct_values=True)"
   ],
   "outputs": [],
   "execution_count": null
  },
  {
   "cell_type": "code",
   "id": "a6f5cf22-9fab-42b6-afa2-386d8ac1d773",
   "metadata": {},
   "source": [
    "attribute_cols = ['campaign', 'pdays', 'previous', 'poutcome']\n",
    "norm.create_entity(source_entity_name=\"target\", target_entity_name=\"attribute\", columns=attribute_cols,\n",
    "                   distinct_values=True)\n",
    "\n",
    "norm.create_entity(source_entity_name=\"attribute\", target_entity_name=\"previous\", columns=['previous'],\n",
    "                   distinct_values=True)"
   ],
   "outputs": [],
   "execution_count": null
  },
  {
   "cell_type": "code",
   "id": "b49c3f55-5508-4142-b404-29629773cd05",
   "metadata": {},
   "source": [
    "norm.primary_keys\n",
    "norm.relations\n",
    "norm.entity_set.keys()\n"
   ],
   "outputs": [],
   "execution_count": null
  },
  {
   "cell_type": "code",
   "id": "c9cd2d0c-f589-4563-ba9c-6407529e7d34",
   "metadata": {},
   "source": [
    "for entity in norm.entity_set.keys():\n",
    "    print(\n",
    "        f\"ALTER TABLE {entity} ADD CONSTRAINT PK_{entity} PRIMARY KEY ({norm.primary_keys[entity]});\")\n",
    "\n",
    "for parent_table in norm.relations:\n",
    "    for child_table in norm.relations[parent_table]:\n",
    "        print(f\"ALTER TABLE {child_table} ADD CONSTRAINT FK_{child_table}_{parent_table} \"\n",
    "              f\"FOREIGN KEY ({norm.relations[parent_table][child_table][1]}) \"\n",
    "              f\"REFERENCES {parent_table}({norm.relations[parent_table][child_table][0]}));\")\n"
   ],
   "outputs": [],
   "execution_count": null
  },
  {
   "cell_type": "code",
   "id": "b01e7bd5-a14c-4d10-9f61-b819a69645fb",
   "metadata": {},
   "source": [
    "norm.persist_entity_set(database_name=\"bank_marketing_exp2\")"
   ],
   "outputs": [],
   "execution_count": null
  },
  {
   "cell_type": "code",
   "id": "fee93c4f-8350-4ac8-875b-97a41085ae2a",
   "metadata": {},
   "source": [],
   "outputs": [],
   "execution_count": null
  }
 ],
 "metadata": {
  "kernelspec": {
   "display_name": "Python 3 (ipykernel)",
   "language": "python",
   "name": "python3"
  },
  "language_info": {
   "codemirror_mode": {
    "name": "ipython",
    "version": 3
   },
   "file_extension": ".py",
   "mimetype": "text/x-python",
   "name": "python",
   "nbconvert_exporter": "python",
   "pygments_lexer": "ipython3",
   "version": "3.10.12"
  }
 },
 "nbformat": 4,
 "nbformat_minor": 5
}
